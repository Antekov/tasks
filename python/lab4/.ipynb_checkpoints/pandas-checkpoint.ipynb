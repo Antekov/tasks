{
 "cells": [
  {
   "cell_type": "markdown",
   "metadata": {},
   "source": [
    "## Pandas"
   ]
  },
  {
   "cell_type": "markdown",
   "metadata": {},
   "source": [
    "В этом ноутбуке мы познакомимся с основными фичами pandas. Эта библиотека огромна, поэтому мы сможем лишь немного поиграться с доступной функциональностью. Для детального ознакомления стоит почитать документацию"
   ]
  },
  {
   "cell_type": "markdown",
   "metadata": {},
   "source": [
    "### 1. Первое знакомство"
   ]
  },
  {
   "cell_type": "code",
   "execution_count": 1,
   "metadata": {},
   "outputs": [],
   "source": [
    "import pandas as pd  # Стандартный алиас для pandas"
   ]
  },
  {
   "cell_type": "code",
   "execution_count": 2,
   "metadata": {
    "scrolled": false
   },
   "outputs": [],
   "source": [
    "# Читаем датасет из csv файла\n",
    "coins = pd.read_csv('coins.csv')  "
   ]
  },
  {
   "cell_type": "code",
   "execution_count": 5,
   "metadata": {
    "scrolled": true
   },
   "outputs": [
    {
     "data": {
      "text/html": [
       "<div>\n",
       "<style scoped>\n",
       "    .dataframe tbody tr th:only-of-type {\n",
       "        vertical-align: middle;\n",
       "    }\n",
       "\n",
       "    .dataframe tbody tr th {\n",
       "        vertical-align: top;\n",
       "    }\n",
       "\n",
       "    .dataframe thead th {\n",
       "        text-align: right;\n",
       "    }\n",
       "</style>\n",
       "<table border=\"1\" class=\"dataframe\">\n",
       "  <thead>\n",
       "    <tr style=\"text-align: right;\">\n",
       "      <th></th>\n",
       "      <th>date</th>\n",
       "      <th>price</th>\n",
       "      <th>txCount</th>\n",
       "      <th>txVolume</th>\n",
       "      <th>activeAddresses</th>\n",
       "      <th>symbol</th>\n",
       "      <th>name</th>\n",
       "      <th>open</th>\n",
       "      <th>high</th>\n",
       "      <th>low</th>\n",
       "      <th>close</th>\n",
       "      <th>volume</th>\n",
       "      <th>market</th>\n",
       "    </tr>\n",
       "  </thead>\n",
       "  <tbody>\n",
       "    <tr>\n",
       "      <th>0</th>\n",
       "      <td>2013-04-28</td>\n",
       "      <td>135.300000</td>\n",
       "      <td>41702.0</td>\n",
       "      <td>6.879868e+07</td>\n",
       "      <td>117984.0</td>\n",
       "      <td>BTC</td>\n",
       "      <td>Bitcoin</td>\n",
       "      <td>135.300000</td>\n",
       "      <td>135.980000</td>\n",
       "      <td>132.100000</td>\n",
       "      <td>134.210000</td>\n",
       "      <td>0.0</td>\n",
       "      <td>1.500520e+09</td>\n",
       "    </tr>\n",
       "    <tr>\n",
       "      <th>1</th>\n",
       "      <td>2013-04-28</td>\n",
       "      <td>4.300000</td>\n",
       "      <td>9174.0</td>\n",
       "      <td>4.431952e+07</td>\n",
       "      <td>17216.0</td>\n",
       "      <td>LTC</td>\n",
       "      <td>Litecoin</td>\n",
       "      <td>4.300000</td>\n",
       "      <td>4.400000</td>\n",
       "      <td>4.180000</td>\n",
       "      <td>4.350000</td>\n",
       "      <td>0.0</td>\n",
       "      <td>7.377340e+07</td>\n",
       "    </tr>\n",
       "    <tr>\n",
       "      <th>2</th>\n",
       "      <td>2013-04-29</td>\n",
       "      <td>134.440000</td>\n",
       "      <td>51602.0</td>\n",
       "      <td>1.138128e+08</td>\n",
       "      <td>86925.0</td>\n",
       "      <td>BTC</td>\n",
       "      <td>Bitcoin</td>\n",
       "      <td>134.440000</td>\n",
       "      <td>147.490000</td>\n",
       "      <td>134.000000</td>\n",
       "      <td>144.540000</td>\n",
       "      <td>0.0</td>\n",
       "      <td>1.491160e+09</td>\n",
       "    </tr>\n",
       "    <tr>\n",
       "      <th>3</th>\n",
       "      <td>2013-04-29</td>\n",
       "      <td>4.370000</td>\n",
       "      <td>9275.0</td>\n",
       "      <td>3.647810e+07</td>\n",
       "      <td>18395.0</td>\n",
       "      <td>LTC</td>\n",
       "      <td>Litecoin</td>\n",
       "      <td>4.370000</td>\n",
       "      <td>4.570000</td>\n",
       "      <td>4.230000</td>\n",
       "      <td>4.380000</td>\n",
       "      <td>0.0</td>\n",
       "      <td>7.495270e+07</td>\n",
       "    </tr>\n",
       "    <tr>\n",
       "      <th>4</th>\n",
       "      <td>2013-04-30</td>\n",
       "      <td>144.000000</td>\n",
       "      <td>47450.0</td>\n",
       "      <td>8.426632e+07</td>\n",
       "      <td>76871.0</td>\n",
       "      <td>BTC</td>\n",
       "      <td>Bitcoin</td>\n",
       "      <td>144.000000</td>\n",
       "      <td>146.930000</td>\n",
       "      <td>134.050000</td>\n",
       "      <td>139.000000</td>\n",
       "      <td>0.0</td>\n",
       "      <td>1.597780e+09</td>\n",
       "    </tr>\n",
       "    <tr>\n",
       "      <th>...</th>\n",
       "      <td>...</td>\n",
       "      <td>...</td>\n",
       "      <td>...</td>\n",
       "      <td>...</td>\n",
       "      <td>...</td>\n",
       "      <td>...</td>\n",
       "      <td>...</td>\n",
       "      <td>...</td>\n",
       "      <td>...</td>\n",
       "      <td>...</td>\n",
       "      <td>...</td>\n",
       "      <td>...</td>\n",
       "      <td>...</td>\n",
       "    </tr>\n",
       "    <tr>\n",
       "      <th>37583</th>\n",
       "      <td>2018-06-06</td>\n",
       "      <td>0.293325</td>\n",
       "      <td>4830.0</td>\n",
       "      <td>2.312763e+05</td>\n",
       "      <td>659.0</td>\n",
       "      <td>XLM</td>\n",
       "      <td>Stellar</td>\n",
       "      <td>0.293325</td>\n",
       "      <td>0.299955</td>\n",
       "      <td>0.289500</td>\n",
       "      <td>0.298269</td>\n",
       "      <td>51165000.0</td>\n",
       "      <td>5.450080e+09</td>\n",
       "    </tr>\n",
       "    <tr>\n",
       "      <th>37584</th>\n",
       "      <td>2018-06-06</td>\n",
       "      <td>0.039586</td>\n",
       "      <td>7205.0</td>\n",
       "      <td>4.947760e+06</td>\n",
       "      <td>18228.0</td>\n",
       "      <td>XVG</td>\n",
       "      <td>Verge</td>\n",
       "      <td>0.039586</td>\n",
       "      <td>0.039737</td>\n",
       "      <td>0.037680</td>\n",
       "      <td>0.038797</td>\n",
       "      <td>9307450.0</td>\n",
       "      <td>5.959400e+08</td>\n",
       "    </tr>\n",
       "    <tr>\n",
       "      <th>37585</th>\n",
       "      <td>2018-06-06</td>\n",
       "      <td>239.760000</td>\n",
       "      <td>10687.0</td>\n",
       "      <td>3.986308e+07</td>\n",
       "      <td>96516.0</td>\n",
       "      <td>ZEC</td>\n",
       "      <td>Zcash</td>\n",
       "      <td>239.750000</td>\n",
       "      <td>240.340000</td>\n",
       "      <td>229.210000</td>\n",
       "      <td>236.050000</td>\n",
       "      <td>56887000.0</td>\n",
       "      <td>9.769940e+08</td>\n",
       "    </tr>\n",
       "    <tr>\n",
       "      <th>37586</th>\n",
       "      <td>2018-06-06</td>\n",
       "      <td>0.127555</td>\n",
       "      <td>1313.0</td>\n",
       "      <td>1.596436e+07</td>\n",
       "      <td>733.0</td>\n",
       "      <td>ZIL</td>\n",
       "      <td>Zilliqa</td>\n",
       "      <td>0.127555</td>\n",
       "      <td>0.133254</td>\n",
       "      <td>0.124194</td>\n",
       "      <td>0.131766</td>\n",
       "      <td>54667900.0</td>\n",
       "      <td>9.348810e+08</td>\n",
       "    </tr>\n",
       "    <tr>\n",
       "      <th>37587</th>\n",
       "      <td>2018-06-06</td>\n",
       "      <td>1.270000</td>\n",
       "      <td>795.0</td>\n",
       "      <td>6.094435e+06</td>\n",
       "      <td>599.0</td>\n",
       "      <td>ZRX</td>\n",
       "      <td>0x</td>\n",
       "      <td>1.270000</td>\n",
       "      <td>1.340000</td>\n",
       "      <td>1.250000</td>\n",
       "      <td>1.330000</td>\n",
       "      <td>17778000.0</td>\n",
       "      <td>6.741510e+08</td>\n",
       "    </tr>\n",
       "  </tbody>\n",
       "</table>\n",
       "<p>37588 rows × 13 columns</p>\n",
       "</div>"
      ],
      "text/plain": [
       "             date       price  txCount      txVolume  activeAddresses symbol  \\\n",
       "0      2013-04-28  135.300000  41702.0  6.879868e+07         117984.0    BTC   \n",
       "1      2013-04-28    4.300000   9174.0  4.431952e+07          17216.0    LTC   \n",
       "2      2013-04-29  134.440000  51602.0  1.138128e+08          86925.0    BTC   \n",
       "3      2013-04-29    4.370000   9275.0  3.647810e+07          18395.0    LTC   \n",
       "4      2013-04-30  144.000000  47450.0  8.426632e+07          76871.0    BTC   \n",
       "...           ...         ...      ...           ...              ...    ...   \n",
       "37583  2018-06-06    0.293325   4830.0  2.312763e+05            659.0    XLM   \n",
       "37584  2018-06-06    0.039586   7205.0  4.947760e+06          18228.0    XVG   \n",
       "37585  2018-06-06  239.760000  10687.0  3.986308e+07          96516.0    ZEC   \n",
       "37586  2018-06-06    0.127555   1313.0  1.596436e+07            733.0    ZIL   \n",
       "37587  2018-06-06    1.270000    795.0  6.094435e+06            599.0    ZRX   \n",
       "\n",
       "           name        open        high         low       close      volume  \\\n",
       "0       Bitcoin  135.300000  135.980000  132.100000  134.210000         0.0   \n",
       "1      Litecoin    4.300000    4.400000    4.180000    4.350000         0.0   \n",
       "2       Bitcoin  134.440000  147.490000  134.000000  144.540000         0.0   \n",
       "3      Litecoin    4.370000    4.570000    4.230000    4.380000         0.0   \n",
       "4       Bitcoin  144.000000  146.930000  134.050000  139.000000         0.0   \n",
       "...         ...         ...         ...         ...         ...         ...   \n",
       "37583   Stellar    0.293325    0.299955    0.289500    0.298269  51165000.0   \n",
       "37584     Verge    0.039586    0.039737    0.037680    0.038797   9307450.0   \n",
       "37585     Zcash  239.750000  240.340000  229.210000  236.050000  56887000.0   \n",
       "37586   Zilliqa    0.127555    0.133254    0.124194    0.131766  54667900.0   \n",
       "37587        0x    1.270000    1.340000    1.250000    1.330000  17778000.0   \n",
       "\n",
       "             market  \n",
       "0      1.500520e+09  \n",
       "1      7.377340e+07  \n",
       "2      1.491160e+09  \n",
       "3      7.495270e+07  \n",
       "4      1.597780e+09  \n",
       "...             ...  \n",
       "37583  5.450080e+09  \n",
       "37584  5.959400e+08  \n",
       "37585  9.769940e+08  \n",
       "37586  9.348810e+08  \n",
       "37587  6.741510e+08  \n",
       "\n",
       "[37588 rows x 13 columns]"
      ]
     },
     "execution_count": 5,
     "metadata": {},
     "output_type": "execute_result"
    }
   ],
   "source": [
    "# Посмотрим что получилось\n",
    "coins"
   ]
  },
  {
   "cell_type": "markdown",
   "metadata": {},
   "source": [
    "Поясним значения хранящиеся в колонках\n",
    " - date - дата измерений\n",
    " - name - полное название монеты\n",
    " - symbol - сокращенное название монеты\n",
    " - price - средняя цена монеты за торговый день в USD\n",
    " - txCount - количество транзакций в сети данной монеты\n",
    " - txVolume - объем монет переведенных между адресами в сети данной монеты\n",
    " - activeAddresses - количество адресов совершавших а данный день транзации в сети данной монеты\n",
    " - open - цена монеты в начале торгов данного дня\n",
    " - close - цена монеты в конце торгов данного дня\n",
    " - high - самая высокая цена данной монеты в течение данного торгового дня\n",
    " - low - самая низкая цена данной монеты в течение данного торгового дня\n",
    " - volume - объем торгов данной монетой на биржах в данный день\n",
    " - market - капитализация данной монеты в данный день"
   ]
  },
  {
   "cell_type": "markdown",
   "metadata": {},
   "source": [
    "По выводу можно получить общее представление о таблице. Видно, что в таблице могут храниться как числовые так и категориальные (строковые) данные, количество строк и столбцов. Всю эту информацию и многое другое можно получить и в коде."
   ]
  },
  {
   "cell_type": "markdown",
   "metadata": {},
   "source": [
    "Для удобства мы далее ограничим размер вывода pandas в jupyter notebook."
   ]
  },
  {
   "cell_type": "code",
   "execution_count": 4,
   "metadata": {},
   "outputs": [],
   "source": [
    "pd.set_option('display.max_rows', 10)"
   ]
  },
  {
   "cell_type": "code",
   "execution_count": null,
   "metadata": {},
   "outputs": [],
   "source": [
    "type(coins)"
   ]
  },
  {
   "cell_type": "code",
   "execution_count": null,
   "metadata": {},
   "outputs": [],
   "source": [
    "coins.shape  # Размер таблицы"
   ]
  },
  {
   "cell_type": "code",
   "execution_count": null,
   "metadata": {},
   "outputs": [],
   "source": [
    "coins.head(3)  #  Первые 3 строки таблицы. Аналогично tail для последних строк"
   ]
  },
  {
   "cell_type": "code",
   "execution_count": null,
   "metadata": {},
   "outputs": [],
   "source": [
    "coins.describe()  # Простейшие статистики для числовых колонок"
   ]
  },
  {
   "cell_type": "code",
   "execution_count": null,
   "metadata": {},
   "outputs": [],
   "source": [
    "coins['price']  # Можно выбрать отдельную колонку"
   ]
  },
  {
   "cell_type": "code",
   "execution_count": null,
   "metadata": {},
   "outputs": [],
   "source": [
    "coins['high'] - coins['low']  # Над колонками работают поэлементные операции"
   ]
  },
  {
   "cell_type": "code",
   "execution_count": null,
   "metadata": {},
   "outputs": [],
   "source": [
    "coins['spread'] = coins['high'] - coins['low']  # Можно добавлять новые колонки в таблицу"
   ]
  },
  {
   "cell_type": "code",
   "execution_count": null,
   "metadata": {},
   "outputs": [],
   "source": [
    "coins"
   ]
  },
  {
   "cell_type": "code",
   "execution_count": null,
   "metadata": {},
   "outputs": [],
   "source": [
    "del coins['spread']  # Удаляем добавленную колонку. Можно иначе: coins.pop('spread')"
   ]
  },
  {
   "cell_type": "markdown",
   "metadata": {},
   "source": [
    "Колонки в таблицах pandas ведут себя как массивы неизменяемой длины. Приятное отличие состоит в том, что колонки имеют много полезных для аналитики методов. Например,"
   ]
  },
  {
   "cell_type": "code",
   "execution_count": null,
   "metadata": {},
   "outputs": [],
   "source": [
    "coins['symbol'].value_counts() # Количества записей в таблице для каждой монеты"
   ]
  },
  {
   "cell_type": "code",
   "execution_count": null,
   "metadata": {},
   "outputs": [],
   "source": [
    "# Самая высокая цена монеты во всей таблице. \n",
    "coins['price'].max()"
   ]
  },
  {
   "cell_type": "markdown",
   "metadata": {},
   "source": [
    "**Задание**: сколько всего различных монет представлено в датасете?"
   ]
  },
  {
   "cell_type": "code",
   "execution_count": null,
   "metadata": {},
   "outputs": [],
   "source": [
    "# your code he\n",
    "len(set(coins['symbol']))"
   ]
  },
  {
   "cell_type": "code",
   "execution_count": null,
   "metadata": {},
   "outputs": [],
   "source": [
    "# Для колонок работают стандартные методы индексации списков, но есть и другие...\n",
    "coins['txVolume'][:4]"
   ]
  },
  {
   "cell_type": "markdown",
   "metadata": {},
   "source": [
    "Для колонок определны бинарные операции и методы которые возвращают специальную колонку из булевских значений. Истина будет храниться только для тех индексов для которых выполнено условие. Лучше объяснит пример"
   ]
  },
  {
   "cell_type": "code",
   "execution_count": null,
   "metadata": {},
   "outputs": [],
   "source": [
    "# Строки колонки для которых txCount был больше 1000\n",
    "coins['txCount'] > 100"
   ]
  },
  {
   "cell_type": "code",
   "execution_count": null,
   "metadata": {},
   "outputs": [],
   "source": [
    "# Строки колонки в которых значение попадает в заранее заданный набор\n",
    "coins['symbol'].isin(['BTC', 'ADA'])"
   ]
  },
  {
   "cell_type": "code",
   "execution_count": null,
   "metadata": {},
   "outputs": [],
   "source": [
    "# Строки колонки в которых имя монеты содержит букву 'C' \n",
    "coins['symbol'].str.contains('C')"
   ]
  },
  {
   "cell_type": "code",
   "execution_count": null,
   "metadata": {},
   "outputs": [],
   "source": [
    "# Для колонок можно составлять сложные логические выражения (скобки обязательны!)\n",
    "((coins['price'] > 18000) | (coins['market'] > 200000)) & (coins['symbol'] == 'BTC')"
   ]
  },
  {
   "cell_type": "markdown",
   "metadata": {},
   "source": [
    "Основное назначение получающихся булевых колонок в том что они могут быть использованы как индексирующий объект. Эдакий продвинутый slicing для колонок и таблиц"
   ]
  },
  {
   "cell_type": "code",
   "execution_count": null,
   "metadata": {},
   "outputs": [],
   "source": [
    "# Выбрать из таблицы записи когда цена биткоина была меньше 100 USD\n",
    "coins[(coins['price'] < 100) & (coins['symbol'] == 'BTC')]"
   ]
  },
  {
   "cell_type": "code",
   "execution_count": null,
   "metadata": {},
   "outputs": [],
   "source": [
    "# Количество транзакций лайткойна\n",
    "coins['txCount'][coins['symbol'] == 'LTC']"
   ]
  },
  {
   "cell_type": "markdown",
   "metadata": {},
   "source": [
    "**Задание**: У какой монеты была самая высокая цена?"
   ]
  },
  {
   "cell_type": "code",
   "execution_count": null,
   "metadata": {},
   "outputs": [],
   "source": [
    "coins[coins.price == coins.price.max()]['name']"
   ]
  },
  {
   "cell_type": "markdown",
   "metadata": {},
   "source": [
    "Для таблиц есть индексирование и по строкам и по колонкам."
   ]
  },
  {
   "cell_type": "code",
   "execution_count": null,
   "metadata": {},
   "outputs": [],
   "source": [
    "# Выбрать из таблицы максимальную цену и объем торгов за дни когда цена дож была выше 1 цента\n",
    "coins.loc[\n",
    "    (coins['symbol'] == 'DOGE') & (coins['price'] > 0.01),\n",
    "    ['high', 'volume']\n",
    "]"
   ]
  },
  {
   "cell_type": "markdown",
   "metadata": {},
   "source": [
    "Начиная с этого момента вы уже можете делать простейшие выборки из данных и немного их преобразовывать. Конечно, не забывайте  использовать help() и tab-completion чтобы узнать больше о возможностях pandas. В голове стоит держать такое правило: если вам очень хочется пройтись циклом по таблице и что-то сделать с данными, очень вероятно, что вы делаете что-то неправильно и, скорее всего, в pandas есть инструмент для вашей задачи. Оставшаяся часть ноутбука посвящена перечислению фич, и может показаться скучной, но не зная этих фич вы каждый раз будете переизобретать велосипед."
   ]
  },
  {
   "cell_type": "markdown",
   "metadata": {},
   "source": [
    "### 2. Глобальные настройки"
   ]
  },
  {
   "cell_type": "markdown",
   "metadata": {},
   "source": [
    "Возможно вам захочется сконфигурировать работу pandas. Большинство глобальных настроек касаются отображения таблицы или данных"
   ]
  },
  {
   "cell_type": "code",
   "execution_count": null,
   "metadata": {},
   "outputs": [],
   "source": [
    "# Узнать максимальное кол-во отображаемых в таблице с\n",
    "pd.get_option('display.max_columns')"
   ]
  },
  {
   "cell_type": "code",
   "execution_count": null,
   "metadata": {},
   "outputs": [],
   "source": [
    "# Узнать больше про опцию. Список всех опций тут: \n",
    "# https://pandas.pydata.org/pandas-docs/version/0.23.4/options.html#available-options\n",
    "pd.describe_option('display.max_columns')"
   ]
  },
  {
   "cell_type": "code",
   "execution_count": null,
   "metadata": {},
   "outputs": [],
   "source": [
    "# Назначть максимальное число отображаемых строк\n",
    "pd.set_option('display.max_columns', 15)"
   ]
  },
  {
   "cell_type": "markdown",
   "metadata": {},
   "source": [
    "### 3. Типы данных в pandas"
   ]
  },
  {
   "cell_type": "markdown",
   "metadata": {},
   "source": [
    "В pandas есть два основных типа данных. pandas.Series и pandas.DataFrame."
   ]
  },
  {
   "cell_type": "markdown",
   "metadata": {},
   "source": [
    "#### 3.1 pandas.Series"
   ]
  },
  {
   "cell_type": "markdown",
   "metadata": {},
   "source": [
    "Про pandas.Series стоит думать как про одномерный массив фиксированного размера из данных одного типа. В отличие от массивов доступ к элементам может быть по нечисловому индексу. Индекс стоит понимать как имена строк.\n",
    "\n",
    "Объекты типа pandas.Series очень часто используются как возвращаемые значения в pandas."
   ]
  },
  {
   "cell_type": "code",
   "execution_count": null,
   "metadata": {},
   "outputs": [],
   "source": [
    "import numpy as np\n",
    "np.array(['BTC', 'LTC', 'DOGE', 'DASH'])"
   ]
  },
  {
   "cell_type": "code",
   "execution_count": null,
   "metadata": {},
   "outputs": [],
   "source": [
    "# pandas.Series хранящий буквы со стандартной индексацией\n",
    "pd.Series(data=['BTC', 'LTC', 'DOGE', 'DASH'])"
   ]
  },
  {
   "cell_type": "code",
   "execution_count": null,
   "metadata": {},
   "outputs": [],
   "source": [
    "# pandas.Series хранящий числа типа str cо специальным индексом\n",
    "pd.Series(data=['BTC', 'ETH', 'XRP'], \n",
    "          index=['first_coin', 'second_coin', 'third_coin'], dtype=str)"
   ]
  },
  {
   "cell_type": "code",
   "execution_count": null,
   "metadata": {},
   "outputs": [],
   "source": [
    "# pandas.Series созданный из словаря\n",
    "pd.Series({'first_coin': 'BTC', 'second_coin': 'ETH', 'third_coin': 'XRP'})"
   ]
  },
  {
   "cell_type": "code",
   "execution_count": null,
   "metadata": {},
   "outputs": [],
   "source": [
    "# Стандартная индексация\n",
    "sequence = pd.Series(data=['!', 'the', 'Moon', 'To'])\n",
    "sequence"
   ]
  },
  {
   "cell_type": "code",
   "execution_count": null,
   "metadata": {},
   "outputs": [],
   "source": [
    "sequence[sequence < \"P\"]"
   ]
  },
  {
   "cell_type": "code",
   "execution_count": null,
   "metadata": {},
   "outputs": [],
   "source": [
    "sequence[[3, 1, 2, 0, 0, 0]]  # Доступ к нескольким элементам по их позициям "
   ]
  },
  {
   "cell_type": "code",
   "execution_count": null,
   "metadata": {},
   "outputs": [],
   "source": [
    "sequence[3]  # Доступ к элементу по позиции"
   ]
  },
  {
   "cell_type": "code",
   "execution_count": null,
   "metadata": {},
   "outputs": [],
   "source": [
    "# Спец индексация\n",
    "sequence = pd.Series(data=['!', 'the', 'Moon', 'To'], \n",
    "                     index=['04-11-2018', '02-11-2018', '03-11-2018', '01-11-2018'])"
   ]
  },
  {
   "cell_type": "code",
   "execution_count": null,
   "metadata": {},
   "outputs": [],
   "source": [
    "sequence"
   ]
  },
  {
   "cell_type": "code",
   "execution_count": null,
   "metadata": {},
   "outputs": [],
   "source": [
    "sequence[['01-11-2018', '02-11-2018', '03-11-2018', '04-11-2018']]  # Доступ к нескольким элементам по их индексам"
   ]
  },
  {
   "cell_type": "code",
   "execution_count": null,
   "metadata": {},
   "outputs": [],
   "source": [
    "sequence['01-11-2018']  # Доступ к элементу по индексу"
   ]
  },
  {
   "cell_type": "code",
   "execution_count": null,
   "metadata": {},
   "outputs": [],
   "source": [
    "# Чтобы не засорять global namespace\n",
    "del sequence"
   ]
  },
  {
   "cell_type": "markdown",
   "metadata": {},
   "source": [
    "#### 3.2 pandas.DataFrame"
   ]
  },
  {
   "cell_type": "markdown",
   "metadata": {},
   "source": [
    "Данные типа pandas.DataFrame это двумерный массив (переменного размера) разнородных данных (но однородных по колонкам). Лучше всего предстаставлять себе pandas.DataFrame как набор колонок, где каждая колонка это pandas.Series."
   ]
  },
  {
   "cell_type": "code",
   "execution_count": null,
   "metadata": {},
   "outputs": [],
   "source": [
    "# Создание простейшей таблицы\n",
    "pd.DataFrame(data=['BTC', 'LTC', 'XRP'])"
   ]
  },
  {
   "cell_type": "code",
   "execution_count": null,
   "metadata": {},
   "outputs": [],
   "source": [
    "# Cоздание таблицы с именами колонок\n",
    "pd.DataFrame(data=[['BTC', 10000],['LTC', 200],['XRP', 1]], \n",
    "             columns=['symbol', 'price'])"
   ]
  },
  {
   "cell_type": "code",
   "execution_count": null,
   "metadata": {},
   "outputs": [],
   "source": [
    "# Cоздание таблицы с именами колонок и указанием индекса\n",
    "pd.DataFrame(\n",
    "    data=[['BTC', 10000],['LTC', 200],['XRP', 1]],\n",
    "    columns=['symbol', 'price'],\n",
    "    # DatetimeIndex - это специальный тип данных для индексов содержащих время\n",
    "    index=pd.DatetimeIndex(['01-11-2018', '03-11-2018', '23-08-2018'])\n",
    ")"
   ]
  },
  {
   "cell_type": "code",
   "execution_count": null,
   "metadata": {},
   "outputs": [],
   "source": [
    "# Создание по готовым pandas.Series\n",
    "pd.DataFrame({\n",
    "    'symbol': pd.Series(data=['BTC','LTC'], index=pd.DatetimeIndex(['01-11-2018', '05-11-2018'])),\n",
    "    'price': pd.Series(data=[10000, 200], index=pd.DatetimeIndex(['01-11-2018', '03-11-2018']))\n",
    "}).loc['2018-03-11']['symbol']"
   ]
  },
  {
   "cell_type": "markdown",
   "metadata": {},
   "source": [
    "Некоторые функции в pandas одинково применимы как строкам так и к столбцам. В этом случае, в функцию можно передать фргумент axis. Значение 0 идет по умолчанию и ему соответствует работа по строкам, 1 - по колонкам."
   ]
  },
  {
   "cell_type": "markdown",
   "metadata": {},
   "source": [
    "### 4. Базовые методы pandas.Series"
   ]
  },
  {
   "cell_type": "markdown",
   "metadata": {},
   "source": [
    "Посмотрим на самые базовые методы класса pandas.Series"
   ]
  },
  {
   "cell_type": "code",
   "execution_count": null,
   "metadata": {},
   "outputs": [],
   "source": [
    "sequence = pd.Series(data=['BTC', 'LTC', 'DOGE', 'DASH'], index=['leader', 'alternative', 'joke', 'bouncer'])"
   ]
  },
  {
   "cell_type": "code",
   "execution_count": null,
   "metadata": {},
   "outputs": [],
   "source": [
    "sequence"
   ]
  },
  {
   "cell_type": "code",
   "execution_count": null,
   "metadata": {},
   "outputs": [],
   "source": [
    "# Индекс наших данных\n",
    "sequence.axes"
   ]
  },
  {
   "cell_type": "code",
   "execution_count": null,
   "metadata": {},
   "outputs": [],
   "source": [
    "# Тип наших данных\n",
    "sequence.dtype"
   ]
  },
  {
   "cell_type": "code",
   "execution_count": null,
   "metadata": {},
   "outputs": [],
   "source": [
    "# Проверка на пустоту\n",
    "sequence.empty"
   ]
  },
  {
   "cell_type": "code",
   "execution_count": null,
   "metadata": {},
   "outputs": [],
   "source": [
    "# Количество размерностей. Для pandas.Series всегда 1\n",
    "sequence.ndim"
   ]
  },
  {
   "cell_type": "code",
   "execution_count": null,
   "metadata": {},
   "outputs": [],
   "source": [
    "# Количество элементов\n",
    "sequence.size"
   ]
  },
  {
   "cell_type": "code",
   "execution_count": null,
   "metadata": {},
   "outputs": [],
   "source": [
    "# Размеры\n",
    "sequence.shape"
   ]
  },
  {
   "cell_type": "code",
   "execution_count": null,
   "metadata": {},
   "outputs": [],
   "source": [
    "# Получить данные в виде numpy массива. Низкоуровневое представление с точки зрения pandas\n",
    "sequence.values"
   ]
  },
  {
   "cell_type": "code",
   "execution_count": null,
   "metadata": {},
   "outputs": [],
   "source": [
    "# Получить первые 3 элемента\n",
    "sequence.head(3)"
   ]
  },
  {
   "cell_type": "code",
   "execution_count": null,
   "metadata": {},
   "outputs": [],
   "source": [
    "# Получить последние 2 элемента\n",
    "sequence.tail(2)"
   ]
  },
  {
   "cell_type": "code",
   "execution_count": null,
   "metadata": {},
   "outputs": [],
   "source": [
    "del sequence"
   ]
  },
  {
   "cell_type": "markdown",
   "metadata": {},
   "source": [
    "### 5. Базовые методы pandas.DataFrame"
   ]
  },
  {
   "cell_type": "markdown",
   "metadata": {},
   "source": [
    "Класс DataFrame огромен. Мы рассмотрим только самые часто используемые в нем методы"
   ]
  },
  {
   "cell_type": "code",
   "execution_count": null,
   "metadata": {},
   "outputs": [],
   "source": [
    "table = pd.DataFrame(\n",
    "    data=[['BTC', 10000],['LTC', 200],['XRP', 1]],\n",
    "    columns=['symbol', 'price'],\n",
    "    # DatetimeIndex - это специальный тип данных для индексов содержащих время\n",
    "    index=pd.DatetimeIndex(['01-11-2018', '03-11-2018', '23-08-2018'])\n",
    ")"
   ]
  },
  {
   "cell_type": "code",
   "execution_count": null,
   "metadata": {},
   "outputs": [],
   "source": [
    "table"
   ]
  },
  {
   "cell_type": "code",
   "execution_count": null,
   "metadata": {},
   "outputs": [],
   "source": [
    "# Транспонировать таблицу\n",
    "table.T"
   ]
  },
  {
   "cell_type": "code",
   "execution_count": null,
   "metadata": {},
   "outputs": [],
   "source": [
    "# Получить индексы срок и столбцов\n",
    "table.axes"
   ]
  },
  {
   "cell_type": "code",
   "execution_count": null,
   "metadata": {},
   "outputs": [],
   "source": [
    "# Получить типы данных в колонках\n",
    "table.dtypes"
   ]
  },
  {
   "cell_type": "code",
   "execution_count": null,
   "metadata": {},
   "outputs": [],
   "source": [
    "# Проверка на пустоту\n",
    "table.empty"
   ]
  },
  {
   "cell_type": "code",
   "execution_count": null,
   "metadata": {},
   "outputs": [],
   "source": [
    "# Размеры\n",
    "table.shape"
   ]
  },
  {
   "cell_type": "code",
   "execution_count": null,
   "metadata": {},
   "outputs": [],
   "source": [
    "# Количество элементов\n",
    "table.size"
   ]
  },
  {
   "cell_type": "code",
   "execution_count": null,
   "metadata": {},
   "outputs": [],
   "source": [
    "# Низкоуровневое представление таблицы\n",
    "table.values"
   ]
  },
  {
   "cell_type": "code",
   "execution_count": null,
   "metadata": {},
   "outputs": [],
   "source": [
    "# Получить первые 3 строки\n",
    "table.head(3)"
   ]
  },
  {
   "cell_type": "code",
   "execution_count": null,
   "metadata": {},
   "outputs": [],
   "source": [
    "# Получить последние 2 строки\n",
    "table.tail(2)"
   ]
  },
  {
   "cell_type": "code",
   "execution_count": null,
   "metadata": {},
   "outputs": [],
   "source": [
    "del table"
   ]
  },
  {
   "cell_type": "markdown",
   "metadata": {},
   "source": [
    "### 6. Работа со строками и столбцами"
   ]
  },
  {
   "cell_type": "markdown",
   "metadata": {},
   "source": [
    "Обращаться к строкам таблицы можно по номеру или по индексу"
   ]
  },
  {
   "cell_type": "code",
   "execution_count": null,
   "metadata": {},
   "outputs": [],
   "source": [
    "table = pd.DataFrame(\n",
    "    data=[['BTC', 10000],['LTC', 200],['XRP', 1], ['BTC', 9000]],\n",
    "    columns=['symbol', 'price'],\n",
    "    # DatetimeIndex - это специальный тип данных для индексов содержащих время\n",
    "    index=pd.DatetimeIndex(['01-11-2018', '03-11-2018', '23-08-2018', '02-11-2018'])\n",
    ")"
   ]
  },
  {
   "cell_type": "code",
   "execution_count": null,
   "metadata": {},
   "outputs": [],
   "source": [
    "table"
   ]
  },
  {
   "cell_type": "markdown",
   "metadata": {},
   "source": [
    "#### 6.1. Доступ к элементам"
   ]
  },
  {
   "cell_type": "code",
   "execution_count": null,
   "metadata": {},
   "outputs": [],
   "source": [
    "# Обращение по номеру\n",
    "table.iloc[2]"
   ]
  },
  {
   "cell_type": "code",
   "execution_count": null,
   "metadata": {},
   "outputs": [],
   "source": [
    "# Обращение по диапазону номеров\n",
    "table.iloc[1:3]"
   ]
  },
  {
   "cell_type": "code",
   "execution_count": null,
   "metadata": {},
   "outputs": [],
   "source": [
    "# Обращение по индексу\n",
    "table.loc[pd.Timestamp('01-11-2018')]"
   ]
  },
  {
   "cell_type": "code",
   "execution_count": null,
   "metadata": {},
   "outputs": [],
   "source": [
    "# Обращение по диапазону индексов\n",
    "table.loc['01-11-2018':'03-11-2019']"
   ]
  },
  {
   "cell_type": "markdown",
   "metadata": {},
   "source": [
    "#### 6.2. Добавление, удаление, переименование колонок и строк"
   ]
  },
  {
   "cell_type": "code",
   "execution_count": null,
   "metadata": {},
   "outputs": [],
   "source": [
    "table"
   ]
  },
  {
   "cell_type": "code",
   "execution_count": null,
   "metadata": {},
   "outputs": [],
   "source": [
    "# Удаление строк по их индексам. Можно использовать для удаления колонок, указав axis=1\n",
    "# Посмотрите еще методы drop_duplicates and dropna\n",
    "table.drop([pd.Timestamp('2018-08-23'), pd.Timestamp('2018-01-11')])"
   ]
  },
  {
   "cell_type": "code",
   "execution_count": null,
   "metadata": {},
   "outputs": [],
   "source": [
    "# Чтобы добавить новую колонку достаточно присвоить ей значение\n",
    "table['volume'] = [1e9, 1e6, 1e4, 1e9]\n",
    "table"
   ]
  },
  {
   "cell_type": "code",
   "execution_count": null,
   "metadata": {},
   "outputs": [],
   "source": [
    "# Удалять колонки очень просто\n",
    "del table['volume']"
   ]
  },
  {
   "cell_type": "code",
   "execution_count": null,
   "metadata": {},
   "outputs": [],
   "source": [
    "table"
   ]
  },
  {
   "cell_type": "code",
   "execution_count": null,
   "metadata": {},
   "outputs": [],
   "source": [
    "pd.DataFrame(data=[['A', 1], ['B', 2], ['C', 3]], index=['x', 'y', 'z'], columns=['text', 'number']).rename(\n",
    "    index = {'x': 'I', 'y': 'J', 'k': 'K'},\n",
    "    columns = {'text': 'STRING'}\n",
    ")"
   ]
  },
  {
   "cell_type": "code",
   "execution_count": null,
   "metadata": {},
   "outputs": [],
   "source": [
    "# Переименовывание колонок\n",
    "table.rename(columns={'symbol': 'Symbol', 'price': 'Price'})"
   ]
  },
  {
   "cell_type": "markdown",
   "metadata": {},
   "source": [
    "#### 6.3. Итерирование"
   ]
  },
  {
   "cell_type": "markdown",
   "metadata": {},
   "source": [
    "Итерироваться по таблице можно разными способами, но обычно так не стоит делать и лучше написать решение в виде манипуляций над столбцами/колонками "
   ]
  },
  {
   "cell_type": "code",
   "execution_count": null,
   "metadata": {},
   "outputs": [],
   "source": [
    "# По колонкам\n",
    "for column in table:\n",
    "    print(column)"
   ]
  },
  {
   "cell_type": "code",
   "execution_count": null,
   "metadata": {},
   "outputs": [],
   "source": [
    "# По колонкам как по словарю. Значения в \"словаре\" это pandas.Series\n",
    "for column, series in table.iteritems():\n",
    "    print(column)\n",
    "    print(series)"
   ]
  },
  {
   "cell_type": "code",
   "execution_count": null,
   "metadata": {
    "scrolled": true
   },
   "outputs": [],
   "source": [
    "# По строкам как по словарю. Значения в \"словаре\" это pandas.Series\n",
    "for index, row in table.iterrows():\n",
    "    print(index)\n",
    "    print(row)"
   ]
  },
  {
   "cell_type": "markdown",
   "metadata": {},
   "source": [
    "#### 6.4. Сортировка"
   ]
  },
  {
   "cell_type": "markdown",
   "metadata": {},
   "source": [
    "Строки и столбцы таблицы можно сортировать. Результат сортирующих методов возвращает новую таблицу!"
   ]
  },
  {
   "cell_type": "code",
   "execution_count": null,
   "metadata": {},
   "outputs": [],
   "source": [
    "table"
   ]
  },
  {
   "cell_type": "code",
   "execution_count": null,
   "metadata": {},
   "outputs": [],
   "source": [
    "# Отсортировать строки по индексу по убыванию\n",
    "table.sort_index(ascending=False, inplace=True)"
   ]
  },
  {
   "cell_type": "code",
   "execution_count": null,
   "metadata": {},
   "outputs": [],
   "source": [
    "table"
   ]
  },
  {
   "cell_type": "code",
   "execution_count": null,
   "metadata": {},
   "outputs": [],
   "source": [
    "# Отсортировать колонки по возрастанию\n",
    "table.sort_index(axis=1, ascending=True)"
   ]
  },
  {
   "cell_type": "code",
   "execution_count": null,
   "metadata": {},
   "outputs": [],
   "source": [
    "# Отсортировать таблицу алгоритмом quicksort по названию, а если значения равны то по цене\n",
    "table.sort_values(by=['symbol', 'price'], kind='quicksort')"
   ]
  },
  {
   "cell_type": "code",
   "execution_count": null,
   "metadata": {},
   "outputs": [],
   "source": [
    "#del table, index, row, column, series"
   ]
  },
  {
   "cell_type": "markdown",
   "metadata": {},
   "source": [
    "### 7. Статистические функции"
   ]
  },
  {
   "cell_type": "markdown",
   "metadata": {},
   "source": [
    "Посмотрим как pandas позволяет вычислять простейшие статистики для датасетов. Методы которые мы перечислим ниже имеют аргумет axis, который указывает вдоль какой оси надо вычислять статистику. Обычно, по-умолчанию axis=0, что соответсвует вычислениям по строкам. Если в данных есть пропуски, то они не учитываются при вычислении статистик!"
   ]
  },
  {
   "cell_type": "code",
   "execution_count": null,
   "metadata": {},
   "outputs": [],
   "source": [
    "earnings = pd.DataFrame(\n",
    "    data=[[7629.39, -9357.49, -1661.3, 8597.23],\n",
    "          [560.68, None, 10.46, 3578.5],\n",
    "          [487.38, 7560.38, 1090.87, -5164.93]],\n",
    "    columns=['BTC', 'DOGE', 'ADA', 'ETH'],\n",
    "    index=['yesterday', 'today', 'tomorrow']\n",
    ")"
   ]
  },
  {
   "cell_type": "code",
   "execution_count": null,
   "metadata": {},
   "outputs": [],
   "source": [
    "earnings"
   ]
  },
  {
   "cell_type": "code",
   "execution_count": null,
   "metadata": {},
   "outputs": [],
   "source": [
    "# Количество не None записей для каждой монеты\n",
    "earnings.count()"
   ]
  },
  {
   "cell_type": "code",
   "execution_count": null,
   "metadata": {},
   "outputs": [],
   "source": [
    "# Заработки по дням\n",
    "earnings.sum(axis=1)"
   ]
  },
  {
   "cell_type": "code",
   "execution_count": null,
   "metadata": {},
   "outputs": [],
   "source": [
    "# Средний заработок по каждой монете\n",
    "earnings.mean()"
   ]
  },
  {
   "cell_type": "code",
   "execution_count": null,
   "metadata": {},
   "outputs": [],
   "source": [
    "wages = pd.Series(data = [10000]*100 + [100000]*50 + [200000]*50 + [1000000000] + [500000000])"
   ]
  },
  {
   "cell_type": "code",
   "execution_count": null,
   "metadata": {},
   "outputs": [],
   "source": [
    "# Медианный заработок по каждой монете\n",
    "earnings.median(axis=1)"
   ]
  },
  {
   "cell_type": "code",
   "execution_count": null,
   "metadata": {},
   "outputs": [],
   "source": [
    "# Моды заработка по каждой монете\n",
    "earnings.mode(axis=0)"
   ]
  },
  {
   "cell_type": "code",
   "execution_count": null,
   "metadata": {},
   "outputs": [],
   "source": [
    "# \"Разброс\" заработка по каждой монете\n",
    "earnings.std()"
   ]
  },
  {
   "cell_type": "code",
   "execution_count": null,
   "metadata": {},
   "outputs": [],
   "source": [
    "# 25, 50 и 75 квантиль заработка по каждой монете\n",
    "earnings.quantile(q=(0.25, 0.5, 0.75))"
   ]
  },
  {
   "cell_type": "code",
   "execution_count": null,
   "metadata": {},
   "outputs": [],
   "source": [
    "# Минимальный заработок по каждой монете\n",
    "earnings.min()"
   ]
  },
  {
   "cell_type": "code",
   "execution_count": null,
   "metadata": {},
   "outputs": [],
   "source": [
    "# Максимальный заработок по каждой монете\n",
    "earnings.max()"
   ]
  },
  {
   "cell_type": "code",
   "execution_count": null,
   "metadata": {},
   "outputs": [],
   "source": [
    "earnings"
   ]
  },
  {
   "cell_type": "code",
   "execution_count": null,
   "metadata": {},
   "outputs": [],
   "source": [
    "# Произвдение заработков по каждой монете. Да я знаю, что это бессмысленно\n",
    "earnings.prod()"
   ]
  },
  {
   "cell_type": "code",
   "execution_count": null,
   "metadata": {},
   "outputs": [],
   "source": [
    "# Частичные произвдения заработков по каждой монете\n",
    "earnings.cumprod()"
   ]
  },
  {
   "cell_type": "code",
   "execution_count": null,
   "metadata": {},
   "outputs": [],
   "source": [
    "earnings"
   ]
  },
  {
   "cell_type": "code",
   "execution_count": null,
   "metadata": {},
   "outputs": [],
   "source": [
    "# Частичные суммы заработков по каждой монете\n",
    "earnings.cumsum()"
   ]
  },
  {
   "cell_type": "code",
   "execution_count": null,
   "metadata": {},
   "outputs": [],
   "source": [
    "# Процентное изменеие заработка по сравнению с предыдущим значением\n",
    "earnings.pct_change()"
   ]
  },
  {
   "cell_type": "code",
   "execution_count": null,
   "metadata": {},
   "outputs": [],
   "source": [
    "# Ковариация между заработком по BTC и по DOGE\n",
    "earnings['BTC'].cov(earnings['DOGE'])"
   ]
  },
  {
   "cell_type": "code",
   "execution_count": null,
   "metadata": {},
   "outputs": [],
   "source": [
    "# Корреляций между заработком по BTC и по DOGE\n",
    "earnings['BTC'].corr(earnings['DOGE'])"
   ]
  },
  {
   "cell_type": "markdown",
   "metadata": {},
   "source": [
    "Иногда хочется посмотреть все статистики сразу. Для этого есть метод describe"
   ]
  },
  {
   "cell_type": "code",
   "execution_count": null,
   "metadata": {},
   "outputs": [],
   "source": [
    "earnings.describe()"
   ]
  },
  {
   "cell_type": "code",
   "execution_count": null,
   "metadata": {},
   "outputs": [],
   "source": [
    "del earnings"
   ]
  },
  {
   "cell_type": "markdown",
   "metadata": {},
   "source": [
    "### 8. Применение пользовательских функций"
   ]
  },
  {
   "cell_type": "markdown",
   "metadata": {},
   "source": [
    "Иногда хочется применть к датасету или одной его колонке функцию. Применять можно ко всей таблице, поэлементно, поколоночно или построчно"
   ]
  },
  {
   "cell_type": "code",
   "execution_count": null,
   "metadata": {
    "scrolled": true
   },
   "outputs": [],
   "source": [
    "earnings = pd.DataFrame(\n",
    "    data=[[7629.39, -9357.49, -1661.3, 8597.23],\n",
    "          [560.68, None, 10.46, 3578.5],\n",
    "          [487.38, 7560.38, 1090.87, -5164.93]],\n",
    "    columns=['BTC', 'DOGE', 'ADA', 'ETH'],\n",
    "    index=['yesterday', 'today', 'tomorrow']\n",
    ")\n",
    "earnings"
   ]
  },
  {
   "cell_type": "markdown",
   "metadata": {},
   "source": [
    "Для  применения построчно/поколоночно используйте функцию apply. Если хочется применить построчно добавьте axis=1"
   ]
  },
  {
   "cell_type": "code",
   "execution_count": null,
   "metadata": {},
   "outputs": [],
   "source": [
    "#  Посчитать дисперсию заработка для каждой монеты. В лямбду приходит pandas.Series объект каждой колонки\n",
    "earnings.apply(lambda money: money.std() ** 2)"
   ]
  },
  {
   "cell_type": "markdown",
   "metadata": {},
   "source": [
    "Для поэлементного применения используйте функцию applymap"
   ]
  },
  {
   "cell_type": "code",
   "execution_count": null,
   "metadata": {},
   "outputs": [],
   "source": [
    "# Сделаем вид, что потери превратились в профит\n",
    "earnings.applymap(abs)"
   ]
  },
  {
   "cell_type": "code",
   "execution_count": null,
   "metadata": {},
   "outputs": [],
   "source": [
    "# Применять функцию можно и к отдельной колонке. В лямбду приходит отдельное значение колонки\n",
    "earnings['BTC'].apply(lambda money: money + 100500)"
   ]
  },
  {
   "cell_type": "code",
   "execution_count": null,
   "metadata": {},
   "outputs": [],
   "source": [
    "del earnings"
   ]
  },
  {
   "cell_type": "markdown",
   "metadata": {},
   "source": [
    "Не забудьте самостоятельно посмотреть метод pipe"
   ]
  },
  {
   "cell_type": "markdown",
   "metadata": {},
   "source": [
    "### 9. Работа со строковыми колонками"
   ]
  },
  {
   "cell_type": "markdown",
   "metadata": {},
   "source": [
    "На данный момент для работы со строковыми колонками нам пришлось бы постоянно использовать метод apply. Это неудобно и поэтому в pandas сделали удобные инструмент для манипуляций со строками"
   ]
  },
  {
   "cell_type": "code",
   "execution_count": null,
   "metadata": {},
   "outputs": [],
   "source": [
    "taxonomy = pd.DataFrame(\n",
    "    data=[['BTC', 'Bitcoin'],['LTC', 'Litecoin'], ['ETC', 'Etherium'], ['DOGE', 'Doge coin']],\n",
    "    columns=['symbol', 'name']\n",
    ")"
   ]
  },
  {
   "cell_type": "code",
   "execution_count": null,
   "metadata": {},
   "outputs": [],
   "source": [
    "taxonomy"
   ]
  },
  {
   "cell_type": "markdown",
   "metadata": {},
   "source": [
    "Чтобы применять строковые функции к колонке надо обратиться к свойству .str."
   ]
  },
  {
   "cell_type": "code",
   "execution_count": null,
   "metadata": {},
   "outputs": [],
   "source": [
    "# Привести все к нижнему регистру\n",
    "taxonomy['symbol'].str.lower()"
   ]
  },
  {
   "cell_type": "code",
   "execution_count": null,
   "metadata": {},
   "outputs": [],
   "source": [
    "# Привести все к верхнему регистру\n",
    "taxonomy['name'].str.upper()"
   ]
  },
  {
   "cell_type": "code",
   "execution_count": null,
   "metadata": {},
   "outputs": [],
   "source": [
    "# Длины строк\n",
    "taxonomy['symbol'].str.len()"
   ]
  },
  {
   "cell_type": "code",
   "execution_count": null,
   "metadata": {},
   "outputs": [],
   "source": [
    "# Убрать по краям пробельные символы\n",
    "taxonomy['name'].str.strip()"
   ]
  },
  {
   "cell_type": "code",
   "execution_count": null,
   "metadata": {},
   "outputs": [],
   "source": [
    "# Разбить строки по заданному символу\n",
    "taxonomy['name'].str.split(' ')"
   ]
  },
  {
   "cell_type": "code",
   "execution_count": null,
   "metadata": {},
   "outputs": [],
   "source": [
    "# Склеить все строки в одну. Аналог str.join\n",
    "taxonomy['symbol'].str.cat(sep=' $$$ ')"
   ]
  },
  {
   "cell_type": "code",
   "execution_count": null,
   "metadata": {},
   "outputs": [],
   "source": [
    "# Найти везде подстроку\n",
    "taxonomy['name'].str.contains('coin')"
   ]
  },
  {
   "cell_type": "code",
   "execution_count": null,
   "metadata": {},
   "outputs": [],
   "source": [
    "# Везде заменить строку на другу\n",
    "taxonomy['name'].str.replace('coin', 'dough')"
   ]
  },
  {
   "cell_type": "code",
   "execution_count": null,
   "metadata": {},
   "outputs": [],
   "source": [
    "# Повторить каждую строку указанное число раз\n",
    "taxonomy['name'].str.repeat(2)"
   ]
  },
  {
   "cell_type": "code",
   "execution_count": null,
   "metadata": {},
   "outputs": [],
   "source": [
    "# Посчитать все появления указанной строки\n",
    "taxonomy['name'].str.count('coin')"
   ]
  },
  {
   "cell_type": "code",
   "execution_count": null,
   "metadata": {},
   "outputs": [],
   "source": [
    "# Проверка наличия префикса\n",
    "taxonomy['symbol'].str.startswith('B')"
   ]
  },
  {
   "cell_type": "code",
   "execution_count": null,
   "metadata": {},
   "outputs": [],
   "source": [
    "# Проверка наличия суффикса\n",
    "taxonomy['symbol'].str.endswith('C')"
   ]
  },
  {
   "cell_type": "code",
   "execution_count": null,
   "metadata": {},
   "outputs": [],
   "source": [
    "# Найти место в строках где начинается искомая строка. \n",
    "taxonomy['name'].str.find('coin')"
   ]
  },
  {
   "cell_type": "code",
   "execution_count": null,
   "metadata": {},
   "outputs": [],
   "source": [
    "# Проверка верхнего регистра\n",
    "taxonomy['symbol'].str.isupper()"
   ]
  },
  {
   "cell_type": "code",
   "execution_count": null,
   "metadata": {},
   "outputs": [],
   "source": [
    "# Проверка нижнего регистра\n",
    "taxonomy['symbol'].str.islower()"
   ]
  },
  {
   "cell_type": "code",
   "execution_count": null,
   "metadata": {},
   "outputs": [],
   "source": [
    "# Проверка что все символы - цифры\n",
    "taxonomy['name'].str.isnumeric()"
   ]
  },
  {
   "cell_type": "markdown",
   "metadata": {},
   "source": [
    "### 10. Агрегации, трансформации и фильтрации"
   ]
  },
  {
   "cell_type": "markdown",
   "metadata": {},
   "source": [
    "#### 10.1. Скользящие окна"
   ]
  },
  {
   "cell_type": "markdown",
   "metadata": {},
   "source": [
    "Мы начнем со специального случая аггрегаций данных - оконных функций. Мы поговорим о методах rolling и emw. Самостоятельно посмотрите что делает expanding."
   ]
  },
  {
   "cell_type": "code",
   "execution_count": null,
   "metadata": {},
   "outputs": [],
   "source": [
    "price = pd.DataFrame(\n",
    "    data=np.random.random((40, 2)),\n",
    "    columns=['ADA', 'DOGE'],\n",
    "    # Создаем специальный индекс из 6 дней начиная с 2018-11-01 \n",
    "    index=pd.date_range('2018-11-01', periods=40)\n",
    ")"
   ]
  },
  {
   "cell_type": "code",
   "execution_count": null,
   "metadata": {},
   "outputs": [],
   "source": [
    "price"
   ]
  },
  {
   "cell_type": "code",
   "execution_count": null,
   "metadata": {},
   "outputs": [],
   "source": [
    "%matplotlib inline"
   ]
  },
  {
   "cell_type": "code",
   "execution_count": null,
   "metadata": {},
   "outputs": [],
   "source": [
    "import matplotlib.pyplot as plt\n",
    "\n",
    "plt.gcf().set_size_inches(16, 9)\n",
    "\n",
    "plt.plot(price['ADA'], label='original')\n",
    "# plt.plot(price['ADA'].rolling(window=2).mean(), label='Win2')\n",
    "\n",
    "plt.plot(price['ADA'].rolling(window=5).mean(), label='Win5')\n",
    "\n",
    "plt.plot(price['ADA'].rolling(window=14).mean(), label='Win14')\n",
    "\n",
    "plt.plot( pd.Series(data=[price['ADA'].mean()]*len(price), index=price.index) , label='mean')\n",
    "\n",
    "\n",
    "plt.plot(price['ADA'].ewm(alpha=0.5).mean(), label='Exp0.5')\n",
    "plt.plot(price['ADA'].ewm(alpha=0.1).mean(), label='Exp0.1')\n",
    "\n",
    "plt.plot(price['ADA'].ewm(alpha=0.9).mean(), label='Exp0.9')\n",
    "\n",
    "\n",
    "plt.legend()"
   ]
  },
  {
   "cell_type": "markdown",
   "metadata": {},
   "source": [
    "Если вы хотите посчитать какую-нибудь статистическую функци (sum, mean, median, std) в скользящем окне. То есть методы rolling (обычное окно) и ewm (окно с экспоненциальным сглаживанием). Они возвращают специальные объекты которые могут аггрегировать используя стандартную или пользователскую функцию."
   ]
  },
  {
   "cell_type": "code",
   "execution_count": null,
   "metadata": {},
   "outputs": [],
   "source": [
    "# Найти скользящее среднее\n",
    "price.rolling(window=2).mean()"
   ]
  },
  {
   "cell_type": "code",
   "execution_count": null,
   "metadata": {},
   "outputs": [],
   "source": [
    "# Найти скользящее стандартное отклонение\n",
    "price.rolling(window=2).std()"
   ]
  },
  {
   "cell_type": "code",
   "execution_count": null,
   "metadata": {},
   "outputs": [],
   "source": [
    "# Сделать агрегацию c пользовательской функцией\n",
    "price.rolling(window=2).agg(lambda series: sum(series ** 2))"
   ]
  },
  {
   "cell_type": "code",
   "execution_count": null,
   "metadata": {},
   "outputs": [],
   "source": [
    "# Сделать агрегацию по имени функции\n",
    "price.rolling(window=2).agg('max')"
   ]
  },
  {
   "cell_type": "code",
   "execution_count": null,
   "metadata": {},
   "outputs": [],
   "source": [
    "# Сделать несколько агрегаций\n",
    "price.rolling(window=2).agg(['mean', sum, lambda series: max(series ** 2)])"
   ]
  },
  {
   "cell_type": "code",
   "execution_count": null,
   "metadata": {},
   "outputs": [],
   "source": [
    "# Сделать несколько агрегаций (для каждой колонки свои)\n",
    "price.rolling(window=2).agg({'ADA': [sum, max], 'DOGE': lambda series: max(series ** 2)})"
   ]
  },
  {
   "cell_type": "markdown",
   "metadata": {},
   "source": [
    "Объект ewm работает аналогично rolling с тем лишь отличием, что он назначает веса. Числам $x_0,\\ldots,x_t$ можно будут назначены веса $(1-\\alpha)^t, (1-\\alpha)^{t-1}, \\ldots, 1$, где $\\alpha$ - параметр сглаживания. Например, экспоненциальное скользящее среднее будет вычисляться по формуле \n",
    "$$\n",
    "ewm_{\\alpha}(x)=\\frac{\\sum_{i=0}^t (1-\\alpha)^{t-i} x_i}{\\sum_{i=0}^t(1-\\alpha)^i}\n",
    "$$\n",
    "Иногда деления на сумму весов не делают. Для этого в объекте ewm надо указать adjust=False"
   ]
  },
  {
   "cell_type": "code",
   "execution_count": null,
   "metadata": {},
   "outputs": [],
   "source": [
    "# Скользящее среднее cо сглаживанием alpha без нормализации.\n",
    "price.ewm(alpha=0.5, adjust=False).mean()"
   ]
  },
  {
   "cell_type": "code",
   "execution_count": null,
   "metadata": {},
   "outputs": [],
   "source": [
    "del price"
   ]
  },
  {
   "cell_type": "code",
   "execution_count": null,
   "metadata": {},
   "outputs": [],
   "source": []
  },
  {
   "cell_type": "markdown",
   "metadata": {},
   "source": [
    "#### 10.2. Работа с группами"
   ]
  },
  {
   "cell_type": "markdown",
   "metadata": {},
   "source": [
    "Иногда хочется разбить данные по группам и посчитать статистики преобразовать пофильтровать. Для этого есть метод groupby. Он возвращает специальный объект для работы со сгруппированными данными."
   ]
  },
  {
   "cell_type": "code",
   "execution_count": null,
   "metadata": {},
   "outputs": [],
   "source": [
    "operations = pd.DataFrame(\n",
    "    data=[\n",
    "        ['DOGE', 'buy', 5000, 0.2],\n",
    "        ['BTC', 'buy', 10, 6000],\n",
    "        ['BTC', 'buy', 2.5, 5900],\n",
    "        ['DOGE', 'sell', 3000, 0.1],\n",
    "        ['BTC', 'sell', 4, 6200],\n",
    "        ['ETH', 'sell', 10, 400],\n",
    "        ['BTC', 'buy', 1, 5600],\n",
    "        ['ETH', 'buy', 20, 350],\n",
    "        ['ETH', 'sell', 10, 300],\n",
    "        ['DOGE', 'sell', 3000, 0.15]\n",
    "    ],\n",
    "    columns=['symbol', 'type', 'amount', 'price'],\n",
    "    index=pd.date_range('2018-01-01', periods=10)\n",
    ")"
   ]
  },
  {
   "cell_type": "code",
   "execution_count": null,
   "metadata": {},
   "outputs": [],
   "source": [
    "operations"
   ]
  },
  {
   "cell_type": "code",
   "execution_count": null,
   "metadata": {},
   "outputs": [],
   "source": [
    "# Сгруппировать операции по типу монеты\n",
    "operations.groupby('symbol')"
   ]
  },
  {
   "cell_type": "code",
   "execution_count": null,
   "metadata": {},
   "outputs": [],
   "source": [
    "# Сгруппировать операции по типу монеты и типу операции\n",
    "operations.groupby(['symbol', 'type'])"
   ]
  },
  {
   "cell_type": "code",
   "execution_count": null,
   "metadata": {},
   "outputs": [],
   "source": [
    "# Получить индексы строк каждой группы\n",
    "operations.groupby(['symbol', 'type']).groups"
   ]
  },
  {
   "cell_type": "code",
   "execution_count": null,
   "metadata": {},
   "outputs": [],
   "source": [
    "# Посмотреть на содержимое каждой группы \n",
    "for name, group in operations.groupby(['symbol', 'type']):\n",
    "    print(name)\n",
    "    print(group)"
   ]
  },
  {
   "cell_type": "code",
   "execution_count": null,
   "metadata": {},
   "outputs": [],
   "source": [
    "# Получить группу\n",
    "operations.groupby(['symbol', 'type']).get_group(('BTC', 'buy'))"
   ]
  },
  {
   "cell_type": "markdown",
   "metadata": {},
   "source": [
    "Теперь мосмотрим как агрегировать данные для каждой группы"
   ]
  },
  {
   "cell_type": "code",
   "execution_count": null,
   "metadata": {},
   "outputs": [],
   "source": [
    "# Найти обороты для каждой монеты и операции\n",
    "grouper = operations.groupby(['symbol', 'type'])\n",
    "grouper['amount'].agg(sum)"
   ]
  },
  {
   "cell_type": "code",
   "execution_count": null,
   "metadata": {},
   "outputs": [],
   "source": [
    "# Найти обороты и самые крупные сделки для каждой монеты и операции\n",
    "grouper = operations.groupby(['symbol', 'type'])\n",
    "grouper['amount'].agg([sum, max])"
   ]
  },
  {
   "cell_type": "code",
   "execution_count": null,
   "metadata": {},
   "outputs": [],
   "source": [
    "# Найти обороты и среднюю цену для каждой монеты и операции\n",
    "grouper = operations.groupby(['symbol', 'type'])\n",
    "grouper.agg({'amount': sum, 'price': lambda series: series.mean()})"
   ]
  },
  {
   "cell_type": "markdown",
   "metadata": {},
   "source": [
    "Сгруппированные данные можно не только агрегировать, но и преобразовывать. На вход пользовательского преобразования приходит pandas.Series и ожидается pandas.Series"
   ]
  },
  {
   "cell_type": "code",
   "execution_count": null,
   "metadata": {},
   "outputs": [],
   "source": [
    "# Получить размер группы в которой сидит запись\n",
    "operations.groupby(['symbol', 'type']).transform(lambda series: series.abs() / series.mean())"
   ]
  },
  {
   "cell_type": "markdown",
   "metadata": {},
   "source": [
    "Сгруппированные данные можно фильтровать. Вы можете решить какие группы оставить с помощью вашей функции. Она на вход принимате pandas.DataFrame и возвращает bool"
   ]
  },
  {
   "cell_type": "code",
   "execution_count": null,
   "metadata": {},
   "outputs": [],
   "source": [
    "# Выбрать монеты и операции для которых оборот был больше 20 монет\n",
    "operations.groupby(['symbol', 'type']).filter(lambda table: table['amount'].sum() > 20)"
   ]
  },
  {
   "cell_type": "code",
   "execution_count": null,
   "metadata": {},
   "outputs": [],
   "source": [
    "del operations, name, group"
   ]
  },
  {
   "cell_type": "markdown",
   "metadata": {},
   "source": [
    "#### 10.3 Сводные таблицы"
   ]
  },
  {
   "cell_type": "markdown",
   "metadata": {},
   "source": [
    "Большинство таблиц в сыром виде похожи на логи где каждая строка это запись. Никакой организации в данных в этих таблицах нет, а хотелось бы. Для этого в pandas существуют сводные таблицы. "
   ]
  },
  {
   "cell_type": "code",
   "execution_count": null,
   "metadata": {},
   "outputs": [],
   "source": [
    "operations = pd.DataFrame(\n",
    "    data=[\n",
    "        ['DOGE', 'buy', 5000, 0.2, 'Joe Doe', 'success'],\n",
    "        ['BTC', 'buy', 10, 6000, 'Elon Musk', 'error'],\n",
    "        ['BTC', 'buy', 2.5, 5900, 'George Bush', 'success'],\n",
    "        ['DOGE', 'sell', 3000, 0.1, 'John Romero', 'success'],\n",
    "        ['BTC', 'sell', 4, 6200, 'Jack Ma', 'success'],\n",
    "        ['ETH', 'sell', 10, 400, 'Satoshi Nakomoto', 'error'],\n",
    "        ['BTC', 'buy', 1, 5600, 'Vladimir Vladimirovich', 'success'],\n",
    "        ['ETH', 'buy', 20, 350, 'George Bush', 'success'],\n",
    "        ['ETH', 'sell', 10, 300, 'Jack Ma', 'error'],\n",
    "        ['DOGE', 'sell', 3000, 0.15, 'Joe Doe', 'success']\n",
    "    ],\n",
    "    columns=['symbol', 'type', 'amount', 'price', 'user', 'status'],\n",
    "    index=pd.date_range('2018-01-01', periods=10)\n",
    ")"
   ]
  },
  {
   "cell_type": "code",
   "execution_count": null,
   "metadata": {},
   "outputs": [],
   "source": [
    "operations"
   ]
  },
  {
   "cell_type": "markdown",
   "metadata": {},
   "source": [
    "Лучше всего понять как они работают это разобрать пример. Найдем сколько суммарно  было куплено и продано каждого типа монет. В результирующей сводной таблице индексом будет название монеты, колонки - типы транзакций (т.е. покупки или продажи). В самих ячейках будет суммарное количество монет."
   ]
  },
  {
   "cell_type": "code",
   "execution_count": null,
   "metadata": {},
   "outputs": [],
   "source": [
    "operations.pivot_table(\n",
    "    values='amount', \n",
    "    index='symbol', \n",
    "    columns='type', \n",
    "    aggfunc='sum'\n",
    ")"
   ]
  },
  {
   "cell_type": "markdown",
   "metadata": {},
   "source": [
    "Если не указывать явно аргумент aggfunc, то агрегация будет через усреднение (а не через суммирование как было в нашем примере). Расмотрим более сложный пример."
   ]
  },
  {
   "cell_type": "code",
   "execution_count": null,
   "metadata": {},
   "outputs": [],
   "source": [
    "operations.pivot_table(\n",
    "    values='amount',\n",
    "    index=['symbol', 'user'],  # Индекс может быть иерархическим и строиться по нескольким колонкам\n",
    "    columns=['type', 'status'],  # Аналогично иерархическими могут быть и колонки\n",
    "    aggfunc={'amount': ['sum', 'mean']}  # Можно вычислять сразу несколько агрегаций\n",
    ")"
   ]
  },
  {
   "cell_type": "markdown",
   "metadata": {},
   "source": [
    "И самый монструозный пример, где мы сделаем сводную таблиц для цен и объемов торгов."
   ]
  },
  {
   "cell_type": "code",
   "execution_count": null,
   "metadata": {},
   "outputs": [],
   "source": [
    "operations.pivot_table(\n",
    "    values=['amount', 'price'],  # Можно находить статистику по разным числовым показателям\n",
    "    index=['symbol', 'user'],\n",
    "    columns=['type', 'status'],\n",
    "    aggfunc={\n",
    "        'amount': ['sum', 'mean'], \n",
    "        'price': 'max'}  # Тогда дла каждого показателя надо указать какие агрегации вы хотите\n",
    ")"
   ]
  },
  {
   "cell_type": "markdown",
   "metadata": {},
   "source": [
    "Для построения сводных таблиц в pandas есть более простая функция. pandas.pivot. Она не делает никаких агрегаций, поэтому при ее использовании вы должны быть уверены, что на каждую ячейку результирующей сводной таблицы придется только одно значение показателя из исходной таблицы. В противном случае будет ошибка. Можете попоробовать построить сводную таблицу\n",
    "```\n",
    "operations.pivot(values='amount', index='user', columns='user')\n",
    "```\n",
    "чтобы убедиться."
   ]
  },
  {
   "cell_type": "markdown",
   "metadata": {},
   "source": [
    "**Задание:** Самостоятельно разоберитесь с функциями pandas.stack, pandas.unstack и pandas.melt. Вам поможет [этот tutorial](https://pandas.pydata.org/pandas-docs/stable/reshaping.html)"
   ]
  },
  {
   "cell_type": "markdown",
   "metadata": {},
   "source": [
    "### 11. Пропуски и ошибки в данных"
   ]
  },
  {
   "cell_type": "markdown",
   "metadata": {},
   "source": [
    "В реальной жизни данные с которыми надо работать содержат пропуски или просто неверные значения. Мы обсудим как это можно исправить"
   ]
  },
  {
   "cell_type": "code",
   "execution_count": null,
   "metadata": {},
   "outputs": [],
   "source": [
    "price = pd.DataFrame(\n",
    "    data=[\n",
    "        [0.547, 0.745],\n",
    "        [-2, -1],\n",
    "        [None, 0.718],\n",
    "        [0.135, 0.845],\n",
    "        [0.53, None],\n",
    "        [None, -1]],\n",
    "    columns=['ADA', 'DOGE'],\n",
    "    # Создаем специальный индекс из 6 дней начиная с 2018-11-01 \n",
    "    index=pd.date_range('2018-11-01', periods=6)\n",
    ")"
   ]
  },
  {
   "cell_type": "code",
   "execution_count": null,
   "metadata": {},
   "outputs": [],
   "source": [
    "price"
   ]
  },
  {
   "cell_type": "code",
   "execution_count": null,
   "metadata": {},
   "outputs": [],
   "source": [
    "# Найти места где есть пропуски методом isnull. Аналогично есть метод notnull\n",
    "price.isnull()"
   ]
  },
  {
   "cell_type": "code",
   "execution_count": null,
   "metadata": {},
   "outputs": [],
   "source": [
    "# Заполнить все пропуски дефолтным занчением\n",
    "price.fillna(0)"
   ]
  },
  {
   "cell_type": "code",
   "execution_count": null,
   "metadata": {},
   "outputs": [],
   "source": [
    "# Заполнить все пропуски занчениями с предыдущей строки\n",
    "price.fillna(method='bfill')"
   ]
  },
  {
   "cell_type": "code",
   "execution_count": null,
   "metadata": {},
   "outputs": [],
   "source": [
    "# Заполнить все пропуски занчениями с cледующей строки\n",
    "price.fillna(method='ffill')"
   ]
  },
  {
   "cell_type": "code",
   "execution_count": null,
   "metadata": {},
   "outputs": [],
   "source": [
    "#  Выкинуть строки содержащие nan'ы\n",
    "price.dropna()"
   ]
  },
  {
   "cell_type": "code",
   "execution_count": null,
   "metadata": {},
   "outputs": [],
   "source": [
    "#  Выкинуть колонки содержащие nan'ы\n",
    "price.dropna(axis=1)"
   ]
  },
  {
   "cell_type": "code",
   "execution_count": null,
   "metadata": {},
   "outputs": [],
   "source": [
    "# Подменить значения\n",
    "price.replace({-1:0, -2:0})"
   ]
  },
  {
   "cell_type": "code",
   "execution_count": null,
   "metadata": {},
   "outputs": [],
   "source": [
    "price"
   ]
  },
  {
   "cell_type": "code",
   "execution_count": null,
   "metadata": {},
   "outputs": [],
   "source": [
    "del price"
   ]
  },
  {
   "cell_type": "markdown",
   "metadata": {},
   "source": [
    "### 12. Слияния и конкатенации таблиц"
   ]
  },
  {
   "cell_type": "markdown",
   "metadata": {},
   "source": [
    "Если у вас есть две таблицы, то информацию в них можно объединить двумя способами: конкатенация (\"прилепить снизу новую таблицу\") и объединение (найти объединение записей таблиц если у них хранятся одни и те же значния в выбранных колонках)."
   ]
  },
  {
   "cell_type": "code",
   "execution_count": null,
   "metadata": {},
   "outputs": [],
   "source": [
    "operations_old = pd.DataFrame(\n",
    "    data=[\n",
    "        ['DOGE', 'buy', 5000, 0.2],\n",
    "        ['BTC', 'buy', 10, 6000],\n",
    "        ['BTC', 'buy', 2.5, 5900],\n",
    "        ['DOGE', 'sell', 3000, 0.1],\n",
    "        ['BTC', 'sell', 4, 6200],\n",
    "    ],\n",
    "    columns=['symbol', 'type', 'amount', 'price']\n",
    ")\n",
    "\n",
    "operations_new = pd.DataFrame(\n",
    "    data=[\n",
    "        ['ETH', 'sell', 10, 400],\n",
    "        ['BTC', 'buy', 1, 5600],\n",
    "        ['ETH', 'buy', 20, 350],\n",
    "        ['ETH', 'sell', 10, 300],\n",
    "        ['DOGE', 'sell', 3000, 0.15]\n",
    "    ],\n",
    "    columns=['symbol', 'type', 'amount', 'price']\n",
    ")"
   ]
  },
  {
   "cell_type": "code",
   "execution_count": null,
   "metadata": {},
   "outputs": [],
   "source": [
    "operations_old"
   ]
  },
  {
   "cell_type": "code",
   "execution_count": null,
   "metadata": {},
   "outputs": [],
   "source": [
    "#  Сконкатенировать таблицы в указанном порядке\n",
    "pd.concat([operations_old, operations_new])"
   ]
  },
  {
   "cell_type": "code",
   "execution_count": null,
   "metadata": {},
   "outputs": [],
   "source": [
    "# При конкатенации таблицам можно назаначать теги чтобы понимать где какая таблица\n",
    "pd.concat([operations_old, operations_new], keys=['old', 'new'])"
   ]
  },
  {
   "cell_type": "code",
   "execution_count": null,
   "metadata": {},
   "outputs": [],
   "source": [
    "# Как видно при конкатенации индексы старых таблиц копируются. \n",
    "# Если вам не нужно это поведение, используйте ignore_index\n",
    "operations = pd.concat([operations_new, operations_old], ignore_index=True)\n",
    "operations"
   ]
  },
  {
   "cell_type": "markdown",
   "metadata": {},
   "source": [
    "Данные можно собирать вместе и более умным способом. А именно, вы выбираете какие колонки вас интересуют. Далее если есть записи из двух таблиц у котороых в выбранных колонках значения совпадают мы их \"объединяем\". Это очень упрощенное объяснение. В pandas эта операция называется merge в SQL - join. Делать объединение можно разными сопособами, поэтому возникает несколько стратегий: left, right, inner и full. "
   ]
  },
  {
   "cell_type": "code",
   "execution_count": null,
   "metadata": {},
   "outputs": [],
   "source": [
    "transactions = pd.DataFrame(\n",
    "    data=[\n",
    "        ['DOGE', 'sell', 'Rockfeller'],\n",
    "        ['DOGE', 'buy', 'J.P. Morgan'],\n",
    "        ['BTC', 'buy', 'John Doe'],\n",
    "        ['ADA', 'sell', 'Rick'],\n",
    "        ['ETH', 'buy', 'Morty']\n",
    "    ],\n",
    "    columns=['symbol', 'type', 'user']\n",
    ")\n",
    "transactions"
   ]
  },
  {
   "cell_type": "code",
   "execution_count": null,
   "metadata": {},
   "outputs": [],
   "source": [
    "# Объединение таблиц по типу монеты и операции\n",
    "# По умолчанию производится inner join остаются записи в которых были полные совпадения\n",
    "pd.merge(operations, transactions, on=['symbol', 'type'])"
   ]
  },
  {
   "cell_type": "code",
   "execution_count": null,
   "metadata": {},
   "outputs": [],
   "source": [
    "# Левый join таблиц - все записи из первой таблицы остаются и к ни присоединяются записи из правой.\n",
    "# Аналогично работает правый join\n",
    "pd.merge(operations, transactions, on=['symbol', 'type'], how='left')"
   ]
  },
  {
   "cell_type": "code",
   "execution_count": null,
   "metadata": {},
   "outputs": [],
   "source": [
    "# Outer join - собираем вместе записи из обеих таблиц\n",
    "pd.merge(operations, transactions, on=['symbol', 'type'], how='outer')"
   ]
  },
  {
   "cell_type": "code",
   "execution_count": null,
   "metadata": {},
   "outputs": [],
   "source": [
    "del operations_new, operations_old, operations, transactions"
   ]
  },
  {
   "cell_type": "markdown",
   "metadata": {},
   "source": [
    "### 13. Чтение таблиц"
   ]
  },
  {
   "cell_type": "markdown",
   "metadata": {},
   "source": [
    "Чтобы данные анализировать их надо где-то взять. Для этого в pandas есть множество функций. Все их названия начинаются с префикса 'read_'. Мы разберем функцию read_csv."
   ]
  },
  {
   "cell_type": "code",
   "execution_count": null,
   "metadata": {},
   "outputs": [],
   "source": [
    "# Прочитать таблицу ни о чем не задумываясь\n",
    "pd.read_csv('coins.csv')"
   ]
  },
  {
   "cell_type": "code",
   "execution_count": null,
   "metadata": {},
   "outputs": [],
   "source": [
    "# Прочитать таблицу и использовать колонку date как индекс \n",
    "pd.read_csv('coins.csv', index_col='date')"
   ]
  },
  {
   "cell_type": "code",
   "execution_count": null,
   "metadata": {},
   "outputs": [],
   "source": [
    "# Прочитать таблицу и дать pandas подсказки по поводу типов данных в колонках symbol и name\n",
    "df = pd.read_csv('coins.csv', dtype={'symbol': str, 'name': str}).dropna()\n",
    "df.txCount = df.txCount.astype(int)"
   ]
  },
  {
   "cell_type": "markdown",
   "metadata": {},
   "source": [
    "### 14. Визуализация"
   ]
  },
  {
   "cell_type": "markdown",
   "metadata": {},
   "source": [
    "В pandas есть очень простые средства визуализации. Они подойдут для быстрого анализа, но если хочется сделать красиво и информативно, то вы не по адресу. Любая визуализация делается через аттрибут plot у объекта pandas.Series или pandas.DataFrame."
   ]
  },
  {
   "cell_type": "markdown",
   "metadata": {},
   "source": [
    "Стоит отметить что для отображения графиков нужно использовать магическую команду для jupyter\n",
    "```\n",
    "%matplotlib\n",
    "```\n",
    "При этом график появится в отдельном окне. Там же будет несколько полезных кнопок для редактирования и сохранения графика. Если хочется чтобы графики отображались прямо в ноутбуке то надо передать аргумент inline\n",
    "```\n",
    "%matplotlib inline\n",
    "```"
   ]
  },
  {
   "cell_type": "code",
   "execution_count": null,
   "metadata": {},
   "outputs": [],
   "source": [
    "%matplotlib inline"
   ]
  },
  {
   "cell_type": "code",
   "execution_count": null,
   "metadata": {},
   "outputs": [],
   "source": [
    "price = pd.DataFrame(\n",
    "    data=[\n",
    "        [0.547, 0.745],\n",
    "        [0.5, 0.964],\n",
    "        [0.77, 0.718],\n",
    "        [0.135, 0.845],\n",
    "        [0.53, None],\n",
    "        [0.15, 0.795]],\n",
    "    columns=['ADA', 'DOGE'],\n",
    "    index=pd.date_range('2018-11-01', periods=6)\n",
    ")\n",
    "price"
   ]
  },
  {
   "cell_type": "code",
   "execution_count": null,
   "metadata": {},
   "outputs": [],
   "source": [
    "# Нарисовать график цены монеты ADA. \n",
    "# Так как индекс в нашей таблице временный, то pandas догадывается, что его можно использовать\n",
    "# как ось времени на графиках.\n",
    "price['ADA'].plot()"
   ]
  },
  {
   "cell_type": "code",
   "execution_count": null,
   "metadata": {},
   "outputs": [],
   "source": [
    "# Можно на одном графике нарисовать поведение цены сразу нескольких монет\n",
    "price[['ADA', 'DOGE']].plot()"
   ]
  },
  {
   "cell_type": "code",
   "execution_count": null,
   "metadata": {},
   "outputs": [],
   "source": [
    "# Цену можно рисовать и в виде столбцовой диаграммы c различными настройками\n",
    "price.plot.bar(stacked=True)"
   ]
  },
  {
   "cell_type": "code",
   "execution_count": null,
   "metadata": {},
   "outputs": [],
   "source": [
    "# Горизонтальная столбцовая диаграмма\n",
    "price.plot.barh()"
   ]
  },
  {
   "cell_type": "code",
   "execution_count": null,
   "metadata": {},
   "outputs": [],
   "source": [
    "# Гистограмма\n",
    "price.plot.hist(bins=10)"
   ]
  },
  {
   "cell_type": "code",
   "execution_count": null,
   "metadata": {},
   "outputs": [],
   "source": [
    "# Ящики с усами\n",
    "price.plot.box()"
   ]
  },
  {
   "cell_type": "code",
   "execution_count": null,
   "metadata": {},
   "outputs": [],
   "source": [
    "# Графики с заливкой\n",
    "price.plot.area()"
   ]
  },
  {
   "cell_type": "code",
   "execution_count": null,
   "metadata": {},
   "outputs": [],
   "source": [
    "# Если хочется нарисовать пары каких либо значений в виде точек на плоскости, то подойдет scatter plot\n",
    "price.plot.scatter(x='ADA', y='DOGE')"
   ]
  },
  {
   "cell_type": "code",
   "execution_count": null,
   "metadata": {},
   "outputs": [],
   "source": [
    "# И на десерт - пирожковая диаграмма\n",
    "price.plot.pie(subplots=True, figsize=(15,7.5))"
   ]
  },
  {
   "cell_type": "code",
   "execution_count": null,
   "metadata": {},
   "outputs": [],
   "source": [
    "del price"
   ]
  },
  {
   "cell_type": "markdown",
   "metadata": {},
   "source": [
    "# NB\n",
    "\n",
    "\n",
    "## Другие инструменты работы с данными\n",
    "\n",
    "Если ваш датасет не слишком большой, то pandas это де-факто лучший инструмент в наличии. В противном случае есть альтернативы:\n",
    " - [numpy](http://www.numpy.org/) - библиотека для низкоуровневой работы с многомерными массивами из примитивных типов данных. Подходит для \"векторизованной\" обработки. Numpy - ваш последний шанс все еще писать на обычном питоне, без биндингов на С. Подходит для задач быстрой обработки не слишком больших данных. На самом деле внутри, pandas использует numpy.\n",
    " - [Graphlab](https://turi.com/) - Платная питоновская библиотека для работы как большими данными так и с маленькими датасетами. Данные представляются как SFrame объекты, во многом похожие на DataFrame из pandas.\n",
    " - [Hadoop](https://hadoop.apache.org/) - стек технологии для работы с очень большими данными, в частности есть классический MapReduce.\n",
    " \n",
    "## Другие инструменты визуализации\n",
    "\n",
    "\n",
    "Для визуализации библиотек намного больше. Вот самые популярные\n",
    " - [Pandas](https://pandas.pydata.org/) - для быстрой и очень простой визуализации. Любая мелкая настройка потребует знания matplotlib\n",
    " - [Seaborn](https://seaborn.pydata.org/) - широкий но фиксированный набор сложных визуализаций с красивыми цветовыми схемами. Библиотека является надстройкой над matplotlib, и, опять же, тонкие настройки потребуют знания matplotlib.\n",
    "   - [Галерея с примерами](https://seaborn.pydata.org/examples/index.html)\n",
    "   - [Руководство](https://seaborn.pydata.org/tutorial.html)\n",
    " - [ggplot](http://ggplot.yhathq.com/) - многообещающая библиотека скопированная из R. Пока на этапе развития\n",
    " - [Bokeh](https://bokeh.pydata.org/en/latest/) - библиотека для визуализации в web.\n",
    " - [Plot.ly](https://plot.ly/) - библиотека для интерактивных и статических визуализаций. Нацелена на работу в облаке, но можно работать и локально.\n",
    "   - [Галерея с примерами](https://plot.ly/python/)\n",
    "   - [Краткое ввдение](https://images.plot.ly/plotly-documentation/images/python_cheat_sheet.pdf)"
   ]
  }
 ],
 "metadata": {
  "kernelspec": {
   "display_name": "Python 3",
   "language": "python",
   "name": "python3"
  },
  "language_info": {
   "codemirror_mode": {
    "name": "ipython",
    "version": 3
   },
   "file_extension": ".py",
   "mimetype": "text/x-python",
   "name": "python",
   "nbconvert_exporter": "python",
   "pygments_lexer": "ipython3",
   "version": "3.6.3"
  }
 },
 "nbformat": 4,
 "nbformat_minor": 2
}
