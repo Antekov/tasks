{
 "cells": [
  {
   "cell_type": "markdown",
   "metadata": {},
   "source": [
    "## Pandas"
   ]
  },
  {
   "cell_type": "markdown",
   "metadata": {},
   "source": [
    "В этом ноутбуке мы познакомимся с основными фичами pandas. Эта библиотека огромна, поэтому мы сможем лишь немного поиграться с доступной функциональностью. Для детального ознакомления стоит почитать документацию"
   ]
  },
  {
   "cell_type": "markdown",
   "metadata": {},
   "source": [
    "### 1. Первое знакомство"
   ]
  },
  {
   "cell_type": "code",
   "execution_count": 147,
   "metadata": {},
   "outputs": [],
   "source": [
    "import pandas as pd  # Стандартный алиас для pandas"
   ]
  },
  {
   "cell_type": "code",
   "execution_count": 148,
   "metadata": {
    "scrolled": false
   },
   "outputs": [],
   "source": [
    "# Читаем датасет из csv файла\n",
    "coins = pd.read_csv('coins.csv')  "
   ]
  },
  {
   "cell_type": "code",
   "execution_count": 149,
   "metadata": {
    "scrolled": true
   },
   "outputs": [
    {
     "data": {
      "text/html": [
       "<div>\n",
       "<style scoped>\n",
       "    .dataframe tbody tr th:only-of-type {\n",
       "        vertical-align: middle;\n",
       "    }\n",
       "\n",
       "    .dataframe tbody tr th {\n",
       "        vertical-align: top;\n",
       "    }\n",
       "\n",
       "    .dataframe thead th {\n",
       "        text-align: right;\n",
       "    }\n",
       "</style>\n",
       "<table border=\"1\" class=\"dataframe\">\n",
       "  <thead>\n",
       "    <tr style=\"text-align: right;\">\n",
       "      <th></th>\n",
       "      <th>date</th>\n",
       "      <th>price</th>\n",
       "      <th>txCount</th>\n",
       "      <th>txVolume</th>\n",
       "      <th>activeAddresses</th>\n",
       "      <th>symbol</th>\n",
       "      <th>name</th>\n",
       "      <th>open</th>\n",
       "      <th>high</th>\n",
       "      <th>low</th>\n",
       "      <th>close</th>\n",
       "      <th>volume</th>\n",
       "      <th>market</th>\n",
       "    </tr>\n",
       "  </thead>\n",
       "  <tbody>\n",
       "    <tr>\n",
       "      <th>0</th>\n",
       "      <td>2013-04-28</td>\n",
       "      <td>135.300000</td>\n",
       "      <td>41702.0</td>\n",
       "      <td>6.879868e+07</td>\n",
       "      <td>117984.0</td>\n",
       "      <td>BTC</td>\n",
       "      <td>Bitcoin</td>\n",
       "      <td>135.300000</td>\n",
       "      <td>135.980000</td>\n",
       "      <td>132.100000</td>\n",
       "      <td>134.210000</td>\n",
       "      <td>0.0</td>\n",
       "      <td>1.500520e+09</td>\n",
       "    </tr>\n",
       "    <tr>\n",
       "      <th>1</th>\n",
       "      <td>2013-04-28</td>\n",
       "      <td>4.300000</td>\n",
       "      <td>9174.0</td>\n",
       "      <td>4.431952e+07</td>\n",
       "      <td>17216.0</td>\n",
       "      <td>LTC</td>\n",
       "      <td>Litecoin</td>\n",
       "      <td>4.300000</td>\n",
       "      <td>4.400000</td>\n",
       "      <td>4.180000</td>\n",
       "      <td>4.350000</td>\n",
       "      <td>0.0</td>\n",
       "      <td>7.377340e+07</td>\n",
       "    </tr>\n",
       "    <tr>\n",
       "      <th>2</th>\n",
       "      <td>2013-04-29</td>\n",
       "      <td>134.440000</td>\n",
       "      <td>51602.0</td>\n",
       "      <td>1.138128e+08</td>\n",
       "      <td>86925.0</td>\n",
       "      <td>BTC</td>\n",
       "      <td>Bitcoin</td>\n",
       "      <td>134.440000</td>\n",
       "      <td>147.490000</td>\n",
       "      <td>134.000000</td>\n",
       "      <td>144.540000</td>\n",
       "      <td>0.0</td>\n",
       "      <td>1.491160e+09</td>\n",
       "    </tr>\n",
       "    <tr>\n",
       "      <th>3</th>\n",
       "      <td>2013-04-29</td>\n",
       "      <td>4.370000</td>\n",
       "      <td>9275.0</td>\n",
       "      <td>3.647810e+07</td>\n",
       "      <td>18395.0</td>\n",
       "      <td>LTC</td>\n",
       "      <td>Litecoin</td>\n",
       "      <td>4.370000</td>\n",
       "      <td>4.570000</td>\n",
       "      <td>4.230000</td>\n",
       "      <td>4.380000</td>\n",
       "      <td>0.0</td>\n",
       "      <td>7.495270e+07</td>\n",
       "    </tr>\n",
       "    <tr>\n",
       "      <th>4</th>\n",
       "      <td>2013-04-30</td>\n",
       "      <td>144.000000</td>\n",
       "      <td>47450.0</td>\n",
       "      <td>8.426632e+07</td>\n",
       "      <td>76871.0</td>\n",
       "      <td>BTC</td>\n",
       "      <td>Bitcoin</td>\n",
       "      <td>144.000000</td>\n",
       "      <td>146.930000</td>\n",
       "      <td>134.050000</td>\n",
       "      <td>139.000000</td>\n",
       "      <td>0.0</td>\n",
       "      <td>1.597780e+09</td>\n",
       "    </tr>\n",
       "    <tr>\n",
       "      <th>...</th>\n",
       "      <td>...</td>\n",
       "      <td>...</td>\n",
       "      <td>...</td>\n",
       "      <td>...</td>\n",
       "      <td>...</td>\n",
       "      <td>...</td>\n",
       "      <td>...</td>\n",
       "      <td>...</td>\n",
       "      <td>...</td>\n",
       "      <td>...</td>\n",
       "      <td>...</td>\n",
       "      <td>...</td>\n",
       "      <td>...</td>\n",
       "    </tr>\n",
       "    <tr>\n",
       "      <th>37583</th>\n",
       "      <td>2018-06-06</td>\n",
       "      <td>0.293325</td>\n",
       "      <td>4830.0</td>\n",
       "      <td>2.312763e+05</td>\n",
       "      <td>659.0</td>\n",
       "      <td>XLM</td>\n",
       "      <td>Stellar</td>\n",
       "      <td>0.293325</td>\n",
       "      <td>0.299955</td>\n",
       "      <td>0.289500</td>\n",
       "      <td>0.298269</td>\n",
       "      <td>51165000.0</td>\n",
       "      <td>5.450080e+09</td>\n",
       "    </tr>\n",
       "    <tr>\n",
       "      <th>37584</th>\n",
       "      <td>2018-06-06</td>\n",
       "      <td>0.039586</td>\n",
       "      <td>7205.0</td>\n",
       "      <td>4.947760e+06</td>\n",
       "      <td>18228.0</td>\n",
       "      <td>XVG</td>\n",
       "      <td>Verge</td>\n",
       "      <td>0.039586</td>\n",
       "      <td>0.039737</td>\n",
       "      <td>0.037680</td>\n",
       "      <td>0.038797</td>\n",
       "      <td>9307450.0</td>\n",
       "      <td>5.959400e+08</td>\n",
       "    </tr>\n",
       "    <tr>\n",
       "      <th>37585</th>\n",
       "      <td>2018-06-06</td>\n",
       "      <td>239.760000</td>\n",
       "      <td>10687.0</td>\n",
       "      <td>3.986308e+07</td>\n",
       "      <td>96516.0</td>\n",
       "      <td>ZEC</td>\n",
       "      <td>Zcash</td>\n",
       "      <td>239.750000</td>\n",
       "      <td>240.340000</td>\n",
       "      <td>229.210000</td>\n",
       "      <td>236.050000</td>\n",
       "      <td>56887000.0</td>\n",
       "      <td>9.769940e+08</td>\n",
       "    </tr>\n",
       "    <tr>\n",
       "      <th>37586</th>\n",
       "      <td>2018-06-06</td>\n",
       "      <td>0.127555</td>\n",
       "      <td>1313.0</td>\n",
       "      <td>1.596436e+07</td>\n",
       "      <td>733.0</td>\n",
       "      <td>ZIL</td>\n",
       "      <td>Zilliqa</td>\n",
       "      <td>0.127555</td>\n",
       "      <td>0.133254</td>\n",
       "      <td>0.124194</td>\n",
       "      <td>0.131766</td>\n",
       "      <td>54667900.0</td>\n",
       "      <td>9.348810e+08</td>\n",
       "    </tr>\n",
       "    <tr>\n",
       "      <th>37587</th>\n",
       "      <td>2018-06-06</td>\n",
       "      <td>1.270000</td>\n",
       "      <td>795.0</td>\n",
       "      <td>6.094435e+06</td>\n",
       "      <td>599.0</td>\n",
       "      <td>ZRX</td>\n",
       "      <td>0x</td>\n",
       "      <td>1.270000</td>\n",
       "      <td>1.340000</td>\n",
       "      <td>1.250000</td>\n",
       "      <td>1.330000</td>\n",
       "      <td>17778000.0</td>\n",
       "      <td>6.741510e+08</td>\n",
       "    </tr>\n",
       "  </tbody>\n",
       "</table>\n",
       "<p>37588 rows × 13 columns</p>\n",
       "</div>"
      ],
      "text/plain": [
       "             date       price  txCount      txVolume  activeAddresses symbol  \\\n",
       "0      2013-04-28  135.300000  41702.0  6.879868e+07         117984.0    BTC   \n",
       "1      2013-04-28    4.300000   9174.0  4.431952e+07          17216.0    LTC   \n",
       "2      2013-04-29  134.440000  51602.0  1.138128e+08          86925.0    BTC   \n",
       "3      2013-04-29    4.370000   9275.0  3.647810e+07          18395.0    LTC   \n",
       "4      2013-04-30  144.000000  47450.0  8.426632e+07          76871.0    BTC   \n",
       "...           ...         ...      ...           ...              ...    ...   \n",
       "37583  2018-06-06    0.293325   4830.0  2.312763e+05            659.0    XLM   \n",
       "37584  2018-06-06    0.039586   7205.0  4.947760e+06          18228.0    XVG   \n",
       "37585  2018-06-06  239.760000  10687.0  3.986308e+07          96516.0    ZEC   \n",
       "37586  2018-06-06    0.127555   1313.0  1.596436e+07            733.0    ZIL   \n",
       "37587  2018-06-06    1.270000    795.0  6.094435e+06            599.0    ZRX   \n",
       "\n",
       "           name        open        high         low       close      volume  \\\n",
       "0       Bitcoin  135.300000  135.980000  132.100000  134.210000         0.0   \n",
       "1      Litecoin    4.300000    4.400000    4.180000    4.350000         0.0   \n",
       "2       Bitcoin  134.440000  147.490000  134.000000  144.540000         0.0   \n",
       "3      Litecoin    4.370000    4.570000    4.230000    4.380000         0.0   \n",
       "4       Bitcoin  144.000000  146.930000  134.050000  139.000000         0.0   \n",
       "...         ...         ...         ...         ...         ...         ...   \n",
       "37583   Stellar    0.293325    0.299955    0.289500    0.298269  51165000.0   \n",
       "37584     Verge    0.039586    0.039737    0.037680    0.038797   9307450.0   \n",
       "37585     Zcash  239.750000  240.340000  229.210000  236.050000  56887000.0   \n",
       "37586   Zilliqa    0.127555    0.133254    0.124194    0.131766  54667900.0   \n",
       "37587        0x    1.270000    1.340000    1.250000    1.330000  17778000.0   \n",
       "\n",
       "             market  \n",
       "0      1.500520e+09  \n",
       "1      7.377340e+07  \n",
       "2      1.491160e+09  \n",
       "3      7.495270e+07  \n",
       "4      1.597780e+09  \n",
       "...             ...  \n",
       "37583  5.450080e+09  \n",
       "37584  5.959400e+08  \n",
       "37585  9.769940e+08  \n",
       "37586  9.348810e+08  \n",
       "37587  6.741510e+08  \n",
       "\n",
       "[37588 rows x 13 columns]"
      ]
     },
     "execution_count": 149,
     "metadata": {},
     "output_type": "execute_result"
    }
   ],
   "source": [
    "# Посмотрим что получилось\n",
    "coins"
   ]
  },
  {
   "cell_type": "markdown",
   "metadata": {},
   "source": [
    "Поясним значения хранящиеся в колонках\n",
    " - date - дата измерений\n",
    " - name - полное название монеты\n",
    " - symbol - сокращенное название монеты\n",
    " - price - средняя цена монеты за торговый день в USD\n",
    " - txCount - количество транзакций в сети данной монеты\n",
    " - txVolume - объем монет переведенных между адресами в сети данной монеты\n",
    " - activeAddresses - количество адресов совершавших а данный день транзации в сети данной монеты\n",
    " - open - цена монеты в начале торгов данного дня\n",
    " - close - цена монеты в конце торгов данного дня\n",
    " - high - самая высокая цена данной монеты в течение данного торгового дня\n",
    " - low - самая низкая цена данной монеты в течение данного торгового дня\n",
    " - volume - объем торгов данной монетой на биржах в данный день\n",
    " - market - капитализация данной монеты в данный день"
   ]
  },
  {
   "cell_type": "markdown",
   "metadata": {},
   "source": [
    "По выводу можно получить общее представление о таблице. Видно, что в таблице могут храниться как числовые так и категориальные (строковые) данные, количество строк и столбцов. Всю эту информацию и многое другое можно получить и в коде."
   ]
  },
  {
   "cell_type": "markdown",
   "metadata": {},
   "source": [
    "Для удобства мы далее ограничим размер вывода pandas в jupyter notebook."
   ]
  },
  {
   "cell_type": "code",
   "execution_count": 150,
   "metadata": {},
   "outputs": [],
   "source": [
    "pd.set_option('display.max_rows', 10)"
   ]
  },
  {
   "cell_type": "code",
   "execution_count": 151,
   "metadata": {},
   "outputs": [
    {
     "data": {
      "text/plain": [
       "pandas.core.frame.DataFrame"
      ]
     },
     "execution_count": 151,
     "metadata": {},
     "output_type": "execute_result"
    }
   ],
   "source": [
    "type(coins)"
   ]
  },
  {
   "cell_type": "code",
   "execution_count": 152,
   "metadata": {},
   "outputs": [
    {
     "data": {
      "text/plain": [
       "(37588, 13)"
      ]
     },
     "execution_count": 152,
     "metadata": {},
     "output_type": "execute_result"
    }
   ],
   "source": [
    "coins.shape  # Размер таблицы"
   ]
  },
  {
   "cell_type": "code",
   "execution_count": 153,
   "metadata": {},
   "outputs": [
    {
     "data": {
      "text/html": [
       "<div>\n",
       "<style scoped>\n",
       "    .dataframe tbody tr th:only-of-type {\n",
       "        vertical-align: middle;\n",
       "    }\n",
       "\n",
       "    .dataframe tbody tr th {\n",
       "        vertical-align: top;\n",
       "    }\n",
       "\n",
       "    .dataframe thead th {\n",
       "        text-align: right;\n",
       "    }\n",
       "</style>\n",
       "<table border=\"1\" class=\"dataframe\">\n",
       "  <thead>\n",
       "    <tr style=\"text-align: right;\">\n",
       "      <th></th>\n",
       "      <th>date</th>\n",
       "      <th>price</th>\n",
       "      <th>txCount</th>\n",
       "      <th>txVolume</th>\n",
       "      <th>activeAddresses</th>\n",
       "      <th>symbol</th>\n",
       "      <th>name</th>\n",
       "      <th>open</th>\n",
       "      <th>high</th>\n",
       "      <th>low</th>\n",
       "      <th>close</th>\n",
       "      <th>volume</th>\n",
       "      <th>market</th>\n",
       "    </tr>\n",
       "  </thead>\n",
       "  <tbody>\n",
       "    <tr>\n",
       "      <th>0</th>\n",
       "      <td>2013-04-28</td>\n",
       "      <td>135.30</td>\n",
       "      <td>41702.0</td>\n",
       "      <td>6.879868e+07</td>\n",
       "      <td>117984.0</td>\n",
       "      <td>BTC</td>\n",
       "      <td>Bitcoin</td>\n",
       "      <td>135.30</td>\n",
       "      <td>135.98</td>\n",
       "      <td>132.10</td>\n",
       "      <td>134.21</td>\n",
       "      <td>0.0</td>\n",
       "      <td>1.500520e+09</td>\n",
       "    </tr>\n",
       "    <tr>\n",
       "      <th>1</th>\n",
       "      <td>2013-04-28</td>\n",
       "      <td>4.30</td>\n",
       "      <td>9174.0</td>\n",
       "      <td>4.431952e+07</td>\n",
       "      <td>17216.0</td>\n",
       "      <td>LTC</td>\n",
       "      <td>Litecoin</td>\n",
       "      <td>4.30</td>\n",
       "      <td>4.40</td>\n",
       "      <td>4.18</td>\n",
       "      <td>4.35</td>\n",
       "      <td>0.0</td>\n",
       "      <td>7.377340e+07</td>\n",
       "    </tr>\n",
       "    <tr>\n",
       "      <th>2</th>\n",
       "      <td>2013-04-29</td>\n",
       "      <td>134.44</td>\n",
       "      <td>51602.0</td>\n",
       "      <td>1.138128e+08</td>\n",
       "      <td>86925.0</td>\n",
       "      <td>BTC</td>\n",
       "      <td>Bitcoin</td>\n",
       "      <td>134.44</td>\n",
       "      <td>147.49</td>\n",
       "      <td>134.00</td>\n",
       "      <td>144.54</td>\n",
       "      <td>0.0</td>\n",
       "      <td>1.491160e+09</td>\n",
       "    </tr>\n",
       "  </tbody>\n",
       "</table>\n",
       "</div>"
      ],
      "text/plain": [
       "         date   price  txCount      txVolume  activeAddresses symbol  \\\n",
       "0  2013-04-28  135.30  41702.0  6.879868e+07         117984.0    BTC   \n",
       "1  2013-04-28    4.30   9174.0  4.431952e+07          17216.0    LTC   \n",
       "2  2013-04-29  134.44  51602.0  1.138128e+08          86925.0    BTC   \n",
       "\n",
       "       name    open    high     low   close  volume        market  \n",
       "0   Bitcoin  135.30  135.98  132.10  134.21     0.0  1.500520e+09  \n",
       "1  Litecoin    4.30    4.40    4.18    4.35     0.0  7.377340e+07  \n",
       "2   Bitcoin  134.44  147.49  134.00  144.54     0.0  1.491160e+09  "
      ]
     },
     "execution_count": 153,
     "metadata": {},
     "output_type": "execute_result"
    }
   ],
   "source": [
    "coins.head(3)  #  Первые 3 строки таблицы. Аналогично tail для последних строк"
   ]
  },
  {
   "cell_type": "code",
   "execution_count": 154,
   "metadata": {},
   "outputs": [
    {
     "data": {
      "text/html": [
       "<div>\n",
       "<style scoped>\n",
       "    .dataframe tbody tr th:only-of-type {\n",
       "        vertical-align: middle;\n",
       "    }\n",
       "\n",
       "    .dataframe tbody tr th {\n",
       "        vertical-align: top;\n",
       "    }\n",
       "\n",
       "    .dataframe thead th {\n",
       "        text-align: right;\n",
       "    }\n",
       "</style>\n",
       "<table border=\"1\" class=\"dataframe\">\n",
       "  <thead>\n",
       "    <tr style=\"text-align: right;\">\n",
       "      <th></th>\n",
       "      <th>price</th>\n",
       "      <th>txCount</th>\n",
       "      <th>txVolume</th>\n",
       "      <th>activeAddresses</th>\n",
       "      <th>open</th>\n",
       "      <th>high</th>\n",
       "      <th>low</th>\n",
       "      <th>close</th>\n",
       "      <th>volume</th>\n",
       "      <th>market</th>\n",
       "    </tr>\n",
       "  </thead>\n",
       "  <tbody>\n",
       "    <tr>\n",
       "      <th>count</th>\n",
       "      <td>37261.000000</td>\n",
       "      <td>3.606800e+04</td>\n",
       "      <td>3.575800e+04</td>\n",
       "      <td>3.606800e+04</td>\n",
       "      <td>37588.000000</td>\n",
       "      <td>37588.000000</td>\n",
       "      <td>37588.000000</td>\n",
       "      <td>37588.000000</td>\n",
       "      <td>3.758800e+04</td>\n",
       "      <td>3.758800e+04</td>\n",
       "    </tr>\n",
       "    <tr>\n",
       "      <th>mean</th>\n",
       "      <td>127.395042</td>\n",
       "      <td>1.960144e+04</td>\n",
       "      <td>4.745076e+53</td>\n",
       "      <td>3.295039e+04</td>\n",
       "      <td>125.652051</td>\n",
       "      <td>131.127449</td>\n",
       "      <td>119.791636</td>\n",
       "      <td>125.771519</td>\n",
       "      <td>1.302249e+08</td>\n",
       "      <td>2.720948e+09</td>\n",
       "    </tr>\n",
       "    <tr>\n",
       "      <th>std</th>\n",
       "      <td>859.109058</td>\n",
       "      <td>7.702995e+04</td>\n",
       "      <td>8.972837e+55</td>\n",
       "      <td>1.143196e+05</td>\n",
       "      <td>855.436562</td>\n",
       "      <td>890.527305</td>\n",
       "      <td>813.697042</td>\n",
       "      <td>855.954704</td>\n",
       "      <td>8.042239e+08</td>\n",
       "      <td>1.534546e+10</td>\n",
       "    </tr>\n",
       "    <tr>\n",
       "      <th>min</th>\n",
       "      <td>0.000002</td>\n",
       "      <td>0.000000e+00</td>\n",
       "      <td>0.000000e+00</td>\n",
       "      <td>0.000000e+00</td>\n",
       "      <td>0.000002</td>\n",
       "      <td>0.000003</td>\n",
       "      <td>0.000002</td>\n",
       "      <td>0.000002</td>\n",
       "      <td>0.000000e+00</td>\n",
       "      <td>0.000000e+00</td>\n",
       "    </tr>\n",
       "    <tr>\n",
       "      <th>25%</th>\n",
       "      <td>0.059871</td>\n",
       "      <td>3.410000e+02</td>\n",
       "      <td>2.751161e+05</td>\n",
       "      <td>2.920000e+02</td>\n",
       "      <td>0.053032</td>\n",
       "      <td>0.057809</td>\n",
       "      <td>0.049289</td>\n",
       "      <td>0.053147</td>\n",
       "      <td>8.794400e+04</td>\n",
       "      <td>1.356655e+07</td>\n",
       "    </tr>\n",
       "    <tr>\n",
       "      <th>50%</th>\n",
       "      <td>1.020000</td>\n",
       "      <td>1.214500e+03</td>\n",
       "      <td>2.007019e+06</td>\n",
       "      <td>1.388000e+03</td>\n",
       "      <td>1.000000</td>\n",
       "      <td>1.050000</td>\n",
       "      <td>1.000000</td>\n",
       "      <td>1.000000</td>\n",
       "      <td>1.949815e+06</td>\n",
       "      <td>1.323890e+08</td>\n",
       "    </tr>\n",
       "    <tr>\n",
       "      <th>75%</th>\n",
       "      <td>8.710000</td>\n",
       "      <td>6.247000e+03</td>\n",
       "      <td>1.425408e+07</td>\n",
       "      <td>1.173400e+04</td>\n",
       "      <td>8.772500</td>\n",
       "      <td>9.480000</td>\n",
       "      <td>8.150000</td>\n",
       "      <td>8.810000</td>\n",
       "      <td>1.770732e+07</td>\n",
       "      <td>5.156410e+08</td>\n",
       "    </tr>\n",
       "    <tr>\n",
       "      <th>max</th>\n",
       "      <td>19475.800000</td>\n",
       "      <td>1.349890e+06</td>\n",
       "      <td>1.696744e+58</td>\n",
       "      <td>1.283929e+06</td>\n",
       "      <td>19475.800000</td>\n",
       "      <td>20089.000000</td>\n",
       "      <td>18974.100000</td>\n",
       "      <td>19497.400000</td>\n",
       "      <td>2.384090e+10</td>\n",
       "      <td>3.261410e+11</td>\n",
       "    </tr>\n",
       "  </tbody>\n",
       "</table>\n",
       "</div>"
      ],
      "text/plain": [
       "              price       txCount      txVolume  activeAddresses  \\\n",
       "count  37261.000000  3.606800e+04  3.575800e+04     3.606800e+04   \n",
       "mean     127.395042  1.960144e+04  4.745076e+53     3.295039e+04   \n",
       "std      859.109058  7.702995e+04  8.972837e+55     1.143196e+05   \n",
       "min        0.000002  0.000000e+00  0.000000e+00     0.000000e+00   \n",
       "25%        0.059871  3.410000e+02  2.751161e+05     2.920000e+02   \n",
       "50%        1.020000  1.214500e+03  2.007019e+06     1.388000e+03   \n",
       "75%        8.710000  6.247000e+03  1.425408e+07     1.173400e+04   \n",
       "max    19475.800000  1.349890e+06  1.696744e+58     1.283929e+06   \n",
       "\n",
       "               open          high           low         close        volume  \\\n",
       "count  37588.000000  37588.000000  37588.000000  37588.000000  3.758800e+04   \n",
       "mean     125.652051    131.127449    119.791636    125.771519  1.302249e+08   \n",
       "std      855.436562    890.527305    813.697042    855.954704  8.042239e+08   \n",
       "min        0.000002      0.000003      0.000002      0.000002  0.000000e+00   \n",
       "25%        0.053032      0.057809      0.049289      0.053147  8.794400e+04   \n",
       "50%        1.000000      1.050000      1.000000      1.000000  1.949815e+06   \n",
       "75%        8.772500      9.480000      8.150000      8.810000  1.770732e+07   \n",
       "max    19475.800000  20089.000000  18974.100000  19497.400000  2.384090e+10   \n",
       "\n",
       "             market  \n",
       "count  3.758800e+04  \n",
       "mean   2.720948e+09  \n",
       "std    1.534546e+10  \n",
       "min    0.000000e+00  \n",
       "25%    1.356655e+07  \n",
       "50%    1.323890e+08  \n",
       "75%    5.156410e+08  \n",
       "max    3.261410e+11  "
      ]
     },
     "execution_count": 154,
     "metadata": {},
     "output_type": "execute_result"
    }
   ],
   "source": [
    "coins.describe()  # Простейшие статистики для числовых колонок"
   ]
  },
  {
   "cell_type": "code",
   "execution_count": 155,
   "metadata": {},
   "outputs": [
    {
     "data": {
      "text/plain": [
       "0        135.300000\n",
       "1          4.300000\n",
       "2        134.440000\n",
       "3          4.370000\n",
       "4        144.000000\n",
       "            ...    \n",
       "37583      0.293325\n",
       "37584      0.039586\n",
       "37585    239.760000\n",
       "37586      0.127555\n",
       "37587      1.270000\n",
       "Name: price, Length: 37588, dtype: float64"
      ]
     },
     "execution_count": 155,
     "metadata": {},
     "output_type": "execute_result"
    }
   ],
   "source": [
    "coins['price']  # Можно выбрать отдельную колонку"
   ]
  },
  {
   "cell_type": "code",
   "execution_count": 156,
   "metadata": {},
   "outputs": [
    {
     "data": {
      "text/plain": [
       "0         3.880000\n",
       "1         0.220000\n",
       "2        13.490000\n",
       "3         0.340000\n",
       "4        12.880000\n",
       "           ...    \n",
       "37583     0.010455\n",
       "37584     0.002057\n",
       "37585    11.130000\n",
       "37586     0.009060\n",
       "37587     0.090000\n",
       "Length: 37588, dtype: float64"
      ]
     },
     "execution_count": 156,
     "metadata": {},
     "output_type": "execute_result"
    }
   ],
   "source": [
    "coins['high'] - coins['low']  # Над колонками работают поэлементные операции"
   ]
  },
  {
   "cell_type": "code",
   "execution_count": 157,
   "metadata": {},
   "outputs": [],
   "source": [
    "coins['spread'] = coins['high'] - coins['low']  # Можно добавлять новые колонки в таблицу"
   ]
  },
  {
   "cell_type": "code",
   "execution_count": 158,
   "metadata": {},
   "outputs": [
    {
     "data": {
      "text/html": [
       "<div>\n",
       "<style scoped>\n",
       "    .dataframe tbody tr th:only-of-type {\n",
       "        vertical-align: middle;\n",
       "    }\n",
       "\n",
       "    .dataframe tbody tr th {\n",
       "        vertical-align: top;\n",
       "    }\n",
       "\n",
       "    .dataframe thead th {\n",
       "        text-align: right;\n",
       "    }\n",
       "</style>\n",
       "<table border=\"1\" class=\"dataframe\">\n",
       "  <thead>\n",
       "    <tr style=\"text-align: right;\">\n",
       "      <th></th>\n",
       "      <th>date</th>\n",
       "      <th>price</th>\n",
       "      <th>txCount</th>\n",
       "      <th>txVolume</th>\n",
       "      <th>activeAddresses</th>\n",
       "      <th>symbol</th>\n",
       "      <th>name</th>\n",
       "      <th>open</th>\n",
       "      <th>high</th>\n",
       "      <th>low</th>\n",
       "      <th>close</th>\n",
       "      <th>volume</th>\n",
       "      <th>market</th>\n",
       "      <th>spread</th>\n",
       "    </tr>\n",
       "  </thead>\n",
       "  <tbody>\n",
       "    <tr>\n",
       "      <th>0</th>\n",
       "      <td>2013-04-28</td>\n",
       "      <td>135.300000</td>\n",
       "      <td>41702.0</td>\n",
       "      <td>6.879868e+07</td>\n",
       "      <td>117984.0</td>\n",
       "      <td>BTC</td>\n",
       "      <td>Bitcoin</td>\n",
       "      <td>135.300000</td>\n",
       "      <td>135.980000</td>\n",
       "      <td>132.100000</td>\n",
       "      <td>134.210000</td>\n",
       "      <td>0.0</td>\n",
       "      <td>1.500520e+09</td>\n",
       "      <td>3.880000</td>\n",
       "    </tr>\n",
       "    <tr>\n",
       "      <th>1</th>\n",
       "      <td>2013-04-28</td>\n",
       "      <td>4.300000</td>\n",
       "      <td>9174.0</td>\n",
       "      <td>4.431952e+07</td>\n",
       "      <td>17216.0</td>\n",
       "      <td>LTC</td>\n",
       "      <td>Litecoin</td>\n",
       "      <td>4.300000</td>\n",
       "      <td>4.400000</td>\n",
       "      <td>4.180000</td>\n",
       "      <td>4.350000</td>\n",
       "      <td>0.0</td>\n",
       "      <td>7.377340e+07</td>\n",
       "      <td>0.220000</td>\n",
       "    </tr>\n",
       "    <tr>\n",
       "      <th>2</th>\n",
       "      <td>2013-04-29</td>\n",
       "      <td>134.440000</td>\n",
       "      <td>51602.0</td>\n",
       "      <td>1.138128e+08</td>\n",
       "      <td>86925.0</td>\n",
       "      <td>BTC</td>\n",
       "      <td>Bitcoin</td>\n",
       "      <td>134.440000</td>\n",
       "      <td>147.490000</td>\n",
       "      <td>134.000000</td>\n",
       "      <td>144.540000</td>\n",
       "      <td>0.0</td>\n",
       "      <td>1.491160e+09</td>\n",
       "      <td>13.490000</td>\n",
       "    </tr>\n",
       "    <tr>\n",
       "      <th>3</th>\n",
       "      <td>2013-04-29</td>\n",
       "      <td>4.370000</td>\n",
       "      <td>9275.0</td>\n",
       "      <td>3.647810e+07</td>\n",
       "      <td>18395.0</td>\n",
       "      <td>LTC</td>\n",
       "      <td>Litecoin</td>\n",
       "      <td>4.370000</td>\n",
       "      <td>4.570000</td>\n",
       "      <td>4.230000</td>\n",
       "      <td>4.380000</td>\n",
       "      <td>0.0</td>\n",
       "      <td>7.495270e+07</td>\n",
       "      <td>0.340000</td>\n",
       "    </tr>\n",
       "    <tr>\n",
       "      <th>4</th>\n",
       "      <td>2013-04-30</td>\n",
       "      <td>144.000000</td>\n",
       "      <td>47450.0</td>\n",
       "      <td>8.426632e+07</td>\n",
       "      <td>76871.0</td>\n",
       "      <td>BTC</td>\n",
       "      <td>Bitcoin</td>\n",
       "      <td>144.000000</td>\n",
       "      <td>146.930000</td>\n",
       "      <td>134.050000</td>\n",
       "      <td>139.000000</td>\n",
       "      <td>0.0</td>\n",
       "      <td>1.597780e+09</td>\n",
       "      <td>12.880000</td>\n",
       "    </tr>\n",
       "    <tr>\n",
       "      <th>...</th>\n",
       "      <td>...</td>\n",
       "      <td>...</td>\n",
       "      <td>...</td>\n",
       "      <td>...</td>\n",
       "      <td>...</td>\n",
       "      <td>...</td>\n",
       "      <td>...</td>\n",
       "      <td>...</td>\n",
       "      <td>...</td>\n",
       "      <td>...</td>\n",
       "      <td>...</td>\n",
       "      <td>...</td>\n",
       "      <td>...</td>\n",
       "      <td>...</td>\n",
       "    </tr>\n",
       "    <tr>\n",
       "      <th>37583</th>\n",
       "      <td>2018-06-06</td>\n",
       "      <td>0.293325</td>\n",
       "      <td>4830.0</td>\n",
       "      <td>2.312763e+05</td>\n",
       "      <td>659.0</td>\n",
       "      <td>XLM</td>\n",
       "      <td>Stellar</td>\n",
       "      <td>0.293325</td>\n",
       "      <td>0.299955</td>\n",
       "      <td>0.289500</td>\n",
       "      <td>0.298269</td>\n",
       "      <td>51165000.0</td>\n",
       "      <td>5.450080e+09</td>\n",
       "      <td>0.010455</td>\n",
       "    </tr>\n",
       "    <tr>\n",
       "      <th>37584</th>\n",
       "      <td>2018-06-06</td>\n",
       "      <td>0.039586</td>\n",
       "      <td>7205.0</td>\n",
       "      <td>4.947760e+06</td>\n",
       "      <td>18228.0</td>\n",
       "      <td>XVG</td>\n",
       "      <td>Verge</td>\n",
       "      <td>0.039586</td>\n",
       "      <td>0.039737</td>\n",
       "      <td>0.037680</td>\n",
       "      <td>0.038797</td>\n",
       "      <td>9307450.0</td>\n",
       "      <td>5.959400e+08</td>\n",
       "      <td>0.002057</td>\n",
       "    </tr>\n",
       "    <tr>\n",
       "      <th>37585</th>\n",
       "      <td>2018-06-06</td>\n",
       "      <td>239.760000</td>\n",
       "      <td>10687.0</td>\n",
       "      <td>3.986308e+07</td>\n",
       "      <td>96516.0</td>\n",
       "      <td>ZEC</td>\n",
       "      <td>Zcash</td>\n",
       "      <td>239.750000</td>\n",
       "      <td>240.340000</td>\n",
       "      <td>229.210000</td>\n",
       "      <td>236.050000</td>\n",
       "      <td>56887000.0</td>\n",
       "      <td>9.769940e+08</td>\n",
       "      <td>11.130000</td>\n",
       "    </tr>\n",
       "    <tr>\n",
       "      <th>37586</th>\n",
       "      <td>2018-06-06</td>\n",
       "      <td>0.127555</td>\n",
       "      <td>1313.0</td>\n",
       "      <td>1.596436e+07</td>\n",
       "      <td>733.0</td>\n",
       "      <td>ZIL</td>\n",
       "      <td>Zilliqa</td>\n",
       "      <td>0.127555</td>\n",
       "      <td>0.133254</td>\n",
       "      <td>0.124194</td>\n",
       "      <td>0.131766</td>\n",
       "      <td>54667900.0</td>\n",
       "      <td>9.348810e+08</td>\n",
       "      <td>0.009060</td>\n",
       "    </tr>\n",
       "    <tr>\n",
       "      <th>37587</th>\n",
       "      <td>2018-06-06</td>\n",
       "      <td>1.270000</td>\n",
       "      <td>795.0</td>\n",
       "      <td>6.094435e+06</td>\n",
       "      <td>599.0</td>\n",
       "      <td>ZRX</td>\n",
       "      <td>0x</td>\n",
       "      <td>1.270000</td>\n",
       "      <td>1.340000</td>\n",
       "      <td>1.250000</td>\n",
       "      <td>1.330000</td>\n",
       "      <td>17778000.0</td>\n",
       "      <td>6.741510e+08</td>\n",
       "      <td>0.090000</td>\n",
       "    </tr>\n",
       "  </tbody>\n",
       "</table>\n",
       "<p>37588 rows × 14 columns</p>\n",
       "</div>"
      ],
      "text/plain": [
       "             date       price  txCount      txVolume  activeAddresses symbol  \\\n",
       "0      2013-04-28  135.300000  41702.0  6.879868e+07         117984.0    BTC   \n",
       "1      2013-04-28    4.300000   9174.0  4.431952e+07          17216.0    LTC   \n",
       "2      2013-04-29  134.440000  51602.0  1.138128e+08          86925.0    BTC   \n",
       "3      2013-04-29    4.370000   9275.0  3.647810e+07          18395.0    LTC   \n",
       "4      2013-04-30  144.000000  47450.0  8.426632e+07          76871.0    BTC   \n",
       "...           ...         ...      ...           ...              ...    ...   \n",
       "37583  2018-06-06    0.293325   4830.0  2.312763e+05            659.0    XLM   \n",
       "37584  2018-06-06    0.039586   7205.0  4.947760e+06          18228.0    XVG   \n",
       "37585  2018-06-06  239.760000  10687.0  3.986308e+07          96516.0    ZEC   \n",
       "37586  2018-06-06    0.127555   1313.0  1.596436e+07            733.0    ZIL   \n",
       "37587  2018-06-06    1.270000    795.0  6.094435e+06            599.0    ZRX   \n",
       "\n",
       "           name        open        high         low       close      volume  \\\n",
       "0       Bitcoin  135.300000  135.980000  132.100000  134.210000         0.0   \n",
       "1      Litecoin    4.300000    4.400000    4.180000    4.350000         0.0   \n",
       "2       Bitcoin  134.440000  147.490000  134.000000  144.540000         0.0   \n",
       "3      Litecoin    4.370000    4.570000    4.230000    4.380000         0.0   \n",
       "4       Bitcoin  144.000000  146.930000  134.050000  139.000000         0.0   \n",
       "...         ...         ...         ...         ...         ...         ...   \n",
       "37583   Stellar    0.293325    0.299955    0.289500    0.298269  51165000.0   \n",
       "37584     Verge    0.039586    0.039737    0.037680    0.038797   9307450.0   \n",
       "37585     Zcash  239.750000  240.340000  229.210000  236.050000  56887000.0   \n",
       "37586   Zilliqa    0.127555    0.133254    0.124194    0.131766  54667900.0   \n",
       "37587        0x    1.270000    1.340000    1.250000    1.330000  17778000.0   \n",
       "\n",
       "             market     spread  \n",
       "0      1.500520e+09   3.880000  \n",
       "1      7.377340e+07   0.220000  \n",
       "2      1.491160e+09  13.490000  \n",
       "3      7.495270e+07   0.340000  \n",
       "4      1.597780e+09  12.880000  \n",
       "...             ...        ...  \n",
       "37583  5.450080e+09   0.010455  \n",
       "37584  5.959400e+08   0.002057  \n",
       "37585  9.769940e+08  11.130000  \n",
       "37586  9.348810e+08   0.009060  \n",
       "37587  6.741510e+08   0.090000  \n",
       "\n",
       "[37588 rows x 14 columns]"
      ]
     },
     "execution_count": 158,
     "metadata": {},
     "output_type": "execute_result"
    }
   ],
   "source": [
    "coins"
   ]
  },
  {
   "cell_type": "code",
   "execution_count": 159,
   "metadata": {},
   "outputs": [],
   "source": [
    "del coins['spread']  # Удаляем добавленную колонку. Можно иначе: coins.pop('spread')"
   ]
  },
  {
   "cell_type": "markdown",
   "metadata": {},
   "source": [
    "Колонки в таблицах pandas ведут себя как массивы неизменяемой длины. Приятное отличие состоит в том, что колонки имеют много полезных для аналитики методов. Например,"
   ]
  },
  {
   "cell_type": "code",
   "execution_count": 160,
   "metadata": {},
   "outputs": [
    {
     "data": {
      "text/plain": [
       "BTC      1866\n",
       "LTC      1866\n",
       "DOGE     1635\n",
       "VTC      1599\n",
       "DGB      1582\n",
       "         ... \n",
       "ZIL       133\n",
       "POLY      125\n",
       "CENNZ      86\n",
       "LOOM       85\n",
       "CTXC       52\n",
       "Name: symbol, Length: 66, dtype: int64"
      ]
     },
     "execution_count": 160,
     "metadata": {},
     "output_type": "execute_result"
    }
   ],
   "source": [
    "coins['symbol'].value_counts() # Количества записей в таблице для каждой монеты"
   ]
  },
  {
   "cell_type": "code",
   "execution_count": 161,
   "metadata": {},
   "outputs": [
    {
     "data": {
      "text/plain": [
       "19475.8"
      ]
     },
     "execution_count": 161,
     "metadata": {},
     "output_type": "execute_result"
    }
   ],
   "source": [
    "# Самая высокая цена монеты во всей таблице. \n",
    "coins['price'].max()"
   ]
  },
  {
   "cell_type": "markdown",
   "metadata": {},
   "source": [
    "**Задание**: сколько всего различных монет представлено в датасете?"
   ]
  },
  {
   "cell_type": "code",
   "execution_count": 162,
   "metadata": {},
   "outputs": [
    {
     "data": {
      "text/plain": [
       "66"
      ]
     },
     "execution_count": 162,
     "metadata": {},
     "output_type": "execute_result"
    }
   ],
   "source": [
    "# your code he\n",
    "len(set(coins['symbol']))"
   ]
  },
  {
   "cell_type": "code",
   "execution_count": 163,
   "metadata": {},
   "outputs": [
    {
     "data": {
      "text/plain": [
       "0    6.879868e+07\n",
       "1    4.431952e+07\n",
       "2    1.138128e+08\n",
       "3    3.647810e+07\n",
       "Name: txVolume, dtype: float64"
      ]
     },
     "execution_count": 163,
     "metadata": {},
     "output_type": "execute_result"
    }
   ],
   "source": [
    "# Для колонок работают стандартные методы индексации списков, но есть и другие...\n",
    "coins['txVolume'][:4]"
   ]
  },
  {
   "cell_type": "markdown",
   "metadata": {},
   "source": [
    "Для колонок определны бинарные операции и методы которые возвращают специальную колонку из булевских значений. Истина будет храниться только для тех индексов для которых выполнено условие. Лучше объяснит пример"
   ]
  },
  {
   "cell_type": "code",
   "execution_count": 164,
   "metadata": {},
   "outputs": [
    {
     "data": {
      "text/plain": [
       "0        True\n",
       "1        True\n",
       "2        True\n",
       "3        True\n",
       "4        True\n",
       "         ... \n",
       "37583    True\n",
       "37584    True\n",
       "37585    True\n",
       "37586    True\n",
       "37587    True\n",
       "Name: txCount, Length: 37588, dtype: bool"
      ]
     },
     "execution_count": 164,
     "metadata": {},
     "output_type": "execute_result"
    }
   ],
   "source": [
    "# Строки колонки для которых txCount был больше 1000\n",
    "coins['txCount'] > 100"
   ]
  },
  {
   "cell_type": "code",
   "execution_count": 165,
   "metadata": {},
   "outputs": [
    {
     "data": {
      "text/plain": [
       "0         True\n",
       "1        False\n",
       "2         True\n",
       "3        False\n",
       "4         True\n",
       "         ...  \n",
       "37583    False\n",
       "37584    False\n",
       "37585    False\n",
       "37586    False\n",
       "37587    False\n",
       "Name: symbol, Length: 37588, dtype: bool"
      ]
     },
     "execution_count": 165,
     "metadata": {},
     "output_type": "execute_result"
    }
   ],
   "source": [
    "# Строки колонки в которых значение попадает в заранее заданный набор\n",
    "coins['symbol'].isin(['BTC', 'ADA'])"
   ]
  },
  {
   "cell_type": "code",
   "execution_count": 166,
   "metadata": {},
   "outputs": [
    {
     "data": {
      "text/plain": [
       "0         True\n",
       "1         True\n",
       "2         True\n",
       "3         True\n",
       "4         True\n",
       "         ...  \n",
       "37583    False\n",
       "37584    False\n",
       "37585     True\n",
       "37586    False\n",
       "37587    False\n",
       "Name: symbol, Length: 37588, dtype: bool"
      ]
     },
     "execution_count": 166,
     "metadata": {},
     "output_type": "execute_result"
    }
   ],
   "source": [
    "# Строки колонки в которых имя монеты содержит букву 'C' \n",
    "coins['symbol'].str.contains('C')"
   ]
  },
  {
   "cell_type": "code",
   "execution_count": 167,
   "metadata": {},
   "outputs": [
    {
     "data": {
      "text/plain": [
       "0         True\n",
       "1        False\n",
       "2         True\n",
       "3        False\n",
       "4         True\n",
       "         ...  \n",
       "37583    False\n",
       "37584    False\n",
       "37585    False\n",
       "37586    False\n",
       "37587    False\n",
       "Length: 37588, dtype: bool"
      ]
     },
     "execution_count": 167,
     "metadata": {},
     "output_type": "execute_result"
    }
   ],
   "source": [
    "# Для колонок можно составлять сложные логические выражения (скобки обязательны!)\n",
    "((coins['price'] > 18000) | (coins['market'] > 200000)) & (coins['symbol'] == 'BTC')"
   ]
  },
  {
   "cell_type": "markdown",
   "metadata": {},
   "source": [
    "Основное назначение получающихся булевых колонок в том что они могут быть использованы как индексирующий объект. Эдакий продвинутый slicing для колонок и таблиц"
   ]
  },
  {
   "cell_type": "code",
   "execution_count": 168,
   "metadata": {},
   "outputs": [
    {
     "data": {
      "text/html": [
       "<div>\n",
       "<style scoped>\n",
       "    .dataframe tbody tr th:only-of-type {\n",
       "        vertical-align: middle;\n",
       "    }\n",
       "\n",
       "    .dataframe tbody tr th {\n",
       "        vertical-align: top;\n",
       "    }\n",
       "\n",
       "    .dataframe thead th {\n",
       "        text-align: right;\n",
       "    }\n",
       "</style>\n",
       "<table border=\"1\" class=\"dataframe\">\n",
       "  <thead>\n",
       "    <tr style=\"text-align: right;\">\n",
       "      <th></th>\n",
       "      <th>date</th>\n",
       "      <th>price</th>\n",
       "      <th>txCount</th>\n",
       "      <th>txVolume</th>\n",
       "      <th>activeAddresses</th>\n",
       "      <th>symbol</th>\n",
       "      <th>name</th>\n",
       "      <th>open</th>\n",
       "      <th>high</th>\n",
       "      <th>low</th>\n",
       "      <th>close</th>\n",
       "      <th>volume</th>\n",
       "      <th>market</th>\n",
       "    </tr>\n",
       "  </thead>\n",
       "  <tbody>\n",
       "    <tr>\n",
       "      <th>12</th>\n",
       "      <td>2013-05-04</td>\n",
       "      <td>98.10</td>\n",
       "      <td>50102.0</td>\n",
       "      <td>3.896570e+07</td>\n",
       "      <td>69959.0</td>\n",
       "      <td>BTC</td>\n",
       "      <td>Bitcoin</td>\n",
       "      <td>98.10</td>\n",
       "      <td>115.00</td>\n",
       "      <td>92.50</td>\n",
       "      <td>112.50</td>\n",
       "      <td>0.0</td>\n",
       "      <td>1.089890e+09</td>\n",
       "    </tr>\n",
       "    <tr>\n",
       "      <th>98</th>\n",
       "      <td>2013-06-16</td>\n",
       "      <td>99.80</td>\n",
       "      <td>42781.0</td>\n",
       "      <td>4.696943e+07</td>\n",
       "      <td>48785.0</td>\n",
       "      <td>BTC</td>\n",
       "      <td>Bitcoin</td>\n",
       "      <td>99.80</td>\n",
       "      <td>101.60</td>\n",
       "      <td>98.95</td>\n",
       "      <td>99.51</td>\n",
       "      <td>0.0</td>\n",
       "      <td>1.127120e+09</td>\n",
       "    </tr>\n",
       "    <tr>\n",
       "      <th>100</th>\n",
       "      <td>2013-06-17</td>\n",
       "      <td>99.90</td>\n",
       "      <td>45798.0</td>\n",
       "      <td>5.455223e+07</td>\n",
       "      <td>56902.0</td>\n",
       "      <td>BTC</td>\n",
       "      <td>Bitcoin</td>\n",
       "      <td>99.90</td>\n",
       "      <td>102.21</td>\n",
       "      <td>99.00</td>\n",
       "      <td>101.70</td>\n",
       "      <td>0.0</td>\n",
       "      <td>1.128720e+09</td>\n",
       "    </tr>\n",
       "    <tr>\n",
       "      <th>124</th>\n",
       "      <td>2013-06-29</td>\n",
       "      <td>94.66</td>\n",
       "      <td>36376.0</td>\n",
       "      <td>4.519440e+07</td>\n",
       "      <td>60980.0</td>\n",
       "      <td>BTC</td>\n",
       "      <td>Bitcoin</td>\n",
       "      <td>94.66</td>\n",
       "      <td>99.99</td>\n",
       "      <td>93.00</td>\n",
       "      <td>94.99</td>\n",
       "      <td>0.0</td>\n",
       "      <td>1.074010e+09</td>\n",
       "    </tr>\n",
       "    <tr>\n",
       "      <th>126</th>\n",
       "      <td>2013-06-30</td>\n",
       "      <td>95.00</td>\n",
       "      <td>30800.0</td>\n",
       "      <td>3.584930e+07</td>\n",
       "      <td>50485.0</td>\n",
       "      <td>BTC</td>\n",
       "      <td>Bitcoin</td>\n",
       "      <td>95.00</td>\n",
       "      <td>98.12</td>\n",
       "      <td>94.22</td>\n",
       "      <td>96.61</td>\n",
       "      <td>0.0</td>\n",
       "      <td>1.078260e+09</td>\n",
       "    </tr>\n",
       "    <tr>\n",
       "      <th>...</th>\n",
       "      <td>...</td>\n",
       "      <td>...</td>\n",
       "      <td>...</td>\n",
       "      <td>...</td>\n",
       "      <td>...</td>\n",
       "      <td>...</td>\n",
       "      <td>...</td>\n",
       "      <td>...</td>\n",
       "      <td>...</td>\n",
       "      <td>...</td>\n",
       "      <td>...</td>\n",
       "      <td>...</td>\n",
       "      <td>...</td>\n",
       "    </tr>\n",
       "    <tr>\n",
       "      <th>176</th>\n",
       "      <td>2013-07-25</td>\n",
       "      <td>94.50</td>\n",
       "      <td>42384.0</td>\n",
       "      <td>7.153660e+07</td>\n",
       "      <td>66440.0</td>\n",
       "      <td>BTC</td>\n",
       "      <td>Bitcoin</td>\n",
       "      <td>94.50</td>\n",
       "      <td>97.33</td>\n",
       "      <td>93.87</td>\n",
       "      <td>96.90</td>\n",
       "      <td>0.0</td>\n",
       "      <td>1.082800e+09</td>\n",
       "    </tr>\n",
       "    <tr>\n",
       "      <th>178</th>\n",
       "      <td>2013-07-26</td>\n",
       "      <td>96.95</td>\n",
       "      <td>37209.0</td>\n",
       "      <td>7.056459e+07</td>\n",
       "      <td>62558.0</td>\n",
       "      <td>BTC</td>\n",
       "      <td>Bitcoin</td>\n",
       "      <td>96.95</td>\n",
       "      <td>97.47</td>\n",
       "      <td>96.00</td>\n",
       "      <td>96.02</td>\n",
       "      <td>0.0</td>\n",
       "      <td>1.111160e+09</td>\n",
       "    </tr>\n",
       "    <tr>\n",
       "      <th>180</th>\n",
       "      <td>2013-07-27</td>\n",
       "      <td>96.02</td>\n",
       "      <td>36711.0</td>\n",
       "      <td>4.158844e+07</td>\n",
       "      <td>52438.0</td>\n",
       "      <td>BTC</td>\n",
       "      <td>Bitcoin</td>\n",
       "      <td>96.02</td>\n",
       "      <td>97.00</td>\n",
       "      <td>93.00</td>\n",
       "      <td>94.12</td>\n",
       "      <td>0.0</td>\n",
       "      <td>1.100900e+09</td>\n",
       "    </tr>\n",
       "    <tr>\n",
       "      <th>182</th>\n",
       "      <td>2013-07-28</td>\n",
       "      <td>94.40</td>\n",
       "      <td>37134.0</td>\n",
       "      <td>5.463939e+07</td>\n",
       "      <td>49179.0</td>\n",
       "      <td>BTC</td>\n",
       "      <td>Bitcoin</td>\n",
       "      <td>94.40</td>\n",
       "      <td>100.58</td>\n",
       "      <td>94.00</td>\n",
       "      <td>99.76</td>\n",
       "      <td>0.0</td>\n",
       "      <td>1.082750e+09</td>\n",
       "    </tr>\n",
       "    <tr>\n",
       "      <th>184</th>\n",
       "      <td>2013-07-29</td>\n",
       "      <td>98.60</td>\n",
       "      <td>41634.0</td>\n",
       "      <td>7.030931e+07</td>\n",
       "      <td>67473.0</td>\n",
       "      <td>BTC</td>\n",
       "      <td>Bitcoin</td>\n",
       "      <td>98.60</td>\n",
       "      <td>102.50</td>\n",
       "      <td>98.45</td>\n",
       "      <td>101.20</td>\n",
       "      <td>0.0</td>\n",
       "      <td>1.131340e+09</td>\n",
       "    </tr>\n",
       "  </tbody>\n",
       "</table>\n",
       "<p>34 rows × 13 columns</p>\n",
       "</div>"
      ],
      "text/plain": [
       "           date  price  txCount      txVolume  activeAddresses symbol  \\\n",
       "12   2013-05-04  98.10  50102.0  3.896570e+07          69959.0    BTC   \n",
       "98   2013-06-16  99.80  42781.0  4.696943e+07          48785.0    BTC   \n",
       "100  2013-06-17  99.90  45798.0  5.455223e+07          56902.0    BTC   \n",
       "124  2013-06-29  94.66  36376.0  4.519440e+07          60980.0    BTC   \n",
       "126  2013-06-30  95.00  30800.0  3.584930e+07          50485.0    BTC   \n",
       "..          ...    ...      ...           ...              ...    ...   \n",
       "176  2013-07-25  94.50  42384.0  7.153660e+07          66440.0    BTC   \n",
       "178  2013-07-26  96.95  37209.0  7.056459e+07          62558.0    BTC   \n",
       "180  2013-07-27  96.02  36711.0  4.158844e+07          52438.0    BTC   \n",
       "182  2013-07-28  94.40  37134.0  5.463939e+07          49179.0    BTC   \n",
       "184  2013-07-29  98.60  41634.0  7.030931e+07          67473.0    BTC   \n",
       "\n",
       "        name   open    high    low   close  volume        market  \n",
       "12   Bitcoin  98.10  115.00  92.50  112.50     0.0  1.089890e+09  \n",
       "98   Bitcoin  99.80  101.60  98.95   99.51     0.0  1.127120e+09  \n",
       "100  Bitcoin  99.90  102.21  99.00  101.70     0.0  1.128720e+09  \n",
       "124  Bitcoin  94.66   99.99  93.00   94.99     0.0  1.074010e+09  \n",
       "126  Bitcoin  95.00   98.12  94.22   96.61     0.0  1.078260e+09  \n",
       "..       ...    ...     ...    ...     ...     ...           ...  \n",
       "176  Bitcoin  94.50   97.33  93.87   96.90     0.0  1.082800e+09  \n",
       "178  Bitcoin  96.95   97.47  96.00   96.02     0.0  1.111160e+09  \n",
       "180  Bitcoin  96.02   97.00  93.00   94.12     0.0  1.100900e+09  \n",
       "182  Bitcoin  94.40  100.58  94.00   99.76     0.0  1.082750e+09  \n",
       "184  Bitcoin  98.60  102.50  98.45  101.20     0.0  1.131340e+09  \n",
       "\n",
       "[34 rows x 13 columns]"
      ]
     },
     "execution_count": 168,
     "metadata": {},
     "output_type": "execute_result"
    }
   ],
   "source": [
    "# Выбрать из таблицы записи когда цена биткоина была меньше 100 USD\n",
    "coins[(coins['price'] < 100) & (coins['symbol'] == 'BTC')]"
   ]
  },
  {
   "cell_type": "code",
   "execution_count": 169,
   "metadata": {},
   "outputs": [
    {
     "data": {
      "text/plain": [
       "1         9174.0\n",
       "3         9275.0\n",
       "5         9099.0\n",
       "7         8990.0\n",
       "9         8031.0\n",
       "          ...   \n",
       "37277    22879.0\n",
       "37347    22155.0\n",
       "37417    24326.0\n",
       "37487    25172.0\n",
       "37557    25346.0\n",
       "Name: txCount, Length: 1866, dtype: float64"
      ]
     },
     "execution_count": 169,
     "metadata": {},
     "output_type": "execute_result"
    }
   ],
   "source": [
    "# Количество транзакций лайткойна\n",
    "coins['txCount'][coins['symbol'] == 'LTC']"
   ]
  },
  {
   "cell_type": "markdown",
   "metadata": {},
   "source": [
    "**Задание**: У какой монеты была самая высокая цена?"
   ]
  },
  {
   "cell_type": "code",
   "execution_count": 170,
   "metadata": {},
   "outputs": [
    {
     "data": {
      "text/plain": [
       "25971    Bitcoin\n",
       "Name: name, dtype: object"
      ]
     },
     "execution_count": 170,
     "metadata": {},
     "output_type": "execute_result"
    }
   ],
   "source": [
    "coins[coins.price == coins.price.max()]['name']"
   ]
  },
  {
   "cell_type": "markdown",
   "metadata": {},
   "source": [
    "Для таблиц есть индексирование и по строкам и по колонкам."
   ]
  },
  {
   "cell_type": "code",
   "execution_count": 171,
   "metadata": {},
   "outputs": [
    {
     "data": {
      "text/html": [
       "<div>\n",
       "<style scoped>\n",
       "    .dataframe tbody tr th:only-of-type {\n",
       "        vertical-align: middle;\n",
       "    }\n",
       "\n",
       "    .dataframe tbody tr th {\n",
       "        vertical-align: top;\n",
       "    }\n",
       "\n",
       "    .dataframe thead th {\n",
       "        text-align: right;\n",
       "    }\n",
       "</style>\n",
       "<table border=\"1\" class=\"dataframe\">\n",
       "  <thead>\n",
       "    <tr style=\"text-align: right;\">\n",
       "      <th></th>\n",
       "      <th>high</th>\n",
       "      <th>volume</th>\n",
       "    </tr>\n",
       "  </thead>\n",
       "  <tbody>\n",
       "    <tr>\n",
       "      <th>27257</th>\n",
       "      <td>0.015788</td>\n",
       "      <td>283717000.0</td>\n",
       "    </tr>\n",
       "    <tr>\n",
       "      <th>27322</th>\n",
       "      <td>0.018773</td>\n",
       "      <td>288184000.0</td>\n",
       "    </tr>\n",
       "    <tr>\n",
       "      <th>27387</th>\n",
       "      <td>0.017664</td>\n",
       "      <td>235114000.0</td>\n",
       "    </tr>\n",
       "    <tr>\n",
       "      <th>27452</th>\n",
       "      <td>0.015569</td>\n",
       "      <td>115255000.0</td>\n",
       "    </tr>\n",
       "    <tr>\n",
       "      <th>27517</th>\n",
       "      <td>0.013560</td>\n",
       "      <td>100243000.0</td>\n",
       "    </tr>\n",
       "    <tr>\n",
       "      <th>27582</th>\n",
       "      <td>0.013153</td>\n",
       "      <td>62722000.0</td>\n",
       "    </tr>\n",
       "    <tr>\n",
       "      <th>27647</th>\n",
       "      <td>0.013339</td>\n",
       "      <td>56971300.0</td>\n",
       "    </tr>\n",
       "    <tr>\n",
       "      <th>27712</th>\n",
       "      <td>0.013653</td>\n",
       "      <td>55890600.0</td>\n",
       "    </tr>\n",
       "    <tr>\n",
       "      <th>27777</th>\n",
       "      <td>0.013187</td>\n",
       "      <td>65899000.0</td>\n",
       "    </tr>\n",
       "    <tr>\n",
       "      <th>27842</th>\n",
       "      <td>0.011779</td>\n",
       "      <td>62765500.0</td>\n",
       "    </tr>\n",
       "  </tbody>\n",
       "</table>\n",
       "</div>"
      ],
      "text/plain": [
       "           high       volume\n",
       "27257  0.015788  283717000.0\n",
       "27322  0.018773  288184000.0\n",
       "27387  0.017664  235114000.0\n",
       "27452  0.015569  115255000.0\n",
       "27517  0.013560  100243000.0\n",
       "27582  0.013153   62722000.0\n",
       "27647  0.013339   56971300.0\n",
       "27712  0.013653   55890600.0\n",
       "27777  0.013187   65899000.0\n",
       "27842  0.011779   62765500.0"
      ]
     },
     "execution_count": 171,
     "metadata": {},
     "output_type": "execute_result"
    }
   ],
   "source": [
    "# Выбрать из таблицы максимальную цену и объем торгов за дни когда цена дож была выше 1 цента\n",
    "coins.loc[\n",
    "    (coins['symbol'] == 'DOGE') & (coins['price'] > 0.01),\n",
    "    ['high', 'volume']\n",
    "]"
   ]
  },
  {
   "cell_type": "markdown",
   "metadata": {},
   "source": [
    "Начиная с этого момента вы уже можете делать простейшие выборки из данных и немного их преобразовывать. Конечно, не забывайте  использовать help() и tab-completion чтобы узнать больше о возможностях pandas. В голове стоит держать такое правило: если вам очень хочется пройтись циклом по таблице и что-то сделать с данными, очень вероятно, что вы делаете что-то неправильно и, скорее всего, в pandas есть инструмент для вашей задачи. Оставшаяся часть ноутбука посвящена перечислению фич, и может показаться скучной, но не зная этих фич вы каждый раз будете переизобретать велосипед."
   ]
  },
  {
   "cell_type": "markdown",
   "metadata": {},
   "source": [
    "### 2. Глобальные настройки"
   ]
  },
  {
   "cell_type": "markdown",
   "metadata": {},
   "source": [
    "Возможно вам захочется сконфигурировать работу pandas. Большинство глобальных настроек касаются отображения таблицы или данных"
   ]
  },
  {
   "cell_type": "code",
   "execution_count": 172,
   "metadata": {},
   "outputs": [
    {
     "data": {
      "text/plain": [
       "15"
      ]
     },
     "execution_count": 172,
     "metadata": {},
     "output_type": "execute_result"
    }
   ],
   "source": [
    "# Узнать максимальное кол-во отображаемых в таблице с\n",
    "pd.get_option('display.max_columns')"
   ]
  },
  {
   "cell_type": "code",
   "execution_count": 173,
   "metadata": {},
   "outputs": [
    {
     "name": "stdout",
     "output_type": "stream",
     "text": [
      "display.max_columns : int\n",
      "    If max_cols is exceeded, switch to truncate view. Depending on\n",
      "    `large_repr`, objects are either centrally truncated or printed as\n",
      "    a summary view. 'None' value means unlimited.\n",
      "\n",
      "    In case python/IPython is running in a terminal and `large_repr`\n",
      "    equals 'truncate' this can be set to 0 and pandas will auto-detect\n",
      "    the width of the terminal and print a truncated object which fits\n",
      "    the screen width. The IPython notebook, IPython qtconsole, or IDLE\n",
      "    do not run in a terminal and hence it is not possible to do\n",
      "    correct auto-detection.\n",
      "    [default: 20] [currently: 15]\n",
      "\n",
      "\n"
     ]
    }
   ],
   "source": [
    "# Узнать больше про опцию. Список всех опций тут: \n",
    "# https://pandas.pydata.org/pandas-docs/version/0.23.4/options.html#available-options\n",
    "pd.describe_option('display.max_columns')"
   ]
  },
  {
   "cell_type": "code",
   "execution_count": 174,
   "metadata": {},
   "outputs": [],
   "source": [
    "# Назначть максимальное число отображаемых строк\n",
    "pd.set_option('display.max_columns', 15)"
   ]
  },
  {
   "cell_type": "markdown",
   "metadata": {},
   "source": [
    "### 3. Типы данных в pandas"
   ]
  },
  {
   "cell_type": "markdown",
   "metadata": {},
   "source": [
    "В pandas есть два основных типа данных. pandas.Series и pandas.DataFrame."
   ]
  },
  {
   "cell_type": "markdown",
   "metadata": {},
   "source": [
    "#### 3.1 pandas.Series"
   ]
  },
  {
   "cell_type": "markdown",
   "metadata": {},
   "source": [
    "Про pandas.Series стоит думать как про одномерный массив фиксированного размера из данных одного типа. В отличие от массивов доступ к элементам может быть по нечисловому индексу. Индекс стоит понимать как имена строк.\n",
    "\n",
    "Объекты типа pandas.Series очень часто используются как возвращаемые значения в pandas."
   ]
  },
  {
   "cell_type": "code",
   "execution_count": 175,
   "metadata": {},
   "outputs": [
    {
     "data": {
      "text/plain": [
       "array(['BTC', 'LTC', 'DOGE', 'DASH'], dtype='<U4')"
      ]
     },
     "execution_count": 175,
     "metadata": {},
     "output_type": "execute_result"
    }
   ],
   "source": [
    "import numpy as np\n",
    "np.array(['BTC', 'LTC', 'DOGE', 'DASH'])"
   ]
  },
  {
   "cell_type": "code",
   "execution_count": 176,
   "metadata": {},
   "outputs": [
    {
     "data": {
      "text/plain": [
       "0     BTC\n",
       "1     LTC\n",
       "2    DOGE\n",
       "3    DASH\n",
       "dtype: object"
      ]
     },
     "execution_count": 176,
     "metadata": {},
     "output_type": "execute_result"
    }
   ],
   "source": [
    "# pandas.Series хранящий буквы со стандартной индексацией\n",
    "pd.Series(data=['BTC', 'LTC', 'DOGE', 'DASH'])"
   ]
  },
  {
   "cell_type": "code",
   "execution_count": 177,
   "metadata": {},
   "outputs": [
    {
     "data": {
      "text/plain": [
       "first_coin     BTC\n",
       "second_coin    ETH\n",
       "third_coin     XRP\n",
       "dtype: object"
      ]
     },
     "execution_count": 177,
     "metadata": {},
     "output_type": "execute_result"
    }
   ],
   "source": [
    "# pandas.Series хранящий числа типа str cо специальным индексом\n",
    "pd.Series(data=['BTC', 'ETH', 'XRP'], \n",
    "          index=['first_coin', 'second_coin', 'third_coin'], dtype=str)"
   ]
  },
  {
   "cell_type": "code",
   "execution_count": 178,
   "metadata": {},
   "outputs": [
    {
     "data": {
      "text/plain": [
       "first_coin     BTC\n",
       "second_coin    ETH\n",
       "third_coin     XRP\n",
       "dtype: object"
      ]
     },
     "execution_count": 178,
     "metadata": {},
     "output_type": "execute_result"
    }
   ],
   "source": [
    "# pandas.Series созданный из словаря\n",
    "pd.Series({'first_coin': 'BTC', 'second_coin': 'ETH', 'third_coin': 'XRP'})"
   ]
  },
  {
   "cell_type": "code",
   "execution_count": 179,
   "metadata": {},
   "outputs": [
    {
     "data": {
      "text/plain": [
       "0       !\n",
       "1     the\n",
       "2    Moon\n",
       "3      To\n",
       "dtype: object"
      ]
     },
     "execution_count": 179,
     "metadata": {},
     "output_type": "execute_result"
    }
   ],
   "source": [
    "# Стандартная индексация\n",
    "sequence = pd.Series(data=['!', 'the', 'Moon', 'To'])\n",
    "sequence"
   ]
  },
  {
   "cell_type": "code",
   "execution_count": 180,
   "metadata": {},
   "outputs": [
    {
     "data": {
      "text/plain": [
       "0       !\n",
       "2    Moon\n",
       "dtype: object"
      ]
     },
     "execution_count": 180,
     "metadata": {},
     "output_type": "execute_result"
    }
   ],
   "source": [
    "sequence[sequence < \"P\"]"
   ]
  },
  {
   "cell_type": "code",
   "execution_count": 181,
   "metadata": {},
   "outputs": [
    {
     "data": {
      "text/plain": [
       "3      To\n",
       "1     the\n",
       "2    Moon\n",
       "0       !\n",
       "0       !\n",
       "0       !\n",
       "dtype: object"
      ]
     },
     "execution_count": 181,
     "metadata": {},
     "output_type": "execute_result"
    }
   ],
   "source": [
    "sequence[[3, 1, 2, 0, 0, 0]]  # Доступ к нескольким элементам по их позициям "
   ]
  },
  {
   "cell_type": "code",
   "execution_count": 182,
   "metadata": {},
   "outputs": [
    {
     "data": {
      "text/plain": [
       "'To'"
      ]
     },
     "execution_count": 182,
     "metadata": {},
     "output_type": "execute_result"
    }
   ],
   "source": [
    "sequence[3]  # Доступ к элементу по позиции"
   ]
  },
  {
   "cell_type": "code",
   "execution_count": 183,
   "metadata": {},
   "outputs": [],
   "source": [
    "# Спец индексация\n",
    "sequence = pd.Series(data=['!', 'the', 'Moon', 'To'], \n",
    "                     index=['04-11-2018', '02-11-2018', '03-11-2018', '01-11-2018'])"
   ]
  },
  {
   "cell_type": "code",
   "execution_count": 184,
   "metadata": {},
   "outputs": [
    {
     "data": {
      "text/plain": [
       "04-11-2018       !\n",
       "02-11-2018     the\n",
       "03-11-2018    Moon\n",
       "01-11-2018      To\n",
       "dtype: object"
      ]
     },
     "execution_count": 184,
     "metadata": {},
     "output_type": "execute_result"
    }
   ],
   "source": [
    "sequence"
   ]
  },
  {
   "cell_type": "code",
   "execution_count": 185,
   "metadata": {},
   "outputs": [
    {
     "data": {
      "text/plain": [
       "01-11-2018      To\n",
       "02-11-2018     the\n",
       "03-11-2018    Moon\n",
       "04-11-2018       !\n",
       "dtype: object"
      ]
     },
     "execution_count": 185,
     "metadata": {},
     "output_type": "execute_result"
    }
   ],
   "source": [
    "sequence[['01-11-2018', '02-11-2018', '03-11-2018', '04-11-2018']]  # Доступ к нескольким элементам по их индексам"
   ]
  },
  {
   "cell_type": "code",
   "execution_count": 186,
   "metadata": {},
   "outputs": [
    {
     "data": {
      "text/plain": [
       "'To'"
      ]
     },
     "execution_count": 186,
     "metadata": {},
     "output_type": "execute_result"
    }
   ],
   "source": [
    "sequence['01-11-2018']  # Доступ к элементу по индексу"
   ]
  },
  {
   "cell_type": "code",
   "execution_count": 187,
   "metadata": {},
   "outputs": [],
   "source": [
    "# Чтобы не засорять global namespace\n",
    "del sequence"
   ]
  },
  {
   "cell_type": "markdown",
   "metadata": {},
   "source": [
    "#### 3.2 pandas.DataFrame"
   ]
  },
  {
   "cell_type": "markdown",
   "metadata": {},
   "source": [
    "Данные типа pandas.DataFrame это двумерный массив (переменного размера) разнородных данных (но однородных по колонкам). Лучше всего предстаставлять себе pandas.DataFrame как набор колонок, где каждая колонка это pandas.Series."
   ]
  },
  {
   "cell_type": "code",
   "execution_count": 188,
   "metadata": {},
   "outputs": [
    {
     "data": {
      "text/html": [
       "<div>\n",
       "<style scoped>\n",
       "    .dataframe tbody tr th:only-of-type {\n",
       "        vertical-align: middle;\n",
       "    }\n",
       "\n",
       "    .dataframe tbody tr th {\n",
       "        vertical-align: top;\n",
       "    }\n",
       "\n",
       "    .dataframe thead th {\n",
       "        text-align: right;\n",
       "    }\n",
       "</style>\n",
       "<table border=\"1\" class=\"dataframe\">\n",
       "  <thead>\n",
       "    <tr style=\"text-align: right;\">\n",
       "      <th></th>\n",
       "      <th>0</th>\n",
       "    </tr>\n",
       "  </thead>\n",
       "  <tbody>\n",
       "    <tr>\n",
       "      <th>0</th>\n",
       "      <td>BTC</td>\n",
       "    </tr>\n",
       "    <tr>\n",
       "      <th>1</th>\n",
       "      <td>LTC</td>\n",
       "    </tr>\n",
       "    <tr>\n",
       "      <th>2</th>\n",
       "      <td>XRP</td>\n",
       "    </tr>\n",
       "  </tbody>\n",
       "</table>\n",
       "</div>"
      ],
      "text/plain": [
       "     0\n",
       "0  BTC\n",
       "1  LTC\n",
       "2  XRP"
      ]
     },
     "execution_count": 188,
     "metadata": {},
     "output_type": "execute_result"
    }
   ],
   "source": [
    "# Создание простейшей таблицы\n",
    "pd.DataFrame(data=['BTC', 'LTC', 'XRP'])"
   ]
  },
  {
   "cell_type": "code",
   "execution_count": 189,
   "metadata": {},
   "outputs": [
    {
     "data": {
      "text/html": [
       "<div>\n",
       "<style scoped>\n",
       "    .dataframe tbody tr th:only-of-type {\n",
       "        vertical-align: middle;\n",
       "    }\n",
       "\n",
       "    .dataframe tbody tr th {\n",
       "        vertical-align: top;\n",
       "    }\n",
       "\n",
       "    .dataframe thead th {\n",
       "        text-align: right;\n",
       "    }\n",
       "</style>\n",
       "<table border=\"1\" class=\"dataframe\">\n",
       "  <thead>\n",
       "    <tr style=\"text-align: right;\">\n",
       "      <th></th>\n",
       "      <th>symbol</th>\n",
       "      <th>price</th>\n",
       "    </tr>\n",
       "  </thead>\n",
       "  <tbody>\n",
       "    <tr>\n",
       "      <th>0</th>\n",
       "      <td>BTC</td>\n",
       "      <td>10000</td>\n",
       "    </tr>\n",
       "    <tr>\n",
       "      <th>1</th>\n",
       "      <td>LTC</td>\n",
       "      <td>200</td>\n",
       "    </tr>\n",
       "    <tr>\n",
       "      <th>2</th>\n",
       "      <td>XRP</td>\n",
       "      <td>1</td>\n",
       "    </tr>\n",
       "  </tbody>\n",
       "</table>\n",
       "</div>"
      ],
      "text/plain": [
       "  symbol  price\n",
       "0    BTC  10000\n",
       "1    LTC    200\n",
       "2    XRP      1"
      ]
     },
     "execution_count": 189,
     "metadata": {},
     "output_type": "execute_result"
    }
   ],
   "source": [
    "# Cоздание таблицы с именами колонок\n",
    "pd.DataFrame(data=[['BTC', 10000],['LTC', 200],['XRP', 1]], \n",
    "             columns=['symbol', 'price'])"
   ]
  },
  {
   "cell_type": "code",
   "execution_count": 190,
   "metadata": {},
   "outputs": [
    {
     "data": {
      "text/html": [
       "<div>\n",
       "<style scoped>\n",
       "    .dataframe tbody tr th:only-of-type {\n",
       "        vertical-align: middle;\n",
       "    }\n",
       "\n",
       "    .dataframe tbody tr th {\n",
       "        vertical-align: top;\n",
       "    }\n",
       "\n",
       "    .dataframe thead th {\n",
       "        text-align: right;\n",
       "    }\n",
       "</style>\n",
       "<table border=\"1\" class=\"dataframe\">\n",
       "  <thead>\n",
       "    <tr style=\"text-align: right;\">\n",
       "      <th></th>\n",
       "      <th>symbol</th>\n",
       "      <th>price</th>\n",
       "    </tr>\n",
       "  </thead>\n",
       "  <tbody>\n",
       "    <tr>\n",
       "      <th>2018-01-11</th>\n",
       "      <td>BTC</td>\n",
       "      <td>10000</td>\n",
       "    </tr>\n",
       "    <tr>\n",
       "      <th>2018-03-11</th>\n",
       "      <td>LTC</td>\n",
       "      <td>200</td>\n",
       "    </tr>\n",
       "    <tr>\n",
       "      <th>2018-08-23</th>\n",
       "      <td>XRP</td>\n",
       "      <td>1</td>\n",
       "    </tr>\n",
       "  </tbody>\n",
       "</table>\n",
       "</div>"
      ],
      "text/plain": [
       "           symbol  price\n",
       "2018-01-11    BTC  10000\n",
       "2018-03-11    LTC    200\n",
       "2018-08-23    XRP      1"
      ]
     },
     "execution_count": 190,
     "metadata": {},
     "output_type": "execute_result"
    }
   ],
   "source": [
    "# Cоздание таблицы с именами колонок и указанием индекса\n",
    "pd.DataFrame(\n",
    "    data=[['BTC', 10000],['LTC', 200],['XRP', 1]],\n",
    "    columns=['symbol', 'price'],\n",
    "    # DatetimeIndex - это специальный тип данных для индексов содержащих время\n",
    "    index=pd.DatetimeIndex(['01-11-2018', '03-11-2018', '23-08-2018'])\n",
    ")"
   ]
  },
  {
   "cell_type": "code",
   "execution_count": 191,
   "metadata": {},
   "outputs": [
    {
     "data": {
      "text/plain": [
       "'LTC'"
      ]
     },
     "execution_count": 191,
     "metadata": {},
     "output_type": "execute_result"
    }
   ],
   "source": [
    "# Создание по готовым pandas.Series\n",
    "pd.DataFrame({\n",
    "    'symbol': pd.Series(data=['BTC','LTC'], index=pd.DatetimeIndex(['01-11-2018', '05-11-2018'])),\n",
    "    'price': pd.Series(data=[10000, 200], index=pd.DatetimeIndex(['01-11-2018', '05-11-2018']))\n",
    "}).loc['2018-05-11', 'symbol']"
   ]
  },
  {
   "cell_type": "markdown",
   "metadata": {},
   "source": [
    "Некоторые функции в pandas одинково применимы как строкам так и к столбцам. В этом случае, в функцию можно передать фргумент axis. Значение 0 идет по умолчанию и ему соответствует работа по строкам, 1 - по колонкам."
   ]
  },
  {
   "cell_type": "markdown",
   "metadata": {},
   "source": [
    "### 4. Базовые методы pandas.Series"
   ]
  },
  {
   "cell_type": "markdown",
   "metadata": {},
   "source": [
    "Посмотрим на самые базовые методы класса pandas.Series"
   ]
  },
  {
   "cell_type": "code",
   "execution_count": 192,
   "metadata": {},
   "outputs": [],
   "source": [
    "sequence = pd.Series(data=['BTC', 'LTC', 'DOGE', 'DASH'], index=['leader', 'alternative', 'joke', 'bouncer'])"
   ]
  },
  {
   "cell_type": "code",
   "execution_count": 193,
   "metadata": {},
   "outputs": [
    {
     "data": {
      "text/plain": [
       "leader          BTC\n",
       "alternative     LTC\n",
       "joke           DOGE\n",
       "bouncer        DASH\n",
       "dtype: object"
      ]
     },
     "execution_count": 193,
     "metadata": {},
     "output_type": "execute_result"
    }
   ],
   "source": [
    "sequence"
   ]
  },
  {
   "cell_type": "code",
   "execution_count": 194,
   "metadata": {},
   "outputs": [
    {
     "data": {
      "text/plain": [
       "[Index(['leader', 'alternative', 'joke', 'bouncer'], dtype='object')]"
      ]
     },
     "execution_count": 194,
     "metadata": {},
     "output_type": "execute_result"
    }
   ],
   "source": [
    "# Индекс наших данных\n",
    "sequence.axes"
   ]
  },
  {
   "cell_type": "code",
   "execution_count": 195,
   "metadata": {},
   "outputs": [
    {
     "data": {
      "text/plain": [
       "dtype('O')"
      ]
     },
     "execution_count": 195,
     "metadata": {},
     "output_type": "execute_result"
    }
   ],
   "source": [
    "# Тип наших данных\n",
    "sequence.dtype"
   ]
  },
  {
   "cell_type": "code",
   "execution_count": 196,
   "metadata": {},
   "outputs": [
    {
     "data": {
      "text/plain": [
       "False"
      ]
     },
     "execution_count": 196,
     "metadata": {},
     "output_type": "execute_result"
    }
   ],
   "source": [
    "# Проверка на пустоту\n",
    "sequence.empty"
   ]
  },
  {
   "cell_type": "code",
   "execution_count": 197,
   "metadata": {},
   "outputs": [
    {
     "data": {
      "text/plain": [
       "1"
      ]
     },
     "execution_count": 197,
     "metadata": {},
     "output_type": "execute_result"
    }
   ],
   "source": [
    "# Количество размерностей. Для pandas.Series всегда 1\n",
    "sequence.ndim"
   ]
  },
  {
   "cell_type": "code",
   "execution_count": 198,
   "metadata": {},
   "outputs": [
    {
     "data": {
      "text/plain": [
       "4"
      ]
     },
     "execution_count": 198,
     "metadata": {},
     "output_type": "execute_result"
    }
   ],
   "source": [
    "# Количество элементов\n",
    "sequence.size"
   ]
  },
  {
   "cell_type": "code",
   "execution_count": 199,
   "metadata": {},
   "outputs": [
    {
     "data": {
      "text/plain": [
       "(4,)"
      ]
     },
     "execution_count": 199,
     "metadata": {},
     "output_type": "execute_result"
    }
   ],
   "source": [
    "# Размеры\n",
    "sequence.shape"
   ]
  },
  {
   "cell_type": "code",
   "execution_count": 200,
   "metadata": {},
   "outputs": [
    {
     "data": {
      "text/plain": [
       "array(['BTC', 'LTC', 'DOGE', 'DASH'], dtype=object)"
      ]
     },
     "execution_count": 200,
     "metadata": {},
     "output_type": "execute_result"
    }
   ],
   "source": [
    "# Получить данные в виде numpy массива. Низкоуровневое представление с точки зрения pandas\n",
    "sequence.values"
   ]
  },
  {
   "cell_type": "code",
   "execution_count": 201,
   "metadata": {},
   "outputs": [
    {
     "data": {
      "text/plain": [
       "leader          BTC\n",
       "alternative     LTC\n",
       "joke           DOGE\n",
       "dtype: object"
      ]
     },
     "execution_count": 201,
     "metadata": {},
     "output_type": "execute_result"
    }
   ],
   "source": [
    "# Получить первые 3 элемента\n",
    "sequence.head(3)"
   ]
  },
  {
   "cell_type": "code",
   "execution_count": 202,
   "metadata": {},
   "outputs": [
    {
     "data": {
      "text/plain": [
       "joke       DOGE\n",
       "bouncer    DASH\n",
       "dtype: object"
      ]
     },
     "execution_count": 202,
     "metadata": {},
     "output_type": "execute_result"
    }
   ],
   "source": [
    "# Получить последние 2 элемента\n",
    "sequence.tail(2)"
   ]
  },
  {
   "cell_type": "code",
   "execution_count": 203,
   "metadata": {},
   "outputs": [],
   "source": [
    "del sequence"
   ]
  },
  {
   "cell_type": "markdown",
   "metadata": {},
   "source": [
    "### 5. Базовые методы pandas.DataFrame"
   ]
  },
  {
   "cell_type": "markdown",
   "metadata": {},
   "source": [
    "Класс DataFrame огромен. Мы рассмотрим только самые часто используемые в нем методы"
   ]
  },
  {
   "cell_type": "code",
   "execution_count": 204,
   "metadata": {},
   "outputs": [],
   "source": [
    "table = pd.DataFrame(\n",
    "    data=[['BTC', 10000],['LTC', 200],['XRP', 1]],\n",
    "    columns=['symbol', 'price'],\n",
    "    # DatetimeIndex - это специальный тип данных для индексов содержащих время\n",
    "    index=pd.DatetimeIndex(['01-11-2018', '03-11-2018', '23-08-2018'])\n",
    ")"
   ]
  },
  {
   "cell_type": "code",
   "execution_count": 205,
   "metadata": {},
   "outputs": [
    {
     "data": {
      "text/html": [
       "<div>\n",
       "<style scoped>\n",
       "    .dataframe tbody tr th:only-of-type {\n",
       "        vertical-align: middle;\n",
       "    }\n",
       "\n",
       "    .dataframe tbody tr th {\n",
       "        vertical-align: top;\n",
       "    }\n",
       "\n",
       "    .dataframe thead th {\n",
       "        text-align: right;\n",
       "    }\n",
       "</style>\n",
       "<table border=\"1\" class=\"dataframe\">\n",
       "  <thead>\n",
       "    <tr style=\"text-align: right;\">\n",
       "      <th></th>\n",
       "      <th>symbol</th>\n",
       "      <th>price</th>\n",
       "    </tr>\n",
       "  </thead>\n",
       "  <tbody>\n",
       "    <tr>\n",
       "      <th>2018-01-11</th>\n",
       "      <td>BTC</td>\n",
       "      <td>10000</td>\n",
       "    </tr>\n",
       "    <tr>\n",
       "      <th>2018-03-11</th>\n",
       "      <td>LTC</td>\n",
       "      <td>200</td>\n",
       "    </tr>\n",
       "    <tr>\n",
       "      <th>2018-08-23</th>\n",
       "      <td>XRP</td>\n",
       "      <td>1</td>\n",
       "    </tr>\n",
       "  </tbody>\n",
       "</table>\n",
       "</div>"
      ],
      "text/plain": [
       "           symbol  price\n",
       "2018-01-11    BTC  10000\n",
       "2018-03-11    LTC    200\n",
       "2018-08-23    XRP      1"
      ]
     },
     "execution_count": 205,
     "metadata": {},
     "output_type": "execute_result"
    }
   ],
   "source": [
    "table"
   ]
  },
  {
   "cell_type": "code",
   "execution_count": 206,
   "metadata": {},
   "outputs": [
    {
     "data": {
      "text/html": [
       "<div>\n",
       "<style scoped>\n",
       "    .dataframe tbody tr th:only-of-type {\n",
       "        vertical-align: middle;\n",
       "    }\n",
       "\n",
       "    .dataframe tbody tr th {\n",
       "        vertical-align: top;\n",
       "    }\n",
       "\n",
       "    .dataframe thead th {\n",
       "        text-align: right;\n",
       "    }\n",
       "</style>\n",
       "<table border=\"1\" class=\"dataframe\">\n",
       "  <thead>\n",
       "    <tr style=\"text-align: right;\">\n",
       "      <th></th>\n",
       "      <th>2018-01-11 00:00:00</th>\n",
       "      <th>2018-03-11 00:00:00</th>\n",
       "      <th>2018-08-23 00:00:00</th>\n",
       "    </tr>\n",
       "  </thead>\n",
       "  <tbody>\n",
       "    <tr>\n",
       "      <th>symbol</th>\n",
       "      <td>BTC</td>\n",
       "      <td>LTC</td>\n",
       "      <td>XRP</td>\n",
       "    </tr>\n",
       "    <tr>\n",
       "      <th>price</th>\n",
       "      <td>10000</td>\n",
       "      <td>200</td>\n",
       "      <td>1</td>\n",
       "    </tr>\n",
       "  </tbody>\n",
       "</table>\n",
       "</div>"
      ],
      "text/plain": [
       "       2018-01-11 2018-03-11 2018-08-23\n",
       "symbol        BTC        LTC        XRP\n",
       "price       10000        200          1"
      ]
     },
     "execution_count": 206,
     "metadata": {},
     "output_type": "execute_result"
    }
   ],
   "source": [
    "# Транспонировать таблицу\n",
    "table.T"
   ]
  },
  {
   "cell_type": "code",
   "execution_count": 207,
   "metadata": {},
   "outputs": [
    {
     "data": {
      "text/plain": [
       "[DatetimeIndex(['2018-01-11', '2018-03-11', '2018-08-23'], dtype='datetime64[ns]', freq=None),\n",
       " Index(['symbol', 'price'], dtype='object')]"
      ]
     },
     "execution_count": 207,
     "metadata": {},
     "output_type": "execute_result"
    }
   ],
   "source": [
    "# Получить индексы срок и столбцов\n",
    "table.axes"
   ]
  },
  {
   "cell_type": "code",
   "execution_count": 208,
   "metadata": {},
   "outputs": [
    {
     "data": {
      "text/plain": [
       "symbol    object\n",
       "price      int64\n",
       "dtype: object"
      ]
     },
     "execution_count": 208,
     "metadata": {},
     "output_type": "execute_result"
    }
   ],
   "source": [
    "# Получить типы данных в колонках\n",
    "table.dtypes"
   ]
  },
  {
   "cell_type": "code",
   "execution_count": 209,
   "metadata": {},
   "outputs": [
    {
     "data": {
      "text/plain": [
       "False"
      ]
     },
     "execution_count": 209,
     "metadata": {},
     "output_type": "execute_result"
    }
   ],
   "source": [
    "# Проверка на пустоту\n",
    "table.empty"
   ]
  },
  {
   "cell_type": "code",
   "execution_count": 210,
   "metadata": {},
   "outputs": [
    {
     "data": {
      "text/plain": [
       "(3, 2)"
      ]
     },
     "execution_count": 210,
     "metadata": {},
     "output_type": "execute_result"
    }
   ],
   "source": [
    "# Размеры\n",
    "table.shape"
   ]
  },
  {
   "cell_type": "code",
   "execution_count": 211,
   "metadata": {},
   "outputs": [
    {
     "data": {
      "text/plain": [
       "6"
      ]
     },
     "execution_count": 211,
     "metadata": {},
     "output_type": "execute_result"
    }
   ],
   "source": [
    "# Количество элементов\n",
    "table.size"
   ]
  },
  {
   "cell_type": "code",
   "execution_count": 212,
   "metadata": {},
   "outputs": [
    {
     "data": {
      "text/plain": [
       "array([['BTC', 10000],\n",
       "       ['LTC', 200],\n",
       "       ['XRP', 1]], dtype=object)"
      ]
     },
     "execution_count": 212,
     "metadata": {},
     "output_type": "execute_result"
    }
   ],
   "source": [
    "# Низкоуровневое представление таблицы\n",
    "table.values"
   ]
  },
  {
   "cell_type": "code",
   "execution_count": 213,
   "metadata": {},
   "outputs": [
    {
     "data": {
      "text/html": [
       "<div>\n",
       "<style scoped>\n",
       "    .dataframe tbody tr th:only-of-type {\n",
       "        vertical-align: middle;\n",
       "    }\n",
       "\n",
       "    .dataframe tbody tr th {\n",
       "        vertical-align: top;\n",
       "    }\n",
       "\n",
       "    .dataframe thead th {\n",
       "        text-align: right;\n",
       "    }\n",
       "</style>\n",
       "<table border=\"1\" class=\"dataframe\">\n",
       "  <thead>\n",
       "    <tr style=\"text-align: right;\">\n",
       "      <th></th>\n",
       "      <th>symbol</th>\n",
       "      <th>price</th>\n",
       "    </tr>\n",
       "  </thead>\n",
       "  <tbody>\n",
       "    <tr>\n",
       "      <th>2018-01-11</th>\n",
       "      <td>BTC</td>\n",
       "      <td>10000</td>\n",
       "    </tr>\n",
       "    <tr>\n",
       "      <th>2018-03-11</th>\n",
       "      <td>LTC</td>\n",
       "      <td>200</td>\n",
       "    </tr>\n",
       "    <tr>\n",
       "      <th>2018-08-23</th>\n",
       "      <td>XRP</td>\n",
       "      <td>1</td>\n",
       "    </tr>\n",
       "  </tbody>\n",
       "</table>\n",
       "</div>"
      ],
      "text/plain": [
       "           symbol  price\n",
       "2018-01-11    BTC  10000\n",
       "2018-03-11    LTC    200\n",
       "2018-08-23    XRP      1"
      ]
     },
     "execution_count": 213,
     "metadata": {},
     "output_type": "execute_result"
    }
   ],
   "source": [
    "# Получить первые 3 строки\n",
    "table.head(3)"
   ]
  },
  {
   "cell_type": "code",
   "execution_count": 214,
   "metadata": {},
   "outputs": [
    {
     "data": {
      "text/html": [
       "<div>\n",
       "<style scoped>\n",
       "    .dataframe tbody tr th:only-of-type {\n",
       "        vertical-align: middle;\n",
       "    }\n",
       "\n",
       "    .dataframe tbody tr th {\n",
       "        vertical-align: top;\n",
       "    }\n",
       "\n",
       "    .dataframe thead th {\n",
       "        text-align: right;\n",
       "    }\n",
       "</style>\n",
       "<table border=\"1\" class=\"dataframe\">\n",
       "  <thead>\n",
       "    <tr style=\"text-align: right;\">\n",
       "      <th></th>\n",
       "      <th>symbol</th>\n",
       "      <th>price</th>\n",
       "    </tr>\n",
       "  </thead>\n",
       "  <tbody>\n",
       "    <tr>\n",
       "      <th>2018-03-11</th>\n",
       "      <td>LTC</td>\n",
       "      <td>200</td>\n",
       "    </tr>\n",
       "    <tr>\n",
       "      <th>2018-08-23</th>\n",
       "      <td>XRP</td>\n",
       "      <td>1</td>\n",
       "    </tr>\n",
       "  </tbody>\n",
       "</table>\n",
       "</div>"
      ],
      "text/plain": [
       "           symbol  price\n",
       "2018-03-11    LTC    200\n",
       "2018-08-23    XRP      1"
      ]
     },
     "execution_count": 214,
     "metadata": {},
     "output_type": "execute_result"
    }
   ],
   "source": [
    "# Получить последние 2 строки\n",
    "table.tail(2)"
   ]
  },
  {
   "cell_type": "code",
   "execution_count": 215,
   "metadata": {},
   "outputs": [],
   "source": [
    "del table"
   ]
  },
  {
   "cell_type": "markdown",
   "metadata": {},
   "source": [
    "### 6. Работа со строками и столбцами"
   ]
  },
  {
   "cell_type": "markdown",
   "metadata": {},
   "source": [
    "Обращаться к строкам таблицы можно по номеру или по индексу"
   ]
  },
  {
   "cell_type": "code",
   "execution_count": 216,
   "metadata": {},
   "outputs": [],
   "source": [
    "table = pd.DataFrame(\n",
    "    data=[['BTC', 10000],['LTC', 200],['XRP', 1], ['BTC', 9000]],\n",
    "    columns=['symbol', 'price'],\n",
    "    # DatetimeIndex - это специальный тип данных для индексов содержащих время\n",
    "    index=pd.DatetimeIndex(['01-11-2018', '03-11-2018', '23-08-2018', '02-11-2018'])\n",
    ")"
   ]
  },
  {
   "cell_type": "code",
   "execution_count": 217,
   "metadata": {},
   "outputs": [
    {
     "data": {
      "text/html": [
       "<div>\n",
       "<style scoped>\n",
       "    .dataframe tbody tr th:only-of-type {\n",
       "        vertical-align: middle;\n",
       "    }\n",
       "\n",
       "    .dataframe tbody tr th {\n",
       "        vertical-align: top;\n",
       "    }\n",
       "\n",
       "    .dataframe thead th {\n",
       "        text-align: right;\n",
       "    }\n",
       "</style>\n",
       "<table border=\"1\" class=\"dataframe\">\n",
       "  <thead>\n",
       "    <tr style=\"text-align: right;\">\n",
       "      <th></th>\n",
       "      <th>symbol</th>\n",
       "      <th>price</th>\n",
       "    </tr>\n",
       "  </thead>\n",
       "  <tbody>\n",
       "    <tr>\n",
       "      <th>2018-01-11</th>\n",
       "      <td>BTC</td>\n",
       "      <td>10000</td>\n",
       "    </tr>\n",
       "    <tr>\n",
       "      <th>2018-03-11</th>\n",
       "      <td>LTC</td>\n",
       "      <td>200</td>\n",
       "    </tr>\n",
       "    <tr>\n",
       "      <th>2018-08-23</th>\n",
       "      <td>XRP</td>\n",
       "      <td>1</td>\n",
       "    </tr>\n",
       "    <tr>\n",
       "      <th>2018-02-11</th>\n",
       "      <td>BTC</td>\n",
       "      <td>9000</td>\n",
       "    </tr>\n",
       "  </tbody>\n",
       "</table>\n",
       "</div>"
      ],
      "text/plain": [
       "           symbol  price\n",
       "2018-01-11    BTC  10000\n",
       "2018-03-11    LTC    200\n",
       "2018-08-23    XRP      1\n",
       "2018-02-11    BTC   9000"
      ]
     },
     "execution_count": 217,
     "metadata": {},
     "output_type": "execute_result"
    }
   ],
   "source": [
    "table"
   ]
  },
  {
   "cell_type": "markdown",
   "metadata": {},
   "source": [
    "#### 6.1. Доступ к элементам"
   ]
  },
  {
   "cell_type": "code",
   "execution_count": 218,
   "metadata": {},
   "outputs": [
    {
     "data": {
      "text/plain": [
       "symbol    XRP\n",
       "price       1\n",
       "Name: 2018-08-23 00:00:00, dtype: object"
      ]
     },
     "execution_count": 218,
     "metadata": {},
     "output_type": "execute_result"
    }
   ],
   "source": [
    "# Обращение по номеру\n",
    "table.iloc[2, 0:2]"
   ]
  },
  {
   "cell_type": "code",
   "execution_count": 219,
   "metadata": {},
   "outputs": [
    {
     "data": {
      "text/html": [
       "<div>\n",
       "<style scoped>\n",
       "    .dataframe tbody tr th:only-of-type {\n",
       "        vertical-align: middle;\n",
       "    }\n",
       "\n",
       "    .dataframe tbody tr th {\n",
       "        vertical-align: top;\n",
       "    }\n",
       "\n",
       "    .dataframe thead th {\n",
       "        text-align: right;\n",
       "    }\n",
       "</style>\n",
       "<table border=\"1\" class=\"dataframe\">\n",
       "  <thead>\n",
       "    <tr style=\"text-align: right;\">\n",
       "      <th></th>\n",
       "      <th>symbol</th>\n",
       "    </tr>\n",
       "  </thead>\n",
       "  <tbody>\n",
       "    <tr>\n",
       "      <th>2018-03-11</th>\n",
       "      <td>LTC</td>\n",
       "    </tr>\n",
       "    <tr>\n",
       "      <th>2018-08-23</th>\n",
       "      <td>XRP</td>\n",
       "    </tr>\n",
       "  </tbody>\n",
       "</table>\n",
       "</div>"
      ],
      "text/plain": [
       "           symbol\n",
       "2018-03-11    LTC\n",
       "2018-08-23    XRP"
      ]
     },
     "execution_count": 219,
     "metadata": {},
     "output_type": "execute_result"
    }
   ],
   "source": [
    "# Обращение по диапазону номеров\n",
    "table.iloc[1:3, 0:1]"
   ]
  },
  {
   "cell_type": "code",
   "execution_count": 220,
   "metadata": {},
   "outputs": [
    {
     "data": {
      "text/plain": [
       "symbol    BTC\n",
       "Name: 2018-01-11 00:00:00, dtype: object"
      ]
     },
     "execution_count": 220,
     "metadata": {},
     "output_type": "execute_result"
    }
   ],
   "source": [
    "# Обращение по индексу\n",
    "table.loc[pd.Timestamp('01-11-2018'),['symbol']]"
   ]
  },
  {
   "cell_type": "code",
   "execution_count": 221,
   "metadata": {},
   "outputs": [
    {
     "data": {
      "text/html": [
       "<div>\n",
       "<style scoped>\n",
       "    .dataframe tbody tr th:only-of-type {\n",
       "        vertical-align: middle;\n",
       "    }\n",
       "\n",
       "    .dataframe tbody tr th {\n",
       "        vertical-align: top;\n",
       "    }\n",
       "\n",
       "    .dataframe thead th {\n",
       "        text-align: right;\n",
       "    }\n",
       "</style>\n",
       "<table border=\"1\" class=\"dataframe\">\n",
       "  <thead>\n",
       "    <tr style=\"text-align: right;\">\n",
       "      <th></th>\n",
       "      <th>symbol</th>\n",
       "      <th>price</th>\n",
       "    </tr>\n",
       "  </thead>\n",
       "  <tbody>\n",
       "    <tr>\n",
       "      <th>2018-01-11</th>\n",
       "      <td>BTC</td>\n",
       "      <td>10000</td>\n",
       "    </tr>\n",
       "    <tr>\n",
       "      <th>2018-03-11</th>\n",
       "      <td>LTC</td>\n",
       "      <td>200</td>\n",
       "    </tr>\n",
       "    <tr>\n",
       "      <th>2018-08-23</th>\n",
       "      <td>XRP</td>\n",
       "      <td>1</td>\n",
       "    </tr>\n",
       "    <tr>\n",
       "      <th>2018-02-11</th>\n",
       "      <td>BTC</td>\n",
       "      <td>9000</td>\n",
       "    </tr>\n",
       "  </tbody>\n",
       "</table>\n",
       "</div>"
      ],
      "text/plain": [
       "           symbol  price\n",
       "2018-01-11    BTC  10000\n",
       "2018-03-11    LTC    200\n",
       "2018-08-23    XRP      1\n",
       "2018-02-11    BTC   9000"
      ]
     },
     "execution_count": 221,
     "metadata": {},
     "output_type": "execute_result"
    }
   ],
   "source": [
    "# Обращение по диапазону индексов\n",
    "table.loc['01-11-2018':'03-11-2019']"
   ]
  },
  {
   "cell_type": "markdown",
   "metadata": {},
   "source": [
    "#### 6.2. Добавление, удаление, переименование колонок и строк"
   ]
  },
  {
   "cell_type": "code",
   "execution_count": 222,
   "metadata": {},
   "outputs": [
    {
     "data": {
      "text/html": [
       "<div>\n",
       "<style scoped>\n",
       "    .dataframe tbody tr th:only-of-type {\n",
       "        vertical-align: middle;\n",
       "    }\n",
       "\n",
       "    .dataframe tbody tr th {\n",
       "        vertical-align: top;\n",
       "    }\n",
       "\n",
       "    .dataframe thead th {\n",
       "        text-align: right;\n",
       "    }\n",
       "</style>\n",
       "<table border=\"1\" class=\"dataframe\">\n",
       "  <thead>\n",
       "    <tr style=\"text-align: right;\">\n",
       "      <th></th>\n",
       "      <th>symbol</th>\n",
       "      <th>price</th>\n",
       "    </tr>\n",
       "  </thead>\n",
       "  <tbody>\n",
       "    <tr>\n",
       "      <th>2018-01-11</th>\n",
       "      <td>BTC</td>\n",
       "      <td>10000</td>\n",
       "    </tr>\n",
       "    <tr>\n",
       "      <th>2018-03-11</th>\n",
       "      <td>LTC</td>\n",
       "      <td>200</td>\n",
       "    </tr>\n",
       "    <tr>\n",
       "      <th>2018-08-23</th>\n",
       "      <td>XRP</td>\n",
       "      <td>1</td>\n",
       "    </tr>\n",
       "    <tr>\n",
       "      <th>2018-02-11</th>\n",
       "      <td>BTC</td>\n",
       "      <td>9000</td>\n",
       "    </tr>\n",
       "  </tbody>\n",
       "</table>\n",
       "</div>"
      ],
      "text/plain": [
       "           symbol  price\n",
       "2018-01-11    BTC  10000\n",
       "2018-03-11    LTC    200\n",
       "2018-08-23    XRP      1\n",
       "2018-02-11    BTC   9000"
      ]
     },
     "execution_count": 222,
     "metadata": {},
     "output_type": "execute_result"
    }
   ],
   "source": [
    "table"
   ]
  },
  {
   "cell_type": "code",
   "execution_count": 223,
   "metadata": {},
   "outputs": [
    {
     "data": {
      "text/html": [
       "<div>\n",
       "<style scoped>\n",
       "    .dataframe tbody tr th:only-of-type {\n",
       "        vertical-align: middle;\n",
       "    }\n",
       "\n",
       "    .dataframe tbody tr th {\n",
       "        vertical-align: top;\n",
       "    }\n",
       "\n",
       "    .dataframe thead th {\n",
       "        text-align: right;\n",
       "    }\n",
       "</style>\n",
       "<table border=\"1\" class=\"dataframe\">\n",
       "  <thead>\n",
       "    <tr style=\"text-align: right;\">\n",
       "      <th></th>\n",
       "      <th>symbol</th>\n",
       "      <th>price</th>\n",
       "    </tr>\n",
       "  </thead>\n",
       "  <tbody>\n",
       "    <tr>\n",
       "      <th>2018-03-11</th>\n",
       "      <td>LTC</td>\n",
       "      <td>200</td>\n",
       "    </tr>\n",
       "    <tr>\n",
       "      <th>2018-02-11</th>\n",
       "      <td>BTC</td>\n",
       "      <td>9000</td>\n",
       "    </tr>\n",
       "  </tbody>\n",
       "</table>\n",
       "</div>"
      ],
      "text/plain": [
       "           symbol  price\n",
       "2018-03-11    LTC    200\n",
       "2018-02-11    BTC   9000"
      ]
     },
     "execution_count": 223,
     "metadata": {},
     "output_type": "execute_result"
    }
   ],
   "source": [
    "# Удаление строк по их индексам. Можно использовать для удаления колонок, указав axis=1\n",
    "# Посмотрите еще методы drop_duplicates and dropna\n",
    "table.drop([pd.Timestamp('2018-08-23'), pd.Timestamp('2018-01-11')])"
   ]
  },
  {
   "cell_type": "code",
   "execution_count": 224,
   "metadata": {},
   "outputs": [
    {
     "data": {
      "text/html": [
       "<div>\n",
       "<style scoped>\n",
       "    .dataframe tbody tr th:only-of-type {\n",
       "        vertical-align: middle;\n",
       "    }\n",
       "\n",
       "    .dataframe tbody tr th {\n",
       "        vertical-align: top;\n",
       "    }\n",
       "\n",
       "    .dataframe thead th {\n",
       "        text-align: right;\n",
       "    }\n",
       "</style>\n",
       "<table border=\"1\" class=\"dataframe\">\n",
       "  <thead>\n",
       "    <tr style=\"text-align: right;\">\n",
       "      <th></th>\n",
       "      <th>symbol</th>\n",
       "      <th>price</th>\n",
       "    </tr>\n",
       "  </thead>\n",
       "  <tbody>\n",
       "    <tr>\n",
       "      <th>2018-01-11</th>\n",
       "      <td>BTC</td>\n",
       "      <td>10000</td>\n",
       "    </tr>\n",
       "    <tr>\n",
       "      <th>2018-03-11</th>\n",
       "      <td>LTC</td>\n",
       "      <td>200</td>\n",
       "    </tr>\n",
       "    <tr>\n",
       "      <th>2018-08-23</th>\n",
       "      <td>XRP</td>\n",
       "      <td>1</td>\n",
       "    </tr>\n",
       "    <tr>\n",
       "      <th>2018-02-11</th>\n",
       "      <td>BTC</td>\n",
       "      <td>9000</td>\n",
       "    </tr>\n",
       "  </tbody>\n",
       "</table>\n",
       "</div>"
      ],
      "text/plain": [
       "           symbol  price\n",
       "2018-01-11    BTC  10000\n",
       "2018-03-11    LTC    200\n",
       "2018-08-23    XRP      1\n",
       "2018-02-11    BTC   9000"
      ]
     },
     "execution_count": 224,
     "metadata": {},
     "output_type": "execute_result"
    }
   ],
   "source": [
    "# Чтобы добавить новую колонку достаточно присвоить ей значение\n",
    "\n",
    "table"
   ]
  },
  {
   "cell_type": "code",
   "execution_count": 225,
   "metadata": {},
   "outputs": [
    {
     "ename": "KeyError",
     "evalue": "'volume'",
     "output_type": "error",
     "traceback": [
      "\u001b[1;31m---------------------------------------------------------------------------\u001b[0m",
      "\u001b[1;31mKeyError\u001b[0m                                  Traceback (most recent call last)",
      "\u001b[1;32mc:\\users\\antekov\\appdata\\local\\programs\\python\\python36\\lib\\site-packages\\pandas\\core\\indexes\\base.py\u001b[0m in \u001b[0;36mget_loc\u001b[1;34m(self, key, method, tolerance)\u001b[0m\n\u001b[0;32m   2524\u001b[0m             \u001b[1;32mtry\u001b[0m\u001b[1;33m:\u001b[0m\u001b[1;33m\u001b[0m\u001b[0m\n\u001b[1;32m-> 2525\u001b[1;33m                 \u001b[1;32mreturn\u001b[0m \u001b[0mself\u001b[0m\u001b[1;33m.\u001b[0m\u001b[0m_engine\u001b[0m\u001b[1;33m.\u001b[0m\u001b[0mget_loc\u001b[0m\u001b[1;33m(\u001b[0m\u001b[0mkey\u001b[0m\u001b[1;33m)\u001b[0m\u001b[1;33m\u001b[0m\u001b[0m\n\u001b[0m\u001b[0;32m   2526\u001b[0m             \u001b[1;32mexcept\u001b[0m \u001b[0mKeyError\u001b[0m\u001b[1;33m:\u001b[0m\u001b[1;33m\u001b[0m\u001b[0m\n",
      "\u001b[1;32mpandas\\_libs\\index.pyx\u001b[0m in \u001b[0;36mpandas._libs.index.IndexEngine.get_loc\u001b[1;34m()\u001b[0m\n",
      "\u001b[1;32mpandas\\_libs\\index.pyx\u001b[0m in \u001b[0;36mpandas._libs.index.IndexEngine.get_loc\u001b[1;34m()\u001b[0m\n",
      "\u001b[1;32mpandas\\_libs\\hashtable_class_helper.pxi\u001b[0m in \u001b[0;36mpandas._libs.hashtable.PyObjectHashTable.get_item\u001b[1;34m()\u001b[0m\n",
      "\u001b[1;32mpandas\\_libs\\hashtable_class_helper.pxi\u001b[0m in \u001b[0;36mpandas._libs.hashtable.PyObjectHashTable.get_item\u001b[1;34m()\u001b[0m\n",
      "\u001b[1;31mKeyError\u001b[0m: 'volume'",
      "\nDuring handling of the above exception, another exception occurred:\n",
      "\u001b[1;31mKeyError\u001b[0m                                  Traceback (most recent call last)",
      "\u001b[1;32m<ipython-input-225-53ffd8b8c11e>\u001b[0m in \u001b[0;36m<module>\u001b[1;34m\u001b[0m\n\u001b[0;32m      1\u001b[0m \u001b[1;31m# Удалять колонки очень просто\u001b[0m\u001b[1;33m\u001b[0m\u001b[1;33m\u001b[0m\u001b[0m\n\u001b[1;32m----> 2\u001b[1;33m \u001b[1;32mdel\u001b[0m \u001b[0mtable\u001b[0m\u001b[1;33m[\u001b[0m\u001b[1;34m'volume'\u001b[0m\u001b[1;33m]\u001b[0m\u001b[1;33m\u001b[0m\u001b[0m\n\u001b[0m",
      "\u001b[1;32mc:\\users\\antekov\\appdata\\local\\programs\\python\\python36\\lib\\site-packages\\pandas\\core\\generic.py\u001b[0m in \u001b[0;36m__delitem__\u001b[1;34m(self, key)\u001b[0m\n\u001b[0;32m   2094\u001b[0m             \u001b[1;31m# there was no match, this call should raise the appropriate\u001b[0m\u001b[1;33m\u001b[0m\u001b[1;33m\u001b[0m\u001b[0m\n\u001b[0;32m   2095\u001b[0m             \u001b[1;31m# exception:\u001b[0m\u001b[1;33m\u001b[0m\u001b[1;33m\u001b[0m\u001b[0m\n\u001b[1;32m-> 2096\u001b[1;33m             \u001b[0mself\u001b[0m\u001b[1;33m.\u001b[0m\u001b[0m_data\u001b[0m\u001b[1;33m.\u001b[0m\u001b[0mdelete\u001b[0m\u001b[1;33m(\u001b[0m\u001b[0mkey\u001b[0m\u001b[1;33m)\u001b[0m\u001b[1;33m\u001b[0m\u001b[0m\n\u001b[0m\u001b[0;32m   2097\u001b[0m \u001b[1;33m\u001b[0m\u001b[0m\n\u001b[0;32m   2098\u001b[0m         \u001b[1;31m# delete from the caches\u001b[0m\u001b[1;33m\u001b[0m\u001b[1;33m\u001b[0m\u001b[0m\n",
      "\u001b[1;32mc:\\users\\antekov\\appdata\\local\\programs\\python\\python36\\lib\\site-packages\\pandas\\core\\internals.py\u001b[0m in \u001b[0;36mdelete\u001b[1;34m(self, item)\u001b[0m\n\u001b[0;32m   3900\u001b[0m         \u001b[0mDelete\u001b[0m \u001b[0mselected\u001b[0m \u001b[0mitem\u001b[0m \u001b[1;33m(\u001b[0m\u001b[0mitems\u001b[0m \u001b[1;32mif\u001b[0m \u001b[0mnon\u001b[0m\u001b[1;33m-\u001b[0m\u001b[0munique\u001b[0m\u001b[1;33m)\u001b[0m \u001b[1;32min\u001b[0m\u001b[1;33m-\u001b[0m\u001b[0mplace\u001b[0m\u001b[1;33m.\u001b[0m\u001b[1;33m\u001b[0m\u001b[0m\n\u001b[0;32m   3901\u001b[0m         \"\"\"\n\u001b[1;32m-> 3902\u001b[1;33m         \u001b[0mindexer\u001b[0m \u001b[1;33m=\u001b[0m \u001b[0mself\u001b[0m\u001b[1;33m.\u001b[0m\u001b[0mitems\u001b[0m\u001b[1;33m.\u001b[0m\u001b[0mget_loc\u001b[0m\u001b[1;33m(\u001b[0m\u001b[0mitem\u001b[0m\u001b[1;33m)\u001b[0m\u001b[1;33m\u001b[0m\u001b[0m\n\u001b[0m\u001b[0;32m   3903\u001b[0m \u001b[1;33m\u001b[0m\u001b[0m\n\u001b[0;32m   3904\u001b[0m         \u001b[0mis_deleted\u001b[0m \u001b[1;33m=\u001b[0m \u001b[0mnp\u001b[0m\u001b[1;33m.\u001b[0m\u001b[0mzeros\u001b[0m\u001b[1;33m(\u001b[0m\u001b[0mself\u001b[0m\u001b[1;33m.\u001b[0m\u001b[0mshape\u001b[0m\u001b[1;33m[\u001b[0m\u001b[1;36m0\u001b[0m\u001b[1;33m]\u001b[0m\u001b[1;33m,\u001b[0m \u001b[0mdtype\u001b[0m\u001b[1;33m=\u001b[0m\u001b[0mnp\u001b[0m\u001b[1;33m.\u001b[0m\u001b[0mbool_\u001b[0m\u001b[1;33m)\u001b[0m\u001b[1;33m\u001b[0m\u001b[0m\n",
      "\u001b[1;32mc:\\users\\antekov\\appdata\\local\\programs\\python\\python36\\lib\\site-packages\\pandas\\core\\indexes\\base.py\u001b[0m in \u001b[0;36mget_loc\u001b[1;34m(self, key, method, tolerance)\u001b[0m\n\u001b[0;32m   2525\u001b[0m                 \u001b[1;32mreturn\u001b[0m \u001b[0mself\u001b[0m\u001b[1;33m.\u001b[0m\u001b[0m_engine\u001b[0m\u001b[1;33m.\u001b[0m\u001b[0mget_loc\u001b[0m\u001b[1;33m(\u001b[0m\u001b[0mkey\u001b[0m\u001b[1;33m)\u001b[0m\u001b[1;33m\u001b[0m\u001b[0m\n\u001b[0;32m   2526\u001b[0m             \u001b[1;32mexcept\u001b[0m \u001b[0mKeyError\u001b[0m\u001b[1;33m:\u001b[0m\u001b[1;33m\u001b[0m\u001b[0m\n\u001b[1;32m-> 2527\u001b[1;33m                 \u001b[1;32mreturn\u001b[0m \u001b[0mself\u001b[0m\u001b[1;33m.\u001b[0m\u001b[0m_engine\u001b[0m\u001b[1;33m.\u001b[0m\u001b[0mget_loc\u001b[0m\u001b[1;33m(\u001b[0m\u001b[0mself\u001b[0m\u001b[1;33m.\u001b[0m\u001b[0m_maybe_cast_indexer\u001b[0m\u001b[1;33m(\u001b[0m\u001b[0mkey\u001b[0m\u001b[1;33m)\u001b[0m\u001b[1;33m)\u001b[0m\u001b[1;33m\u001b[0m\u001b[0m\n\u001b[0m\u001b[0;32m   2528\u001b[0m \u001b[1;33m\u001b[0m\u001b[0m\n\u001b[0;32m   2529\u001b[0m         \u001b[0mindexer\u001b[0m \u001b[1;33m=\u001b[0m \u001b[0mself\u001b[0m\u001b[1;33m.\u001b[0m\u001b[0mget_indexer\u001b[0m\u001b[1;33m(\u001b[0m\u001b[1;33m[\u001b[0m\u001b[0mkey\u001b[0m\u001b[1;33m]\u001b[0m\u001b[1;33m,\u001b[0m \u001b[0mmethod\u001b[0m\u001b[1;33m=\u001b[0m\u001b[0mmethod\u001b[0m\u001b[1;33m,\u001b[0m \u001b[0mtolerance\u001b[0m\u001b[1;33m=\u001b[0m\u001b[0mtolerance\u001b[0m\u001b[1;33m)\u001b[0m\u001b[1;33m\u001b[0m\u001b[0m\n",
      "\u001b[1;32mpandas\\_libs\\index.pyx\u001b[0m in \u001b[0;36mpandas._libs.index.IndexEngine.get_loc\u001b[1;34m()\u001b[0m\n",
      "\u001b[1;32mpandas\\_libs\\index.pyx\u001b[0m in \u001b[0;36mpandas._libs.index.IndexEngine.get_loc\u001b[1;34m()\u001b[0m\n",
      "\u001b[1;32mpandas\\_libs\\hashtable_class_helper.pxi\u001b[0m in \u001b[0;36mpandas._libs.hashtable.PyObjectHashTable.get_item\u001b[1;34m()\u001b[0m\n",
      "\u001b[1;32mpandas\\_libs\\hashtable_class_helper.pxi\u001b[0m in \u001b[0;36mpandas._libs.hashtable.PyObjectHashTable.get_item\u001b[1;34m()\u001b[0m\n",
      "\u001b[1;31mKeyError\u001b[0m: 'volume'"
     ]
    }
   ],
   "source": [
    "# Удалять колонки очень просто\n",
    "# del table['volume']"
   ]
  },
  {
   "cell_type": "code",
   "execution_count": 226,
   "metadata": {},
   "outputs": [
    {
     "data": {
      "text/html": [
       "<div>\n",
       "<style scoped>\n",
       "    .dataframe tbody tr th:only-of-type {\n",
       "        vertical-align: middle;\n",
       "    }\n",
       "\n",
       "    .dataframe tbody tr th {\n",
       "        vertical-align: top;\n",
       "    }\n",
       "\n",
       "    .dataframe thead th {\n",
       "        text-align: right;\n",
       "    }\n",
       "</style>\n",
       "<table border=\"1\" class=\"dataframe\">\n",
       "  <thead>\n",
       "    <tr style=\"text-align: right;\">\n",
       "      <th></th>\n",
       "      <th>symbol</th>\n",
       "      <th>price</th>\n",
       "    </tr>\n",
       "  </thead>\n",
       "  <tbody>\n",
       "    <tr>\n",
       "      <th>2018-01-11</th>\n",
       "      <td>BTC</td>\n",
       "      <td>10000</td>\n",
       "    </tr>\n",
       "    <tr>\n",
       "      <th>2018-03-11</th>\n",
       "      <td>LTC</td>\n",
       "      <td>200</td>\n",
       "    </tr>\n",
       "    <tr>\n",
       "      <th>2018-08-23</th>\n",
       "      <td>XRP</td>\n",
       "      <td>1</td>\n",
       "    </tr>\n",
       "    <tr>\n",
       "      <th>2018-02-11</th>\n",
       "      <td>BTC</td>\n",
       "      <td>9000</td>\n",
       "    </tr>\n",
       "  </tbody>\n",
       "</table>\n",
       "</div>"
      ],
      "text/plain": [
       "           symbol  price\n",
       "2018-01-11    BTC  10000\n",
       "2018-03-11    LTC    200\n",
       "2018-08-23    XRP      1\n",
       "2018-02-11    BTC   9000"
      ]
     },
     "execution_count": 226,
     "metadata": {},
     "output_type": "execute_result"
    }
   ],
   "source": [
    "table['volume'] = [1e9, 1e6, 1e4, 1e9]\n",
    "table = table.drop('volume', axis=1)\n",
    "table"
   ]
  },
  {
   "cell_type": "code",
   "execution_count": 227,
   "metadata": {},
   "outputs": [
    {
     "data": {
      "text/html": [
       "<div>\n",
       "<style scoped>\n",
       "    .dataframe tbody tr th:only-of-type {\n",
       "        vertical-align: middle;\n",
       "    }\n",
       "\n",
       "    .dataframe tbody tr th {\n",
       "        vertical-align: top;\n",
       "    }\n",
       "\n",
       "    .dataframe thead th {\n",
       "        text-align: right;\n",
       "    }\n",
       "</style>\n",
       "<table border=\"1\" class=\"dataframe\">\n",
       "  <thead>\n",
       "    <tr style=\"text-align: right;\">\n",
       "      <th></th>\n",
       "      <th>symbol</th>\n",
       "      <th>price</th>\n",
       "    </tr>\n",
       "  </thead>\n",
       "  <tbody>\n",
       "    <tr>\n",
       "      <th>2018-01-11</th>\n",
       "      <td>BTC</td>\n",
       "      <td>10000</td>\n",
       "    </tr>\n",
       "    <tr>\n",
       "      <th>2018-03-11</th>\n",
       "      <td>LTC</td>\n",
       "      <td>200</td>\n",
       "    </tr>\n",
       "    <tr>\n",
       "      <th>2018-08-23</th>\n",
       "      <td>XRP</td>\n",
       "      <td>1</td>\n",
       "    </tr>\n",
       "    <tr>\n",
       "      <th>2018-02-11</th>\n",
       "      <td>BTC</td>\n",
       "      <td>9000</td>\n",
       "    </tr>\n",
       "  </tbody>\n",
       "</table>\n",
       "</div>"
      ],
      "text/plain": [
       "           symbol  price\n",
       "2018-01-11    BTC  10000\n",
       "2018-03-11    LTC    200\n",
       "2018-08-23    XRP      1\n",
       "2018-02-11    BTC   9000"
      ]
     },
     "execution_count": 227,
     "metadata": {},
     "output_type": "execute_result"
    }
   ],
   "source": [
    "table"
   ]
  },
  {
   "cell_type": "code",
   "execution_count": 228,
   "metadata": {},
   "outputs": [
    {
     "data": {
      "text/html": [
       "<div>\n",
       "<style scoped>\n",
       "    .dataframe tbody tr th:only-of-type {\n",
       "        vertical-align: middle;\n",
       "    }\n",
       "\n",
       "    .dataframe tbody tr th {\n",
       "        vertical-align: top;\n",
       "    }\n",
       "\n",
       "    .dataframe thead th {\n",
       "        text-align: right;\n",
       "    }\n",
       "</style>\n",
       "<table border=\"1\" class=\"dataframe\">\n",
       "  <thead>\n",
       "    <tr style=\"text-align: right;\">\n",
       "      <th></th>\n",
       "      <th>STRING</th>\n",
       "      <th>number</th>\n",
       "    </tr>\n",
       "  </thead>\n",
       "  <tbody>\n",
       "    <tr>\n",
       "      <th>I</th>\n",
       "      <td>A</td>\n",
       "      <td>1</td>\n",
       "    </tr>\n",
       "    <tr>\n",
       "      <th>J</th>\n",
       "      <td>B</td>\n",
       "      <td>2</td>\n",
       "    </tr>\n",
       "    <tr>\n",
       "      <th>z</th>\n",
       "      <td>C</td>\n",
       "      <td>3</td>\n",
       "    </tr>\n",
       "  </tbody>\n",
       "</table>\n",
       "</div>"
      ],
      "text/plain": [
       "  STRING  number\n",
       "I      A       1\n",
       "J      B       2\n",
       "z      C       3"
      ]
     },
     "execution_count": 228,
     "metadata": {},
     "output_type": "execute_result"
    }
   ],
   "source": [
    "pd.DataFrame(data=[['A', 1], ['B', 2], ['C', 3]], index=['x', 'y', 'z'], columns=['text', 'number']).rename(\n",
    "    index = {'x': 'I', 'y': 'J', 'k': 'K'},\n",
    "    columns = {'text': 'STRING'}\n",
    ")"
   ]
  },
  {
   "cell_type": "code",
   "execution_count": 229,
   "metadata": {},
   "outputs": [
    {
     "data": {
      "text/html": [
       "<div>\n",
       "<style scoped>\n",
       "    .dataframe tbody tr th:only-of-type {\n",
       "        vertical-align: middle;\n",
       "    }\n",
       "\n",
       "    .dataframe tbody tr th {\n",
       "        vertical-align: top;\n",
       "    }\n",
       "\n",
       "    .dataframe thead th {\n",
       "        text-align: right;\n",
       "    }\n",
       "</style>\n",
       "<table border=\"1\" class=\"dataframe\">\n",
       "  <thead>\n",
       "    <tr style=\"text-align: right;\">\n",
       "      <th></th>\n",
       "      <th>Symbol</th>\n",
       "      <th>Price</th>\n",
       "    </tr>\n",
       "  </thead>\n",
       "  <tbody>\n",
       "    <tr>\n",
       "      <th>2018-01-11</th>\n",
       "      <td>BTC</td>\n",
       "      <td>10000</td>\n",
       "    </tr>\n",
       "    <tr>\n",
       "      <th>2018-03-11</th>\n",
       "      <td>LTC</td>\n",
       "      <td>200</td>\n",
       "    </tr>\n",
       "    <tr>\n",
       "      <th>2018-08-23</th>\n",
       "      <td>XRP</td>\n",
       "      <td>1</td>\n",
       "    </tr>\n",
       "    <tr>\n",
       "      <th>2018-02-11</th>\n",
       "      <td>BTC</td>\n",
       "      <td>9000</td>\n",
       "    </tr>\n",
       "  </tbody>\n",
       "</table>\n",
       "</div>"
      ],
      "text/plain": [
       "           Symbol  Price\n",
       "2018-01-11    BTC  10000\n",
       "2018-03-11    LTC    200\n",
       "2018-08-23    XRP      1\n",
       "2018-02-11    BTC   9000"
      ]
     },
     "execution_count": 229,
     "metadata": {},
     "output_type": "execute_result"
    }
   ],
   "source": [
    "# Переименовывание колонок\n",
    "table.rename(columns={'symbol': 'Symbol', 'price': 'Price'})"
   ]
  },
  {
   "cell_type": "code",
   "execution_count": 230,
   "metadata": {},
   "outputs": [
    {
     "data": {
      "text/html": [
       "<div>\n",
       "<style scoped>\n",
       "    .dataframe tbody tr th:only-of-type {\n",
       "        vertical-align: middle;\n",
       "    }\n",
       "\n",
       "    .dataframe tbody tr th {\n",
       "        vertical-align: top;\n",
       "    }\n",
       "\n",
       "    .dataframe thead th {\n",
       "        text-align: right;\n",
       "    }\n",
       "</style>\n",
       "<table border=\"1\" class=\"dataframe\">\n",
       "  <thead>\n",
       "    <tr style=\"text-align: right;\">\n",
       "      <th></th>\n",
       "      <th>symbol</th>\n",
       "      <th>price</th>\n",
       "    </tr>\n",
       "  </thead>\n",
       "  <tbody>\n",
       "    <tr>\n",
       "      <th>2018-01-11</th>\n",
       "      <td>BTC</td>\n",
       "      <td>10000</td>\n",
       "    </tr>\n",
       "    <tr>\n",
       "      <th>2018-03-11</th>\n",
       "      <td>LTC</td>\n",
       "      <td>200</td>\n",
       "    </tr>\n",
       "    <tr>\n",
       "      <th>2018-08-23</th>\n",
       "      <td>XRP</td>\n",
       "      <td>1</td>\n",
       "    </tr>\n",
       "    <tr>\n",
       "      <th>2018-02-11</th>\n",
       "      <td>BTC</td>\n",
       "      <td>9000</td>\n",
       "    </tr>\n",
       "  </tbody>\n",
       "</table>\n",
       "</div>"
      ],
      "text/plain": [
       "           symbol  price\n",
       "2018-01-11    BTC  10000\n",
       "2018-03-11    LTC    200\n",
       "2018-08-23    XRP      1\n",
       "2018-02-11    BTC   9000"
      ]
     },
     "execution_count": 230,
     "metadata": {},
     "output_type": "execute_result"
    }
   ],
   "source": [
    "table.rename({'symbol': 'Symbol', 'price': 'Price'}, axis=0)"
   ]
  },
  {
   "cell_type": "markdown",
   "metadata": {},
   "source": [
    "#### 6.3. Итерирование"
   ]
  },
  {
   "cell_type": "markdown",
   "metadata": {},
   "source": [
    "Итерироваться по таблице можно разными способами, но обычно так не стоит делать и лучше написать решение в виде манипуляций над столбцами/колонками "
   ]
  },
  {
   "cell_type": "code",
   "execution_count": 231,
   "metadata": {},
   "outputs": [
    {
     "name": "stdout",
     "output_type": "stream",
     "text": [
      "BTC\n",
      "symbol\n",
      "10000\n",
      "price\n"
     ]
    }
   ],
   "source": [
    "# По колонкам\n",
    "for column in table:\n",
    "    print(table[column][0])\n",
    "    print(column)"
   ]
  },
  {
   "cell_type": "code",
   "execution_count": 232,
   "metadata": {},
   "outputs": [
    {
     "name": "stdout",
     "output_type": "stream",
     "text": [
      "symbol\n",
      "2018-01-11    BTC\n",
      "2018-03-11    LTC\n",
      "2018-08-23    XRP\n",
      "2018-02-11    BTC\n",
      "Name: symbol, dtype: object\n",
      "price\n",
      "2018-01-11    10000\n",
      "2018-03-11      200\n",
      "2018-08-23        1\n",
      "2018-02-11     9000\n",
      "Name: price, dtype: int64\n"
     ]
    }
   ],
   "source": [
    "# По колонкам как по словарю. Значения в \"словаре\" это pandas.Series\n",
    "for column, series in table.iteritems():\n",
    "    print(column)\n",
    "    print(series)"
   ]
  },
  {
   "cell_type": "code",
   "execution_count": 233,
   "metadata": {
    "scrolled": true
   },
   "outputs": [
    {
     "name": "stdout",
     "output_type": "stream",
     "text": [
      "2018-01-11 00:00:00\n",
      "symbol      BTC\n",
      "price     10000\n",
      "Name: 2018-01-11 00:00:00, dtype: object\n",
      "2018-03-11 00:00:00\n",
      "symbol    LTC\n",
      "price     200\n",
      "Name: 2018-03-11 00:00:00, dtype: object\n",
      "2018-08-23 00:00:00\n",
      "symbol    XRP\n",
      "price       1\n",
      "Name: 2018-08-23 00:00:00, dtype: object\n",
      "2018-02-11 00:00:00\n",
      "symbol     BTC\n",
      "price     9000\n",
      "Name: 2018-02-11 00:00:00, dtype: object\n"
     ]
    }
   ],
   "source": [
    "# По строкам как по словарю. Значения в \"словаре\" это pandas.Series\n",
    "for index, row in table.iterrows():\n",
    "    print(index)\n",
    "    print(row)"
   ]
  },
  {
   "cell_type": "markdown",
   "metadata": {},
   "source": [
    "#### 6.4. Сортировка"
   ]
  },
  {
   "cell_type": "markdown",
   "metadata": {},
   "source": [
    "Строки и столбцы таблицы можно сортировать. Результат сортирующих методов возвращает новую таблицу!"
   ]
  },
  {
   "cell_type": "code",
   "execution_count": 234,
   "metadata": {},
   "outputs": [
    {
     "data": {
      "text/html": [
       "<div>\n",
       "<style scoped>\n",
       "    .dataframe tbody tr th:only-of-type {\n",
       "        vertical-align: middle;\n",
       "    }\n",
       "\n",
       "    .dataframe tbody tr th {\n",
       "        vertical-align: top;\n",
       "    }\n",
       "\n",
       "    .dataframe thead th {\n",
       "        text-align: right;\n",
       "    }\n",
       "</style>\n",
       "<table border=\"1\" class=\"dataframe\">\n",
       "  <thead>\n",
       "    <tr style=\"text-align: right;\">\n",
       "      <th></th>\n",
       "      <th>symbol</th>\n",
       "      <th>price</th>\n",
       "    </tr>\n",
       "  </thead>\n",
       "  <tbody>\n",
       "    <tr>\n",
       "      <th>2018-01-11</th>\n",
       "      <td>BTC</td>\n",
       "      <td>10000</td>\n",
       "    </tr>\n",
       "    <tr>\n",
       "      <th>2018-03-11</th>\n",
       "      <td>LTC</td>\n",
       "      <td>200</td>\n",
       "    </tr>\n",
       "    <tr>\n",
       "      <th>2018-08-23</th>\n",
       "      <td>XRP</td>\n",
       "      <td>1</td>\n",
       "    </tr>\n",
       "    <tr>\n",
       "      <th>2018-02-11</th>\n",
       "      <td>BTC</td>\n",
       "      <td>9000</td>\n",
       "    </tr>\n",
       "  </tbody>\n",
       "</table>\n",
       "</div>"
      ],
      "text/plain": [
       "           symbol  price\n",
       "2018-01-11    BTC  10000\n",
       "2018-03-11    LTC    200\n",
       "2018-08-23    XRP      1\n",
       "2018-02-11    BTC   9000"
      ]
     },
     "execution_count": 234,
     "metadata": {},
     "output_type": "execute_result"
    }
   ],
   "source": [
    "table"
   ]
  },
  {
   "cell_type": "code",
   "execution_count": 235,
   "metadata": {},
   "outputs": [],
   "source": [
    "# Отсортировать строки по индексу по убыванию\n",
    "table.sort_index(ascending=False, inplace=True)"
   ]
  },
  {
   "cell_type": "code",
   "execution_count": 236,
   "metadata": {},
   "outputs": [
    {
     "data": {
      "text/html": [
       "<div>\n",
       "<style scoped>\n",
       "    .dataframe tbody tr th:only-of-type {\n",
       "        vertical-align: middle;\n",
       "    }\n",
       "\n",
       "    .dataframe tbody tr th {\n",
       "        vertical-align: top;\n",
       "    }\n",
       "\n",
       "    .dataframe thead th {\n",
       "        text-align: right;\n",
       "    }\n",
       "</style>\n",
       "<table border=\"1\" class=\"dataframe\">\n",
       "  <thead>\n",
       "    <tr style=\"text-align: right;\">\n",
       "      <th></th>\n",
       "      <th>symbol</th>\n",
       "      <th>price</th>\n",
       "    </tr>\n",
       "  </thead>\n",
       "  <tbody>\n",
       "    <tr>\n",
       "      <th>2018-08-23</th>\n",
       "      <td>XRP</td>\n",
       "      <td>1</td>\n",
       "    </tr>\n",
       "    <tr>\n",
       "      <th>2018-03-11</th>\n",
       "      <td>LTC</td>\n",
       "      <td>200</td>\n",
       "    </tr>\n",
       "    <tr>\n",
       "      <th>2018-02-11</th>\n",
       "      <td>BTC</td>\n",
       "      <td>9000</td>\n",
       "    </tr>\n",
       "    <tr>\n",
       "      <th>2018-01-11</th>\n",
       "      <td>BTC</td>\n",
       "      <td>10000</td>\n",
       "    </tr>\n",
       "  </tbody>\n",
       "</table>\n",
       "</div>"
      ],
      "text/plain": [
       "           symbol  price\n",
       "2018-08-23    XRP      1\n",
       "2018-03-11    LTC    200\n",
       "2018-02-11    BTC   9000\n",
       "2018-01-11    BTC  10000"
      ]
     },
     "execution_count": 236,
     "metadata": {},
     "output_type": "execute_result"
    }
   ],
   "source": [
    "table"
   ]
  },
  {
   "cell_type": "code",
   "execution_count": 237,
   "metadata": {},
   "outputs": [
    {
     "data": {
      "text/html": [
       "<div>\n",
       "<style scoped>\n",
       "    .dataframe tbody tr th:only-of-type {\n",
       "        vertical-align: middle;\n",
       "    }\n",
       "\n",
       "    .dataframe tbody tr th {\n",
       "        vertical-align: top;\n",
       "    }\n",
       "\n",
       "    .dataframe thead th {\n",
       "        text-align: right;\n",
       "    }\n",
       "</style>\n",
       "<table border=\"1\" class=\"dataframe\">\n",
       "  <thead>\n",
       "    <tr style=\"text-align: right;\">\n",
       "      <th></th>\n",
       "      <th>price</th>\n",
       "      <th>symbol</th>\n",
       "    </tr>\n",
       "  </thead>\n",
       "  <tbody>\n",
       "    <tr>\n",
       "      <th>2018-08-23</th>\n",
       "      <td>1</td>\n",
       "      <td>XRP</td>\n",
       "    </tr>\n",
       "    <tr>\n",
       "      <th>2018-03-11</th>\n",
       "      <td>200</td>\n",
       "      <td>LTC</td>\n",
       "    </tr>\n",
       "    <tr>\n",
       "      <th>2018-02-11</th>\n",
       "      <td>9000</td>\n",
       "      <td>BTC</td>\n",
       "    </tr>\n",
       "    <tr>\n",
       "      <th>2018-01-11</th>\n",
       "      <td>10000</td>\n",
       "      <td>BTC</td>\n",
       "    </tr>\n",
       "  </tbody>\n",
       "</table>\n",
       "</div>"
      ],
      "text/plain": [
       "            price symbol\n",
       "2018-08-23      1    XRP\n",
       "2018-03-11    200    LTC\n",
       "2018-02-11   9000    BTC\n",
       "2018-01-11  10000    BTC"
      ]
     },
     "execution_count": 237,
     "metadata": {},
     "output_type": "execute_result"
    }
   ],
   "source": [
    "# Отсортировать колонки по возрастанию\n",
    "table.sort_index(axis=1, ascending=True)"
   ]
  },
  {
   "cell_type": "code",
   "execution_count": 238,
   "metadata": {},
   "outputs": [
    {
     "data": {
      "text/html": [
       "<div>\n",
       "<style scoped>\n",
       "    .dataframe tbody tr th:only-of-type {\n",
       "        vertical-align: middle;\n",
       "    }\n",
       "\n",
       "    .dataframe tbody tr th {\n",
       "        vertical-align: top;\n",
       "    }\n",
       "\n",
       "    .dataframe thead th {\n",
       "        text-align: right;\n",
       "    }\n",
       "</style>\n",
       "<table border=\"1\" class=\"dataframe\">\n",
       "  <thead>\n",
       "    <tr style=\"text-align: right;\">\n",
       "      <th></th>\n",
       "      <th>symbol</th>\n",
       "      <th>price</th>\n",
       "    </tr>\n",
       "  </thead>\n",
       "  <tbody>\n",
       "    <tr>\n",
       "      <th>2018-02-11</th>\n",
       "      <td>BTC</td>\n",
       "      <td>9000</td>\n",
       "    </tr>\n",
       "    <tr>\n",
       "      <th>2018-01-11</th>\n",
       "      <td>BTC</td>\n",
       "      <td>10000</td>\n",
       "    </tr>\n",
       "    <tr>\n",
       "      <th>2018-03-11</th>\n",
       "      <td>LTC</td>\n",
       "      <td>200</td>\n",
       "    </tr>\n",
       "    <tr>\n",
       "      <th>2018-08-23</th>\n",
       "      <td>XRP</td>\n",
       "      <td>1</td>\n",
       "    </tr>\n",
       "  </tbody>\n",
       "</table>\n",
       "</div>"
      ],
      "text/plain": [
       "           symbol  price\n",
       "2018-02-11    BTC   9000\n",
       "2018-01-11    BTC  10000\n",
       "2018-03-11    LTC    200\n",
       "2018-08-23    XRP      1"
      ]
     },
     "execution_count": 238,
     "metadata": {},
     "output_type": "execute_result"
    }
   ],
   "source": [
    "# Отсортировать таблицу алгоритмом quicksort по названию, а если значения равны то по цене\n",
    "table.sort_values(by=['symbol', 'price'], kind='quicksort')"
   ]
  },
  {
   "cell_type": "code",
   "execution_count": 239,
   "metadata": {},
   "outputs": [],
   "source": [
    "#del table, index, row, column, series"
   ]
  },
  {
   "cell_type": "markdown",
   "metadata": {},
   "source": [
    "### 7. Статистические функции"
   ]
  },
  {
   "cell_type": "markdown",
   "metadata": {},
   "source": [
    "Посмотрим как pandas позволяет вычислять простейшие статистики для датасетов. Методы которые мы перечислим ниже имеют аргумет axis, который указывает вдоль какой оси надо вычислять статистику. Обычно, по-умолчанию axis=0, что соответсвует вычислениям по строкам. Если в данных есть пропуски, то они не учитываются при вычислении статистик!"
   ]
  },
  {
   "cell_type": "code",
   "execution_count": 240,
   "metadata": {},
   "outputs": [],
   "source": [
    "earnings = pd.DataFrame(\n",
    "    data=[[7629.39, -9357.49, -1661.3, 8597.23],\n",
    "          [560.68, None, 10.46, 3578.5],\n",
    "          [487.38, 7560.38, 1090.87, -5164.93]],\n",
    "    columns=['BTC', 'DOGE', 'ADA', 'ETH'],\n",
    "    index=['yesterday', 'today', 'tomorrow']\n",
    ")"
   ]
  },
  {
   "cell_type": "code",
   "execution_count": 241,
   "metadata": {},
   "outputs": [
    {
     "data": {
      "text/html": [
       "<div>\n",
       "<style scoped>\n",
       "    .dataframe tbody tr th:only-of-type {\n",
       "        vertical-align: middle;\n",
       "    }\n",
       "\n",
       "    .dataframe tbody tr th {\n",
       "        vertical-align: top;\n",
       "    }\n",
       "\n",
       "    .dataframe thead th {\n",
       "        text-align: right;\n",
       "    }\n",
       "</style>\n",
       "<table border=\"1\" class=\"dataframe\">\n",
       "  <thead>\n",
       "    <tr style=\"text-align: right;\">\n",
       "      <th></th>\n",
       "      <th>BTC</th>\n",
       "      <th>DOGE</th>\n",
       "      <th>ADA</th>\n",
       "      <th>ETH</th>\n",
       "    </tr>\n",
       "  </thead>\n",
       "  <tbody>\n",
       "    <tr>\n",
       "      <th>yesterday</th>\n",
       "      <td>7629.39</td>\n",
       "      <td>-9357.49</td>\n",
       "      <td>-1661.30</td>\n",
       "      <td>8597.23</td>\n",
       "    </tr>\n",
       "    <tr>\n",
       "      <th>today</th>\n",
       "      <td>560.68</td>\n",
       "      <td>NaN</td>\n",
       "      <td>10.46</td>\n",
       "      <td>3578.50</td>\n",
       "    </tr>\n",
       "    <tr>\n",
       "      <th>tomorrow</th>\n",
       "      <td>487.38</td>\n",
       "      <td>7560.38</td>\n",
       "      <td>1090.87</td>\n",
       "      <td>-5164.93</td>\n",
       "    </tr>\n",
       "  </tbody>\n",
       "</table>\n",
       "</div>"
      ],
      "text/plain": [
       "               BTC     DOGE      ADA      ETH\n",
       "yesterday  7629.39 -9357.49 -1661.30  8597.23\n",
       "today       560.68      NaN    10.46  3578.50\n",
       "tomorrow    487.38  7560.38  1090.87 -5164.93"
      ]
     },
     "execution_count": 241,
     "metadata": {},
     "output_type": "execute_result"
    }
   ],
   "source": [
    "earnings"
   ]
  },
  {
   "cell_type": "code",
   "execution_count": 242,
   "metadata": {},
   "outputs": [
    {
     "data": {
      "text/plain": [
       "BTC     3\n",
       "DOGE    2\n",
       "ADA     3\n",
       "ETH     3\n",
       "dtype: int64"
      ]
     },
     "execution_count": 242,
     "metadata": {},
     "output_type": "execute_result"
    }
   ],
   "source": [
    "# Количество не None записей для каждой монеты\n",
    "earnings.count()"
   ]
  },
  {
   "cell_type": "code",
   "execution_count": 243,
   "metadata": {},
   "outputs": [
    {
     "data": {
      "text/plain": [
       "yesterday    5207.83\n",
       "today        4149.64\n",
       "tomorrow     3973.70\n",
       "dtype: float64"
      ]
     },
     "execution_count": 243,
     "metadata": {},
     "output_type": "execute_result"
    }
   ],
   "source": [
    "# Заработки по дням\n",
    "earnings.sum(axis=1)"
   ]
  },
  {
   "cell_type": "code",
   "execution_count": 244,
   "metadata": {},
   "outputs": [
    {
     "data": {
      "text/plain": [
       "BTC     2892.483333\n",
       "DOGE    -898.555000\n",
       "ADA     -186.656667\n",
       "ETH     2336.933333\n",
       "dtype: float64"
      ]
     },
     "execution_count": 244,
     "metadata": {},
     "output_type": "execute_result"
    }
   ],
   "source": [
    "# Средний заработок по каждой монете\n",
    "earnings.mean()"
   ]
  },
  {
   "cell_type": "code",
   "execution_count": 245,
   "metadata": {},
   "outputs": [],
   "source": [
    "wages = pd.Series(data = [10000]*100 + [100000]*50 + [200000]*50 + [1000000000] + [500000000])"
   ]
  },
  {
   "cell_type": "code",
   "execution_count": 246,
   "metadata": {},
   "outputs": [
    {
     "data": {
      "text/plain": [
       "yesterday    2984.045\n",
       "today         560.680\n",
       "tomorrow      789.125\n",
       "dtype: float64"
      ]
     },
     "execution_count": 246,
     "metadata": {},
     "output_type": "execute_result"
    }
   ],
   "source": [
    "# Медианный заработок по каждой монете\n",
    "earnings.median(axis=1)"
   ]
  },
  {
   "cell_type": "code",
   "execution_count": 247,
   "metadata": {},
   "outputs": [
    {
     "data": {
      "text/html": [
       "<div>\n",
       "<style scoped>\n",
       "    .dataframe tbody tr th:only-of-type {\n",
       "        vertical-align: middle;\n",
       "    }\n",
       "\n",
       "    .dataframe tbody tr th {\n",
       "        vertical-align: top;\n",
       "    }\n",
       "\n",
       "    .dataframe thead th {\n",
       "        text-align: right;\n",
       "    }\n",
       "</style>\n",
       "<table border=\"1\" class=\"dataframe\">\n",
       "  <thead>\n",
       "    <tr style=\"text-align: right;\">\n",
       "      <th></th>\n",
       "      <th>BTC</th>\n",
       "      <th>DOGE</th>\n",
       "      <th>ADA</th>\n",
       "      <th>ETH</th>\n",
       "    </tr>\n",
       "  </thead>\n",
       "  <tbody>\n",
       "    <tr>\n",
       "      <th>0</th>\n",
       "      <td>487.38</td>\n",
       "      <td>-9357.49</td>\n",
       "      <td>-1661.30</td>\n",
       "      <td>-5164.93</td>\n",
       "    </tr>\n",
       "    <tr>\n",
       "      <th>1</th>\n",
       "      <td>560.68</td>\n",
       "      <td>7560.38</td>\n",
       "      <td>10.46</td>\n",
       "      <td>3578.50</td>\n",
       "    </tr>\n",
       "    <tr>\n",
       "      <th>2</th>\n",
       "      <td>7629.39</td>\n",
       "      <td>NaN</td>\n",
       "      <td>1090.87</td>\n",
       "      <td>8597.23</td>\n",
       "    </tr>\n",
       "  </tbody>\n",
       "</table>\n",
       "</div>"
      ],
      "text/plain": [
       "       BTC     DOGE      ADA      ETH\n",
       "0   487.38 -9357.49 -1661.30 -5164.93\n",
       "1   560.68  7560.38    10.46  3578.50\n",
       "2  7629.39      NaN  1090.87  8597.23"
      ]
     },
     "execution_count": 247,
     "metadata": {},
     "output_type": "execute_result"
    }
   ],
   "source": [
    "# Моды заработка по каждой монете\n",
    "earnings.mode(axis=0)"
   ]
  },
  {
   "cell_type": "code",
   "execution_count": 248,
   "metadata": {},
   "outputs": [
    {
     "data": {
      "text/plain": [
       "BTC      4102.445222\n",
       "DOGE    11962.740600\n",
       "ADA      1386.633031\n",
       "ETH      6964.580232\n",
       "dtype: float64"
      ]
     },
     "execution_count": 248,
     "metadata": {},
     "output_type": "execute_result"
    }
   ],
   "source": [
    "# \"Разброс\" заработка по каждой монете\n",
    "earnings.std()"
   ]
  },
  {
   "cell_type": "code",
   "execution_count": 249,
   "metadata": {},
   "outputs": [
    {
     "data": {
      "text/html": [
       "<div>\n",
       "<style scoped>\n",
       "    .dataframe tbody tr th:only-of-type {\n",
       "        vertical-align: middle;\n",
       "    }\n",
       "\n",
       "    .dataframe tbody tr th {\n",
       "        vertical-align: top;\n",
       "    }\n",
       "\n",
       "    .dataframe thead th {\n",
       "        text-align: right;\n",
       "    }\n",
       "</style>\n",
       "<table border=\"1\" class=\"dataframe\">\n",
       "  <thead>\n",
       "    <tr style=\"text-align: right;\">\n",
       "      <th></th>\n",
       "      <th>BTC</th>\n",
       "      <th>DOGE</th>\n",
       "      <th>ADA</th>\n",
       "      <th>ETH</th>\n",
       "    </tr>\n",
       "  </thead>\n",
       "  <tbody>\n",
       "    <tr>\n",
       "      <th>0.25</th>\n",
       "      <td>524.030</td>\n",
       "      <td>-5128.0225</td>\n",
       "      <td>-825.420</td>\n",
       "      <td>-793.215</td>\n",
       "    </tr>\n",
       "    <tr>\n",
       "      <th>0.50</th>\n",
       "      <td>560.680</td>\n",
       "      <td>-898.5550</td>\n",
       "      <td>10.460</td>\n",
       "      <td>3578.500</td>\n",
       "    </tr>\n",
       "    <tr>\n",
       "      <th>0.75</th>\n",
       "      <td>4095.035</td>\n",
       "      <td>3330.9125</td>\n",
       "      <td>550.665</td>\n",
       "      <td>6087.865</td>\n",
       "    </tr>\n",
       "  </tbody>\n",
       "</table>\n",
       "</div>"
      ],
      "text/plain": [
       "           BTC       DOGE      ADA       ETH\n",
       "0.25   524.030 -5128.0225 -825.420  -793.215\n",
       "0.50   560.680  -898.5550   10.460  3578.500\n",
       "0.75  4095.035  3330.9125  550.665  6087.865"
      ]
     },
     "execution_count": 249,
     "metadata": {},
     "output_type": "execute_result"
    }
   ],
   "source": [
    "# 25, 50 и 75 квантиль заработка по каждой монете\n",
    "earnings.quantile(q=(0.25, 0.5, 0.75))"
   ]
  },
  {
   "cell_type": "code",
   "execution_count": 250,
   "metadata": {},
   "outputs": [
    {
     "data": {
      "text/plain": [
       "BTC      487.38\n",
       "DOGE   -9357.49\n",
       "ADA    -1661.30\n",
       "ETH    -5164.93\n",
       "dtype: float64"
      ]
     },
     "execution_count": 250,
     "metadata": {},
     "output_type": "execute_result"
    }
   ],
   "source": [
    "# Минимальный заработок по каждой монете\n",
    "earnings.min()"
   ]
  },
  {
   "cell_type": "code",
   "execution_count": 251,
   "metadata": {},
   "outputs": [
    {
     "data": {
      "text/plain": [
       "BTC     7629.39\n",
       "DOGE    7560.38\n",
       "ADA     1090.87\n",
       "ETH     8597.23\n",
       "dtype: float64"
      ]
     },
     "execution_count": 251,
     "metadata": {},
     "output_type": "execute_result"
    }
   ],
   "source": [
    "# Максимальный заработок по каждой монете\n",
    "earnings.max()"
   ]
  },
  {
   "cell_type": "code",
   "execution_count": 252,
   "metadata": {},
   "outputs": [
    {
     "data": {
      "text/html": [
       "<div>\n",
       "<style scoped>\n",
       "    .dataframe tbody tr th:only-of-type {\n",
       "        vertical-align: middle;\n",
       "    }\n",
       "\n",
       "    .dataframe tbody tr th {\n",
       "        vertical-align: top;\n",
       "    }\n",
       "\n",
       "    .dataframe thead th {\n",
       "        text-align: right;\n",
       "    }\n",
       "</style>\n",
       "<table border=\"1\" class=\"dataframe\">\n",
       "  <thead>\n",
       "    <tr style=\"text-align: right;\">\n",
       "      <th></th>\n",
       "      <th>BTC</th>\n",
       "      <th>DOGE</th>\n",
       "      <th>ADA</th>\n",
       "      <th>ETH</th>\n",
       "    </tr>\n",
       "  </thead>\n",
       "  <tbody>\n",
       "    <tr>\n",
       "      <th>yesterday</th>\n",
       "      <td>7629.39</td>\n",
       "      <td>-9357.49</td>\n",
       "      <td>-1661.30</td>\n",
       "      <td>8597.23</td>\n",
       "    </tr>\n",
       "    <tr>\n",
       "      <th>today</th>\n",
       "      <td>560.68</td>\n",
       "      <td>NaN</td>\n",
       "      <td>10.46</td>\n",
       "      <td>3578.50</td>\n",
       "    </tr>\n",
       "    <tr>\n",
       "      <th>tomorrow</th>\n",
       "      <td>487.38</td>\n",
       "      <td>7560.38</td>\n",
       "      <td>1090.87</td>\n",
       "      <td>-5164.93</td>\n",
       "    </tr>\n",
       "  </tbody>\n",
       "</table>\n",
       "</div>"
      ],
      "text/plain": [
       "               BTC     DOGE      ADA      ETH\n",
       "yesterday  7629.39 -9357.49 -1661.30  8597.23\n",
       "today       560.68      NaN    10.46  3578.50\n",
       "tomorrow    487.38  7560.38  1090.87 -5164.93"
      ]
     },
     "execution_count": 252,
     "metadata": {},
     "output_type": "execute_result"
    }
   ],
   "source": [
    "earnings"
   ]
  },
  {
   "cell_type": "code",
   "execution_count": 253,
   "metadata": {},
   "outputs": [
    {
     "data": {
      "text/plain": [
       "BTC     2.084839e+09\n",
       "DOGE   -7.074618e+07\n",
       "ADA    -1.895626e+07\n",
       "ETH    -1.589000e+11\n",
       "dtype: float64"
      ]
     },
     "execution_count": 253,
     "metadata": {},
     "output_type": "execute_result"
    }
   ],
   "source": [
    "# Произвдение заработков по каждой монете. Да я знаю, что это бессмысленно\n",
    "earnings.prod()"
   ]
  },
  {
   "cell_type": "code",
   "execution_count": 254,
   "metadata": {},
   "outputs": [
    {
     "data": {
      "text/html": [
       "<div>\n",
       "<style scoped>\n",
       "    .dataframe tbody tr th:only-of-type {\n",
       "        vertical-align: middle;\n",
       "    }\n",
       "\n",
       "    .dataframe tbody tr th {\n",
       "        vertical-align: top;\n",
       "    }\n",
       "\n",
       "    .dataframe thead th {\n",
       "        text-align: right;\n",
       "    }\n",
       "</style>\n",
       "<table border=\"1\" class=\"dataframe\">\n",
       "  <thead>\n",
       "    <tr style=\"text-align: right;\">\n",
       "      <th></th>\n",
       "      <th>BTC</th>\n",
       "      <th>DOGE</th>\n",
       "      <th>ADA</th>\n",
       "      <th>ETH</th>\n",
       "    </tr>\n",
       "  </thead>\n",
       "  <tbody>\n",
       "    <tr>\n",
       "      <th>yesterday</th>\n",
       "      <td>7.629390e+03</td>\n",
       "      <td>-9.357490e+03</td>\n",
       "      <td>-1.661300e+03</td>\n",
       "      <td>8.597230e+03</td>\n",
       "    </tr>\n",
       "    <tr>\n",
       "      <th>today</th>\n",
       "      <td>4.277646e+06</td>\n",
       "      <td>NaN</td>\n",
       "      <td>-1.737720e+04</td>\n",
       "      <td>3.076519e+07</td>\n",
       "    </tr>\n",
       "    <tr>\n",
       "      <th>tomorrow</th>\n",
       "      <td>2.084839e+09</td>\n",
       "      <td>-7.074618e+07</td>\n",
       "      <td>-1.895626e+07</td>\n",
       "      <td>-1.589000e+11</td>\n",
       "    </tr>\n",
       "  </tbody>\n",
       "</table>\n",
       "</div>"
      ],
      "text/plain": [
       "                    BTC          DOGE           ADA           ETH\n",
       "yesterday  7.629390e+03 -9.357490e+03 -1.661300e+03  8.597230e+03\n",
       "today      4.277646e+06           NaN -1.737720e+04  3.076519e+07\n",
       "tomorrow   2.084839e+09 -7.074618e+07 -1.895626e+07 -1.589000e+11"
      ]
     },
     "execution_count": 254,
     "metadata": {},
     "output_type": "execute_result"
    }
   ],
   "source": [
    "# Частичные произвдения заработков по каждой монете\n",
    "earnings.cumprod()"
   ]
  },
  {
   "cell_type": "code",
   "execution_count": 255,
   "metadata": {},
   "outputs": [
    {
     "data": {
      "text/html": [
       "<div>\n",
       "<style scoped>\n",
       "    .dataframe tbody tr th:only-of-type {\n",
       "        vertical-align: middle;\n",
       "    }\n",
       "\n",
       "    .dataframe tbody tr th {\n",
       "        vertical-align: top;\n",
       "    }\n",
       "\n",
       "    .dataframe thead th {\n",
       "        text-align: right;\n",
       "    }\n",
       "</style>\n",
       "<table border=\"1\" class=\"dataframe\">\n",
       "  <thead>\n",
       "    <tr style=\"text-align: right;\">\n",
       "      <th></th>\n",
       "      <th>BTC</th>\n",
       "      <th>DOGE</th>\n",
       "      <th>ADA</th>\n",
       "      <th>ETH</th>\n",
       "    </tr>\n",
       "  </thead>\n",
       "  <tbody>\n",
       "    <tr>\n",
       "      <th>yesterday</th>\n",
       "      <td>7629.39</td>\n",
       "      <td>-9357.49</td>\n",
       "      <td>-1661.30</td>\n",
       "      <td>8597.23</td>\n",
       "    </tr>\n",
       "    <tr>\n",
       "      <th>today</th>\n",
       "      <td>560.68</td>\n",
       "      <td>NaN</td>\n",
       "      <td>10.46</td>\n",
       "      <td>3578.50</td>\n",
       "    </tr>\n",
       "    <tr>\n",
       "      <th>tomorrow</th>\n",
       "      <td>487.38</td>\n",
       "      <td>7560.38</td>\n",
       "      <td>1090.87</td>\n",
       "      <td>-5164.93</td>\n",
       "    </tr>\n",
       "  </tbody>\n",
       "</table>\n",
       "</div>"
      ],
      "text/plain": [
       "               BTC     DOGE      ADA      ETH\n",
       "yesterday  7629.39 -9357.49 -1661.30  8597.23\n",
       "today       560.68      NaN    10.46  3578.50\n",
       "tomorrow    487.38  7560.38  1090.87 -5164.93"
      ]
     },
     "execution_count": 255,
     "metadata": {},
     "output_type": "execute_result"
    }
   ],
   "source": [
    "earnings"
   ]
  },
  {
   "cell_type": "code",
   "execution_count": 256,
   "metadata": {},
   "outputs": [
    {
     "data": {
      "text/html": [
       "<div>\n",
       "<style scoped>\n",
       "    .dataframe tbody tr th:only-of-type {\n",
       "        vertical-align: middle;\n",
       "    }\n",
       "\n",
       "    .dataframe tbody tr th {\n",
       "        vertical-align: top;\n",
       "    }\n",
       "\n",
       "    .dataframe thead th {\n",
       "        text-align: right;\n",
       "    }\n",
       "</style>\n",
       "<table border=\"1\" class=\"dataframe\">\n",
       "  <thead>\n",
       "    <tr style=\"text-align: right;\">\n",
       "      <th></th>\n",
       "      <th>BTC</th>\n",
       "      <th>DOGE</th>\n",
       "      <th>ADA</th>\n",
       "      <th>ETH</th>\n",
       "    </tr>\n",
       "  </thead>\n",
       "  <tbody>\n",
       "    <tr>\n",
       "      <th>yesterday</th>\n",
       "      <td>7629.39</td>\n",
       "      <td>-9357.49</td>\n",
       "      <td>-1661.30</td>\n",
       "      <td>8597.23</td>\n",
       "    </tr>\n",
       "    <tr>\n",
       "      <th>today</th>\n",
       "      <td>8190.07</td>\n",
       "      <td>NaN</td>\n",
       "      <td>-1650.84</td>\n",
       "      <td>12175.73</td>\n",
       "    </tr>\n",
       "    <tr>\n",
       "      <th>tomorrow</th>\n",
       "      <td>8677.45</td>\n",
       "      <td>-1797.11</td>\n",
       "      <td>-559.97</td>\n",
       "      <td>7010.80</td>\n",
       "    </tr>\n",
       "  </tbody>\n",
       "</table>\n",
       "</div>"
      ],
      "text/plain": [
       "               BTC     DOGE      ADA       ETH\n",
       "yesterday  7629.39 -9357.49 -1661.30   8597.23\n",
       "today      8190.07      NaN -1650.84  12175.73\n",
       "tomorrow   8677.45 -1797.11  -559.97   7010.80"
      ]
     },
     "execution_count": 256,
     "metadata": {},
     "output_type": "execute_result"
    }
   ],
   "source": [
    "# Частичные суммы заработков по каждой монете\n",
    "earnings.cumsum()"
   ]
  },
  {
   "cell_type": "code",
   "execution_count": 257,
   "metadata": {},
   "outputs": [
    {
     "data": {
      "text/html": [
       "<div>\n",
       "<style scoped>\n",
       "    .dataframe tbody tr th:only-of-type {\n",
       "        vertical-align: middle;\n",
       "    }\n",
       "\n",
       "    .dataframe tbody tr th {\n",
       "        vertical-align: top;\n",
       "    }\n",
       "\n",
       "    .dataframe thead th {\n",
       "        text-align: right;\n",
       "    }\n",
       "</style>\n",
       "<table border=\"1\" class=\"dataframe\">\n",
       "  <thead>\n",
       "    <tr style=\"text-align: right;\">\n",
       "      <th></th>\n",
       "      <th>BTC</th>\n",
       "      <th>DOGE</th>\n",
       "      <th>ADA</th>\n",
       "      <th>ETH</th>\n",
       "    </tr>\n",
       "  </thead>\n",
       "  <tbody>\n",
       "    <tr>\n",
       "      <th>yesterday</th>\n",
       "      <td>NaN</td>\n",
       "      <td>NaN</td>\n",
       "      <td>NaN</td>\n",
       "      <td>NaN</td>\n",
       "    </tr>\n",
       "    <tr>\n",
       "      <th>today</th>\n",
       "      <td>-0.926511</td>\n",
       "      <td>NaN</td>\n",
       "      <td>-1.006296</td>\n",
       "      <td>-0.583761</td>\n",
       "    </tr>\n",
       "    <tr>\n",
       "      <th>tomorrow</th>\n",
       "      <td>-0.130734</td>\n",
       "      <td>-1.80795</td>\n",
       "      <td>103.289675</td>\n",
       "      <td>-2.443323</td>\n",
       "    </tr>\n",
       "  </tbody>\n",
       "</table>\n",
       "</div>"
      ],
      "text/plain": [
       "                BTC     DOGE         ADA       ETH\n",
       "yesterday       NaN      NaN         NaN       NaN\n",
       "today     -0.926511      NaN   -1.006296 -0.583761\n",
       "tomorrow  -0.130734 -1.80795  103.289675 -2.443323"
      ]
     },
     "execution_count": 257,
     "metadata": {},
     "output_type": "execute_result"
    }
   ],
   "source": [
    "# Процентное изменеие заработка по сравнению с предыдущим значением\n",
    "earnings.pct_change()"
   ]
  },
  {
   "cell_type": "code",
   "execution_count": 258,
   "metadata": {},
   "outputs": [
    {
     "data": {
      "text/plain": [
       "-60413798.359349996"
      ]
     },
     "execution_count": 258,
     "metadata": {},
     "output_type": "execute_result"
    }
   ],
   "source": [
    "# Ковариация между заработком по BTC и по DOGE\n",
    "earnings['BTC'].cov(earnings['DOGE'])"
   ]
  },
  {
   "cell_type": "code",
   "execution_count": 259,
   "metadata": {},
   "outputs": [
    {
     "data": {
      "text/plain": [
       "-1.0"
      ]
     },
     "execution_count": 259,
     "metadata": {},
     "output_type": "execute_result"
    }
   ],
   "source": [
    "# Корреляций между заработком по BTC и по DOGE\n",
    "earnings['BTC'].corr(earnings['DOGE'])"
   ]
  },
  {
   "cell_type": "markdown",
   "metadata": {},
   "source": [
    "Иногда хочется посмотреть все статистики сразу. Для этого есть метод describe"
   ]
  },
  {
   "cell_type": "code",
   "execution_count": 260,
   "metadata": {},
   "outputs": [
    {
     "data": {
      "text/html": [
       "<div>\n",
       "<style scoped>\n",
       "    .dataframe tbody tr th:only-of-type {\n",
       "        vertical-align: middle;\n",
       "    }\n",
       "\n",
       "    .dataframe tbody tr th {\n",
       "        vertical-align: top;\n",
       "    }\n",
       "\n",
       "    .dataframe thead th {\n",
       "        text-align: right;\n",
       "    }\n",
       "</style>\n",
       "<table border=\"1\" class=\"dataframe\">\n",
       "  <thead>\n",
       "    <tr style=\"text-align: right;\">\n",
       "      <th></th>\n",
       "      <th>BTC</th>\n",
       "      <th>DOGE</th>\n",
       "      <th>ADA</th>\n",
       "      <th>ETH</th>\n",
       "    </tr>\n",
       "  </thead>\n",
       "  <tbody>\n",
       "    <tr>\n",
       "      <th>count</th>\n",
       "      <td>3.000000</td>\n",
       "      <td>2.0000</td>\n",
       "      <td>3.000000</td>\n",
       "      <td>3.000000</td>\n",
       "    </tr>\n",
       "    <tr>\n",
       "      <th>mean</th>\n",
       "      <td>2892.483333</td>\n",
       "      <td>-898.5550</td>\n",
       "      <td>-186.656667</td>\n",
       "      <td>2336.933333</td>\n",
       "    </tr>\n",
       "    <tr>\n",
       "      <th>std</th>\n",
       "      <td>4102.445222</td>\n",
       "      <td>11962.7406</td>\n",
       "      <td>1386.633031</td>\n",
       "      <td>6964.580232</td>\n",
       "    </tr>\n",
       "    <tr>\n",
       "      <th>min</th>\n",
       "      <td>487.380000</td>\n",
       "      <td>-9357.4900</td>\n",
       "      <td>-1661.300000</td>\n",
       "      <td>-5164.930000</td>\n",
       "    </tr>\n",
       "    <tr>\n",
       "      <th>25%</th>\n",
       "      <td>524.030000</td>\n",
       "      <td>-5128.0225</td>\n",
       "      <td>-825.420000</td>\n",
       "      <td>-793.215000</td>\n",
       "    </tr>\n",
       "    <tr>\n",
       "      <th>50%</th>\n",
       "      <td>560.680000</td>\n",
       "      <td>-898.5550</td>\n",
       "      <td>10.460000</td>\n",
       "      <td>3578.500000</td>\n",
       "    </tr>\n",
       "    <tr>\n",
       "      <th>75%</th>\n",
       "      <td>4095.035000</td>\n",
       "      <td>3330.9125</td>\n",
       "      <td>550.665000</td>\n",
       "      <td>6087.865000</td>\n",
       "    </tr>\n",
       "    <tr>\n",
       "      <th>max</th>\n",
       "      <td>7629.390000</td>\n",
       "      <td>7560.3800</td>\n",
       "      <td>1090.870000</td>\n",
       "      <td>8597.230000</td>\n",
       "    </tr>\n",
       "  </tbody>\n",
       "</table>\n",
       "</div>"
      ],
      "text/plain": [
       "               BTC        DOGE          ADA          ETH\n",
       "count     3.000000      2.0000     3.000000     3.000000\n",
       "mean   2892.483333   -898.5550  -186.656667  2336.933333\n",
       "std    4102.445222  11962.7406  1386.633031  6964.580232\n",
       "min     487.380000  -9357.4900 -1661.300000 -5164.930000\n",
       "25%     524.030000  -5128.0225  -825.420000  -793.215000\n",
       "50%     560.680000   -898.5550    10.460000  3578.500000\n",
       "75%    4095.035000   3330.9125   550.665000  6087.865000\n",
       "max    7629.390000   7560.3800  1090.870000  8597.230000"
      ]
     },
     "execution_count": 260,
     "metadata": {},
     "output_type": "execute_result"
    }
   ],
   "source": [
    "earnings.describe()"
   ]
  },
  {
   "cell_type": "code",
   "execution_count": 261,
   "metadata": {},
   "outputs": [],
   "source": [
    "del earnings"
   ]
  },
  {
   "cell_type": "markdown",
   "metadata": {},
   "source": [
    "### 8. Применение пользовательских функций"
   ]
  },
  {
   "cell_type": "markdown",
   "metadata": {},
   "source": [
    "Иногда хочется применть к датасету или одной его колонке функцию. Применять можно ко всей таблице, поэлементно, поколоночно или построчно"
   ]
  },
  {
   "cell_type": "code",
   "execution_count": 262,
   "metadata": {
    "scrolled": true
   },
   "outputs": [
    {
     "data": {
      "text/html": [
       "<div>\n",
       "<style scoped>\n",
       "    .dataframe tbody tr th:only-of-type {\n",
       "        vertical-align: middle;\n",
       "    }\n",
       "\n",
       "    .dataframe tbody tr th {\n",
       "        vertical-align: top;\n",
       "    }\n",
       "\n",
       "    .dataframe thead th {\n",
       "        text-align: right;\n",
       "    }\n",
       "</style>\n",
       "<table border=\"1\" class=\"dataframe\">\n",
       "  <thead>\n",
       "    <tr style=\"text-align: right;\">\n",
       "      <th></th>\n",
       "      <th>BTC</th>\n",
       "      <th>DOGE</th>\n",
       "      <th>ADA</th>\n",
       "      <th>ETH</th>\n",
       "    </tr>\n",
       "  </thead>\n",
       "  <tbody>\n",
       "    <tr>\n",
       "      <th>yesterday</th>\n",
       "      <td>7629.39</td>\n",
       "      <td>-9357.49</td>\n",
       "      <td>-1661.30</td>\n",
       "      <td>8597.23</td>\n",
       "    </tr>\n",
       "    <tr>\n",
       "      <th>today</th>\n",
       "      <td>560.68</td>\n",
       "      <td>NaN</td>\n",
       "      <td>10.46</td>\n",
       "      <td>3578.50</td>\n",
       "    </tr>\n",
       "    <tr>\n",
       "      <th>tomorrow</th>\n",
       "      <td>487.38</td>\n",
       "      <td>7560.38</td>\n",
       "      <td>1090.87</td>\n",
       "      <td>-5164.93</td>\n",
       "    </tr>\n",
       "  </tbody>\n",
       "</table>\n",
       "</div>"
      ],
      "text/plain": [
       "               BTC     DOGE      ADA      ETH\n",
       "yesterday  7629.39 -9357.49 -1661.30  8597.23\n",
       "today       560.68      NaN    10.46  3578.50\n",
       "tomorrow    487.38  7560.38  1090.87 -5164.93"
      ]
     },
     "execution_count": 262,
     "metadata": {},
     "output_type": "execute_result"
    }
   ],
   "source": [
    "earnings = pd.DataFrame(\n",
    "    data=[[7629.39, -9357.49, -1661.3, 8597.23],\n",
    "          [560.68, None, 10.46, 3578.5],\n",
    "          [487.38, 7560.38, 1090.87, -5164.93]],\n",
    "    columns=['BTC', 'DOGE', 'ADA', 'ETH'],\n",
    "    index=['yesterday', 'today', 'tomorrow']\n",
    ")\n",
    "earnings"
   ]
  },
  {
   "cell_type": "markdown",
   "metadata": {},
   "source": [
    "Для  применения построчно/поколоночно используйте функцию apply. Если хочется применить построчно добавьте axis=1"
   ]
  },
  {
   "cell_type": "code",
   "execution_count": 263,
   "metadata": {},
   "outputs": [
    {
     "data": {
      "text/plain": [
       "BTC     1.683006e+07\n",
       "DOGE    1.431072e+08\n",
       "ADA     1.922751e+06\n",
       "ETH     4.850538e+07\n",
       "dtype: float64"
      ]
     },
     "execution_count": 263,
     "metadata": {},
     "output_type": "execute_result"
    }
   ],
   "source": [
    "#  Посчитать дисперсию заработка для каждой монеты. В лямбду приходит pandas.Series объект каждой колонки\n",
    "earnings.apply(lambda money: money.std() ** 2)"
   ]
  },
  {
   "cell_type": "markdown",
   "metadata": {},
   "source": [
    "Для поэлементного применения используйте функцию applymap"
   ]
  },
  {
   "cell_type": "code",
   "execution_count": 264,
   "metadata": {},
   "outputs": [
    {
     "data": {
      "text/html": [
       "<div>\n",
       "<style scoped>\n",
       "    .dataframe tbody tr th:only-of-type {\n",
       "        vertical-align: middle;\n",
       "    }\n",
       "\n",
       "    .dataframe tbody tr th {\n",
       "        vertical-align: top;\n",
       "    }\n",
       "\n",
       "    .dataframe thead th {\n",
       "        text-align: right;\n",
       "    }\n",
       "</style>\n",
       "<table border=\"1\" class=\"dataframe\">\n",
       "  <thead>\n",
       "    <tr style=\"text-align: right;\">\n",
       "      <th></th>\n",
       "      <th>BTC</th>\n",
       "      <th>DOGE</th>\n",
       "      <th>ADA</th>\n",
       "      <th>ETH</th>\n",
       "    </tr>\n",
       "  </thead>\n",
       "  <tbody>\n",
       "    <tr>\n",
       "      <th>yesterday</th>\n",
       "      <td>7629.39</td>\n",
       "      <td>9357.49</td>\n",
       "      <td>1661.30</td>\n",
       "      <td>8597.23</td>\n",
       "    </tr>\n",
       "    <tr>\n",
       "      <th>today</th>\n",
       "      <td>560.68</td>\n",
       "      <td>NaN</td>\n",
       "      <td>10.46</td>\n",
       "      <td>3578.50</td>\n",
       "    </tr>\n",
       "    <tr>\n",
       "      <th>tomorrow</th>\n",
       "      <td>487.38</td>\n",
       "      <td>7560.38</td>\n",
       "      <td>1090.87</td>\n",
       "      <td>5164.93</td>\n",
       "    </tr>\n",
       "  </tbody>\n",
       "</table>\n",
       "</div>"
      ],
      "text/plain": [
       "               BTC     DOGE      ADA      ETH\n",
       "yesterday  7629.39  9357.49  1661.30  8597.23\n",
       "today       560.68      NaN    10.46  3578.50\n",
       "tomorrow    487.38  7560.38  1090.87  5164.93"
      ]
     },
     "execution_count": 264,
     "metadata": {},
     "output_type": "execute_result"
    }
   ],
   "source": [
    "# Сделаем вид, что потери превратились в профит\n",
    "earnings.applymap(abs)"
   ]
  },
  {
   "cell_type": "code",
   "execution_count": 265,
   "metadata": {},
   "outputs": [
    {
     "data": {
      "text/plain": [
       "yesterday    108129.39\n",
       "today        101060.68\n",
       "tomorrow     100987.38\n",
       "Name: BTC, dtype: float64"
      ]
     },
     "execution_count": 265,
     "metadata": {},
     "output_type": "execute_result"
    }
   ],
   "source": [
    "# Применять функцию можно и к отдельной колонке. В лямбду приходит отдельное значение колонки\n",
    "earnings['BTC'].apply(lambda money: money + 100500)"
   ]
  },
  {
   "cell_type": "code",
   "execution_count": 266,
   "metadata": {},
   "outputs": [],
   "source": [
    "del earnings"
   ]
  },
  {
   "cell_type": "markdown",
   "metadata": {},
   "source": [
    "Не забудьте самостоятельно посмотреть метод pipe"
   ]
  },
  {
   "cell_type": "markdown",
   "metadata": {},
   "source": [
    "### 9. Работа со строковыми колонками"
   ]
  },
  {
   "cell_type": "markdown",
   "metadata": {},
   "source": [
    "На данный момент для работы со строковыми колонками нам пришлось бы постоянно использовать метод apply. Это неудобно и поэтому в pandas сделали удобные инструмент для манипуляций со строками"
   ]
  },
  {
   "cell_type": "code",
   "execution_count": 267,
   "metadata": {},
   "outputs": [],
   "source": [
    "taxonomy = pd.DataFrame(\n",
    "    data=[['BTC', 'Bitcoin'],['LTC', 'Litecoin'], ['ETC', 'Etherium'], ['DOGE', 'Doge coin']],\n",
    "    columns=['symbol', 'name']\n",
    ")"
   ]
  },
  {
   "cell_type": "code",
   "execution_count": 268,
   "metadata": {},
   "outputs": [
    {
     "data": {
      "text/html": [
       "<div>\n",
       "<style scoped>\n",
       "    .dataframe tbody tr th:only-of-type {\n",
       "        vertical-align: middle;\n",
       "    }\n",
       "\n",
       "    .dataframe tbody tr th {\n",
       "        vertical-align: top;\n",
       "    }\n",
       "\n",
       "    .dataframe thead th {\n",
       "        text-align: right;\n",
       "    }\n",
       "</style>\n",
       "<table border=\"1\" class=\"dataframe\">\n",
       "  <thead>\n",
       "    <tr style=\"text-align: right;\">\n",
       "      <th></th>\n",
       "      <th>symbol</th>\n",
       "      <th>name</th>\n",
       "    </tr>\n",
       "  </thead>\n",
       "  <tbody>\n",
       "    <tr>\n",
       "      <th>0</th>\n",
       "      <td>BTC</td>\n",
       "      <td>Bitcoin</td>\n",
       "    </tr>\n",
       "    <tr>\n",
       "      <th>1</th>\n",
       "      <td>LTC</td>\n",
       "      <td>Litecoin</td>\n",
       "    </tr>\n",
       "    <tr>\n",
       "      <th>2</th>\n",
       "      <td>ETC</td>\n",
       "      <td>Etherium</td>\n",
       "    </tr>\n",
       "    <tr>\n",
       "      <th>3</th>\n",
       "      <td>DOGE</td>\n",
       "      <td>Doge coin</td>\n",
       "    </tr>\n",
       "  </tbody>\n",
       "</table>\n",
       "</div>"
      ],
      "text/plain": [
       "  symbol       name\n",
       "0    BTC    Bitcoin\n",
       "1    LTC   Litecoin\n",
       "2    ETC   Etherium\n",
       "3   DOGE  Doge coin"
      ]
     },
     "execution_count": 268,
     "metadata": {},
     "output_type": "execute_result"
    }
   ],
   "source": [
    "taxonomy"
   ]
  },
  {
   "cell_type": "markdown",
   "metadata": {},
   "source": [
    "Чтобы применять строковые функции к колонке надо обратиться к свойству .str."
   ]
  },
  {
   "cell_type": "code",
   "execution_count": 269,
   "metadata": {},
   "outputs": [
    {
     "data": {
      "text/plain": [
       "0     btc\n",
       "1     ltc\n",
       "2     etc\n",
       "3    doge\n",
       "Name: symbol, dtype: object"
      ]
     },
     "execution_count": 269,
     "metadata": {},
     "output_type": "execute_result"
    }
   ],
   "source": [
    "# Привести все к нижнему регистру\n",
    "taxonomy['symbol'].str.lower()"
   ]
  },
  {
   "cell_type": "code",
   "execution_count": 270,
   "metadata": {},
   "outputs": [
    {
     "data": {
      "text/plain": [
       "0      BITCOIN\n",
       "1     LITECOIN\n",
       "2     ETHERIUM\n",
       "3    DOGE COIN\n",
       "Name: name, dtype: object"
      ]
     },
     "execution_count": 270,
     "metadata": {},
     "output_type": "execute_result"
    }
   ],
   "source": [
    "# Привести все к верхнему регистру\n",
    "taxonomy['name'].str.upper()"
   ]
  },
  {
   "cell_type": "code",
   "execution_count": 271,
   "metadata": {},
   "outputs": [
    {
     "data": {
      "text/plain": [
       "0    3\n",
       "1    3\n",
       "2    3\n",
       "3    4\n",
       "Name: symbol, dtype: int64"
      ]
     },
     "execution_count": 271,
     "metadata": {},
     "output_type": "execute_result"
    }
   ],
   "source": [
    "# Длины строк\n",
    "taxonomy['symbol'].str.len()"
   ]
  },
  {
   "cell_type": "code",
   "execution_count": 272,
   "metadata": {},
   "outputs": [
    {
     "data": {
      "text/plain": [
       "0      Bitcoin\n",
       "1     Litecoin\n",
       "2     Etherium\n",
       "3    Doge coin\n",
       "Name: name, dtype: object"
      ]
     },
     "execution_count": 272,
     "metadata": {},
     "output_type": "execute_result"
    }
   ],
   "source": [
    "# Убрать по краям пробельные символы\n",
    "taxonomy['name'].str.strip()"
   ]
  },
  {
   "cell_type": "code",
   "execution_count": 273,
   "metadata": {},
   "outputs": [
    {
     "data": {
      "text/plain": [
       "0       [Bitcoin]\n",
       "1      [Litecoin]\n",
       "2      [Etherium]\n",
       "3    [Doge, coin]\n",
       "Name: name, dtype: object"
      ]
     },
     "execution_count": 273,
     "metadata": {},
     "output_type": "execute_result"
    }
   ],
   "source": [
    "# Разбить строки по заданному символу\n",
    "taxonomy['name'].str.split(' ')"
   ]
  },
  {
   "cell_type": "code",
   "execution_count": 274,
   "metadata": {},
   "outputs": [
    {
     "data": {
      "text/plain": [
       "'BTC $$$ LTC $$$ ETC $$$ DOGE'"
      ]
     },
     "execution_count": 274,
     "metadata": {},
     "output_type": "execute_result"
    }
   ],
   "source": [
    "# Склеить все строки в одну. Аналог str.join\n",
    "taxonomy['symbol'].str.cat(sep=' $$$ ')"
   ]
  },
  {
   "cell_type": "code",
   "execution_count": 275,
   "metadata": {},
   "outputs": [
    {
     "data": {
      "text/plain": [
       "0     True\n",
       "1     True\n",
       "2    False\n",
       "3     True\n",
       "Name: name, dtype: bool"
      ]
     },
     "execution_count": 275,
     "metadata": {},
     "output_type": "execute_result"
    }
   ],
   "source": [
    "# Найти везде подстроку\n",
    "taxonomy['name'].str.contains('coin')"
   ]
  },
  {
   "cell_type": "code",
   "execution_count": 276,
   "metadata": {},
   "outputs": [
    {
     "data": {
      "text/plain": [
       "0      Bitdough\n",
       "1     Litedough\n",
       "2      Etherium\n",
       "3    Doge dough\n",
       "Name: name, dtype: object"
      ]
     },
     "execution_count": 276,
     "metadata": {},
     "output_type": "execute_result"
    }
   ],
   "source": [
    "# Везде заменить строку на другу\n",
    "taxonomy['name'].str.replace('coin', 'dough')"
   ]
  },
  {
   "cell_type": "code",
   "execution_count": 277,
   "metadata": {},
   "outputs": [
    {
     "data": {
      "text/plain": [
       "0        BitcoinBitcoin\n",
       "1      LitecoinLitecoin\n",
       "2      EtheriumEtherium\n",
       "3    Doge coinDoge coin\n",
       "Name: name, dtype: object"
      ]
     },
     "execution_count": 277,
     "metadata": {},
     "output_type": "execute_result"
    }
   ],
   "source": [
    "# Повторить каждую строку указанное число раз\n",
    "taxonomy['name'].str.repeat(2)"
   ]
  },
  {
   "cell_type": "code",
   "execution_count": 278,
   "metadata": {},
   "outputs": [
    {
     "data": {
      "text/plain": [
       "0    1\n",
       "1    1\n",
       "2    0\n",
       "3    1\n",
       "Name: name, dtype: int64"
      ]
     },
     "execution_count": 278,
     "metadata": {},
     "output_type": "execute_result"
    }
   ],
   "source": [
    "# Посчитать все появления указанной строки\n",
    "taxonomy['name'].str.count('coin')"
   ]
  },
  {
   "cell_type": "code",
   "execution_count": 279,
   "metadata": {},
   "outputs": [
    {
     "data": {
      "text/plain": [
       "0     True\n",
       "1    False\n",
       "2    False\n",
       "3    False\n",
       "Name: symbol, dtype: bool"
      ]
     },
     "execution_count": 279,
     "metadata": {},
     "output_type": "execute_result"
    }
   ],
   "source": [
    "# Проверка наличия префикса\n",
    "taxonomy['symbol'].str.startswith('B')"
   ]
  },
  {
   "cell_type": "code",
   "execution_count": 280,
   "metadata": {},
   "outputs": [
    {
     "data": {
      "text/plain": [
       "0     True\n",
       "1     True\n",
       "2     True\n",
       "3    False\n",
       "Name: symbol, dtype: bool"
      ]
     },
     "execution_count": 280,
     "metadata": {},
     "output_type": "execute_result"
    }
   ],
   "source": [
    "# Проверка наличия суффикса\n",
    "taxonomy['symbol'].str.endswith('C')"
   ]
  },
  {
   "cell_type": "code",
   "execution_count": 281,
   "metadata": {},
   "outputs": [
    {
     "data": {
      "text/plain": [
       "0    3\n",
       "1    4\n",
       "2   -1\n",
       "3    5\n",
       "Name: name, dtype: int64"
      ]
     },
     "execution_count": 281,
     "metadata": {},
     "output_type": "execute_result"
    }
   ],
   "source": [
    "# Найти место в строках где начинается искомая строка. \n",
    "taxonomy['name'].str.find('coin')"
   ]
  },
  {
   "cell_type": "code",
   "execution_count": 282,
   "metadata": {},
   "outputs": [
    {
     "data": {
      "text/plain": [
       "0    True\n",
       "1    True\n",
       "2    True\n",
       "3    True\n",
       "Name: symbol, dtype: bool"
      ]
     },
     "execution_count": 282,
     "metadata": {},
     "output_type": "execute_result"
    }
   ],
   "source": [
    "# Проверка верхнего регистра\n",
    "taxonomy['symbol'].str.isupper()"
   ]
  },
  {
   "cell_type": "code",
   "execution_count": 283,
   "metadata": {},
   "outputs": [
    {
     "data": {
      "text/plain": [
       "0    False\n",
       "1    False\n",
       "2    False\n",
       "3    False\n",
       "Name: symbol, dtype: bool"
      ]
     },
     "execution_count": 283,
     "metadata": {},
     "output_type": "execute_result"
    }
   ],
   "source": [
    "# Проверка нижнего регистра\n",
    "taxonomy['symbol'].str.islower()"
   ]
  },
  {
   "cell_type": "code",
   "execution_count": 284,
   "metadata": {},
   "outputs": [
    {
     "data": {
      "text/plain": [
       "0    False\n",
       "1    False\n",
       "2    False\n",
       "3    False\n",
       "Name: name, dtype: bool"
      ]
     },
     "execution_count": 284,
     "metadata": {},
     "output_type": "execute_result"
    }
   ],
   "source": [
    "# Проверка что все символы - цифры\n",
    "taxonomy['name'].str.isnumeric()"
   ]
  },
  {
   "cell_type": "markdown",
   "metadata": {},
   "source": [
    "### 10. Агрегации, трансформации и фильтрации"
   ]
  },
  {
   "cell_type": "markdown",
   "metadata": {},
   "source": [
    "#### 10.1. Скользящие окна"
   ]
  },
  {
   "cell_type": "markdown",
   "metadata": {},
   "source": [
    "Мы начнем со специального случая аггрегаций данных - оконных функций. Мы поговорим о методах rolling и emw. Самостоятельно посмотрите что делает expanding."
   ]
  },
  {
   "cell_type": "code",
   "execution_count": 351,
   "metadata": {},
   "outputs": [],
   "source": [
    "price = pd.DataFrame(\n",
    "    data=np.random.random((40, 2)),\n",
    "    columns=['ADA', 'DOGE'],\n",
    "    # Создаем специальный индекс из 6 дней начиная с 2018-11-01 \n",
    "    index=pd.date_range('2018-11-01', periods=40)\n",
    ")"
   ]
  },
  {
   "cell_type": "code",
   "execution_count": 352,
   "metadata": {},
   "outputs": [
    {
     "data": {
      "text/html": [
       "<div>\n",
       "<style scoped>\n",
       "    .dataframe tbody tr th:only-of-type {\n",
       "        vertical-align: middle;\n",
       "    }\n",
       "\n",
       "    .dataframe tbody tr th {\n",
       "        vertical-align: top;\n",
       "    }\n",
       "\n",
       "    .dataframe thead th {\n",
       "        text-align: right;\n",
       "    }\n",
       "</style>\n",
       "<table border=\"1\" class=\"dataframe\">\n",
       "  <thead>\n",
       "    <tr style=\"text-align: right;\">\n",
       "      <th></th>\n",
       "      <th>ADA</th>\n",
       "      <th>DOGE</th>\n",
       "    </tr>\n",
       "  </thead>\n",
       "  <tbody>\n",
       "    <tr>\n",
       "      <th>2018-11-01</th>\n",
       "      <td>0.003815</td>\n",
       "      <td>0.778056</td>\n",
       "    </tr>\n",
       "    <tr>\n",
       "      <th>2018-11-02</th>\n",
       "      <td>0.266934</td>\n",
       "      <td>0.137297</td>\n",
       "    </tr>\n",
       "    <tr>\n",
       "      <th>2018-11-03</th>\n",
       "      <td>0.646435</td>\n",
       "      <td>0.257901</td>\n",
       "    </tr>\n",
       "    <tr>\n",
       "      <th>2018-11-04</th>\n",
       "      <td>0.954932</td>\n",
       "      <td>0.359143</td>\n",
       "    </tr>\n",
       "    <tr>\n",
       "      <th>2018-11-05</th>\n",
       "      <td>0.712237</td>\n",
       "      <td>0.379190</td>\n",
       "    </tr>\n",
       "    <tr>\n",
       "      <th>...</th>\n",
       "      <td>...</td>\n",
       "      <td>...</td>\n",
       "    </tr>\n",
       "    <tr>\n",
       "      <th>2018-12-06</th>\n",
       "      <td>0.686835</td>\n",
       "      <td>0.653572</td>\n",
       "    </tr>\n",
       "    <tr>\n",
       "      <th>2018-12-07</th>\n",
       "      <td>0.140913</td>\n",
       "      <td>0.240857</td>\n",
       "    </tr>\n",
       "    <tr>\n",
       "      <th>2018-12-08</th>\n",
       "      <td>0.122127</td>\n",
       "      <td>0.637688</td>\n",
       "    </tr>\n",
       "    <tr>\n",
       "      <th>2018-12-09</th>\n",
       "      <td>0.186774</td>\n",
       "      <td>0.488229</td>\n",
       "    </tr>\n",
       "    <tr>\n",
       "      <th>2018-12-10</th>\n",
       "      <td>0.858803</td>\n",
       "      <td>0.732020</td>\n",
       "    </tr>\n",
       "  </tbody>\n",
       "</table>\n",
       "<p>40 rows × 2 columns</p>\n",
       "</div>"
      ],
      "text/plain": [
       "                 ADA      DOGE\n",
       "2018-11-01  0.003815  0.778056\n",
       "2018-11-02  0.266934  0.137297\n",
       "2018-11-03  0.646435  0.257901\n",
       "2018-11-04  0.954932  0.359143\n",
       "2018-11-05  0.712237  0.379190\n",
       "...              ...       ...\n",
       "2018-12-06  0.686835  0.653572\n",
       "2018-12-07  0.140913  0.240857\n",
       "2018-12-08  0.122127  0.637688\n",
       "2018-12-09  0.186774  0.488229\n",
       "2018-12-10  0.858803  0.732020\n",
       "\n",
       "[40 rows x 2 columns]"
      ]
     },
     "execution_count": 352,
     "metadata": {},
     "output_type": "execute_result"
    }
   ],
   "source": [
    "price"
   ]
  },
  {
   "cell_type": "code",
   "execution_count": 353,
   "metadata": {},
   "outputs": [],
   "source": [
    "%matplotlib inline"
   ]
  },
  {
   "cell_type": "code",
   "execution_count": 354,
   "metadata": {},
   "outputs": [
    {
     "data": {
      "text/plain": [
       "<matplotlib.legend.Legend at 0x1bf8f686400>"
      ]
     },
     "execution_count": 354,
     "metadata": {},
     "output_type": "execute_result"
    },
    {
     "data": {
      "image/png": "[encoded data removed]",
      "text/plain": [
       "<matplotlib.figure.Figure at 0x1bf8f2b6d30>"
      ]
     },
     "metadata": {
      "needs_background": "light"
     },
     "output_type": "display_data"
    }
   ],
   "source": [
    "import matplotlib.pyplot as plt\n",
    "\n",
    "plt.gcf().set_size_inches(16, 9)\n",
    "\n",
    "plt.plot(price['ADA'], label='original')\n",
    "# plt.plot(price['ADA'].rolling(window=2).mean(), label='Win2')\n",
    "\n",
    "plt.plot(price['ADA'].rolling(window=5).mean(), label='Win5')\n",
    "\n",
    "plt.plot(price['ADA'].rolling(window=14).mean(), label='Win14')\n",
    "\n",
    "plt.plot( pd.Series(data=[price['ADA'].mean()]*len(price), index=price.index) , label='mean')\n",
    "\n",
    "\n",
    "plt.plot(price['ADA'].ewm(alpha=0.5).mean(), label='Exp0.5')\n",
    "plt.plot(price['ADA'].ewm(alpha=0.1).mean(), label='Exp0.1')\n",
    "\n",
    "plt.plot(price['ADA'].ewm(alpha=0.9).mean(), label='Exp0.9')\n",
    "\n",
    "\n",
    "plt.legend()"
   ]
  },
  {
   "cell_type": "markdown",
   "metadata": {},
   "source": [
    "Если вы хотите посчитать какую-нибудь статистическую функци (sum, mean, median, std) в скользящем окне. То есть методы rolling (обычное окно) и ewm (окно с экспоненциальным сглаживанием). Они возвращают специальные объекты которые могут аггрегировать используя стандартную или пользователскую функцию."
   ]
  },
  {
   "cell_type": "code",
   "execution_count": 289,
   "metadata": {},
   "outputs": [
    {
     "data": {
      "text/html": [
       "<div>\n",
       "<style scoped>\n",
       "    .dataframe tbody tr th:only-of-type {\n",
       "        vertical-align: middle;\n",
       "    }\n",
       "\n",
       "    .dataframe tbody tr th {\n",
       "        vertical-align: top;\n",
       "    }\n",
       "\n",
       "    .dataframe thead th {\n",
       "        text-align: right;\n",
       "    }\n",
       "</style>\n",
       "<table border=\"1\" class=\"dataframe\">\n",
       "  <thead>\n",
       "    <tr style=\"text-align: right;\">\n",
       "      <th></th>\n",
       "      <th>ADA</th>\n",
       "      <th>DOGE</th>\n",
       "    </tr>\n",
       "  </thead>\n",
       "  <tbody>\n",
       "    <tr>\n",
       "      <th>2018-11-01</th>\n",
       "      <td>NaN</td>\n",
       "      <td>NaN</td>\n",
       "    </tr>\n",
       "    <tr>\n",
       "      <th>2018-11-02</th>\n",
       "      <td>0.513185</td>\n",
       "      <td>0.179790</td>\n",
       "    </tr>\n",
       "    <tr>\n",
       "      <th>2018-11-03</th>\n",
       "      <td>0.741964</td>\n",
       "      <td>0.331157</td>\n",
       "    </tr>\n",
       "    <tr>\n",
       "      <th>2018-11-04</th>\n",
       "      <td>0.880856</td>\n",
       "      <td>0.271215</td>\n",
       "    </tr>\n",
       "    <tr>\n",
       "      <th>2018-11-05</th>\n",
       "      <td>0.921011</td>\n",
       "      <td>0.158485</td>\n",
       "    </tr>\n",
       "    <tr>\n",
       "      <th>...</th>\n",
       "      <td>...</td>\n",
       "      <td>...</td>\n",
       "    </tr>\n",
       "    <tr>\n",
       "      <th>2018-12-06</th>\n",
       "      <td>0.471109</td>\n",
       "      <td>0.391232</td>\n",
       "    </tr>\n",
       "    <tr>\n",
       "      <th>2018-12-07</th>\n",
       "      <td>0.638232</td>\n",
       "      <td>0.330640</td>\n",
       "    </tr>\n",
       "    <tr>\n",
       "      <th>2018-12-08</th>\n",
       "      <td>0.411388</td>\n",
       "      <td>0.395712</td>\n",
       "    </tr>\n",
       "    <tr>\n",
       "      <th>2018-12-09</th>\n",
       "      <td>0.353087</td>\n",
       "      <td>0.708037</td>\n",
       "    </tr>\n",
       "    <tr>\n",
       "      <th>2018-12-10</th>\n",
       "      <td>0.646915</td>\n",
       "      <td>0.572931</td>\n",
       "    </tr>\n",
       "  </tbody>\n",
       "</table>\n",
       "<p>40 rows × 2 columns</p>\n",
       "</div>"
      ],
      "text/plain": [
       "                 ADA      DOGE\n",
       "2018-11-01       NaN       NaN\n",
       "2018-11-02  0.513185  0.179790\n",
       "2018-11-03  0.741964  0.331157\n",
       "2018-11-04  0.880856  0.271215\n",
       "2018-11-05  0.921011  0.158485\n",
       "...              ...       ...\n",
       "2018-12-06  0.471109  0.391232\n",
       "2018-12-07  0.638232  0.330640\n",
       "2018-12-08  0.411388  0.395712\n",
       "2018-12-09  0.353087  0.708037\n",
       "2018-12-10  0.646915  0.572931\n",
       "\n",
       "[40 rows x 2 columns]"
      ]
     },
     "execution_count": 289,
     "metadata": {},
     "output_type": "execute_result"
    }
   ],
   "source": [
    "# Найти скользящее среднее\n",
    "price.rolling(window=2).mean()"
   ]
  },
  {
   "cell_type": "code",
   "execution_count": 290,
   "metadata": {},
   "outputs": [
    {
     "data": {
      "text/html": [
       "<div>\n",
       "<style scoped>\n",
       "    .dataframe tbody tr th:only-of-type {\n",
       "        vertical-align: middle;\n",
       "    }\n",
       "\n",
       "    .dataframe tbody tr th {\n",
       "        vertical-align: top;\n",
       "    }\n",
       "\n",
       "    .dataframe thead th {\n",
       "        text-align: right;\n",
       "    }\n",
       "</style>\n",
       "<table border=\"1\" class=\"dataframe\">\n",
       "  <thead>\n",
       "    <tr style=\"text-align: right;\">\n",
       "      <th></th>\n",
       "      <th>ADA</th>\n",
       "      <th>DOGE</th>\n",
       "    </tr>\n",
       "  </thead>\n",
       "  <tbody>\n",
       "    <tr>\n",
       "      <th>2018-11-01</th>\n",
       "      <td>NaN</td>\n",
       "      <td>NaN</td>\n",
       "    </tr>\n",
       "    <tr>\n",
       "      <th>2018-11-02</th>\n",
       "      <td>0.107518</td>\n",
       "      <td>0.057830</td>\n",
       "    </tr>\n",
       "    <tr>\n",
       "      <th>2018-11-03</th>\n",
       "      <td>0.216024</td>\n",
       "      <td>0.271896</td>\n",
       "    </tr>\n",
       "    <tr>\n",
       "      <th>2018-11-04</th>\n",
       "      <td>0.019601</td>\n",
       "      <td>0.356668</td>\n",
       "    </tr>\n",
       "    <tr>\n",
       "      <th>2018-11-05</th>\n",
       "      <td>0.076388</td>\n",
       "      <td>0.197244</td>\n",
       "    </tr>\n",
       "    <tr>\n",
       "      <th>...</th>\n",
       "      <td>...</td>\n",
       "      <td>...</td>\n",
       "    </tr>\n",
       "    <tr>\n",
       "      <th>2018-12-06</th>\n",
       "      <td>0.322442</td>\n",
       "      <td>0.055716</td>\n",
       "    </tr>\n",
       "    <tr>\n",
       "      <th>2018-12-07</th>\n",
       "      <td>0.086093</td>\n",
       "      <td>0.029973</td>\n",
       "    </tr>\n",
       "    <tr>\n",
       "      <th>2018-12-08</th>\n",
       "      <td>0.234713</td>\n",
       "      <td>0.121998</td>\n",
       "    </tr>\n",
       "    <tr>\n",
       "      <th>2018-12-09</th>\n",
       "      <td>0.152262</td>\n",
       "      <td>0.319697</td>\n",
       "    </tr>\n",
       "    <tr>\n",
       "      <th>2018-12-10</th>\n",
       "      <td>0.263274</td>\n",
       "      <td>0.510767</td>\n",
       "    </tr>\n",
       "  </tbody>\n",
       "</table>\n",
       "<p>40 rows × 2 columns</p>\n",
       "</div>"
      ],
      "text/plain": [
       "                 ADA      DOGE\n",
       "2018-11-01       NaN       NaN\n",
       "2018-11-02  0.107518  0.057830\n",
       "2018-11-03  0.216024  0.271896\n",
       "2018-11-04  0.019601  0.356668\n",
       "2018-11-05  0.076388  0.197244\n",
       "...              ...       ...\n",
       "2018-12-06  0.322442  0.055716\n",
       "2018-12-07  0.086093  0.029973\n",
       "2018-12-08  0.234713  0.121998\n",
       "2018-12-09  0.152262  0.319697\n",
       "2018-12-10  0.263274  0.510767\n",
       "\n",
       "[40 rows x 2 columns]"
      ]
     },
     "execution_count": 290,
     "metadata": {},
     "output_type": "execute_result"
    }
   ],
   "source": [
    "# Найти скользящее стандартное отклонение\n",
    "price.rolling(window=2).std()"
   ]
  },
  {
   "cell_type": "code",
   "execution_count": 291,
   "metadata": {},
   "outputs": [
    {
     "data": {
      "text/html": [
       "<div>\n",
       "<style scoped>\n",
       "    .dataframe tbody tr th:only-of-type {\n",
       "        vertical-align: middle;\n",
       "    }\n",
       "\n",
       "    .dataframe tbody tr th {\n",
       "        vertical-align: top;\n",
       "    }\n",
       "\n",
       "    .dataframe thead th {\n",
       "        text-align: right;\n",
       "    }\n",
       "</style>\n",
       "<table border=\"1\" class=\"dataframe\">\n",
       "  <thead>\n",
       "    <tr style=\"text-align: right;\">\n",
       "      <th></th>\n",
       "      <th>ADA</th>\n",
       "      <th>DOGE</th>\n",
       "    </tr>\n",
       "  </thead>\n",
       "  <tbody>\n",
       "    <tr>\n",
       "      <th>2018-11-01</th>\n",
       "      <td>NaN</td>\n",
       "      <td>NaN</td>\n",
       "    </tr>\n",
       "    <tr>\n",
       "      <th>2018-11-02</th>\n",
       "      <td>0.538277</td>\n",
       "      <td>0.067993</td>\n",
       "    </tr>\n",
       "    <tr>\n",
       "      <th>2018-11-03</th>\n",
       "      <td>1.147687</td>\n",
       "      <td>0.293258</td>\n",
       "    </tr>\n",
       "    <tr>\n",
       "      <th>2018-11-04</th>\n",
       "      <td>1.552200</td>\n",
       "      <td>0.274326</td>\n",
       "    </tr>\n",
       "    <tr>\n",
       "      <th>2018-11-05</th>\n",
       "      <td>1.702358</td>\n",
       "      <td>0.089140</td>\n",
       "    </tr>\n",
       "    <tr>\n",
       "      <th>...</th>\n",
       "      <td>...</td>\n",
       "      <td>...</td>\n",
       "    </tr>\n",
       "    <tr>\n",
       "      <th>2018-12-06</th>\n",
       "      <td>0.547855</td>\n",
       "      <td>0.309229</td>\n",
       "    </tr>\n",
       "    <tr>\n",
       "      <th>2018-12-07</th>\n",
       "      <td>0.822093</td>\n",
       "      <td>0.219544</td>\n",
       "    </tr>\n",
       "    <tr>\n",
       "      <th>2018-12-08</th>\n",
       "      <td>0.393571</td>\n",
       "      <td>0.328059</td>\n",
       "    </tr>\n",
       "    <tr>\n",
       "      <th>2018-12-09</th>\n",
       "      <td>0.272524</td>\n",
       "      <td>1.104840</td>\n",
       "    </tr>\n",
       "    <tr>\n",
       "      <th>2018-12-10</th>\n",
       "      <td>0.906311</td>\n",
       "      <td>0.917382</td>\n",
       "    </tr>\n",
       "  </tbody>\n",
       "</table>\n",
       "<p>40 rows × 2 columns</p>\n",
       "</div>"
      ],
      "text/plain": [
       "                 ADA      DOGE\n",
       "2018-11-01       NaN       NaN\n",
       "2018-11-02  0.538277  0.067993\n",
       "2018-11-03  1.147687  0.293258\n",
       "2018-11-04  1.552200  0.274326\n",
       "2018-11-05  1.702358  0.089140\n",
       "...              ...       ...\n",
       "2018-12-06  0.547855  0.309229\n",
       "2018-12-07  0.822093  0.219544\n",
       "2018-12-08  0.393571  0.328059\n",
       "2018-12-09  0.272524  1.104840\n",
       "2018-12-10  0.906311  0.917382\n",
       "\n",
       "[40 rows x 2 columns]"
      ]
     },
     "execution_count": 291,
     "metadata": {},
     "output_type": "execute_result"
    }
   ],
   "source": [
    "# Сделать агрегацию c пользовательской функцией\n",
    "price.rolling(window=2).agg(lambda series: sum(series ** 2))"
   ]
  },
  {
   "cell_type": "code",
   "execution_count": 292,
   "metadata": {},
   "outputs": [
    {
     "data": {
      "text/html": [
       "<div>\n",
       "<style scoped>\n",
       "    .dataframe tbody tr th:only-of-type {\n",
       "        vertical-align: middle;\n",
       "    }\n",
       "\n",
       "    .dataframe tbody tr th {\n",
       "        vertical-align: top;\n",
       "    }\n",
       "\n",
       "    .dataframe thead th {\n",
       "        text-align: right;\n",
       "    }\n",
       "</style>\n",
       "<table border=\"1\" class=\"dataframe\">\n",
       "  <thead>\n",
       "    <tr style=\"text-align: right;\">\n",
       "      <th></th>\n",
       "      <th>ADA</th>\n",
       "      <th>DOGE</th>\n",
       "    </tr>\n",
       "  </thead>\n",
       "  <tbody>\n",
       "    <tr>\n",
       "      <th>2018-11-01</th>\n",
       "      <td>NaN</td>\n",
       "      <td>NaN</td>\n",
       "    </tr>\n",
       "    <tr>\n",
       "      <th>2018-11-02</th>\n",
       "      <td>0.589211</td>\n",
       "      <td>0.220682</td>\n",
       "    </tr>\n",
       "    <tr>\n",
       "      <th>2018-11-03</th>\n",
       "      <td>0.894716</td>\n",
       "      <td>0.523417</td>\n",
       "    </tr>\n",
       "    <tr>\n",
       "      <th>2018-11-04</th>\n",
       "      <td>0.894716</td>\n",
       "      <td>0.523417</td>\n",
       "    </tr>\n",
       "    <tr>\n",
       "      <th>2018-11-05</th>\n",
       "      <td>0.975026</td>\n",
       "      <td>0.297958</td>\n",
       "    </tr>\n",
       "    <tr>\n",
       "      <th>...</th>\n",
       "      <td>...</td>\n",
       "      <td>...</td>\n",
       "    </tr>\n",
       "    <tr>\n",
       "      <th>2018-12-06</th>\n",
       "      <td>0.699109</td>\n",
       "      <td>0.430629</td>\n",
       "    </tr>\n",
       "    <tr>\n",
       "      <th>2018-12-07</th>\n",
       "      <td>0.699109</td>\n",
       "      <td>0.351835</td>\n",
       "    </tr>\n",
       "    <tr>\n",
       "      <th>2018-12-08</th>\n",
       "      <td>0.577355</td>\n",
       "      <td>0.481977</td>\n",
       "    </tr>\n",
       "    <tr>\n",
       "      <th>2018-12-09</th>\n",
       "      <td>0.460752</td>\n",
       "      <td>0.934097</td>\n",
       "    </tr>\n",
       "    <tr>\n",
       "      <th>2018-12-10</th>\n",
       "      <td>0.833078</td>\n",
       "      <td>0.934097</td>\n",
       "    </tr>\n",
       "  </tbody>\n",
       "</table>\n",
       "<p>40 rows × 2 columns</p>\n",
       "</div>"
      ],
      "text/plain": [
       "                 ADA      DOGE\n",
       "2018-11-01       NaN       NaN\n",
       "2018-11-02  0.589211  0.220682\n",
       "2018-11-03  0.894716  0.523417\n",
       "2018-11-04  0.894716  0.523417\n",
       "2018-11-05  0.975026  0.297958\n",
       "...              ...       ...\n",
       "2018-12-06  0.699109  0.430629\n",
       "2018-12-07  0.699109  0.351835\n",
       "2018-12-08  0.577355  0.481977\n",
       "2018-12-09  0.460752  0.934097\n",
       "2018-12-10  0.833078  0.934097\n",
       "\n",
       "[40 rows x 2 columns]"
      ]
     },
     "execution_count": 292,
     "metadata": {},
     "output_type": "execute_result"
    }
   ],
   "source": [
    "# Сделать агрегацию по имени функции\n",
    "price.rolling(window=2).agg('max')\n",
    "price.rolling(window=2).max()"
   ]
  },
  {
   "cell_type": "code",
   "execution_count": 293,
   "metadata": {},
   "outputs": [
    {
     "data": {
      "text/html": [
       "<div>\n",
       "<style scoped>\n",
       "    .dataframe tbody tr th:only-of-type {\n",
       "        vertical-align: middle;\n",
       "    }\n",
       "\n",
       "    .dataframe tbody tr th {\n",
       "        vertical-align: top;\n",
       "    }\n",
       "\n",
       "    .dataframe thead tr th {\n",
       "        text-align: left;\n",
       "    }\n",
       "</style>\n",
       "<table border=\"1\" class=\"dataframe\">\n",
       "  <thead>\n",
       "    <tr>\n",
       "      <th></th>\n",
       "      <th colspan=\"3\" halign=\"left\">ADA</th>\n",
       "      <th colspan=\"3\" halign=\"left\">DOGE</th>\n",
       "    </tr>\n",
       "    <tr>\n",
       "      <th></th>\n",
       "      <th>mean</th>\n",
       "      <th>sum</th>\n",
       "      <th>&lt;lambda&gt;</th>\n",
       "      <th>mean</th>\n",
       "      <th>sum</th>\n",
       "      <th>&lt;lambda&gt;</th>\n",
       "    </tr>\n",
       "  </thead>\n",
       "  <tbody>\n",
       "    <tr>\n",
       "      <th>2018-11-01</th>\n",
       "      <td>NaN</td>\n",
       "      <td>NaN</td>\n",
       "      <td>NaN</td>\n",
       "      <td>NaN</td>\n",
       "      <td>NaN</td>\n",
       "      <td>NaN</td>\n",
       "    </tr>\n",
       "    <tr>\n",
       "      <th>2018-11-02</th>\n",
       "      <td>0.513185</td>\n",
       "      <td>1.026369</td>\n",
       "      <td>0.347170</td>\n",
       "      <td>0.179790</td>\n",
       "      <td>0.359580</td>\n",
       "      <td>0.048701</td>\n",
       "    </tr>\n",
       "    <tr>\n",
       "      <th>2018-11-03</th>\n",
       "      <td>0.741964</td>\n",
       "      <td>1.483928</td>\n",
       "      <td>0.800517</td>\n",
       "      <td>0.331157</td>\n",
       "      <td>0.662315</td>\n",
       "      <td>0.273965</td>\n",
       "    </tr>\n",
       "    <tr>\n",
       "      <th>2018-11-04</th>\n",
       "      <td>0.880856</td>\n",
       "      <td>1.761712</td>\n",
       "      <td>0.800517</td>\n",
       "      <td>0.271215</td>\n",
       "      <td>0.542429</td>\n",
       "      <td>0.273965</td>\n",
       "    </tr>\n",
       "    <tr>\n",
       "      <th>2018-11-05</th>\n",
       "      <td>0.921011</td>\n",
       "      <td>1.842022</td>\n",
       "      <td>0.950675</td>\n",
       "      <td>0.158485</td>\n",
       "      <td>0.316970</td>\n",
       "      <td>0.088779</td>\n",
       "    </tr>\n",
       "    <tr>\n",
       "      <th>...</th>\n",
       "      <td>...</td>\n",
       "      <td>...</td>\n",
       "      <td>...</td>\n",
       "      <td>...</td>\n",
       "      <td>...</td>\n",
       "      <td>...</td>\n",
       "    </tr>\n",
       "    <tr>\n",
       "      <th>2018-12-06</th>\n",
       "      <td>0.471109</td>\n",
       "      <td>0.942217</td>\n",
       "      <td>0.488754</td>\n",
       "      <td>0.391232</td>\n",
       "      <td>0.782463</td>\n",
       "      <td>0.185441</td>\n",
       "    </tr>\n",
       "    <tr>\n",
       "      <th>2018-12-07</th>\n",
       "      <td>0.638232</td>\n",
       "      <td>1.276465</td>\n",
       "      <td>0.488754</td>\n",
       "      <td>0.330640</td>\n",
       "      <td>0.661280</td>\n",
       "      <td>0.123788</td>\n",
       "    </tr>\n",
       "    <tr>\n",
       "      <th>2018-12-08</th>\n",
       "      <td>0.411388</td>\n",
       "      <td>0.822777</td>\n",
       "      <td>0.333339</td>\n",
       "      <td>0.395712</td>\n",
       "      <td>0.791423</td>\n",
       "      <td>0.232302</td>\n",
       "    </tr>\n",
       "    <tr>\n",
       "      <th>2018-12-09</th>\n",
       "      <td>0.353087</td>\n",
       "      <td>0.706174</td>\n",
       "      <td>0.212292</td>\n",
       "      <td>0.708037</td>\n",
       "      <td>1.416074</td>\n",
       "      <td>0.872538</td>\n",
       "    </tr>\n",
       "    <tr>\n",
       "      <th>2018-12-10</th>\n",
       "      <td>0.646915</td>\n",
       "      <td>1.293830</td>\n",
       "      <td>0.694019</td>\n",
       "      <td>0.572931</td>\n",
       "      <td>1.145861</td>\n",
       "      <td>0.872538</td>\n",
       "    </tr>\n",
       "  </tbody>\n",
       "</table>\n",
       "<p>40 rows × 6 columns</p>\n",
       "</div>"
      ],
      "text/plain": [
       "                 ADA                          DOGE                    \n",
       "                mean       sum  <lambda>      mean       sum  <lambda>\n",
       "2018-11-01       NaN       NaN       NaN       NaN       NaN       NaN\n",
       "2018-11-02  0.513185  1.026369  0.347170  0.179790  0.359580  0.048701\n",
       "2018-11-03  0.741964  1.483928  0.800517  0.331157  0.662315  0.273965\n",
       "2018-11-04  0.880856  1.761712  0.800517  0.271215  0.542429  0.273965\n",
       "2018-11-05  0.921011  1.842022  0.950675  0.158485  0.316970  0.088779\n",
       "...              ...       ...       ...       ...       ...       ...\n",
       "2018-12-06  0.471109  0.942217  0.488754  0.391232  0.782463  0.185441\n",
       "2018-12-07  0.638232  1.276465  0.488754  0.330640  0.661280  0.123788\n",
       "2018-12-08  0.411388  0.822777  0.333339  0.395712  0.791423  0.232302\n",
       "2018-12-09  0.353087  0.706174  0.212292  0.708037  1.416074  0.872538\n",
       "2018-12-10  0.646915  1.293830  0.694019  0.572931  1.145861  0.872538\n",
       "\n",
       "[40 rows x 6 columns]"
      ]
     },
     "execution_count": 293,
     "metadata": {},
     "output_type": "execute_result"
    }
   ],
   "source": [
    "# Сделать несколько агрегаций\n",
    "price.rolling(window=2).agg(['mean', sum, lambda series: max(series ** 2)])"
   ]
  },
  {
   "cell_type": "code",
   "execution_count": 294,
   "metadata": {},
   "outputs": [
    {
     "data": {
      "text/html": [
       "<div>\n",
       "<style scoped>\n",
       "    .dataframe tbody tr th:only-of-type {\n",
       "        vertical-align: middle;\n",
       "    }\n",
       "\n",
       "    .dataframe tbody tr th {\n",
       "        vertical-align: top;\n",
       "    }\n",
       "\n",
       "    .dataframe thead tr th {\n",
       "        text-align: left;\n",
       "    }\n",
       "</style>\n",
       "<table border=\"1\" class=\"dataframe\">\n",
       "  <thead>\n",
       "    <tr>\n",
       "      <th></th>\n",
       "      <th colspan=\"2\" halign=\"left\">ADA</th>\n",
       "      <th>DOGE</th>\n",
       "    </tr>\n",
       "    <tr>\n",
       "      <th></th>\n",
       "      <th>sum</th>\n",
       "      <th>max</th>\n",
       "      <th>&lt;lambda&gt;</th>\n",
       "    </tr>\n",
       "  </thead>\n",
       "  <tbody>\n",
       "    <tr>\n",
       "      <th>2018-11-01</th>\n",
       "      <td>NaN</td>\n",
       "      <td>NaN</td>\n",
       "      <td>NaN</td>\n",
       "    </tr>\n",
       "    <tr>\n",
       "      <th>2018-11-02</th>\n",
       "      <td>1.026369</td>\n",
       "      <td>0.589211</td>\n",
       "      <td>0.048701</td>\n",
       "    </tr>\n",
       "    <tr>\n",
       "      <th>2018-11-03</th>\n",
       "      <td>1.483928</td>\n",
       "      <td>0.894716</td>\n",
       "      <td>0.273965</td>\n",
       "    </tr>\n",
       "    <tr>\n",
       "      <th>2018-11-04</th>\n",
       "      <td>1.761712</td>\n",
       "      <td>0.894716</td>\n",
       "      <td>0.273965</td>\n",
       "    </tr>\n",
       "    <tr>\n",
       "      <th>2018-11-05</th>\n",
       "      <td>1.842022</td>\n",
       "      <td>0.975026</td>\n",
       "      <td>0.088779</td>\n",
       "    </tr>\n",
       "    <tr>\n",
       "      <th>...</th>\n",
       "      <td>...</td>\n",
       "      <td>...</td>\n",
       "      <td>...</td>\n",
       "    </tr>\n",
       "    <tr>\n",
       "      <th>2018-12-06</th>\n",
       "      <td>0.942217</td>\n",
       "      <td>0.699109</td>\n",
       "      <td>0.185441</td>\n",
       "    </tr>\n",
       "    <tr>\n",
       "      <th>2018-12-07</th>\n",
       "      <td>1.276465</td>\n",
       "      <td>0.699109</td>\n",
       "      <td>0.123788</td>\n",
       "    </tr>\n",
       "    <tr>\n",
       "      <th>2018-12-08</th>\n",
       "      <td>0.822777</td>\n",
       "      <td>0.577355</td>\n",
       "      <td>0.232302</td>\n",
       "    </tr>\n",
       "    <tr>\n",
       "      <th>2018-12-09</th>\n",
       "      <td>0.706174</td>\n",
       "      <td>0.460752</td>\n",
       "      <td>0.872538</td>\n",
       "    </tr>\n",
       "    <tr>\n",
       "      <th>2018-12-10</th>\n",
       "      <td>1.293830</td>\n",
       "      <td>0.833078</td>\n",
       "      <td>0.872538</td>\n",
       "    </tr>\n",
       "  </tbody>\n",
       "</table>\n",
       "<p>40 rows × 3 columns</p>\n",
       "</div>"
      ],
      "text/plain": [
       "                 ADA                DOGE\n",
       "                 sum       max  <lambda>\n",
       "2018-11-01       NaN       NaN       NaN\n",
       "2018-11-02  1.026369  0.589211  0.048701\n",
       "2018-11-03  1.483928  0.894716  0.273965\n",
       "2018-11-04  1.761712  0.894716  0.273965\n",
       "2018-11-05  1.842022  0.975026  0.088779\n",
       "...              ...       ...       ...\n",
       "2018-12-06  0.942217  0.699109  0.185441\n",
       "2018-12-07  1.276465  0.699109  0.123788\n",
       "2018-12-08  0.822777  0.577355  0.232302\n",
       "2018-12-09  0.706174  0.460752  0.872538\n",
       "2018-12-10  1.293830  0.833078  0.872538\n",
       "\n",
       "[40 rows x 3 columns]"
      ]
     },
     "execution_count": 294,
     "metadata": {},
     "output_type": "execute_result"
    }
   ],
   "source": [
    "# Сделать несколько агрегаций (для каждой колонки свои)\n",
    "price.rolling(window=2).agg({'ADA': [sum, max], 'DOGE': lambda series: max(series ** 2)})"
   ]
  },
  {
   "cell_type": "markdown",
   "metadata": {},
   "source": [
    "Объект ewm работает аналогично rolling с тем лишь отличием, что он назначает веса. Числам $x_0,\\ldots,x_t$ можно будут назначены веса $(1-\\alpha)^t, (1-\\alpha)^{t-1}, \\ldots, 1$, где $\\alpha$ - параметр сглаживания. Например, экспоненциальное скользящее среднее будет вычисляться по формуле \n",
    "$$\n",
    "ewm_{\\alpha}(x)=\\frac{\\sum_{i=0}^t (1-\\alpha)^{t-i} x_i}{\\sum_{i=0}^t(1-\\alpha)^i}\n",
    "$$\n",
    "Иногда деления на сумму весов не делают. Для этого в объекте ewm надо указать adjust=False"
   ]
  },
  {
   "cell_type": "code",
   "execution_count": 295,
   "metadata": {},
   "outputs": [
    {
     "data": {
      "text/html": [
       "<div>\n",
       "<style scoped>\n",
       "    .dataframe tbody tr th:only-of-type {\n",
       "        vertical-align: middle;\n",
       "    }\n",
       "\n",
       "    .dataframe tbody tr th {\n",
       "        vertical-align: top;\n",
       "    }\n",
       "\n",
       "    .dataframe thead th {\n",
       "        text-align: right;\n",
       "    }\n",
       "</style>\n",
       "<table border=\"1\" class=\"dataframe\">\n",
       "  <thead>\n",
       "    <tr style=\"text-align: right;\">\n",
       "      <th></th>\n",
       "      <th>ADA</th>\n",
       "      <th>DOGE</th>\n",
       "    </tr>\n",
       "  </thead>\n",
       "  <tbody>\n",
       "    <tr>\n",
       "      <th>2018-11-01</th>\n",
       "      <td>0.437158</td>\n",
       "      <td>0.220682</td>\n",
       "    </tr>\n",
       "    <tr>\n",
       "      <th>2018-11-02</th>\n",
       "      <td>0.513185</td>\n",
       "      <td>0.179790</td>\n",
       "    </tr>\n",
       "    <tr>\n",
       "      <th>2018-11-03</th>\n",
       "      <td>0.703950</td>\n",
       "      <td>0.351603</td>\n",
       "    </tr>\n",
       "    <tr>\n",
       "      <th>2018-11-04</th>\n",
       "      <td>0.785473</td>\n",
       "      <td>0.185308</td>\n",
       "    </tr>\n",
       "    <tr>\n",
       "      <th>2018-11-05</th>\n",
       "      <td>0.880249</td>\n",
       "      <td>0.241633</td>\n",
       "    </tr>\n",
       "    <tr>\n",
       "      <th>...</th>\n",
       "      <td>...</td>\n",
       "      <td>...</td>\n",
       "    </tr>\n",
       "    <tr>\n",
       "      <th>2018-12-06</th>\n",
       "      <td>0.508571</td>\n",
       "      <td>0.438178</td>\n",
       "    </tr>\n",
       "    <tr>\n",
       "      <th>2018-12-07</th>\n",
       "      <td>0.542963</td>\n",
       "      <td>0.373812</td>\n",
       "    </tr>\n",
       "    <tr>\n",
       "      <th>2018-12-08</th>\n",
       "      <td>0.394192</td>\n",
       "      <td>0.427895</td>\n",
       "    </tr>\n",
       "    <tr>\n",
       "      <th>2018-12-09</th>\n",
       "      <td>0.427472</td>\n",
       "      <td>0.680996</td>\n",
       "    </tr>\n",
       "    <tr>\n",
       "      <th>2018-12-10</th>\n",
       "      <td>0.630275</td>\n",
       "      <td>0.446380</td>\n",
       "    </tr>\n",
       "  </tbody>\n",
       "</table>\n",
       "<p>40 rows × 2 columns</p>\n",
       "</div>"
      ],
      "text/plain": [
       "                 ADA      DOGE\n",
       "2018-11-01  0.437158  0.220682\n",
       "2018-11-02  0.513185  0.179790\n",
       "2018-11-03  0.703950  0.351603\n",
       "2018-11-04  0.785473  0.185308\n",
       "2018-11-05  0.880249  0.241633\n",
       "...              ...       ...\n",
       "2018-12-06  0.508571  0.438178\n",
       "2018-12-07  0.542963  0.373812\n",
       "2018-12-08  0.394192  0.427895\n",
       "2018-12-09  0.427472  0.680996\n",
       "2018-12-10  0.630275  0.446380\n",
       "\n",
       "[40 rows x 2 columns]"
      ]
     },
     "execution_count": 295,
     "metadata": {},
     "output_type": "execute_result"
    }
   ],
   "source": [
    "# Скользящее среднее cо сглаживанием alpha без нормализации.\n",
    "price.ewm(alpha=0.5, adjust=False).mean()"
   ]
  },
  {
   "cell_type": "code",
   "execution_count": 296,
   "metadata": {},
   "outputs": [],
   "source": [
    "del price"
   ]
  },
  {
   "cell_type": "code",
   "execution_count": null,
   "metadata": {},
   "outputs": [],
   "source": []
  },
  {
   "cell_type": "markdown",
   "metadata": {},
   "source": [
    "#### 10.2. Работа с группами"
   ]
  },
  {
   "cell_type": "markdown",
   "metadata": {},
   "source": [
    "Иногда хочется разбить данные по группам и посчитать статистики преобразовать пофильтровать. Для этого есть метод groupby. Он возвращает специальный объект для работы со сгруппированными данными."
   ]
  },
  {
   "cell_type": "code",
   "execution_count": 356,
   "metadata": {},
   "outputs": [],
   "source": [
    "operations = pd.DataFrame(\n",
    "    data=[\n",
    "        ['DOGE', 'buy', 5000, 0.2],\n",
    "        ['BTC', 'buy', 10, 6000],\n",
    "        ['BTC', 'buy', 2.5, 5900],\n",
    "        ['DOGE', 'sell', 3000, 0.1],\n",
    "        ['BTC', 'sell', 4, 6200],\n",
    "        ['ETH', 'sell', 10, 400],\n",
    "        ['BTC', 'buy', 1, 5600],\n",
    "        ['ETH', 'buy', 20, 350],\n",
    "        ['ETH', 'sell', 10, 300],\n",
    "        ['DOGE', 'sell', 3000, 0.15]\n",
    "    ],\n",
    "    columns=['symbol', 'type', 'amount', 'price'],\n",
    "    index=pd.date_range('2018-01-01', periods=10)\n",
    ")"
   ]
  },
  {
   "cell_type": "code",
   "execution_count": 357,
   "metadata": {},
   "outputs": [
    {
     "data": {
      "text/html": [
       "<div>\n",
       "<style scoped>\n",
       "    .dataframe tbody tr th:only-of-type {\n",
       "        vertical-align: middle;\n",
       "    }\n",
       "\n",
       "    .dataframe tbody tr th {\n",
       "        vertical-align: top;\n",
       "    }\n",
       "\n",
       "    .dataframe thead th {\n",
       "        text-align: right;\n",
       "    }\n",
       "</style>\n",
       "<table border=\"1\" class=\"dataframe\">\n",
       "  <thead>\n",
       "    <tr style=\"text-align: right;\">\n",
       "      <th></th>\n",
       "      <th>symbol</th>\n",
       "      <th>type</th>\n",
       "      <th>amount</th>\n",
       "      <th>price</th>\n",
       "    </tr>\n",
       "  </thead>\n",
       "  <tbody>\n",
       "    <tr>\n",
       "      <th>2018-01-01</th>\n",
       "      <td>DOGE</td>\n",
       "      <td>buy</td>\n",
       "      <td>5000.0</td>\n",
       "      <td>0.20</td>\n",
       "    </tr>\n",
       "    <tr>\n",
       "      <th>2018-01-02</th>\n",
       "      <td>BTC</td>\n",
       "      <td>buy</td>\n",
       "      <td>10.0</td>\n",
       "      <td>6000.00</td>\n",
       "    </tr>\n",
       "    <tr>\n",
       "      <th>2018-01-03</th>\n",
       "      <td>BTC</td>\n",
       "      <td>buy</td>\n",
       "      <td>2.5</td>\n",
       "      <td>5900.00</td>\n",
       "    </tr>\n",
       "    <tr>\n",
       "      <th>2018-01-04</th>\n",
       "      <td>DOGE</td>\n",
       "      <td>sell</td>\n",
       "      <td>3000.0</td>\n",
       "      <td>0.10</td>\n",
       "    </tr>\n",
       "    <tr>\n",
       "      <th>2018-01-05</th>\n",
       "      <td>BTC</td>\n",
       "      <td>sell</td>\n",
       "      <td>4.0</td>\n",
       "      <td>6200.00</td>\n",
       "    </tr>\n",
       "    <tr>\n",
       "      <th>2018-01-06</th>\n",
       "      <td>ETH</td>\n",
       "      <td>sell</td>\n",
       "      <td>10.0</td>\n",
       "      <td>400.00</td>\n",
       "    </tr>\n",
       "    <tr>\n",
       "      <th>2018-01-07</th>\n",
       "      <td>BTC</td>\n",
       "      <td>buy</td>\n",
       "      <td>1.0</td>\n",
       "      <td>5600.00</td>\n",
       "    </tr>\n",
       "    <tr>\n",
       "      <th>2018-01-08</th>\n",
       "      <td>ETH</td>\n",
       "      <td>buy</td>\n",
       "      <td>20.0</td>\n",
       "      <td>350.00</td>\n",
       "    </tr>\n",
       "    <tr>\n",
       "      <th>2018-01-09</th>\n",
       "      <td>ETH</td>\n",
       "      <td>sell</td>\n",
       "      <td>10.0</td>\n",
       "      <td>300.00</td>\n",
       "    </tr>\n",
       "    <tr>\n",
       "      <th>2018-01-10</th>\n",
       "      <td>DOGE</td>\n",
       "      <td>sell</td>\n",
       "      <td>3000.0</td>\n",
       "      <td>0.15</td>\n",
       "    </tr>\n",
       "  </tbody>\n",
       "</table>\n",
       "</div>"
      ],
      "text/plain": [
       "           symbol  type  amount    price\n",
       "2018-01-01   DOGE   buy  5000.0     0.20\n",
       "2018-01-02    BTC   buy    10.0  6000.00\n",
       "2018-01-03    BTC   buy     2.5  5900.00\n",
       "2018-01-04   DOGE  sell  3000.0     0.10\n",
       "2018-01-05    BTC  sell     4.0  6200.00\n",
       "2018-01-06    ETH  sell    10.0   400.00\n",
       "2018-01-07    BTC   buy     1.0  5600.00\n",
       "2018-01-08    ETH   buy    20.0   350.00\n",
       "2018-01-09    ETH  sell    10.0   300.00\n",
       "2018-01-10   DOGE  sell  3000.0     0.15"
      ]
     },
     "execution_count": 357,
     "metadata": {},
     "output_type": "execute_result"
    }
   ],
   "source": [
    "operations"
   ]
  },
  {
   "cell_type": "code",
   "execution_count": 358,
   "metadata": {},
   "outputs": [
    {
     "data": {
      "text/plain": [
       "<pandas.core.groupby.DataFrameGroupBy object at 0x000001BF8DAEA208>"
      ]
     },
     "execution_count": 358,
     "metadata": {},
     "output_type": "execute_result"
    }
   ],
   "source": [
    "# Сгруппировать операции по типу монеты\n",
    "operations.groupby('symbol')"
   ]
  },
  {
   "cell_type": "code",
   "execution_count": 359,
   "metadata": {},
   "outputs": [
    {
     "data": {
      "text/plain": [
       "<pandas.core.groupby.DataFrameGroupBy object at 0x000001BF8DA53278>"
      ]
     },
     "execution_count": 359,
     "metadata": {},
     "output_type": "execute_result"
    }
   ],
   "source": [
    "# Сгруппировать операции по типу монеты и типу операции\n",
    "operations.groupby(['symbol', 'type'])"
   ]
  },
  {
   "cell_type": "code",
   "execution_count": 360,
   "metadata": {},
   "outputs": [
    {
     "data": {
      "text/plain": [
       "{('BTC',\n",
       "  'buy'): DatetimeIndex(['2018-01-02', '2018-01-03', '2018-01-07'], dtype='datetime64[ns]', freq=None),\n",
       " ('BTC',\n",
       "  'sell'): DatetimeIndex(['2018-01-05'], dtype='datetime64[ns]', freq='D'),\n",
       " ('DOGE',\n",
       "  'buy'): DatetimeIndex(['2018-01-01'], dtype='datetime64[ns]', freq='D'),\n",
       " ('DOGE',\n",
       "  'sell'): DatetimeIndex(['2018-01-04', '2018-01-10'], dtype='datetime64[ns]', freq='6D'),\n",
       " ('ETH',\n",
       "  'buy'): DatetimeIndex(['2018-01-08'], dtype='datetime64[ns]', freq='D'),\n",
       " ('ETH',\n",
       "  'sell'): DatetimeIndex(['2018-01-06', '2018-01-09'], dtype='datetime64[ns]', freq='3D')}"
      ]
     },
     "execution_count": 360,
     "metadata": {},
     "output_type": "execute_result"
    }
   ],
   "source": [
    "# Получить индексы строк каждой группы\n",
    "operations.groupby(['symbol', 'type']).groups"
   ]
  },
  {
   "cell_type": "code",
   "execution_count": 361,
   "metadata": {},
   "outputs": [
    {
     "name": "stdout",
     "output_type": "stream",
     "text": [
      "('BTC', 'buy')\n",
      "           symbol type  amount   price\n",
      "2018-01-02    BTC  buy    10.0  6000.0\n",
      "2018-01-03    BTC  buy     2.5  5900.0\n",
      "2018-01-07    BTC  buy     1.0  5600.0\n",
      "('BTC', 'sell')\n",
      "           symbol  type  amount   price\n",
      "2018-01-05    BTC  sell     4.0  6200.0\n",
      "('DOGE', 'buy')\n",
      "           symbol type  amount  price\n",
      "2018-01-01   DOGE  buy  5000.0    0.2\n",
      "('DOGE', 'sell')\n",
      "           symbol  type  amount  price\n",
      "2018-01-04   DOGE  sell  3000.0   0.10\n",
      "2018-01-10   DOGE  sell  3000.0   0.15\n",
      "('ETH', 'buy')\n",
      "           symbol type  amount  price\n",
      "2018-01-08    ETH  buy    20.0  350.0\n",
      "('ETH', 'sell')\n",
      "           symbol  type  amount  price\n",
      "2018-01-06    ETH  sell    10.0  400.0\n",
      "2018-01-09    ETH  sell    10.0  300.0\n"
     ]
    }
   ],
   "source": [
    "# Посмотреть на содержимое каждой группы \n",
    "for name, group in operations.groupby(['symbol', 'type']):\n",
    "    print(name)\n",
    "    print(group)"
   ]
  },
  {
   "cell_type": "code",
   "execution_count": 362,
   "metadata": {},
   "outputs": [
    {
     "data": {
      "text/html": [
       "<div>\n",
       "<style scoped>\n",
       "    .dataframe tbody tr th:only-of-type {\n",
       "        vertical-align: middle;\n",
       "    }\n",
       "\n",
       "    .dataframe tbody tr th {\n",
       "        vertical-align: top;\n",
       "    }\n",
       "\n",
       "    .dataframe thead th {\n",
       "        text-align: right;\n",
       "    }\n",
       "</style>\n",
       "<table border=\"1\" class=\"dataframe\">\n",
       "  <thead>\n",
       "    <tr style=\"text-align: right;\">\n",
       "      <th></th>\n",
       "      <th>symbol</th>\n",
       "      <th>type</th>\n",
       "      <th>amount</th>\n",
       "      <th>price</th>\n",
       "    </tr>\n",
       "  </thead>\n",
       "  <tbody>\n",
       "    <tr>\n",
       "      <th>2018-01-02</th>\n",
       "      <td>BTC</td>\n",
       "      <td>buy</td>\n",
       "      <td>10.0</td>\n",
       "      <td>6000.0</td>\n",
       "    </tr>\n",
       "    <tr>\n",
       "      <th>2018-01-03</th>\n",
       "      <td>BTC</td>\n",
       "      <td>buy</td>\n",
       "      <td>2.5</td>\n",
       "      <td>5900.0</td>\n",
       "    </tr>\n",
       "    <tr>\n",
       "      <th>2018-01-07</th>\n",
       "      <td>BTC</td>\n",
       "      <td>buy</td>\n",
       "      <td>1.0</td>\n",
       "      <td>5600.0</td>\n",
       "    </tr>\n",
       "  </tbody>\n",
       "</table>\n",
       "</div>"
      ],
      "text/plain": [
       "           symbol type  amount   price\n",
       "2018-01-02    BTC  buy    10.0  6000.0\n",
       "2018-01-03    BTC  buy     2.5  5900.0\n",
       "2018-01-07    BTC  buy     1.0  5600.0"
      ]
     },
     "execution_count": 362,
     "metadata": {},
     "output_type": "execute_result"
    }
   ],
   "source": [
    "# Получить группу\n",
    "operations.groupby(['symbol', 'type']).get_group(('BTC', 'buy'))"
   ]
  },
  {
   "cell_type": "markdown",
   "metadata": {},
   "source": [
    "Теперь мосмотрим как агрегировать данные для каждой группы"
   ]
  },
  {
   "cell_type": "code",
   "execution_count": 363,
   "metadata": {},
   "outputs": [
    {
     "data": {
      "text/plain": [
       "symbol  type\n",
       "BTC     buy       13.5\n",
       "        sell       4.0\n",
       "DOGE    buy     5000.0\n",
       "        sell    6000.0\n",
       "ETH     buy       20.0\n",
       "        sell      20.0\n",
       "Name: amount, dtype: float64"
      ]
     },
     "execution_count": 363,
     "metadata": {},
     "output_type": "execute_result"
    }
   ],
   "source": [
    "# Найти обороты для каждой монеты и операции\n",
    "grouper = operations.groupby(['symbol', 'type'])\n",
    "grouper['amount'].agg(sum)"
   ]
  },
  {
   "cell_type": "code",
   "execution_count": 365,
   "metadata": {},
   "outputs": [
    {
     "data": {
      "text/html": [
       "<div>\n",
       "<style scoped>\n",
       "    .dataframe tbody tr th:only-of-type {\n",
       "        vertical-align: middle;\n",
       "    }\n",
       "\n",
       "    .dataframe tbody tr th {\n",
       "        vertical-align: top;\n",
       "    }\n",
       "\n",
       "    .dataframe thead th {\n",
       "        text-align: right;\n",
       "    }\n",
       "</style>\n",
       "<table border=\"1\" class=\"dataframe\">\n",
       "  <thead>\n",
       "    <tr style=\"text-align: right;\">\n",
       "      <th></th>\n",
       "      <th></th>\n",
       "      <th>amount</th>\n",
       "      <th>price</th>\n",
       "    </tr>\n",
       "    <tr>\n",
       "      <th>symbol</th>\n",
       "      <th>type</th>\n",
       "      <th></th>\n",
       "      <th></th>\n",
       "    </tr>\n",
       "  </thead>\n",
       "  <tbody>\n",
       "    <tr>\n",
       "      <th rowspan=\"2\" valign=\"top\">BTC</th>\n",
       "      <th>buy</th>\n",
       "      <td>13.5</td>\n",
       "      <td>5833.333333</td>\n",
       "    </tr>\n",
       "    <tr>\n",
       "      <th>sell</th>\n",
       "      <td>4.0</td>\n",
       "      <td>6200.000000</td>\n",
       "    </tr>\n",
       "    <tr>\n",
       "      <th rowspan=\"2\" valign=\"top\">DOGE</th>\n",
       "      <th>buy</th>\n",
       "      <td>5000.0</td>\n",
       "      <td>0.200000</td>\n",
       "    </tr>\n",
       "    <tr>\n",
       "      <th>sell</th>\n",
       "      <td>6000.0</td>\n",
       "      <td>0.125000</td>\n",
       "    </tr>\n",
       "    <tr>\n",
       "      <th rowspan=\"2\" valign=\"top\">ETH</th>\n",
       "      <th>buy</th>\n",
       "      <td>20.0</td>\n",
       "      <td>350.000000</td>\n",
       "    </tr>\n",
       "    <tr>\n",
       "      <th>sell</th>\n",
       "      <td>20.0</td>\n",
       "      <td>350.000000</td>\n",
       "    </tr>\n",
       "  </tbody>\n",
       "</table>\n",
       "</div>"
      ],
      "text/plain": [
       "             amount        price\n",
       "symbol type                     \n",
       "BTC    buy     13.5  5833.333333\n",
       "       sell     4.0  6200.000000\n",
       "DOGE   buy   5000.0     0.200000\n",
       "       sell  6000.0     0.125000\n",
       "ETH    buy     20.0   350.000000\n",
       "       sell    20.0   350.000000"
      ]
     },
     "execution_count": 365,
     "metadata": {},
     "output_type": "execute_result"
    }
   ],
   "source": [
    "operations.groupby(['symbol', 'type']).agg({'amount': sum, 'price': lambda series: series.mean()})"
   ]
  },
  {
   "cell_type": "code",
   "execution_count": 305,
   "metadata": {},
   "outputs": [
    {
     "data": {
      "text/html": [
       "<div>\n",
       "<style scoped>\n",
       "    .dataframe tbody tr th:only-of-type {\n",
       "        vertical-align: middle;\n",
       "    }\n",
       "\n",
       "    .dataframe tbody tr th {\n",
       "        vertical-align: top;\n",
       "    }\n",
       "\n",
       "    .dataframe thead th {\n",
       "        text-align: right;\n",
       "    }\n",
       "</style>\n",
       "<table border=\"1\" class=\"dataframe\">\n",
       "  <thead>\n",
       "    <tr style=\"text-align: right;\">\n",
       "      <th></th>\n",
       "      <th></th>\n",
       "      <th>sum</th>\n",
       "      <th>max</th>\n",
       "    </tr>\n",
       "    <tr>\n",
       "      <th>symbol</th>\n",
       "      <th>type</th>\n",
       "      <th></th>\n",
       "      <th></th>\n",
       "    </tr>\n",
       "  </thead>\n",
       "  <tbody>\n",
       "    <tr>\n",
       "      <th rowspan=\"2\" valign=\"top\">BTC</th>\n",
       "      <th>buy</th>\n",
       "      <td>13.5</td>\n",
       "      <td>10.0</td>\n",
       "    </tr>\n",
       "    <tr>\n",
       "      <th>sell</th>\n",
       "      <td>4.0</td>\n",
       "      <td>4.0</td>\n",
       "    </tr>\n",
       "    <tr>\n",
       "      <th rowspan=\"2\" valign=\"top\">DOGE</th>\n",
       "      <th>buy</th>\n",
       "      <td>5000.0</td>\n",
       "      <td>5000.0</td>\n",
       "    </tr>\n",
       "    <tr>\n",
       "      <th>sell</th>\n",
       "      <td>6000.0</td>\n",
       "      <td>3000.0</td>\n",
       "    </tr>\n",
       "    <tr>\n",
       "      <th rowspan=\"2\" valign=\"top\">ETH</th>\n",
       "      <th>buy</th>\n",
       "      <td>20.0</td>\n",
       "      <td>20.0</td>\n",
       "    </tr>\n",
       "    <tr>\n",
       "      <th>sell</th>\n",
       "      <td>20.0</td>\n",
       "      <td>10.0</td>\n",
       "    </tr>\n",
       "  </tbody>\n",
       "</table>\n",
       "</div>"
      ],
      "text/plain": [
       "                sum     max\n",
       "symbol type                \n",
       "BTC    buy     13.5    10.0\n",
       "       sell     4.0     4.0\n",
       "DOGE   buy   5000.0  5000.0\n",
       "       sell  6000.0  3000.0\n",
       "ETH    buy     20.0    20.0\n",
       "       sell    20.0    10.0"
      ]
     },
     "execution_count": 305,
     "metadata": {},
     "output_type": "execute_result"
    }
   ],
   "source": [
    "# Найти обороты и самые крупные сделки для каждой монеты и операции\n",
    "grouper = operations.groupby(['symbol', 'type'])\n",
    "grouper['amount'].agg([sum, max])"
   ]
  },
  {
   "cell_type": "code",
   "execution_count": 306,
   "metadata": {},
   "outputs": [
    {
     "data": {
      "text/html": [
       "<div>\n",
       "<style scoped>\n",
       "    .dataframe tbody tr th:only-of-type {\n",
       "        vertical-align: middle;\n",
       "    }\n",
       "\n",
       "    .dataframe tbody tr th {\n",
       "        vertical-align: top;\n",
       "    }\n",
       "\n",
       "    .dataframe thead th {\n",
       "        text-align: right;\n",
       "    }\n",
       "</style>\n",
       "<table border=\"1\" class=\"dataframe\">\n",
       "  <thead>\n",
       "    <tr style=\"text-align: right;\">\n",
       "      <th></th>\n",
       "      <th></th>\n",
       "      <th>amount</th>\n",
       "      <th>price</th>\n",
       "    </tr>\n",
       "    <tr>\n",
       "      <th>symbol</th>\n",
       "      <th>type</th>\n",
       "      <th></th>\n",
       "      <th></th>\n",
       "    </tr>\n",
       "  </thead>\n",
       "  <tbody>\n",
       "    <tr>\n",
       "      <th rowspan=\"2\" valign=\"top\">BTC</th>\n",
       "      <th>buy</th>\n",
       "      <td>13.5</td>\n",
       "      <td>5833.333333</td>\n",
       "    </tr>\n",
       "    <tr>\n",
       "      <th>sell</th>\n",
       "      <td>4.0</td>\n",
       "      <td>6200.000000</td>\n",
       "    </tr>\n",
       "    <tr>\n",
       "      <th rowspan=\"2\" valign=\"top\">DOGE</th>\n",
       "      <th>buy</th>\n",
       "      <td>5000.0</td>\n",
       "      <td>0.200000</td>\n",
       "    </tr>\n",
       "    <tr>\n",
       "      <th>sell</th>\n",
       "      <td>6000.0</td>\n",
       "      <td>0.125000</td>\n",
       "    </tr>\n",
       "    <tr>\n",
       "      <th rowspan=\"2\" valign=\"top\">ETH</th>\n",
       "      <th>buy</th>\n",
       "      <td>20.0</td>\n",
       "      <td>350.000000</td>\n",
       "    </tr>\n",
       "    <tr>\n",
       "      <th>sell</th>\n",
       "      <td>20.0</td>\n",
       "      <td>350.000000</td>\n",
       "    </tr>\n",
       "  </tbody>\n",
       "</table>\n",
       "</div>"
      ],
      "text/plain": [
       "             amount        price\n",
       "symbol type                     \n",
       "BTC    buy     13.5  5833.333333\n",
       "       sell     4.0  6200.000000\n",
       "DOGE   buy   5000.0     0.200000\n",
       "       sell  6000.0     0.125000\n",
       "ETH    buy     20.0   350.000000\n",
       "       sell    20.0   350.000000"
      ]
     },
     "execution_count": 306,
     "metadata": {},
     "output_type": "execute_result"
    }
   ],
   "source": [
    "# Найти обороты и среднюю цену для каждой монеты и операции\n",
    "grouper = operations.groupby(['symbol', 'type'])\n",
    "grouper.agg({'amount': sum, 'price': lambda series: series.mean()})"
   ]
  },
  {
   "cell_type": "markdown",
   "metadata": {},
   "source": [
    "Сгруппированные данные можно не только агрегировать, но и преобразовывать. На вход пользовательского преобразования приходит pandas.Series и ожидается pandas.Series"
   ]
  },
  {
   "cell_type": "code",
   "execution_count": 307,
   "metadata": {},
   "outputs": [
    {
     "data": {
      "text/html": [
       "<div>\n",
       "<style scoped>\n",
       "    .dataframe tbody tr th:only-of-type {\n",
       "        vertical-align: middle;\n",
       "    }\n",
       "\n",
       "    .dataframe tbody tr th {\n",
       "        vertical-align: top;\n",
       "    }\n",
       "\n",
       "    .dataframe thead th {\n",
       "        text-align: right;\n",
       "    }\n",
       "</style>\n",
       "<table border=\"1\" class=\"dataframe\">\n",
       "  <thead>\n",
       "    <tr style=\"text-align: right;\">\n",
       "      <th></th>\n",
       "      <th>amount</th>\n",
       "      <th>price</th>\n",
       "    </tr>\n",
       "  </thead>\n",
       "  <tbody>\n",
       "    <tr>\n",
       "      <th>2018-01-01</th>\n",
       "      <td>1.000000</td>\n",
       "      <td>1.000000</td>\n",
       "    </tr>\n",
       "    <tr>\n",
       "      <th>2018-01-02</th>\n",
       "      <td>2.222222</td>\n",
       "      <td>1.028571</td>\n",
       "    </tr>\n",
       "    <tr>\n",
       "      <th>2018-01-03</th>\n",
       "      <td>0.555556</td>\n",
       "      <td>1.011429</td>\n",
       "    </tr>\n",
       "    <tr>\n",
       "      <th>2018-01-04</th>\n",
       "      <td>1.000000</td>\n",
       "      <td>0.800000</td>\n",
       "    </tr>\n",
       "    <tr>\n",
       "      <th>2018-01-05</th>\n",
       "      <td>1.000000</td>\n",
       "      <td>1.000000</td>\n",
       "    </tr>\n",
       "    <tr>\n",
       "      <th>2018-01-06</th>\n",
       "      <td>1.000000</td>\n",
       "      <td>1.142857</td>\n",
       "    </tr>\n",
       "    <tr>\n",
       "      <th>2018-01-07</th>\n",
       "      <td>0.222222</td>\n",
       "      <td>0.960000</td>\n",
       "    </tr>\n",
       "    <tr>\n",
       "      <th>2018-01-08</th>\n",
       "      <td>1.000000</td>\n",
       "      <td>1.000000</td>\n",
       "    </tr>\n",
       "    <tr>\n",
       "      <th>2018-01-09</th>\n",
       "      <td>1.000000</td>\n",
       "      <td>0.857143</td>\n",
       "    </tr>\n",
       "    <tr>\n",
       "      <th>2018-01-10</th>\n",
       "      <td>1.000000</td>\n",
       "      <td>1.200000</td>\n",
       "    </tr>\n",
       "  </tbody>\n",
       "</table>\n",
       "</div>"
      ],
      "text/plain": [
       "              amount     price\n",
       "2018-01-01  1.000000  1.000000\n",
       "2018-01-02  2.222222  1.028571\n",
       "2018-01-03  0.555556  1.011429\n",
       "2018-01-04  1.000000  0.800000\n",
       "2018-01-05  1.000000  1.000000\n",
       "2018-01-06  1.000000  1.142857\n",
       "2018-01-07  0.222222  0.960000\n",
       "2018-01-08  1.000000  1.000000\n",
       "2018-01-09  1.000000  0.857143\n",
       "2018-01-10  1.000000  1.200000"
      ]
     },
     "execution_count": 307,
     "metadata": {},
     "output_type": "execute_result"
    }
   ],
   "source": [
    "# Получить размер группы в которой сидит запись\n",
    "operations.groupby(['symbol', 'type']).transform(lambda series: series.abs() / series.mean())"
   ]
  },
  {
   "cell_type": "markdown",
   "metadata": {},
   "source": [
    "Сгруппированные данные можно фильтровать. Вы можете решить какие группы оставить с помощью вашей функции. Она на вход принимате pandas.DataFrame и возвращает bool"
   ]
  },
  {
   "cell_type": "code",
   "execution_count": 308,
   "metadata": {},
   "outputs": [
    {
     "data": {
      "text/html": [
       "<div>\n",
       "<style scoped>\n",
       "    .dataframe tbody tr th:only-of-type {\n",
       "        vertical-align: middle;\n",
       "    }\n",
       "\n",
       "    .dataframe tbody tr th {\n",
       "        vertical-align: top;\n",
       "    }\n",
       "\n",
       "    .dataframe thead th {\n",
       "        text-align: right;\n",
       "    }\n",
       "</style>\n",
       "<table border=\"1\" class=\"dataframe\">\n",
       "  <thead>\n",
       "    <tr style=\"text-align: right;\">\n",
       "      <th></th>\n",
       "      <th>symbol</th>\n",
       "      <th>type</th>\n",
       "      <th>amount</th>\n",
       "      <th>price</th>\n",
       "    </tr>\n",
       "  </thead>\n",
       "  <tbody>\n",
       "    <tr>\n",
       "      <th>2018-01-01</th>\n",
       "      <td>DOGE</td>\n",
       "      <td>buy</td>\n",
       "      <td>5000.0</td>\n",
       "      <td>0.20</td>\n",
       "    </tr>\n",
       "    <tr>\n",
       "      <th>2018-01-04</th>\n",
       "      <td>DOGE</td>\n",
       "      <td>sell</td>\n",
       "      <td>3000.0</td>\n",
       "      <td>0.10</td>\n",
       "    </tr>\n",
       "    <tr>\n",
       "      <th>2018-01-10</th>\n",
       "      <td>DOGE</td>\n",
       "      <td>sell</td>\n",
       "      <td>3000.0</td>\n",
       "      <td>0.15</td>\n",
       "    </tr>\n",
       "  </tbody>\n",
       "</table>\n",
       "</div>"
      ],
      "text/plain": [
       "           symbol  type  amount  price\n",
       "2018-01-01   DOGE   buy  5000.0   0.20\n",
       "2018-01-04   DOGE  sell  3000.0   0.10\n",
       "2018-01-10   DOGE  sell  3000.0   0.15"
      ]
     },
     "execution_count": 308,
     "metadata": {},
     "output_type": "execute_result"
    }
   ],
   "source": [
    "# Выбрать монеты и операции для которых оборот был больше 20 монет\n",
    "operations.groupby(['symbol', 'type']).filter(lambda table: table['amount'].sum() > 20)"
   ]
  },
  {
   "cell_type": "code",
   "execution_count": 309,
   "metadata": {},
   "outputs": [],
   "source": [
    "del operations, name, group"
   ]
  },
  {
   "cell_type": "markdown",
   "metadata": {},
   "source": [
    "#### 10.3 Сводные таблицы"
   ]
  },
  {
   "cell_type": "markdown",
   "metadata": {},
   "source": [
    "Большинство таблиц в сыром виде похожи на логи где каждая строка это запись. Никакой организации в данных в этих таблицах нет, а хотелось бы. Для этого в pandas существуют сводные таблицы. "
   ]
  },
  {
   "cell_type": "code",
   "execution_count": 310,
   "metadata": {},
   "outputs": [],
   "source": [
    "operations = pd.DataFrame(\n",
    "    data=[\n",
    "        ['DOGE', 'buy', 5000, 0.2, 'Joe Doe', 'success'],\n",
    "        ['BTC', 'buy', 10, 6000, 'Elon Musk', 'error'],\n",
    "        ['BTC', 'buy', 2.5, 5900, 'George Bush', 'success'],\n",
    "        ['DOGE', 'sell', 3000, 0.1, 'John Romero', 'success'],\n",
    "        ['BTC', 'sell', 4, 6200, 'Jack Ma', 'success'],\n",
    "        ['ETH', 'sell', 10, 400, 'Satoshi Nakomoto', 'error'],\n",
    "        ['BTC', 'buy', 1, 5600, 'Vladimir Vladimirovich', 'success'],\n",
    "        ['ETH', 'buy', 20, 350, 'George Bush', 'success'],\n",
    "        ['ETH', 'sell', 10, 300, 'Jack Ma', 'error'],\n",
    "        ['DOGE', 'sell', 3000, 0.15, 'Joe Doe', 'success']\n",
    "    ],\n",
    "    columns=['symbol', 'type', 'amount', 'price', 'user', 'status'],\n",
    "    index=pd.date_range('2018-01-01', periods=10)\n",
    ")"
   ]
  },
  {
   "cell_type": "code",
   "execution_count": 311,
   "metadata": {},
   "outputs": [
    {
     "data": {
      "text/html": [
       "<div>\n",
       "<style scoped>\n",
       "    .dataframe tbody tr th:only-of-type {\n",
       "        vertical-align: middle;\n",
       "    }\n",
       "\n",
       "    .dataframe tbody tr th {\n",
       "        vertical-align: top;\n",
       "    }\n",
       "\n",
       "    .dataframe thead th {\n",
       "        text-align: right;\n",
       "    }\n",
       "</style>\n",
       "<table border=\"1\" class=\"dataframe\">\n",
       "  <thead>\n",
       "    <tr style=\"text-align: right;\">\n",
       "      <th></th>\n",
       "      <th>symbol</th>\n",
       "      <th>type</th>\n",
       "      <th>amount</th>\n",
       "      <th>price</th>\n",
       "      <th>user</th>\n",
       "      <th>status</th>\n",
       "    </tr>\n",
       "  </thead>\n",
       "  <tbody>\n",
       "    <tr>\n",
       "      <th>2018-01-01</th>\n",
       "      <td>DOGE</td>\n",
       "      <td>buy</td>\n",
       "      <td>5000.0</td>\n",
       "      <td>0.20</td>\n",
       "      <td>Joe Doe</td>\n",
       "      <td>success</td>\n",
       "    </tr>\n",
       "    <tr>\n",
       "      <th>2018-01-02</th>\n",
       "      <td>BTC</td>\n",
       "      <td>buy</td>\n",
       "      <td>10.0</td>\n",
       "      <td>6000.00</td>\n",
       "      <td>Elon Musk</td>\n",
       "      <td>error</td>\n",
       "    </tr>\n",
       "    <tr>\n",
       "      <th>2018-01-03</th>\n",
       "      <td>BTC</td>\n",
       "      <td>buy</td>\n",
       "      <td>2.5</td>\n",
       "      <td>5900.00</td>\n",
       "      <td>George Bush</td>\n",
       "      <td>success</td>\n",
       "    </tr>\n",
       "    <tr>\n",
       "      <th>2018-01-04</th>\n",
       "      <td>DOGE</td>\n",
       "      <td>sell</td>\n",
       "      <td>3000.0</td>\n",
       "      <td>0.10</td>\n",
       "      <td>John Romero</td>\n",
       "      <td>success</td>\n",
       "    </tr>\n",
       "    <tr>\n",
       "      <th>2018-01-05</th>\n",
       "      <td>BTC</td>\n",
       "      <td>sell</td>\n",
       "      <td>4.0</td>\n",
       "      <td>6200.00</td>\n",
       "      <td>Jack Ma</td>\n",
       "      <td>success</td>\n",
       "    </tr>\n",
       "    <tr>\n",
       "      <th>2018-01-06</th>\n",
       "      <td>ETH</td>\n",
       "      <td>sell</td>\n",
       "      <td>10.0</td>\n",
       "      <td>400.00</td>\n",
       "      <td>Satoshi Nakomoto</td>\n",
       "      <td>error</td>\n",
       "    </tr>\n",
       "    <tr>\n",
       "      <th>2018-01-07</th>\n",
       "      <td>BTC</td>\n",
       "      <td>buy</td>\n",
       "      <td>1.0</td>\n",
       "      <td>5600.00</td>\n",
       "      <td>Vladimir Vladimirovich</td>\n",
       "      <td>success</td>\n",
       "    </tr>\n",
       "    <tr>\n",
       "      <th>2018-01-08</th>\n",
       "      <td>ETH</td>\n",
       "      <td>buy</td>\n",
       "      <td>20.0</td>\n",
       "      <td>350.00</td>\n",
       "      <td>George Bush</td>\n",
       "      <td>success</td>\n",
       "    </tr>\n",
       "    <tr>\n",
       "      <th>2018-01-09</th>\n",
       "      <td>ETH</td>\n",
       "      <td>sell</td>\n",
       "      <td>10.0</td>\n",
       "      <td>300.00</td>\n",
       "      <td>Jack Ma</td>\n",
       "      <td>error</td>\n",
       "    </tr>\n",
       "    <tr>\n",
       "      <th>2018-01-10</th>\n",
       "      <td>DOGE</td>\n",
       "      <td>sell</td>\n",
       "      <td>3000.0</td>\n",
       "      <td>0.15</td>\n",
       "      <td>Joe Doe</td>\n",
       "      <td>success</td>\n",
       "    </tr>\n",
       "  </tbody>\n",
       "</table>\n",
       "</div>"
      ],
      "text/plain": [
       "           symbol  type  amount    price                    user   status\n",
       "2018-01-01   DOGE   buy  5000.0     0.20                 Joe Doe  success\n",
       "2018-01-02    BTC   buy    10.0  6000.00               Elon Musk    error\n",
       "2018-01-03    BTC   buy     2.5  5900.00             George Bush  success\n",
       "2018-01-04   DOGE  sell  3000.0     0.10             John Romero  success\n",
       "2018-01-05    BTC  sell     4.0  6200.00                 Jack Ma  success\n",
       "2018-01-06    ETH  sell    10.0   400.00        Satoshi Nakomoto    error\n",
       "2018-01-07    BTC   buy     1.0  5600.00  Vladimir Vladimirovich  success\n",
       "2018-01-08    ETH   buy    20.0   350.00             George Bush  success\n",
       "2018-01-09    ETH  sell    10.0   300.00                 Jack Ma    error\n",
       "2018-01-10   DOGE  sell  3000.0     0.15                 Joe Doe  success"
      ]
     },
     "execution_count": 311,
     "metadata": {},
     "output_type": "execute_result"
    }
   ],
   "source": [
    "operations"
   ]
  },
  {
   "cell_type": "markdown",
   "metadata": {},
   "source": [
    "Лучше всего понять как они работают это разобрать пример. Найдем сколько суммарно  было куплено и продано каждого типа монет. В результирующей сводной таблице индексом будет название монеты, колонки - типы транзакций (т.е. покупки или продажи). В самих ячейках будет суммарное количество монет."
   ]
  },
  {
   "cell_type": "code",
   "execution_count": 312,
   "metadata": {},
   "outputs": [
    {
     "data": {
      "text/html": [
       "<div>\n",
       "<style scoped>\n",
       "    .dataframe tbody tr th:only-of-type {\n",
       "        vertical-align: middle;\n",
       "    }\n",
       "\n",
       "    .dataframe tbody tr th {\n",
       "        vertical-align: top;\n",
       "    }\n",
       "\n",
       "    .dataframe thead th {\n",
       "        text-align: right;\n",
       "    }\n",
       "</style>\n",
       "<table border=\"1\" class=\"dataframe\">\n",
       "  <thead>\n",
       "    <tr style=\"text-align: right;\">\n",
       "      <th>type</th>\n",
       "      <th>buy</th>\n",
       "      <th>sell</th>\n",
       "    </tr>\n",
       "    <tr>\n",
       "      <th>symbol</th>\n",
       "      <th></th>\n",
       "      <th></th>\n",
       "    </tr>\n",
       "  </thead>\n",
       "  <tbody>\n",
       "    <tr>\n",
       "      <th>BTC</th>\n",
       "      <td>13.5</td>\n",
       "      <td>4.0</td>\n",
       "    </tr>\n",
       "    <tr>\n",
       "      <th>DOGE</th>\n",
       "      <td>5000.0</td>\n",
       "      <td>6000.0</td>\n",
       "    </tr>\n",
       "    <tr>\n",
       "      <th>ETH</th>\n",
       "      <td>20.0</td>\n",
       "      <td>20.0</td>\n",
       "    </tr>\n",
       "  </tbody>\n",
       "</table>\n",
       "</div>"
      ],
      "text/plain": [
       "type       buy    sell\n",
       "symbol                \n",
       "BTC       13.5     4.0\n",
       "DOGE    5000.0  6000.0\n",
       "ETH       20.0    20.0"
      ]
     },
     "execution_count": 312,
     "metadata": {},
     "output_type": "execute_result"
    }
   ],
   "source": [
    "operations.pivot_table(\n",
    "    values='amount', \n",
    "    index='symbol', \n",
    "    columns='type', \n",
    "    aggfunc='sum'\n",
    ")"
   ]
  },
  {
   "cell_type": "markdown",
   "metadata": {},
   "source": [
    "Если не указывать явно аргумент aggfunc, то агрегация будет через усреднение (а не через суммирование как было в нашем примере). Расмотрим более сложный пример."
   ]
  },
  {
   "cell_type": "code",
   "execution_count": 313,
   "metadata": {},
   "outputs": [
    {
     "data": {
      "text/html": [
       "<div>\n",
       "<style scoped>\n",
       "    .dataframe tbody tr th:only-of-type {\n",
       "        vertical-align: middle;\n",
       "    }\n",
       "\n",
       "    .dataframe tbody tr th {\n",
       "        vertical-align: top;\n",
       "    }\n",
       "\n",
       "    .dataframe thead tr th {\n",
       "        text-align: left;\n",
       "    }\n",
       "\n",
       "    .dataframe thead tr:last-of-type th {\n",
       "        text-align: right;\n",
       "    }\n",
       "</style>\n",
       "<table border=\"1\" class=\"dataframe\">\n",
       "  <thead>\n",
       "    <tr>\n",
       "      <th></th>\n",
       "      <th></th>\n",
       "      <th colspan=\"4\" halign=\"left\">mean</th>\n",
       "      <th colspan=\"4\" halign=\"left\">sum</th>\n",
       "    </tr>\n",
       "    <tr>\n",
       "      <th></th>\n",
       "      <th>type</th>\n",
       "      <th colspan=\"2\" halign=\"left\">buy</th>\n",
       "      <th colspan=\"2\" halign=\"left\">sell</th>\n",
       "      <th colspan=\"2\" halign=\"left\">buy</th>\n",
       "      <th colspan=\"2\" halign=\"left\">sell</th>\n",
       "    </tr>\n",
       "    <tr>\n",
       "      <th></th>\n",
       "      <th>status</th>\n",
       "      <th>error</th>\n",
       "      <th>success</th>\n",
       "      <th>error</th>\n",
       "      <th>success</th>\n",
       "      <th>error</th>\n",
       "      <th>success</th>\n",
       "      <th>error</th>\n",
       "      <th>success</th>\n",
       "    </tr>\n",
       "    <tr>\n",
       "      <th>symbol</th>\n",
       "      <th>user</th>\n",
       "      <th></th>\n",
       "      <th></th>\n",
       "      <th></th>\n",
       "      <th></th>\n",
       "      <th></th>\n",
       "      <th></th>\n",
       "      <th></th>\n",
       "      <th></th>\n",
       "    </tr>\n",
       "  </thead>\n",
       "  <tbody>\n",
       "    <tr>\n",
       "      <th rowspan=\"4\" valign=\"top\">BTC</th>\n",
       "      <th>Elon Musk</th>\n",
       "      <td>10.0</td>\n",
       "      <td>NaN</td>\n",
       "      <td>NaN</td>\n",
       "      <td>NaN</td>\n",
       "      <td>10.0</td>\n",
       "      <td>NaN</td>\n",
       "      <td>NaN</td>\n",
       "      <td>NaN</td>\n",
       "    </tr>\n",
       "    <tr>\n",
       "      <th>George Bush</th>\n",
       "      <td>NaN</td>\n",
       "      <td>2.5</td>\n",
       "      <td>NaN</td>\n",
       "      <td>NaN</td>\n",
       "      <td>NaN</td>\n",
       "      <td>2.5</td>\n",
       "      <td>NaN</td>\n",
       "      <td>NaN</td>\n",
       "    </tr>\n",
       "    <tr>\n",
       "      <th>Jack Ma</th>\n",
       "      <td>NaN</td>\n",
       "      <td>NaN</td>\n",
       "      <td>NaN</td>\n",
       "      <td>4.0</td>\n",
       "      <td>NaN</td>\n",
       "      <td>NaN</td>\n",
       "      <td>NaN</td>\n",
       "      <td>4.0</td>\n",
       "    </tr>\n",
       "    <tr>\n",
       "      <th>Vladimir Vladimirovich</th>\n",
       "      <td>NaN</td>\n",
       "      <td>1.0</td>\n",
       "      <td>NaN</td>\n",
       "      <td>NaN</td>\n",
       "      <td>NaN</td>\n",
       "      <td>1.0</td>\n",
       "      <td>NaN</td>\n",
       "      <td>NaN</td>\n",
       "    </tr>\n",
       "    <tr>\n",
       "      <th rowspan=\"2\" valign=\"top\">DOGE</th>\n",
       "      <th>Joe Doe</th>\n",
       "      <td>NaN</td>\n",
       "      <td>5000.0</td>\n",
       "      <td>NaN</td>\n",
       "      <td>3000.0</td>\n",
       "      <td>NaN</td>\n",
       "      <td>5000.0</td>\n",
       "      <td>NaN</td>\n",
       "      <td>3000.0</td>\n",
       "    </tr>\n",
       "    <tr>\n",
       "      <th>John Romero</th>\n",
       "      <td>NaN</td>\n",
       "      <td>NaN</td>\n",
       "      <td>NaN</td>\n",
       "      <td>3000.0</td>\n",
       "      <td>NaN</td>\n",
       "      <td>NaN</td>\n",
       "      <td>NaN</td>\n",
       "      <td>3000.0</td>\n",
       "    </tr>\n",
       "    <tr>\n",
       "      <th rowspan=\"3\" valign=\"top\">ETH</th>\n",
       "      <th>George Bush</th>\n",
       "      <td>NaN</td>\n",
       "      <td>20.0</td>\n",
       "      <td>NaN</td>\n",
       "      <td>NaN</td>\n",
       "      <td>NaN</td>\n",
       "      <td>20.0</td>\n",
       "      <td>NaN</td>\n",
       "      <td>NaN</td>\n",
       "    </tr>\n",
       "    <tr>\n",
       "      <th>Jack Ma</th>\n",
       "      <td>NaN</td>\n",
       "      <td>NaN</td>\n",
       "      <td>10.0</td>\n",
       "      <td>NaN</td>\n",
       "      <td>NaN</td>\n",
       "      <td>NaN</td>\n",
       "      <td>10.0</td>\n",
       "      <td>NaN</td>\n",
       "    </tr>\n",
       "    <tr>\n",
       "      <th>Satoshi Nakomoto</th>\n",
       "      <td>NaN</td>\n",
       "      <td>NaN</td>\n",
       "      <td>10.0</td>\n",
       "      <td>NaN</td>\n",
       "      <td>NaN</td>\n",
       "      <td>NaN</td>\n",
       "      <td>10.0</td>\n",
       "      <td>NaN</td>\n",
       "    </tr>\n",
       "  </tbody>\n",
       "</table>\n",
       "</div>"
      ],
      "text/plain": [
       "                               mean                         sum                \\\n",
       "type                            buy          sell           buy          sell   \n",
       "status                        error success error success error success error   \n",
       "symbol user                                                                     \n",
       "BTC    Elon Musk               10.0     NaN   NaN     NaN  10.0     NaN   NaN   \n",
       "       George Bush              NaN     2.5   NaN     NaN   NaN     2.5   NaN   \n",
       "       Jack Ma                  NaN     NaN   NaN     4.0   NaN     NaN   NaN   \n",
       "       Vladimir Vladimirovich   NaN     1.0   NaN     NaN   NaN     1.0   NaN   \n",
       "DOGE   Joe Doe                  NaN  5000.0   NaN  3000.0   NaN  5000.0   NaN   \n",
       "       John Romero              NaN     NaN   NaN  3000.0   NaN     NaN   NaN   \n",
       "ETH    George Bush              NaN    20.0   NaN     NaN   NaN    20.0   NaN   \n",
       "       Jack Ma                  NaN     NaN  10.0     NaN   NaN     NaN  10.0   \n",
       "       Satoshi Nakomoto         NaN     NaN  10.0     NaN   NaN     NaN  10.0   \n",
       "\n",
       "                                       \n",
       "type                                   \n",
       "status                        success  \n",
       "symbol user                            \n",
       "BTC    Elon Musk                  NaN  \n",
       "       George Bush                NaN  \n",
       "       Jack Ma                    4.0  \n",
       "       Vladimir Vladimirovich     NaN  \n",
       "DOGE   Joe Doe                 3000.0  \n",
       "       John Romero             3000.0  \n",
       "ETH    George Bush                NaN  \n",
       "       Jack Ma                    NaN  \n",
       "       Satoshi Nakomoto           NaN  "
      ]
     },
     "execution_count": 313,
     "metadata": {},
     "output_type": "execute_result"
    }
   ],
   "source": [
    "operations.pivot_table(\n",
    "    values='amount',\n",
    "    index=['symbol', 'user'],  # Индекс может быть иерархическим и строиться по нескольким колонкам\n",
    "    columns=['type', 'status'],  # Аналогично иерархическими могут быть и колонки\n",
    "    aggfunc={'amount': ['sum', 'mean']}  # Можно вычислять сразу несколько агрегаций\n",
    ")"
   ]
  },
  {
   "cell_type": "markdown",
   "metadata": {},
   "source": [
    "И самый монструозный пример, где мы сделаем сводную таблиц для цен и объемов торгов."
   ]
  },
  {
   "cell_type": "code",
   "execution_count": 314,
   "metadata": {},
   "outputs": [
    {
     "data": {
      "text/html": [
       "<div>\n",
       "<style scoped>\n",
       "    .dataframe tbody tr th:only-of-type {\n",
       "        vertical-align: middle;\n",
       "    }\n",
       "\n",
       "    .dataframe tbody tr th {\n",
       "        vertical-align: top;\n",
       "    }\n",
       "\n",
       "    .dataframe thead tr th {\n",
       "        text-align: left;\n",
       "    }\n",
       "\n",
       "    .dataframe thead tr:last-of-type th {\n",
       "        text-align: right;\n",
       "    }\n",
       "</style>\n",
       "<table border=\"1\" class=\"dataframe\">\n",
       "  <thead>\n",
       "    <tr>\n",
       "      <th></th>\n",
       "      <th></th>\n",
       "      <th colspan=\"8\" halign=\"left\">amount</th>\n",
       "      <th colspan=\"4\" halign=\"left\">price</th>\n",
       "    </tr>\n",
       "    <tr>\n",
       "      <th></th>\n",
       "      <th></th>\n",
       "      <th colspan=\"4\" halign=\"left\">mean</th>\n",
       "      <th colspan=\"4\" halign=\"left\">sum</th>\n",
       "      <th colspan=\"4\" halign=\"left\">max</th>\n",
       "    </tr>\n",
       "    <tr>\n",
       "      <th></th>\n",
       "      <th>type</th>\n",
       "      <th colspan=\"2\" halign=\"left\">buy</th>\n",
       "      <th colspan=\"2\" halign=\"left\">sell</th>\n",
       "      <th colspan=\"2\" halign=\"left\">buy</th>\n",
       "      <th colspan=\"2\" halign=\"left\">sell</th>\n",
       "      <th colspan=\"2\" halign=\"left\">buy</th>\n",
       "      <th colspan=\"2\" halign=\"left\">sell</th>\n",
       "    </tr>\n",
       "    <tr>\n",
       "      <th></th>\n",
       "      <th>status</th>\n",
       "      <th>error</th>\n",
       "      <th>success</th>\n",
       "      <th>error</th>\n",
       "      <th>success</th>\n",
       "      <th>error</th>\n",
       "      <th>success</th>\n",
       "      <th>error</th>\n",
       "      <th>success</th>\n",
       "      <th>error</th>\n",
       "      <th>success</th>\n",
       "      <th>error</th>\n",
       "      <th>success</th>\n",
       "    </tr>\n",
       "    <tr>\n",
       "      <th>symbol</th>\n",
       "      <th>user</th>\n",
       "      <th></th>\n",
       "      <th></th>\n",
       "      <th></th>\n",
       "      <th></th>\n",
       "      <th></th>\n",
       "      <th></th>\n",
       "      <th></th>\n",
       "      <th></th>\n",
       "      <th></th>\n",
       "      <th></th>\n",
       "      <th></th>\n",
       "      <th></th>\n",
       "    </tr>\n",
       "  </thead>\n",
       "  <tbody>\n",
       "    <tr>\n",
       "      <th rowspan=\"4\" valign=\"top\">BTC</th>\n",
       "      <th>Elon Musk</th>\n",
       "      <td>10.0</td>\n",
       "      <td>NaN</td>\n",
       "      <td>NaN</td>\n",
       "      <td>NaN</td>\n",
       "      <td>10.0</td>\n",
       "      <td>NaN</td>\n",
       "      <td>NaN</td>\n",
       "      <td>NaN</td>\n",
       "      <td>6000.0</td>\n",
       "      <td>NaN</td>\n",
       "      <td>NaN</td>\n",
       "      <td>NaN</td>\n",
       "    </tr>\n",
       "    <tr>\n",
       "      <th>George Bush</th>\n",
       "      <td>NaN</td>\n",
       "      <td>2.5</td>\n",
       "      <td>NaN</td>\n",
       "      <td>NaN</td>\n",
       "      <td>NaN</td>\n",
       "      <td>2.5</td>\n",
       "      <td>NaN</td>\n",
       "      <td>NaN</td>\n",
       "      <td>NaN</td>\n",
       "      <td>5900.0</td>\n",
       "      <td>NaN</td>\n",
       "      <td>NaN</td>\n",
       "    </tr>\n",
       "    <tr>\n",
       "      <th>Jack Ma</th>\n",
       "      <td>NaN</td>\n",
       "      <td>NaN</td>\n",
       "      <td>NaN</td>\n",
       "      <td>4.0</td>\n",
       "      <td>NaN</td>\n",
       "      <td>NaN</td>\n",
       "      <td>NaN</td>\n",
       "      <td>4.0</td>\n",
       "      <td>NaN</td>\n",
       "      <td>NaN</td>\n",
       "      <td>NaN</td>\n",
       "      <td>6200.00</td>\n",
       "    </tr>\n",
       "    <tr>\n",
       "      <th>Vladimir Vladimirovich</th>\n",
       "      <td>NaN</td>\n",
       "      <td>1.0</td>\n",
       "      <td>NaN</td>\n",
       "      <td>NaN</td>\n",
       "      <td>NaN</td>\n",
       "      <td>1.0</td>\n",
       "      <td>NaN</td>\n",
       "      <td>NaN</td>\n",
       "      <td>NaN</td>\n",
       "      <td>5600.0</td>\n",
       "      <td>NaN</td>\n",
       "      <td>NaN</td>\n",
       "    </tr>\n",
       "    <tr>\n",
       "      <th rowspan=\"2\" valign=\"top\">DOGE</th>\n",
       "      <th>Joe Doe</th>\n",
       "      <td>NaN</td>\n",
       "      <td>5000.0</td>\n",
       "      <td>NaN</td>\n",
       "      <td>3000.0</td>\n",
       "      <td>NaN</td>\n",
       "      <td>5000.0</td>\n",
       "      <td>NaN</td>\n",
       "      <td>3000.0</td>\n",
       "      <td>NaN</td>\n",
       "      <td>0.2</td>\n",
       "      <td>NaN</td>\n",
       "      <td>0.15</td>\n",
       "    </tr>\n",
       "    <tr>\n",
       "      <th>John Romero</th>\n",
       "      <td>NaN</td>\n",
       "      <td>NaN</td>\n",
       "      <td>NaN</td>\n",
       "      <td>3000.0</td>\n",
       "      <td>NaN</td>\n",
       "      <td>NaN</td>\n",
       "      <td>NaN</td>\n",
       "      <td>3000.0</td>\n",
       "      <td>NaN</td>\n",
       "      <td>NaN</td>\n",
       "      <td>NaN</td>\n",
       "      <td>0.10</td>\n",
       "    </tr>\n",
       "    <tr>\n",
       "      <th rowspan=\"3\" valign=\"top\">ETH</th>\n",
       "      <th>George Bush</th>\n",
       "      <td>NaN</td>\n",
       "      <td>20.0</td>\n",
       "      <td>NaN</td>\n",
       "      <td>NaN</td>\n",
       "      <td>NaN</td>\n",
       "      <td>20.0</td>\n",
       "      <td>NaN</td>\n",
       "      <td>NaN</td>\n",
       "      <td>NaN</td>\n",
       "      <td>350.0</td>\n",
       "      <td>NaN</td>\n",
       "      <td>NaN</td>\n",
       "    </tr>\n",
       "    <tr>\n",
       "      <th>Jack Ma</th>\n",
       "      <td>NaN</td>\n",
       "      <td>NaN</td>\n",
       "      <td>10.0</td>\n",
       "      <td>NaN</td>\n",
       "      <td>NaN</td>\n",
       "      <td>NaN</td>\n",
       "      <td>10.0</td>\n",
       "      <td>NaN</td>\n",
       "      <td>NaN</td>\n",
       "      <td>NaN</td>\n",
       "      <td>300.0</td>\n",
       "      <td>NaN</td>\n",
       "    </tr>\n",
       "    <tr>\n",
       "      <th>Satoshi Nakomoto</th>\n",
       "      <td>NaN</td>\n",
       "      <td>NaN</td>\n",
       "      <td>10.0</td>\n",
       "      <td>NaN</td>\n",
       "      <td>NaN</td>\n",
       "      <td>NaN</td>\n",
       "      <td>10.0</td>\n",
       "      <td>NaN</td>\n",
       "      <td>NaN</td>\n",
       "      <td>NaN</td>\n",
       "      <td>400.0</td>\n",
       "      <td>NaN</td>\n",
       "    </tr>\n",
       "  </tbody>\n",
       "</table>\n",
       "</div>"
      ],
      "text/plain": [
       "                              amount                                      \\\n",
       "                                mean                         sum           \n",
       "type                             buy          sell           buy           \n",
       "status                         error success error success error success   \n",
       "symbol user                                                                \n",
       "BTC    Elon Musk                10.0     NaN   NaN     NaN  10.0     NaN   \n",
       "       George Bush               NaN     2.5   NaN     NaN   NaN     2.5   \n",
       "       Jack Ma                   NaN     NaN   NaN     4.0   NaN     NaN   \n",
       "       Vladimir Vladimirovich    NaN     1.0   NaN     NaN   NaN     1.0   \n",
       "DOGE   Joe Doe                   NaN  5000.0   NaN  3000.0   NaN  5000.0   \n",
       "       John Romero               NaN     NaN   NaN  3000.0   NaN     NaN   \n",
       "ETH    George Bush               NaN    20.0   NaN     NaN   NaN    20.0   \n",
       "       Jack Ma                   NaN     NaN  10.0     NaN   NaN     NaN   \n",
       "       Satoshi Nakomoto          NaN     NaN  10.0     NaN   NaN     NaN   \n",
       "\n",
       "                                              price                          \n",
       "                                                max                          \n",
       "type                           sell             buy           sell           \n",
       "status                        error success   error success  error  success  \n",
       "symbol user                                                                  \n",
       "BTC    Elon Musk                NaN     NaN  6000.0     NaN    NaN      NaN  \n",
       "       George Bush              NaN     NaN     NaN  5900.0    NaN      NaN  \n",
       "       Jack Ma                  NaN     4.0     NaN     NaN    NaN  6200.00  \n",
       "       Vladimir Vladimirovich   NaN     NaN     NaN  5600.0    NaN      NaN  \n",
       "DOGE   Joe Doe                  NaN  3000.0     NaN     0.2    NaN     0.15  \n",
       "       John Romero              NaN  3000.0     NaN     NaN    NaN     0.10  \n",
       "ETH    George Bush              NaN     NaN     NaN   350.0    NaN      NaN  \n",
       "       Jack Ma                 10.0     NaN     NaN     NaN  300.0      NaN  \n",
       "       Satoshi Nakomoto        10.0     NaN     NaN     NaN  400.0      NaN  "
      ]
     },
     "execution_count": 314,
     "metadata": {},
     "output_type": "execute_result"
    }
   ],
   "source": [
    "operations.pivot_table(\n",
    "    values=['amount', 'price'],  # Можно находить статистику по разным числовым показателям\n",
    "    index=['symbol', 'user'],\n",
    "    columns=['type', 'status'],\n",
    "    aggfunc={\n",
    "        'amount': ['sum', 'mean'], \n",
    "        'price': 'max'}  # Тогда дла каждого показателя надо указать какие агрегации вы хотите\n",
    ")"
   ]
  },
  {
   "cell_type": "markdown",
   "metadata": {},
   "source": [
    "Для построения сводных таблиц в pandas есть более простая функция. pandas.pivot. Она не делает никаких агрегаций, поэтому при ее использовании вы должны быть уверены, что на каждую ячейку результирующей сводной таблицы придется только одно значение показателя из исходной таблицы. В противном случае будет ошибка. Можете попоробовать построить сводную таблицу\n",
    "```\n",
    "operations.pivot(values='amount', index='user', columns='user')\n",
    "```\n",
    "чтобы убедиться."
   ]
  },
  {
   "cell_type": "markdown",
   "metadata": {},
   "source": [
    "**Задание:** Самостоятельно разоберитесь с функциями pandas.stack, pandas.unstack и pandas.melt. Вам поможет [этот tutorial](https://pandas.pydata.org/pandas-docs/stable/reshaping.html)"
   ]
  },
  {
   "cell_type": "markdown",
   "metadata": {},
   "source": [
    "### 11. Пропуски и ошибки в данных"
   ]
  },
  {
   "cell_type": "markdown",
   "metadata": {},
   "source": [
    "В реальной жизни данные с которыми надо работать содержат пропуски или просто неверные значения. Мы обсудим как это можно исправить"
   ]
  },
  {
   "cell_type": "code",
   "execution_count": 367,
   "metadata": {},
   "outputs": [],
   "source": [
    "price = pd.DataFrame(\n",
    "    data=[\n",
    "        [0.547, 0.745],\n",
    "        [-2, -1],\n",
    "        [None, 0.718],\n",
    "        [0.135, 0.845],\n",
    "        [0.53, None],\n",
    "        [None, -1]],\n",
    "    columns=['ADA', 'DOGE'],\n",
    "    # Создаем специальный индекс из 6 дней начиная с 2018-11-01 \n",
    "    index=pd.date_range('2018-11-01', periods=6)\n",
    ")"
   ]
  },
  {
   "cell_type": "code",
   "execution_count": 368,
   "metadata": {},
   "outputs": [
    {
     "data": {
      "text/html": [
       "<div>\n",
       "<style scoped>\n",
       "    .dataframe tbody tr th:only-of-type {\n",
       "        vertical-align: middle;\n",
       "    }\n",
       "\n",
       "    .dataframe tbody tr th {\n",
       "        vertical-align: top;\n",
       "    }\n",
       "\n",
       "    .dataframe thead th {\n",
       "        text-align: right;\n",
       "    }\n",
       "</style>\n",
       "<table border=\"1\" class=\"dataframe\">\n",
       "  <thead>\n",
       "    <tr style=\"text-align: right;\">\n",
       "      <th></th>\n",
       "      <th>ADA</th>\n",
       "      <th>DOGE</th>\n",
       "    </tr>\n",
       "  </thead>\n",
       "  <tbody>\n",
       "    <tr>\n",
       "      <th>2018-11-01</th>\n",
       "      <td>0.547</td>\n",
       "      <td>0.745</td>\n",
       "    </tr>\n",
       "    <tr>\n",
       "      <th>2018-11-02</th>\n",
       "      <td>-2.000</td>\n",
       "      <td>-1.000</td>\n",
       "    </tr>\n",
       "    <tr>\n",
       "      <th>2018-11-03</th>\n",
       "      <td>NaN</td>\n",
       "      <td>0.718</td>\n",
       "    </tr>\n",
       "    <tr>\n",
       "      <th>2018-11-04</th>\n",
       "      <td>0.135</td>\n",
       "      <td>0.845</td>\n",
       "    </tr>\n",
       "    <tr>\n",
       "      <th>2018-11-05</th>\n",
       "      <td>0.530</td>\n",
       "      <td>NaN</td>\n",
       "    </tr>\n",
       "    <tr>\n",
       "      <th>2018-11-06</th>\n",
       "      <td>NaN</td>\n",
       "      <td>-1.000</td>\n",
       "    </tr>\n",
       "  </tbody>\n",
       "</table>\n",
       "</div>"
      ],
      "text/plain": [
       "              ADA   DOGE\n",
       "2018-11-01  0.547  0.745\n",
       "2018-11-02 -2.000 -1.000\n",
       "2018-11-03    NaN  0.718\n",
       "2018-11-04  0.135  0.845\n",
       "2018-11-05  0.530    NaN\n",
       "2018-11-06    NaN -1.000"
      ]
     },
     "execution_count": 368,
     "metadata": {},
     "output_type": "execute_result"
    }
   ],
   "source": [
    "price"
   ]
  },
  {
   "cell_type": "code",
   "execution_count": 317,
   "metadata": {},
   "outputs": [
    {
     "data": {
      "text/html": [
       "<div>\n",
       "<style scoped>\n",
       "    .dataframe tbody tr th:only-of-type {\n",
       "        vertical-align: middle;\n",
       "    }\n",
       "\n",
       "    .dataframe tbody tr th {\n",
       "        vertical-align: top;\n",
       "    }\n",
       "\n",
       "    .dataframe thead th {\n",
       "        text-align: right;\n",
       "    }\n",
       "</style>\n",
       "<table border=\"1\" class=\"dataframe\">\n",
       "  <thead>\n",
       "    <tr style=\"text-align: right;\">\n",
       "      <th></th>\n",
       "      <th>ADA</th>\n",
       "      <th>DOGE</th>\n",
       "    </tr>\n",
       "  </thead>\n",
       "  <tbody>\n",
       "    <tr>\n",
       "      <th>2018-11-01</th>\n",
       "      <td>False</td>\n",
       "      <td>False</td>\n",
       "    </tr>\n",
       "    <tr>\n",
       "      <th>2018-11-02</th>\n",
       "      <td>False</td>\n",
       "      <td>False</td>\n",
       "    </tr>\n",
       "    <tr>\n",
       "      <th>2018-11-03</th>\n",
       "      <td>True</td>\n",
       "      <td>False</td>\n",
       "    </tr>\n",
       "    <tr>\n",
       "      <th>2018-11-04</th>\n",
       "      <td>False</td>\n",
       "      <td>False</td>\n",
       "    </tr>\n",
       "    <tr>\n",
       "      <th>2018-11-05</th>\n",
       "      <td>False</td>\n",
       "      <td>True</td>\n",
       "    </tr>\n",
       "    <tr>\n",
       "      <th>2018-11-06</th>\n",
       "      <td>True</td>\n",
       "      <td>False</td>\n",
       "    </tr>\n",
       "  </tbody>\n",
       "</table>\n",
       "</div>"
      ],
      "text/plain": [
       "              ADA   DOGE\n",
       "2018-11-01  False  False\n",
       "2018-11-02  False  False\n",
       "2018-11-03   True  False\n",
       "2018-11-04  False  False\n",
       "2018-11-05  False   True\n",
       "2018-11-06   True  False"
      ]
     },
     "execution_count": 317,
     "metadata": {},
     "output_type": "execute_result"
    }
   ],
   "source": [
    "# Найти места где есть пропуски методом isnull. Аналогично есть метод notnull\n",
    "price.isnull()"
   ]
  },
  {
   "cell_type": "code",
   "execution_count": 318,
   "metadata": {},
   "outputs": [
    {
     "data": {
      "text/html": [
       "<div>\n",
       "<style scoped>\n",
       "    .dataframe tbody tr th:only-of-type {\n",
       "        vertical-align: middle;\n",
       "    }\n",
       "\n",
       "    .dataframe tbody tr th {\n",
       "        vertical-align: top;\n",
       "    }\n",
       "\n",
       "    .dataframe thead th {\n",
       "        text-align: right;\n",
       "    }\n",
       "</style>\n",
       "<table border=\"1\" class=\"dataframe\">\n",
       "  <thead>\n",
       "    <tr style=\"text-align: right;\">\n",
       "      <th></th>\n",
       "      <th>ADA</th>\n",
       "      <th>DOGE</th>\n",
       "    </tr>\n",
       "  </thead>\n",
       "  <tbody>\n",
       "    <tr>\n",
       "      <th>2018-11-01</th>\n",
       "      <td>0.547</td>\n",
       "      <td>0.745</td>\n",
       "    </tr>\n",
       "    <tr>\n",
       "      <th>2018-11-02</th>\n",
       "      <td>-2.000</td>\n",
       "      <td>-1.000</td>\n",
       "    </tr>\n",
       "    <tr>\n",
       "      <th>2018-11-03</th>\n",
       "      <td>0.000</td>\n",
       "      <td>0.718</td>\n",
       "    </tr>\n",
       "    <tr>\n",
       "      <th>2018-11-04</th>\n",
       "      <td>0.135</td>\n",
       "      <td>0.845</td>\n",
       "    </tr>\n",
       "    <tr>\n",
       "      <th>2018-11-05</th>\n",
       "      <td>0.530</td>\n",
       "      <td>0.000</td>\n",
       "    </tr>\n",
       "    <tr>\n",
       "      <th>2018-11-06</th>\n",
       "      <td>0.000</td>\n",
       "      <td>-1.000</td>\n",
       "    </tr>\n",
       "  </tbody>\n",
       "</table>\n",
       "</div>"
      ],
      "text/plain": [
       "              ADA   DOGE\n",
       "2018-11-01  0.547  0.745\n",
       "2018-11-02 -2.000 -1.000\n",
       "2018-11-03  0.000  0.718\n",
       "2018-11-04  0.135  0.845\n",
       "2018-11-05  0.530  0.000\n",
       "2018-11-06  0.000 -1.000"
      ]
     },
     "execution_count": 318,
     "metadata": {},
     "output_type": "execute_result"
    }
   ],
   "source": [
    "# Заполнить все пропуски дефолтным занчением\n",
    "price.fillna(0)"
   ]
  },
  {
   "cell_type": "code",
   "execution_count": 319,
   "metadata": {},
   "outputs": [
    {
     "data": {
      "text/html": [
       "<div>\n",
       "<style scoped>\n",
       "    .dataframe tbody tr th:only-of-type {\n",
       "        vertical-align: middle;\n",
       "    }\n",
       "\n",
       "    .dataframe tbody tr th {\n",
       "        vertical-align: top;\n",
       "    }\n",
       "\n",
       "    .dataframe thead th {\n",
       "        text-align: right;\n",
       "    }\n",
       "</style>\n",
       "<table border=\"1\" class=\"dataframe\">\n",
       "  <thead>\n",
       "    <tr style=\"text-align: right;\">\n",
       "      <th></th>\n",
       "      <th>ADA</th>\n",
       "      <th>DOGE</th>\n",
       "    </tr>\n",
       "  </thead>\n",
       "  <tbody>\n",
       "    <tr>\n",
       "      <th>2018-11-01</th>\n",
       "      <td>0.547</td>\n",
       "      <td>0.745</td>\n",
       "    </tr>\n",
       "    <tr>\n",
       "      <th>2018-11-02</th>\n",
       "      <td>-2.000</td>\n",
       "      <td>-1.000</td>\n",
       "    </tr>\n",
       "    <tr>\n",
       "      <th>2018-11-03</th>\n",
       "      <td>0.135</td>\n",
       "      <td>0.718</td>\n",
       "    </tr>\n",
       "    <tr>\n",
       "      <th>2018-11-04</th>\n",
       "      <td>0.135</td>\n",
       "      <td>0.845</td>\n",
       "    </tr>\n",
       "    <tr>\n",
       "      <th>2018-11-05</th>\n",
       "      <td>0.530</td>\n",
       "      <td>-1.000</td>\n",
       "    </tr>\n",
       "    <tr>\n",
       "      <th>2018-11-06</th>\n",
       "      <td>NaN</td>\n",
       "      <td>-1.000</td>\n",
       "    </tr>\n",
       "  </tbody>\n",
       "</table>\n",
       "</div>"
      ],
      "text/plain": [
       "              ADA   DOGE\n",
       "2018-11-01  0.547  0.745\n",
       "2018-11-02 -2.000 -1.000\n",
       "2018-11-03  0.135  0.718\n",
       "2018-11-04  0.135  0.845\n",
       "2018-11-05  0.530 -1.000\n",
       "2018-11-06    NaN -1.000"
      ]
     },
     "execution_count": 319,
     "metadata": {},
     "output_type": "execute_result"
    }
   ],
   "source": [
    "# Заполнить все пропуски занчениями с предыдущей строки\n",
    "price.fillna(method='bfill')"
   ]
  },
  {
   "cell_type": "code",
   "execution_count": 320,
   "metadata": {},
   "outputs": [
    {
     "data": {
      "text/html": [
       "<div>\n",
       "<style scoped>\n",
       "    .dataframe tbody tr th:only-of-type {\n",
       "        vertical-align: middle;\n",
       "    }\n",
       "\n",
       "    .dataframe tbody tr th {\n",
       "        vertical-align: top;\n",
       "    }\n",
       "\n",
       "    .dataframe thead th {\n",
       "        text-align: right;\n",
       "    }\n",
       "</style>\n",
       "<table border=\"1\" class=\"dataframe\">\n",
       "  <thead>\n",
       "    <tr style=\"text-align: right;\">\n",
       "      <th></th>\n",
       "      <th>ADA</th>\n",
       "      <th>DOGE</th>\n",
       "    </tr>\n",
       "  </thead>\n",
       "  <tbody>\n",
       "    <tr>\n",
       "      <th>2018-11-01</th>\n",
       "      <td>0.547</td>\n",
       "      <td>0.745</td>\n",
       "    </tr>\n",
       "    <tr>\n",
       "      <th>2018-11-02</th>\n",
       "      <td>-2.000</td>\n",
       "      <td>-1.000</td>\n",
       "    </tr>\n",
       "    <tr>\n",
       "      <th>2018-11-03</th>\n",
       "      <td>-2.000</td>\n",
       "      <td>0.718</td>\n",
       "    </tr>\n",
       "    <tr>\n",
       "      <th>2018-11-04</th>\n",
       "      <td>0.135</td>\n",
       "      <td>0.845</td>\n",
       "    </tr>\n",
       "    <tr>\n",
       "      <th>2018-11-05</th>\n",
       "      <td>0.530</td>\n",
       "      <td>0.845</td>\n",
       "    </tr>\n",
       "    <tr>\n",
       "      <th>2018-11-06</th>\n",
       "      <td>0.530</td>\n",
       "      <td>-1.000</td>\n",
       "    </tr>\n",
       "  </tbody>\n",
       "</table>\n",
       "</div>"
      ],
      "text/plain": [
       "              ADA   DOGE\n",
       "2018-11-01  0.547  0.745\n",
       "2018-11-02 -2.000 -1.000\n",
       "2018-11-03 -2.000  0.718\n",
       "2018-11-04  0.135  0.845\n",
       "2018-11-05  0.530  0.845\n",
       "2018-11-06  0.530 -1.000"
      ]
     },
     "execution_count": 320,
     "metadata": {},
     "output_type": "execute_result"
    }
   ],
   "source": [
    "# Заполнить все пропуски занчениями с cледующей строки\n",
    "price.fillna(method='ffill')"
   ]
  },
  {
   "cell_type": "code",
   "execution_count": 321,
   "metadata": {},
   "outputs": [
    {
     "data": {
      "text/html": [
       "<div>\n",
       "<style scoped>\n",
       "    .dataframe tbody tr th:only-of-type {\n",
       "        vertical-align: middle;\n",
       "    }\n",
       "\n",
       "    .dataframe tbody tr th {\n",
       "        vertical-align: top;\n",
       "    }\n",
       "\n",
       "    .dataframe thead th {\n",
       "        text-align: right;\n",
       "    }\n",
       "</style>\n",
       "<table border=\"1\" class=\"dataframe\">\n",
       "  <thead>\n",
       "    <tr style=\"text-align: right;\">\n",
       "      <th></th>\n",
       "      <th>ADA</th>\n",
       "      <th>DOGE</th>\n",
       "    </tr>\n",
       "  </thead>\n",
       "  <tbody>\n",
       "    <tr>\n",
       "      <th>2018-11-01</th>\n",
       "      <td>0.547</td>\n",
       "      <td>0.745</td>\n",
       "    </tr>\n",
       "    <tr>\n",
       "      <th>2018-11-02</th>\n",
       "      <td>-2.000</td>\n",
       "      <td>-1.000</td>\n",
       "    </tr>\n",
       "    <tr>\n",
       "      <th>2018-11-04</th>\n",
       "      <td>0.135</td>\n",
       "      <td>0.845</td>\n",
       "    </tr>\n",
       "  </tbody>\n",
       "</table>\n",
       "</div>"
      ],
      "text/plain": [
       "              ADA   DOGE\n",
       "2018-11-01  0.547  0.745\n",
       "2018-11-02 -2.000 -1.000\n",
       "2018-11-04  0.135  0.845"
      ]
     },
     "execution_count": 321,
     "metadata": {},
     "output_type": "execute_result"
    }
   ],
   "source": [
    "#  Выкинуть строки содержащие nan'ы\n",
    "price.dropna()"
   ]
  },
  {
   "cell_type": "code",
   "execution_count": 322,
   "metadata": {},
   "outputs": [
    {
     "data": {
      "text/html": [
       "<div>\n",
       "<style scoped>\n",
       "    .dataframe tbody tr th:only-of-type {\n",
       "        vertical-align: middle;\n",
       "    }\n",
       "\n",
       "    .dataframe tbody tr th {\n",
       "        vertical-align: top;\n",
       "    }\n",
       "\n",
       "    .dataframe thead th {\n",
       "        text-align: right;\n",
       "    }\n",
       "</style>\n",
       "<table border=\"1\" class=\"dataframe\">\n",
       "  <thead>\n",
       "    <tr style=\"text-align: right;\">\n",
       "      <th></th>\n",
       "    </tr>\n",
       "  </thead>\n",
       "  <tbody>\n",
       "    <tr>\n",
       "      <th>2018-11-01</th>\n",
       "    </tr>\n",
       "    <tr>\n",
       "      <th>2018-11-02</th>\n",
       "    </tr>\n",
       "    <tr>\n",
       "      <th>2018-11-03</th>\n",
       "    </tr>\n",
       "    <tr>\n",
       "      <th>2018-11-04</th>\n",
       "    </tr>\n",
       "    <tr>\n",
       "      <th>2018-11-05</th>\n",
       "    </tr>\n",
       "    <tr>\n",
       "      <th>2018-11-06</th>\n",
       "    </tr>\n",
       "  </tbody>\n",
       "</table>\n",
       "</div>"
      ],
      "text/plain": [
       "Empty DataFrame\n",
       "Columns: []\n",
       "Index: [2018-11-01 00:00:00, 2018-11-02 00:00:00, 2018-11-03 00:00:00, 2018-11-04 00:00:00, 2018-11-05 00:00:00, 2018-11-06 00:00:00]"
      ]
     },
     "execution_count": 322,
     "metadata": {},
     "output_type": "execute_result"
    }
   ],
   "source": [
    "#  Выкинуть колонки содержащие nan'ы\n",
    "price.dropna(axis=1)"
   ]
  },
  {
   "cell_type": "code",
   "execution_count": 323,
   "metadata": {},
   "outputs": [
    {
     "data": {
      "text/html": [
       "<div>\n",
       "<style scoped>\n",
       "    .dataframe tbody tr th:only-of-type {\n",
       "        vertical-align: middle;\n",
       "    }\n",
       "\n",
       "    .dataframe tbody tr th {\n",
       "        vertical-align: top;\n",
       "    }\n",
       "\n",
       "    .dataframe thead th {\n",
       "        text-align: right;\n",
       "    }\n",
       "</style>\n",
       "<table border=\"1\" class=\"dataframe\">\n",
       "  <thead>\n",
       "    <tr style=\"text-align: right;\">\n",
       "      <th></th>\n",
       "      <th>ADA</th>\n",
       "      <th>DOGE</th>\n",
       "    </tr>\n",
       "  </thead>\n",
       "  <tbody>\n",
       "    <tr>\n",
       "      <th>2018-11-01</th>\n",
       "      <td>0.547</td>\n",
       "      <td>0.745</td>\n",
       "    </tr>\n",
       "    <tr>\n",
       "      <th>2018-11-02</th>\n",
       "      <td>0.000</td>\n",
       "      <td>0.000</td>\n",
       "    </tr>\n",
       "    <tr>\n",
       "      <th>2018-11-03</th>\n",
       "      <td>NaN</td>\n",
       "      <td>0.718</td>\n",
       "    </tr>\n",
       "    <tr>\n",
       "      <th>2018-11-04</th>\n",
       "      <td>0.135</td>\n",
       "      <td>0.845</td>\n",
       "    </tr>\n",
       "    <tr>\n",
       "      <th>2018-11-05</th>\n",
       "      <td>0.530</td>\n",
       "      <td>NaN</td>\n",
       "    </tr>\n",
       "    <tr>\n",
       "      <th>2018-11-06</th>\n",
       "      <td>NaN</td>\n",
       "      <td>0.000</td>\n",
       "    </tr>\n",
       "  </tbody>\n",
       "</table>\n",
       "</div>"
      ],
      "text/plain": [
       "              ADA   DOGE\n",
       "2018-11-01  0.547  0.745\n",
       "2018-11-02  0.000  0.000\n",
       "2018-11-03    NaN  0.718\n",
       "2018-11-04  0.135  0.845\n",
       "2018-11-05  0.530    NaN\n",
       "2018-11-06    NaN  0.000"
      ]
     },
     "execution_count": 323,
     "metadata": {},
     "output_type": "execute_result"
    }
   ],
   "source": [
    "# Подменить значения\n",
    "price.replace({-1:0, -2:0})"
   ]
  },
  {
   "cell_type": "code",
   "execution_count": 369,
   "metadata": {},
   "outputs": [
    {
     "data": {
      "text/html": [
       "<div>\n",
       "<style scoped>\n",
       "    .dataframe tbody tr th:only-of-type {\n",
       "        vertical-align: middle;\n",
       "    }\n",
       "\n",
       "    .dataframe tbody tr th {\n",
       "        vertical-align: top;\n",
       "    }\n",
       "\n",
       "    .dataframe thead th {\n",
       "        text-align: right;\n",
       "    }\n",
       "</style>\n",
       "<table border=\"1\" class=\"dataframe\">\n",
       "  <thead>\n",
       "    <tr style=\"text-align: right;\">\n",
       "      <th></th>\n",
       "      <th>ADA</th>\n",
       "      <th>DOGE</th>\n",
       "    </tr>\n",
       "  </thead>\n",
       "  <tbody>\n",
       "    <tr>\n",
       "      <th>2018-11-01</th>\n",
       "      <td>0.547</td>\n",
       "      <td>0.745</td>\n",
       "    </tr>\n",
       "    <tr>\n",
       "      <th>2018-11-02</th>\n",
       "      <td>-2.000</td>\n",
       "      <td>-1.000</td>\n",
       "    </tr>\n",
       "    <tr>\n",
       "      <th>2018-11-03</th>\n",
       "      <td>NaN</td>\n",
       "      <td>0.718</td>\n",
       "    </tr>\n",
       "    <tr>\n",
       "      <th>2018-11-04</th>\n",
       "      <td>0.135</td>\n",
       "      <td>0.845</td>\n",
       "    </tr>\n",
       "    <tr>\n",
       "      <th>2018-11-05</th>\n",
       "      <td>0.530</td>\n",
       "      <td>NaN</td>\n",
       "    </tr>\n",
       "    <tr>\n",
       "      <th>2018-11-06</th>\n",
       "      <td>NaN</td>\n",
       "      <td>-1.000</td>\n",
       "    </tr>\n",
       "  </tbody>\n",
       "</table>\n",
       "</div>"
      ],
      "text/plain": [
       "              ADA   DOGE\n",
       "2018-11-01  0.547  0.745\n",
       "2018-11-02 -2.000 -1.000\n",
       "2018-11-03    NaN  0.718\n",
       "2018-11-04  0.135  0.845\n",
       "2018-11-05  0.530    NaN\n",
       "2018-11-06    NaN -1.000"
      ]
     },
     "execution_count": 369,
     "metadata": {},
     "output_type": "execute_result"
    }
   ],
   "source": [
    "price"
   ]
  },
  {
   "cell_type": "code",
   "execution_count": 325,
   "metadata": {},
   "outputs": [],
   "source": [
    "del price"
   ]
  },
  {
   "cell_type": "markdown",
   "metadata": {},
   "source": [
    "### 12. Слияния и конкатенации таблиц"
   ]
  },
  {
   "cell_type": "markdown",
   "metadata": {},
   "source": [
    "Если у вас есть две таблицы, то информацию в них можно объединить двумя способами: конкатенация (\"прилепить снизу новую таблицу\") и объединение (найти объединение записей таблиц если у них хранятся одни и те же значния в выбранных колонках)."
   ]
  },
  {
   "cell_type": "code",
   "execution_count": 372,
   "metadata": {},
   "outputs": [],
   "source": [
    "operations_old = pd.DataFrame(\n",
    "    data=[\n",
    "        ['DOGE', 'buy', 5000, 0.2],\n",
    "        ['BTC', 'buy', 10, 6000],\n",
    "        ['BTC', 'buy', 2.5, 5900],\n",
    "        ['DOGE', 'sell', 3000, 0.1],\n",
    "        ['BTC', 'sell', 4, 6200],\n",
    "    ],\n",
    "    columns=['symbol', 'type', 'amount', 'price']\n",
    ")\n",
    "\n",
    "operations_new = pd.DataFrame(\n",
    "    data=[\n",
    "        ['ETH', 'sell', 10, 400],\n",
    "        ['BTC', 'buy', 1, 5600],\n",
    "        ['ETH', 'buy', 20, 350],\n",
    "        ['ETH', 'sell', 10, 300],\n",
    "        ['DOGE', 'sell', 3000, 0.15]\n",
    "    ],\n",
    "    columns=['symbol', 'type', 'amount', 'price']\n",
    ")"
   ]
  },
  {
   "cell_type": "code",
   "execution_count": 373,
   "metadata": {},
   "outputs": [
    {
     "data": {
      "text/html": [
       "<div>\n",
       "<style scoped>\n",
       "    .dataframe tbody tr th:only-of-type {\n",
       "        vertical-align: middle;\n",
       "    }\n",
       "\n",
       "    .dataframe tbody tr th {\n",
       "        vertical-align: top;\n",
       "    }\n",
       "\n",
       "    .dataframe thead th {\n",
       "        text-align: right;\n",
       "    }\n",
       "</style>\n",
       "<table border=\"1\" class=\"dataframe\">\n",
       "  <thead>\n",
       "    <tr style=\"text-align: right;\">\n",
       "      <th></th>\n",
       "      <th>symbol</th>\n",
       "      <th>type</th>\n",
       "      <th>amount</th>\n",
       "      <th>price</th>\n",
       "    </tr>\n",
       "  </thead>\n",
       "  <tbody>\n",
       "    <tr>\n",
       "      <th>0</th>\n",
       "      <td>DOGE</td>\n",
       "      <td>buy</td>\n",
       "      <td>5000.0</td>\n",
       "      <td>0.2</td>\n",
       "    </tr>\n",
       "    <tr>\n",
       "      <th>1</th>\n",
       "      <td>BTC</td>\n",
       "      <td>buy</td>\n",
       "      <td>10.0</td>\n",
       "      <td>6000.0</td>\n",
       "    </tr>\n",
       "    <tr>\n",
       "      <th>2</th>\n",
       "      <td>BTC</td>\n",
       "      <td>buy</td>\n",
       "      <td>2.5</td>\n",
       "      <td>5900.0</td>\n",
       "    </tr>\n",
       "    <tr>\n",
       "      <th>3</th>\n",
       "      <td>DOGE</td>\n",
       "      <td>sell</td>\n",
       "      <td>3000.0</td>\n",
       "      <td>0.1</td>\n",
       "    </tr>\n",
       "    <tr>\n",
       "      <th>4</th>\n",
       "      <td>BTC</td>\n",
       "      <td>sell</td>\n",
       "      <td>4.0</td>\n",
       "      <td>6200.0</td>\n",
       "    </tr>\n",
       "  </tbody>\n",
       "</table>\n",
       "</div>"
      ],
      "text/plain": [
       "  symbol  type  amount   price\n",
       "0   DOGE   buy  5000.0     0.2\n",
       "1    BTC   buy    10.0  6000.0\n",
       "2    BTC   buy     2.5  5900.0\n",
       "3   DOGE  sell  3000.0     0.1\n",
       "4    BTC  sell     4.0  6200.0"
      ]
     },
     "execution_count": 373,
     "metadata": {},
     "output_type": "execute_result"
    }
   ],
   "source": [
    "operations_old"
   ]
  },
  {
   "cell_type": "code",
   "execution_count": 374,
   "metadata": {},
   "outputs": [
    {
     "data": {
      "text/html": [
       "<div>\n",
       "<style scoped>\n",
       "    .dataframe tbody tr th:only-of-type {\n",
       "        vertical-align: middle;\n",
       "    }\n",
       "\n",
       "    .dataframe tbody tr th {\n",
       "        vertical-align: top;\n",
       "    }\n",
       "\n",
       "    .dataframe thead th {\n",
       "        text-align: right;\n",
       "    }\n",
       "</style>\n",
       "<table border=\"1\" class=\"dataframe\">\n",
       "  <thead>\n",
       "    <tr style=\"text-align: right;\">\n",
       "      <th></th>\n",
       "      <th>symbol</th>\n",
       "      <th>type</th>\n",
       "      <th>amount</th>\n",
       "      <th>price</th>\n",
       "    </tr>\n",
       "  </thead>\n",
       "  <tbody>\n",
       "    <tr>\n",
       "      <th>0</th>\n",
       "      <td>DOGE</td>\n",
       "      <td>buy</td>\n",
       "      <td>5000.0</td>\n",
       "      <td>0.20</td>\n",
       "    </tr>\n",
       "    <tr>\n",
       "      <th>1</th>\n",
       "      <td>BTC</td>\n",
       "      <td>buy</td>\n",
       "      <td>10.0</td>\n",
       "      <td>6000.00</td>\n",
       "    </tr>\n",
       "    <tr>\n",
       "      <th>2</th>\n",
       "      <td>BTC</td>\n",
       "      <td>buy</td>\n",
       "      <td>2.5</td>\n",
       "      <td>5900.00</td>\n",
       "    </tr>\n",
       "    <tr>\n",
       "      <th>3</th>\n",
       "      <td>DOGE</td>\n",
       "      <td>sell</td>\n",
       "      <td>3000.0</td>\n",
       "      <td>0.10</td>\n",
       "    </tr>\n",
       "    <tr>\n",
       "      <th>4</th>\n",
       "      <td>BTC</td>\n",
       "      <td>sell</td>\n",
       "      <td>4.0</td>\n",
       "      <td>6200.00</td>\n",
       "    </tr>\n",
       "    <tr>\n",
       "      <th>0</th>\n",
       "      <td>ETH</td>\n",
       "      <td>sell</td>\n",
       "      <td>10.0</td>\n",
       "      <td>400.00</td>\n",
       "    </tr>\n",
       "    <tr>\n",
       "      <th>1</th>\n",
       "      <td>BTC</td>\n",
       "      <td>buy</td>\n",
       "      <td>1.0</td>\n",
       "      <td>5600.00</td>\n",
       "    </tr>\n",
       "    <tr>\n",
       "      <th>2</th>\n",
       "      <td>ETH</td>\n",
       "      <td>buy</td>\n",
       "      <td>20.0</td>\n",
       "      <td>350.00</td>\n",
       "    </tr>\n",
       "    <tr>\n",
       "      <th>3</th>\n",
       "      <td>ETH</td>\n",
       "      <td>sell</td>\n",
       "      <td>10.0</td>\n",
       "      <td>300.00</td>\n",
       "    </tr>\n",
       "    <tr>\n",
       "      <th>4</th>\n",
       "      <td>DOGE</td>\n",
       "      <td>sell</td>\n",
       "      <td>3000.0</td>\n",
       "      <td>0.15</td>\n",
       "    </tr>\n",
       "  </tbody>\n",
       "</table>\n",
       "</div>"
      ],
      "text/plain": [
       "  symbol  type  amount    price\n",
       "0   DOGE   buy  5000.0     0.20\n",
       "1    BTC   buy    10.0  6000.00\n",
       "2    BTC   buy     2.5  5900.00\n",
       "3   DOGE  sell  3000.0     0.10\n",
       "4    BTC  sell     4.0  6200.00\n",
       "0    ETH  sell    10.0   400.00\n",
       "1    BTC   buy     1.0  5600.00\n",
       "2    ETH   buy    20.0   350.00\n",
       "3    ETH  sell    10.0   300.00\n",
       "4   DOGE  sell  3000.0     0.15"
      ]
     },
     "execution_count": 374,
     "metadata": {},
     "output_type": "execute_result"
    }
   ],
   "source": [
    "#  Сконкатенировать таблицы в указанном порядке\n",
    "pd.concat([operations_old, operations_new])"
   ]
  },
  {
   "cell_type": "code",
   "execution_count": 377,
   "metadata": {},
   "outputs": [
    {
     "data": {
      "text/html": [
       "<div>\n",
       "<style scoped>\n",
       "    .dataframe tbody tr th:only-of-type {\n",
       "        vertical-align: middle;\n",
       "    }\n",
       "\n",
       "    .dataframe tbody tr th {\n",
       "        vertical-align: top;\n",
       "    }\n",
       "\n",
       "    .dataframe thead th {\n",
       "        text-align: right;\n",
       "    }\n",
       "</style>\n",
       "<table border=\"1\" class=\"dataframe\">\n",
       "  <thead>\n",
       "    <tr style=\"text-align: right;\">\n",
       "      <th></th>\n",
       "      <th>symbol</th>\n",
       "      <th>type</th>\n",
       "      <th>amount</th>\n",
       "      <th>price</th>\n",
       "    </tr>\n",
       "  </thead>\n",
       "  <tbody>\n",
       "    <tr>\n",
       "      <th>0</th>\n",
       "      <td>DOGE</td>\n",
       "      <td>buy</td>\n",
       "      <td>5000.0</td>\n",
       "      <td>0.2</td>\n",
       "    </tr>\n",
       "    <tr>\n",
       "      <th>0</th>\n",
       "      <td>ETH</td>\n",
       "      <td>sell</td>\n",
       "      <td>10.0</td>\n",
       "      <td>400.0</td>\n",
       "    </tr>\n",
       "  </tbody>\n",
       "</table>\n",
       "</div>"
      ],
      "text/plain": [
       "  symbol  type  amount  price\n",
       "0   DOGE   buy  5000.0    0.2\n",
       "0    ETH  sell    10.0  400.0"
      ]
     },
     "execution_count": 377,
     "metadata": {},
     "output_type": "execute_result"
    }
   ],
   "source": [
    "pd.concat([operations_old, operations_new]).loc[0,:]"
   ]
  },
  {
   "cell_type": "code",
   "execution_count": 378,
   "metadata": {},
   "outputs": [
    {
     "data": {
      "text/html": [
       "<div>\n",
       "<style scoped>\n",
       "    .dataframe tbody tr th:only-of-type {\n",
       "        vertical-align: middle;\n",
       "    }\n",
       "\n",
       "    .dataframe tbody tr th {\n",
       "        vertical-align: top;\n",
       "    }\n",
       "\n",
       "    .dataframe thead th {\n",
       "        text-align: right;\n",
       "    }\n",
       "</style>\n",
       "<table border=\"1\" class=\"dataframe\">\n",
       "  <thead>\n",
       "    <tr style=\"text-align: right;\">\n",
       "      <th></th>\n",
       "      <th></th>\n",
       "      <th>symbol</th>\n",
       "      <th>type</th>\n",
       "      <th>amount</th>\n",
       "      <th>price</th>\n",
       "    </tr>\n",
       "  </thead>\n",
       "  <tbody>\n",
       "    <tr>\n",
       "      <th rowspan=\"5\" valign=\"top\">old</th>\n",
       "      <th>0</th>\n",
       "      <td>DOGE</td>\n",
       "      <td>buy</td>\n",
       "      <td>5000.0</td>\n",
       "      <td>0.20</td>\n",
       "    </tr>\n",
       "    <tr>\n",
       "      <th>1</th>\n",
       "      <td>BTC</td>\n",
       "      <td>buy</td>\n",
       "      <td>10.0</td>\n",
       "      <td>6000.00</td>\n",
       "    </tr>\n",
       "    <tr>\n",
       "      <th>2</th>\n",
       "      <td>BTC</td>\n",
       "      <td>buy</td>\n",
       "      <td>2.5</td>\n",
       "      <td>5900.00</td>\n",
       "    </tr>\n",
       "    <tr>\n",
       "      <th>3</th>\n",
       "      <td>DOGE</td>\n",
       "      <td>sell</td>\n",
       "      <td>3000.0</td>\n",
       "      <td>0.10</td>\n",
       "    </tr>\n",
       "    <tr>\n",
       "      <th>4</th>\n",
       "      <td>BTC</td>\n",
       "      <td>sell</td>\n",
       "      <td>4.0</td>\n",
       "      <td>6200.00</td>\n",
       "    </tr>\n",
       "    <tr>\n",
       "      <th rowspan=\"5\" valign=\"top\">new</th>\n",
       "      <th>0</th>\n",
       "      <td>ETH</td>\n",
       "      <td>sell</td>\n",
       "      <td>10.0</td>\n",
       "      <td>400.00</td>\n",
       "    </tr>\n",
       "    <tr>\n",
       "      <th>1</th>\n",
       "      <td>BTC</td>\n",
       "      <td>buy</td>\n",
       "      <td>1.0</td>\n",
       "      <td>5600.00</td>\n",
       "    </tr>\n",
       "    <tr>\n",
       "      <th>2</th>\n",
       "      <td>ETH</td>\n",
       "      <td>buy</td>\n",
       "      <td>20.0</td>\n",
       "      <td>350.00</td>\n",
       "    </tr>\n",
       "    <tr>\n",
       "      <th>3</th>\n",
       "      <td>ETH</td>\n",
       "      <td>sell</td>\n",
       "      <td>10.0</td>\n",
       "      <td>300.00</td>\n",
       "    </tr>\n",
       "    <tr>\n",
       "      <th>4</th>\n",
       "      <td>DOGE</td>\n",
       "      <td>sell</td>\n",
       "      <td>3000.0</td>\n",
       "      <td>0.15</td>\n",
       "    </tr>\n",
       "  </tbody>\n",
       "</table>\n",
       "</div>"
      ],
      "text/plain": [
       "      symbol  type  amount    price\n",
       "old 0   DOGE   buy  5000.0     0.20\n",
       "    1    BTC   buy    10.0  6000.00\n",
       "    2    BTC   buy     2.5  5900.00\n",
       "    3   DOGE  sell  3000.0     0.10\n",
       "    4    BTC  sell     4.0  6200.00\n",
       "new 0    ETH  sell    10.0   400.00\n",
       "    1    BTC   buy     1.0  5600.00\n",
       "    2    ETH   buy    20.0   350.00\n",
       "    3    ETH  sell    10.0   300.00\n",
       "    4   DOGE  sell  3000.0     0.15"
      ]
     },
     "execution_count": 378,
     "metadata": {},
     "output_type": "execute_result"
    }
   ],
   "source": [
    "# При конкатенации таблицам можно назаначать теги чтобы понимать где какая таблица\n",
    "pd.concat([operations_old, operations_new], keys=['old', 'new'])"
   ]
  },
  {
   "cell_type": "code",
   "execution_count": 379,
   "metadata": {},
   "outputs": [
    {
     "data": {
      "text/plain": [
       "symbol    DOGE\n",
       "type      sell\n",
       "amount    3000\n",
       "price      0.1\n",
       "Name: (old, 3), dtype: object"
      ]
     },
     "execution_count": 379,
     "metadata": {},
     "output_type": "execute_result"
    }
   ],
   "source": [
    "pd.concat([operations_old, operations_new], keys=['old', 'new']).loc[('old', 3), :]"
   ]
  },
  {
   "cell_type": "code",
   "execution_count": 380,
   "metadata": {},
   "outputs": [
    {
     "data": {
      "text/html": [
       "<div>\n",
       "<style scoped>\n",
       "    .dataframe tbody tr th:only-of-type {\n",
       "        vertical-align: middle;\n",
       "    }\n",
       "\n",
       "    .dataframe tbody tr th {\n",
       "        vertical-align: top;\n",
       "    }\n",
       "\n",
       "    .dataframe thead th {\n",
       "        text-align: right;\n",
       "    }\n",
       "</style>\n",
       "<table border=\"1\" class=\"dataframe\">\n",
       "  <thead>\n",
       "    <tr style=\"text-align: right;\">\n",
       "      <th></th>\n",
       "      <th>symbol</th>\n",
       "      <th>type</th>\n",
       "      <th>amount</th>\n",
       "      <th>price</th>\n",
       "    </tr>\n",
       "  </thead>\n",
       "  <tbody>\n",
       "    <tr>\n",
       "      <th>0</th>\n",
       "      <td>ETH</td>\n",
       "      <td>sell</td>\n",
       "      <td>10.0</td>\n",
       "      <td>400.00</td>\n",
       "    </tr>\n",
       "    <tr>\n",
       "      <th>1</th>\n",
       "      <td>BTC</td>\n",
       "      <td>buy</td>\n",
       "      <td>1.0</td>\n",
       "      <td>5600.00</td>\n",
       "    </tr>\n",
       "    <tr>\n",
       "      <th>2</th>\n",
       "      <td>ETH</td>\n",
       "      <td>buy</td>\n",
       "      <td>20.0</td>\n",
       "      <td>350.00</td>\n",
       "    </tr>\n",
       "    <tr>\n",
       "      <th>3</th>\n",
       "      <td>ETH</td>\n",
       "      <td>sell</td>\n",
       "      <td>10.0</td>\n",
       "      <td>300.00</td>\n",
       "    </tr>\n",
       "    <tr>\n",
       "      <th>4</th>\n",
       "      <td>DOGE</td>\n",
       "      <td>sell</td>\n",
       "      <td>3000.0</td>\n",
       "      <td>0.15</td>\n",
       "    </tr>\n",
       "    <tr>\n",
       "      <th>5</th>\n",
       "      <td>DOGE</td>\n",
       "      <td>buy</td>\n",
       "      <td>5000.0</td>\n",
       "      <td>0.20</td>\n",
       "    </tr>\n",
       "    <tr>\n",
       "      <th>6</th>\n",
       "      <td>BTC</td>\n",
       "      <td>buy</td>\n",
       "      <td>10.0</td>\n",
       "      <td>6000.00</td>\n",
       "    </tr>\n",
       "    <tr>\n",
       "      <th>7</th>\n",
       "      <td>BTC</td>\n",
       "      <td>buy</td>\n",
       "      <td>2.5</td>\n",
       "      <td>5900.00</td>\n",
       "    </tr>\n",
       "    <tr>\n",
       "      <th>8</th>\n",
       "      <td>DOGE</td>\n",
       "      <td>sell</td>\n",
       "      <td>3000.0</td>\n",
       "      <td>0.10</td>\n",
       "    </tr>\n",
       "    <tr>\n",
       "      <th>9</th>\n",
       "      <td>BTC</td>\n",
       "      <td>sell</td>\n",
       "      <td>4.0</td>\n",
       "      <td>6200.00</td>\n",
       "    </tr>\n",
       "  </tbody>\n",
       "</table>\n",
       "</div>"
      ],
      "text/plain": [
       "  symbol  type  amount    price\n",
       "0    ETH  sell    10.0   400.00\n",
       "1    BTC   buy     1.0  5600.00\n",
       "2    ETH   buy    20.0   350.00\n",
       "3    ETH  sell    10.0   300.00\n",
       "4   DOGE  sell  3000.0     0.15\n",
       "5   DOGE   buy  5000.0     0.20\n",
       "6    BTC   buy    10.0  6000.00\n",
       "7    BTC   buy     2.5  5900.00\n",
       "8   DOGE  sell  3000.0     0.10\n",
       "9    BTC  sell     4.0  6200.00"
      ]
     },
     "execution_count": 380,
     "metadata": {},
     "output_type": "execute_result"
    }
   ],
   "source": [
    "# Как видно при конкатенации индексы старых таблиц копируются. \n",
    "# Если вам не нужно это поведение, используйте ignore_index\n",
    "operations = pd.concat([operations_new, operations_old], ignore_index=True)\n",
    "operations"
   ]
  },
  {
   "cell_type": "markdown",
   "metadata": {},
   "source": [
    "Данные можно собирать вместе и более умным способом. А именно, вы выбираете какие колонки вас интересуют. Далее если есть записи из двух таблиц у котороых в выбранных колонках значения совпадают мы их \"объединяем\". Это очень упрощенное объяснение. В pandas эта операция называется merge в SQL - join. Делать объединение можно разными сопособами, поэтому возникает несколько стратегий: left, right, inner и full. "
   ]
  },
  {
   "cell_type": "code",
   "execution_count": 381,
   "metadata": {},
   "outputs": [
    {
     "data": {
      "text/html": [
       "<div>\n",
       "<style scoped>\n",
       "    .dataframe tbody tr th:only-of-type {\n",
       "        vertical-align: middle;\n",
       "    }\n",
       "\n",
       "    .dataframe tbody tr th {\n",
       "        vertical-align: top;\n",
       "    }\n",
       "\n",
       "    .dataframe thead th {\n",
       "        text-align: right;\n",
       "    }\n",
       "</style>\n",
       "<table border=\"1\" class=\"dataframe\">\n",
       "  <thead>\n",
       "    <tr style=\"text-align: right;\">\n",
       "      <th></th>\n",
       "      <th>symbol</th>\n",
       "      <th>type</th>\n",
       "      <th>user</th>\n",
       "    </tr>\n",
       "  </thead>\n",
       "  <tbody>\n",
       "    <tr>\n",
       "      <th>0</th>\n",
       "      <td>DOGE</td>\n",
       "      <td>sell</td>\n",
       "      <td>Rockfeller</td>\n",
       "    </tr>\n",
       "    <tr>\n",
       "      <th>1</th>\n",
       "      <td>DOGE</td>\n",
       "      <td>buy</td>\n",
       "      <td>J.P. Morgan</td>\n",
       "    </tr>\n",
       "    <tr>\n",
       "      <th>2</th>\n",
       "      <td>BTC</td>\n",
       "      <td>buy</td>\n",
       "      <td>John Doe</td>\n",
       "    </tr>\n",
       "    <tr>\n",
       "      <th>3</th>\n",
       "      <td>ADA</td>\n",
       "      <td>sell</td>\n",
       "      <td>Rick</td>\n",
       "    </tr>\n",
       "    <tr>\n",
       "      <th>4</th>\n",
       "      <td>ETH</td>\n",
       "      <td>buy</td>\n",
       "      <td>Morty</td>\n",
       "    </tr>\n",
       "  </tbody>\n",
       "</table>\n",
       "</div>"
      ],
      "text/plain": [
       "  symbol  type         user\n",
       "0   DOGE  sell   Rockfeller\n",
       "1   DOGE   buy  J.P. Morgan\n",
       "2    BTC   buy     John Doe\n",
       "3    ADA  sell         Rick\n",
       "4    ETH   buy        Morty"
      ]
     },
     "execution_count": 381,
     "metadata": {},
     "output_type": "execute_result"
    }
   ],
   "source": [
    "transactions = pd.DataFrame(\n",
    "    data=[\n",
    "        ['DOGE', 'sell', 'Rockfeller'],\n",
    "        ['DOGE', 'buy', 'J.P. Morgan'],\n",
    "        ['BTC', 'buy', 'John Doe'],\n",
    "        ['ADA', 'sell', 'Rick'],\n",
    "        ['ETH', 'buy', 'Morty']\n",
    "    ],\n",
    "    columns=['symbol', 'type', 'user']\n",
    ")\n",
    "transactions"
   ]
  },
  {
   "cell_type": "code",
   "execution_count": 332,
   "metadata": {},
   "outputs": [
    {
     "data": {
      "text/html": [
       "<div>\n",
       "<style scoped>\n",
       "    .dataframe tbody tr th:only-of-type {\n",
       "        vertical-align: middle;\n",
       "    }\n",
       "\n",
       "    .dataframe tbody tr th {\n",
       "        vertical-align: top;\n",
       "    }\n",
       "\n",
       "    .dataframe thead th {\n",
       "        text-align: right;\n",
       "    }\n",
       "</style>\n",
       "<table border=\"1\" class=\"dataframe\">\n",
       "  <thead>\n",
       "    <tr style=\"text-align: right;\">\n",
       "      <th></th>\n",
       "      <th>symbol</th>\n",
       "      <th>type</th>\n",
       "      <th>amount</th>\n",
       "      <th>price</th>\n",
       "      <th>user</th>\n",
       "    </tr>\n",
       "  </thead>\n",
       "  <tbody>\n",
       "    <tr>\n",
       "      <th>0</th>\n",
       "      <td>BTC</td>\n",
       "      <td>buy</td>\n",
       "      <td>1.0</td>\n",
       "      <td>5600.00</td>\n",
       "      <td>John Doe</td>\n",
       "    </tr>\n",
       "    <tr>\n",
       "      <th>1</th>\n",
       "      <td>BTC</td>\n",
       "      <td>buy</td>\n",
       "      <td>10.0</td>\n",
       "      <td>6000.00</td>\n",
       "      <td>John Doe</td>\n",
       "    </tr>\n",
       "    <tr>\n",
       "      <th>2</th>\n",
       "      <td>BTC</td>\n",
       "      <td>buy</td>\n",
       "      <td>2.5</td>\n",
       "      <td>5900.00</td>\n",
       "      <td>John Doe</td>\n",
       "    </tr>\n",
       "    <tr>\n",
       "      <th>3</th>\n",
       "      <td>ETH</td>\n",
       "      <td>buy</td>\n",
       "      <td>20.0</td>\n",
       "      <td>350.00</td>\n",
       "      <td>Morty</td>\n",
       "    </tr>\n",
       "    <tr>\n",
       "      <th>4</th>\n",
       "      <td>DOGE</td>\n",
       "      <td>sell</td>\n",
       "      <td>3000.0</td>\n",
       "      <td>0.15</td>\n",
       "      <td>Rockfeller</td>\n",
       "    </tr>\n",
       "    <tr>\n",
       "      <th>5</th>\n",
       "      <td>DOGE</td>\n",
       "      <td>sell</td>\n",
       "      <td>3000.0</td>\n",
       "      <td>0.10</td>\n",
       "      <td>Rockfeller</td>\n",
       "    </tr>\n",
       "    <tr>\n",
       "      <th>6</th>\n",
       "      <td>DOGE</td>\n",
       "      <td>buy</td>\n",
       "      <td>5000.0</td>\n",
       "      <td>0.20</td>\n",
       "      <td>J.P. Morgan</td>\n",
       "    </tr>\n",
       "  </tbody>\n",
       "</table>\n",
       "</div>"
      ],
      "text/plain": [
       "  symbol  type  amount    price         user\n",
       "0    BTC   buy     1.0  5600.00     John Doe\n",
       "1    BTC   buy    10.0  6000.00     John Doe\n",
       "2    BTC   buy     2.5  5900.00     John Doe\n",
       "3    ETH   buy    20.0   350.00        Morty\n",
       "4   DOGE  sell  3000.0     0.15   Rockfeller\n",
       "5   DOGE  sell  3000.0     0.10   Rockfeller\n",
       "6   DOGE   buy  5000.0     0.20  J.P. Morgan"
      ]
     },
     "execution_count": 332,
     "metadata": {},
     "output_type": "execute_result"
    }
   ],
   "source": [
    "# Объединение таблиц по типу монеты и операции\n",
    "# По умолчанию производится inner join остаются записи в которых были полные совпадения\n",
    "pd.merge(operations, transactions, on=['symbol', 'type'])"
   ]
  },
  {
   "cell_type": "code",
   "execution_count": 333,
   "metadata": {},
   "outputs": [
    {
     "data": {
      "text/html": [
       "<div>\n",
       "<style scoped>\n",
       "    .dataframe tbody tr th:only-of-type {\n",
       "        vertical-align: middle;\n",
       "    }\n",
       "\n",
       "    .dataframe tbody tr th {\n",
       "        vertical-align: top;\n",
       "    }\n",
       "\n",
       "    .dataframe thead th {\n",
       "        text-align: right;\n",
       "    }\n",
       "</style>\n",
       "<table border=\"1\" class=\"dataframe\">\n",
       "  <thead>\n",
       "    <tr style=\"text-align: right;\">\n",
       "      <th></th>\n",
       "      <th>symbol</th>\n",
       "      <th>type</th>\n",
       "      <th>amount</th>\n",
       "      <th>price</th>\n",
       "      <th>user</th>\n",
       "    </tr>\n",
       "  </thead>\n",
       "  <tbody>\n",
       "    <tr>\n",
       "      <th>0</th>\n",
       "      <td>ETH</td>\n",
       "      <td>sell</td>\n",
       "      <td>10.0</td>\n",
       "      <td>400.00</td>\n",
       "      <td>NaN</td>\n",
       "    </tr>\n",
       "    <tr>\n",
       "      <th>1</th>\n",
       "      <td>BTC</td>\n",
       "      <td>buy</td>\n",
       "      <td>1.0</td>\n",
       "      <td>5600.00</td>\n",
       "      <td>John Doe</td>\n",
       "    </tr>\n",
       "    <tr>\n",
       "      <th>2</th>\n",
       "      <td>ETH</td>\n",
       "      <td>buy</td>\n",
       "      <td>20.0</td>\n",
       "      <td>350.00</td>\n",
       "      <td>Morty</td>\n",
       "    </tr>\n",
       "    <tr>\n",
       "      <th>3</th>\n",
       "      <td>ETH</td>\n",
       "      <td>sell</td>\n",
       "      <td>10.0</td>\n",
       "      <td>300.00</td>\n",
       "      <td>NaN</td>\n",
       "    </tr>\n",
       "    <tr>\n",
       "      <th>4</th>\n",
       "      <td>DOGE</td>\n",
       "      <td>sell</td>\n",
       "      <td>3000.0</td>\n",
       "      <td>0.15</td>\n",
       "      <td>Rockfeller</td>\n",
       "    </tr>\n",
       "    <tr>\n",
       "      <th>5</th>\n",
       "      <td>DOGE</td>\n",
       "      <td>buy</td>\n",
       "      <td>5000.0</td>\n",
       "      <td>0.20</td>\n",
       "      <td>J.P. Morgan</td>\n",
       "    </tr>\n",
       "    <tr>\n",
       "      <th>6</th>\n",
       "      <td>BTC</td>\n",
       "      <td>buy</td>\n",
       "      <td>10.0</td>\n",
       "      <td>6000.00</td>\n",
       "      <td>John Doe</td>\n",
       "    </tr>\n",
       "    <tr>\n",
       "      <th>7</th>\n",
       "      <td>BTC</td>\n",
       "      <td>buy</td>\n",
       "      <td>2.5</td>\n",
       "      <td>5900.00</td>\n",
       "      <td>John Doe</td>\n",
       "    </tr>\n",
       "    <tr>\n",
       "      <th>8</th>\n",
       "      <td>DOGE</td>\n",
       "      <td>sell</td>\n",
       "      <td>3000.0</td>\n",
       "      <td>0.10</td>\n",
       "      <td>Rockfeller</td>\n",
       "    </tr>\n",
       "    <tr>\n",
       "      <th>9</th>\n",
       "      <td>BTC</td>\n",
       "      <td>sell</td>\n",
       "      <td>4.0</td>\n",
       "      <td>6200.00</td>\n",
       "      <td>NaN</td>\n",
       "    </tr>\n",
       "  </tbody>\n",
       "</table>\n",
       "</div>"
      ],
      "text/plain": [
       "  symbol  type  amount    price         user\n",
       "0    ETH  sell    10.0   400.00          NaN\n",
       "1    BTC   buy     1.0  5600.00     John Doe\n",
       "2    ETH   buy    20.0   350.00        Morty\n",
       "3    ETH  sell    10.0   300.00          NaN\n",
       "4   DOGE  sell  3000.0     0.15   Rockfeller\n",
       "5   DOGE   buy  5000.0     0.20  J.P. Morgan\n",
       "6    BTC   buy    10.0  6000.00     John Doe\n",
       "7    BTC   buy     2.5  5900.00     John Doe\n",
       "8   DOGE  sell  3000.0     0.10   Rockfeller\n",
       "9    BTC  sell     4.0  6200.00          NaN"
      ]
     },
     "execution_count": 333,
     "metadata": {},
     "output_type": "execute_result"
    }
   ],
   "source": [
    "# Левый join таблиц - все записи из первой таблицы остаются и к ни присоединяются записи из правой.\n",
    "# Аналогично работает правый join\n",
    "pd.merge(operations, transactions, on=['symbol', 'type'], how='left')"
   ]
  },
  {
   "cell_type": "code",
   "execution_count": 334,
   "metadata": {},
   "outputs": [
    {
     "data": {
      "text/html": [
       "<div>\n",
       "<style scoped>\n",
       "    .dataframe tbody tr th:only-of-type {\n",
       "        vertical-align: middle;\n",
       "    }\n",
       "\n",
       "    .dataframe tbody tr th {\n",
       "        vertical-align: top;\n",
       "    }\n",
       "\n",
       "    .dataframe thead th {\n",
       "        text-align: right;\n",
       "    }\n",
       "</style>\n",
       "<table border=\"1\" class=\"dataframe\">\n",
       "  <thead>\n",
       "    <tr style=\"text-align: right;\">\n",
       "      <th></th>\n",
       "      <th>symbol</th>\n",
       "      <th>type</th>\n",
       "      <th>amount</th>\n",
       "      <th>price</th>\n",
       "      <th>user</th>\n",
       "    </tr>\n",
       "  </thead>\n",
       "  <tbody>\n",
       "    <tr>\n",
       "      <th>0</th>\n",
       "      <td>ETH</td>\n",
       "      <td>sell</td>\n",
       "      <td>10.0</td>\n",
       "      <td>400.00</td>\n",
       "      <td>NaN</td>\n",
       "    </tr>\n",
       "    <tr>\n",
       "      <th>1</th>\n",
       "      <td>ETH</td>\n",
       "      <td>sell</td>\n",
       "      <td>10.0</td>\n",
       "      <td>300.00</td>\n",
       "      <td>NaN</td>\n",
       "    </tr>\n",
       "    <tr>\n",
       "      <th>2</th>\n",
       "      <td>BTC</td>\n",
       "      <td>buy</td>\n",
       "      <td>1.0</td>\n",
       "      <td>5600.00</td>\n",
       "      <td>John Doe</td>\n",
       "    </tr>\n",
       "    <tr>\n",
       "      <th>3</th>\n",
       "      <td>BTC</td>\n",
       "      <td>buy</td>\n",
       "      <td>10.0</td>\n",
       "      <td>6000.00</td>\n",
       "      <td>John Doe</td>\n",
       "    </tr>\n",
       "    <tr>\n",
       "      <th>4</th>\n",
       "      <td>BTC</td>\n",
       "      <td>buy</td>\n",
       "      <td>2.5</td>\n",
       "      <td>5900.00</td>\n",
       "      <td>John Doe</td>\n",
       "    </tr>\n",
       "    <tr>\n",
       "      <th>...</th>\n",
       "      <td>...</td>\n",
       "      <td>...</td>\n",
       "      <td>...</td>\n",
       "      <td>...</td>\n",
       "      <td>...</td>\n",
       "    </tr>\n",
       "    <tr>\n",
       "      <th>6</th>\n",
       "      <td>DOGE</td>\n",
       "      <td>sell</td>\n",
       "      <td>3000.0</td>\n",
       "      <td>0.15</td>\n",
       "      <td>Rockfeller</td>\n",
       "    </tr>\n",
       "    <tr>\n",
       "      <th>7</th>\n",
       "      <td>DOGE</td>\n",
       "      <td>sell</td>\n",
       "      <td>3000.0</td>\n",
       "      <td>0.10</td>\n",
       "      <td>Rockfeller</td>\n",
       "    </tr>\n",
       "    <tr>\n",
       "      <th>8</th>\n",
       "      <td>DOGE</td>\n",
       "      <td>buy</td>\n",
       "      <td>5000.0</td>\n",
       "      <td>0.20</td>\n",
       "      <td>J.P. Morgan</td>\n",
       "    </tr>\n",
       "    <tr>\n",
       "      <th>9</th>\n",
       "      <td>BTC</td>\n",
       "      <td>sell</td>\n",
       "      <td>4.0</td>\n",
       "      <td>6200.00</td>\n",
       "      <td>NaN</td>\n",
       "    </tr>\n",
       "    <tr>\n",
       "      <th>10</th>\n",
       "      <td>ADA</td>\n",
       "      <td>sell</td>\n",
       "      <td>NaN</td>\n",
       "      <td>NaN</td>\n",
       "      <td>Rick</td>\n",
       "    </tr>\n",
       "  </tbody>\n",
       "</table>\n",
       "<p>11 rows × 5 columns</p>\n",
       "</div>"
      ],
      "text/plain": [
       "   symbol  type  amount    price         user\n",
       "0     ETH  sell    10.0   400.00          NaN\n",
       "1     ETH  sell    10.0   300.00          NaN\n",
       "2     BTC   buy     1.0  5600.00     John Doe\n",
       "3     BTC   buy    10.0  6000.00     John Doe\n",
       "4     BTC   buy     2.5  5900.00     John Doe\n",
       "..    ...   ...     ...      ...          ...\n",
       "6    DOGE  sell  3000.0     0.15   Rockfeller\n",
       "7    DOGE  sell  3000.0     0.10   Rockfeller\n",
       "8    DOGE   buy  5000.0     0.20  J.P. Morgan\n",
       "9     BTC  sell     4.0  6200.00          NaN\n",
       "10    ADA  sell     NaN      NaN         Rick\n",
       "\n",
       "[11 rows x 5 columns]"
      ]
     },
     "execution_count": 334,
     "metadata": {},
     "output_type": "execute_result"
    }
   ],
   "source": [
    "# Outer join - собираем вместе записи из обеих таблиц\n",
    "pd.merge(operations, transactions, on=['symbol', 'type'], how='outer')"
   ]
  },
  {
   "cell_type": "code",
   "execution_count": 335,
   "metadata": {},
   "outputs": [],
   "source": [
    "del operations_new, operations_old, operations, transactions"
   ]
  },
  {
   "cell_type": "markdown",
   "metadata": {},
   "source": [
    "### 13. Чтение таблиц"
   ]
  },
  {
   "cell_type": "markdown",
   "metadata": {},
   "source": [
    "Чтобы данные анализировать их надо где-то взять. Для этого в pandas есть множество функций. Все их названия начинаются с префикса 'read_'. Мы разберем функцию read_csv."
   ]
  },
  {
   "cell_type": "code",
   "execution_count": 336,
   "metadata": {},
   "outputs": [
    {
     "data": {
      "text/html": [
       "<div>\n",
       "<style scoped>\n",
       "    .dataframe tbody tr th:only-of-type {\n",
       "        vertical-align: middle;\n",
       "    }\n",
       "\n",
       "    .dataframe tbody tr th {\n",
       "        vertical-align: top;\n",
       "    }\n",
       "\n",
       "    .dataframe thead th {\n",
       "        text-align: right;\n",
       "    }\n",
       "</style>\n",
       "<table border=\"1\" class=\"dataframe\">\n",
       "  <thead>\n",
       "    <tr style=\"text-align: right;\">\n",
       "      <th></th>\n",
       "      <th>date</th>\n",
       "      <th>price</th>\n",
       "      <th>txCount</th>\n",
       "      <th>txVolume</th>\n",
       "      <th>activeAddresses</th>\n",
       "      <th>symbol</th>\n",
       "      <th>name</th>\n",
       "      <th>open</th>\n",
       "      <th>high</th>\n",
       "      <th>low</th>\n",
       "      <th>close</th>\n",
       "      <th>volume</th>\n",
       "      <th>market</th>\n",
       "    </tr>\n",
       "  </thead>\n",
       "  <tbody>\n",
       "    <tr>\n",
       "      <th>0</th>\n",
       "      <td>2013-04-28</td>\n",
       "      <td>135.300000</td>\n",
       "      <td>41702.0</td>\n",
       "      <td>6.879868e+07</td>\n",
       "      <td>117984.0</td>\n",
       "      <td>BTC</td>\n",
       "      <td>Bitcoin</td>\n",
       "      <td>135.300000</td>\n",
       "      <td>135.980000</td>\n",
       "      <td>132.100000</td>\n",
       "      <td>134.210000</td>\n",
       "      <td>0.0</td>\n",
       "      <td>1.500520e+09</td>\n",
       "    </tr>\n",
       "    <tr>\n",
       "      <th>1</th>\n",
       "      <td>2013-04-28</td>\n",
       "      <td>4.300000</td>\n",
       "      <td>9174.0</td>\n",
       "      <td>4.431952e+07</td>\n",
       "      <td>17216.0</td>\n",
       "      <td>LTC</td>\n",
       "      <td>Litecoin</td>\n",
       "      <td>4.300000</td>\n",
       "      <td>4.400000</td>\n",
       "      <td>4.180000</td>\n",
       "      <td>4.350000</td>\n",
       "      <td>0.0</td>\n",
       "      <td>7.377340e+07</td>\n",
       "    </tr>\n",
       "    <tr>\n",
       "      <th>2</th>\n",
       "      <td>2013-04-29</td>\n",
       "      <td>134.440000</td>\n",
       "      <td>51602.0</td>\n",
       "      <td>1.138128e+08</td>\n",
       "      <td>86925.0</td>\n",
       "      <td>BTC</td>\n",
       "      <td>Bitcoin</td>\n",
       "      <td>134.440000</td>\n",
       "      <td>147.490000</td>\n",
       "      <td>134.000000</td>\n",
       "      <td>144.540000</td>\n",
       "      <td>0.0</td>\n",
       "      <td>1.491160e+09</td>\n",
       "    </tr>\n",
       "    <tr>\n",
       "      <th>3</th>\n",
       "      <td>2013-04-29</td>\n",
       "      <td>4.370000</td>\n",
       "      <td>9275.0</td>\n",
       "      <td>3.647810e+07</td>\n",
       "      <td>18395.0</td>\n",
       "      <td>LTC</td>\n",
       "      <td>Litecoin</td>\n",
       "      <td>4.370000</td>\n",
       "      <td>4.570000</td>\n",
       "      <td>4.230000</td>\n",
       "      <td>4.380000</td>\n",
       "      <td>0.0</td>\n",
       "      <td>7.495270e+07</td>\n",
       "    </tr>\n",
       "    <tr>\n",
       "      <th>4</th>\n",
       "      <td>2013-04-30</td>\n",
       "      <td>144.000000</td>\n",
       "      <td>47450.0</td>\n",
       "      <td>8.426632e+07</td>\n",
       "      <td>76871.0</td>\n",
       "      <td>BTC</td>\n",
       "      <td>Bitcoin</td>\n",
       "      <td>144.000000</td>\n",
       "      <td>146.930000</td>\n",
       "      <td>134.050000</td>\n",
       "      <td>139.000000</td>\n",
       "      <td>0.0</td>\n",
       "      <td>1.597780e+09</td>\n",
       "    </tr>\n",
       "    <tr>\n",
       "      <th>...</th>\n",
       "      <td>...</td>\n",
       "      <td>...</td>\n",
       "      <td>...</td>\n",
       "      <td>...</td>\n",
       "      <td>...</td>\n",
       "      <td>...</td>\n",
       "      <td>...</td>\n",
       "      <td>...</td>\n",
       "      <td>...</td>\n",
       "      <td>...</td>\n",
       "      <td>...</td>\n",
       "      <td>...</td>\n",
       "      <td>...</td>\n",
       "    </tr>\n",
       "    <tr>\n",
       "      <th>37583</th>\n",
       "      <td>2018-06-06</td>\n",
       "      <td>0.293325</td>\n",
       "      <td>4830.0</td>\n",
       "      <td>2.312763e+05</td>\n",
       "      <td>659.0</td>\n",
       "      <td>XLM</td>\n",
       "      <td>Stellar</td>\n",
       "      <td>0.293325</td>\n",
       "      <td>0.299955</td>\n",
       "      <td>0.289500</td>\n",
       "      <td>0.298269</td>\n",
       "      <td>51165000.0</td>\n",
       "      <td>5.450080e+09</td>\n",
       "    </tr>\n",
       "    <tr>\n",
       "      <th>37584</th>\n",
       "      <td>2018-06-06</td>\n",
       "      <td>0.039586</td>\n",
       "      <td>7205.0</td>\n",
       "      <td>4.947760e+06</td>\n",
       "      <td>18228.0</td>\n",
       "      <td>XVG</td>\n",
       "      <td>Verge</td>\n",
       "      <td>0.039586</td>\n",
       "      <td>0.039737</td>\n",
       "      <td>0.037680</td>\n",
       "      <td>0.038797</td>\n",
       "      <td>9307450.0</td>\n",
       "      <td>5.959400e+08</td>\n",
       "    </tr>\n",
       "    <tr>\n",
       "      <th>37585</th>\n",
       "      <td>2018-06-06</td>\n",
       "      <td>239.760000</td>\n",
       "      <td>10687.0</td>\n",
       "      <td>3.986308e+07</td>\n",
       "      <td>96516.0</td>\n",
       "      <td>ZEC</td>\n",
       "      <td>Zcash</td>\n",
       "      <td>239.750000</td>\n",
       "      <td>240.340000</td>\n",
       "      <td>229.210000</td>\n",
       "      <td>236.050000</td>\n",
       "      <td>56887000.0</td>\n",
       "      <td>9.769940e+08</td>\n",
       "    </tr>\n",
       "    <tr>\n",
       "      <th>37586</th>\n",
       "      <td>2018-06-06</td>\n",
       "      <td>0.127555</td>\n",
       "      <td>1313.0</td>\n",
       "      <td>1.596436e+07</td>\n",
       "      <td>733.0</td>\n",
       "      <td>ZIL</td>\n",
       "      <td>Zilliqa</td>\n",
       "      <td>0.127555</td>\n",
       "      <td>0.133254</td>\n",
       "      <td>0.124194</td>\n",
       "      <td>0.131766</td>\n",
       "      <td>54667900.0</td>\n",
       "      <td>9.348810e+08</td>\n",
       "    </tr>\n",
       "    <tr>\n",
       "      <th>37587</th>\n",
       "      <td>2018-06-06</td>\n",
       "      <td>1.270000</td>\n",
       "      <td>795.0</td>\n",
       "      <td>6.094435e+06</td>\n",
       "      <td>599.0</td>\n",
       "      <td>ZRX</td>\n",
       "      <td>0x</td>\n",
       "      <td>1.270000</td>\n",
       "      <td>1.340000</td>\n",
       "      <td>1.250000</td>\n",
       "      <td>1.330000</td>\n",
       "      <td>17778000.0</td>\n",
       "      <td>6.741510e+08</td>\n",
       "    </tr>\n",
       "  </tbody>\n",
       "</table>\n",
       "<p>37588 rows × 13 columns</p>\n",
       "</div>"
      ],
      "text/plain": [
       "             date       price  txCount      txVolume  activeAddresses symbol  \\\n",
       "0      2013-04-28  135.300000  41702.0  6.879868e+07         117984.0    BTC   \n",
       "1      2013-04-28    4.300000   9174.0  4.431952e+07          17216.0    LTC   \n",
       "2      2013-04-29  134.440000  51602.0  1.138128e+08          86925.0    BTC   \n",
       "3      2013-04-29    4.370000   9275.0  3.647810e+07          18395.0    LTC   \n",
       "4      2013-04-30  144.000000  47450.0  8.426632e+07          76871.0    BTC   \n",
       "...           ...         ...      ...           ...              ...    ...   \n",
       "37583  2018-06-06    0.293325   4830.0  2.312763e+05            659.0    XLM   \n",
       "37584  2018-06-06    0.039586   7205.0  4.947760e+06          18228.0    XVG   \n",
       "37585  2018-06-06  239.760000  10687.0  3.986308e+07          96516.0    ZEC   \n",
       "37586  2018-06-06    0.127555   1313.0  1.596436e+07            733.0    ZIL   \n",
       "37587  2018-06-06    1.270000    795.0  6.094435e+06            599.0    ZRX   \n",
       "\n",
       "           name        open        high         low       close      volume  \\\n",
       "0       Bitcoin  135.300000  135.980000  132.100000  134.210000         0.0   \n",
       "1      Litecoin    4.300000    4.400000    4.180000    4.350000         0.0   \n",
       "2       Bitcoin  134.440000  147.490000  134.000000  144.540000         0.0   \n",
       "3      Litecoin    4.370000    4.570000    4.230000    4.380000         0.0   \n",
       "4       Bitcoin  144.000000  146.930000  134.050000  139.000000         0.0   \n",
       "...         ...         ...         ...         ...         ...         ...   \n",
       "37583   Stellar    0.293325    0.299955    0.289500    0.298269  51165000.0   \n",
       "37584     Verge    0.039586    0.039737    0.037680    0.038797   9307450.0   \n",
       "37585     Zcash  239.750000  240.340000  229.210000  236.050000  56887000.0   \n",
       "37586   Zilliqa    0.127555    0.133254    0.124194    0.131766  54667900.0   \n",
       "37587        0x    1.270000    1.340000    1.250000    1.330000  17778000.0   \n",
       "\n",
       "             market  \n",
       "0      1.500520e+09  \n",
       "1      7.377340e+07  \n",
       "2      1.491160e+09  \n",
       "3      7.495270e+07  \n",
       "4      1.597780e+09  \n",
       "...             ...  \n",
       "37583  5.450080e+09  \n",
       "37584  5.959400e+08  \n",
       "37585  9.769940e+08  \n",
       "37586  9.348810e+08  \n",
       "37587  6.741510e+08  \n",
       "\n",
       "[37588 rows x 13 columns]"
      ]
     },
     "execution_count": 336,
     "metadata": {},
     "output_type": "execute_result"
    }
   ],
   "source": [
    "# Прочитать таблицу ни о чем не задумываясь\n",
    "pd.read_csv('coins.csv')"
   ]
  },
  {
   "cell_type": "code",
   "execution_count": 337,
   "metadata": {},
   "outputs": [
    {
     "data": {
      "text/html": [
       "<div>\n",
       "<style scoped>\n",
       "    .dataframe tbody tr th:only-of-type {\n",
       "        vertical-align: middle;\n",
       "    }\n",
       "\n",
       "    .dataframe tbody tr th {\n",
       "        vertical-align: top;\n",
       "    }\n",
       "\n",
       "    .dataframe thead th {\n",
       "        text-align: right;\n",
       "    }\n",
       "</style>\n",
       "<table border=\"1\" class=\"dataframe\">\n",
       "  <thead>\n",
       "    <tr style=\"text-align: right;\">\n",
       "      <th></th>\n",
       "      <th>price</th>\n",
       "      <th>txCount</th>\n",
       "      <th>txVolume</th>\n",
       "      <th>activeAddresses</th>\n",
       "      <th>symbol</th>\n",
       "      <th>name</th>\n",
       "      <th>open</th>\n",
       "      <th>high</th>\n",
       "      <th>low</th>\n",
       "      <th>close</th>\n",
       "      <th>volume</th>\n",
       "      <th>market</th>\n",
       "    </tr>\n",
       "    <tr>\n",
       "      <th>date</th>\n",
       "      <th></th>\n",
       "      <th></th>\n",
       "      <th></th>\n",
       "      <th></th>\n",
       "      <th></th>\n",
       "      <th></th>\n",
       "      <th></th>\n",
       "      <th></th>\n",
       "      <th></th>\n",
       "      <th></th>\n",
       "      <th></th>\n",
       "      <th></th>\n",
       "    </tr>\n",
       "  </thead>\n",
       "  <tbody>\n",
       "    <tr>\n",
       "      <th>2013-04-28</th>\n",
       "      <td>135.300000</td>\n",
       "      <td>41702.0</td>\n",
       "      <td>6.879868e+07</td>\n",
       "      <td>117984.0</td>\n",
       "      <td>BTC</td>\n",
       "      <td>Bitcoin</td>\n",
       "      <td>135.300000</td>\n",
       "      <td>135.980000</td>\n",
       "      <td>132.100000</td>\n",
       "      <td>134.210000</td>\n",
       "      <td>0.0</td>\n",
       "      <td>1.500520e+09</td>\n",
       "    </tr>\n",
       "    <tr>\n",
       "      <th>2013-04-28</th>\n",
       "      <td>4.300000</td>\n",
       "      <td>9174.0</td>\n",
       "      <td>4.431952e+07</td>\n",
       "      <td>17216.0</td>\n",
       "      <td>LTC</td>\n",
       "      <td>Litecoin</td>\n",
       "      <td>4.300000</td>\n",
       "      <td>4.400000</td>\n",
       "      <td>4.180000</td>\n",
       "      <td>4.350000</td>\n",
       "      <td>0.0</td>\n",
       "      <td>7.377340e+07</td>\n",
       "    </tr>\n",
       "    <tr>\n",
       "      <th>2013-04-29</th>\n",
       "      <td>134.440000</td>\n",
       "      <td>51602.0</td>\n",
       "      <td>1.138128e+08</td>\n",
       "      <td>86925.0</td>\n",
       "      <td>BTC</td>\n",
       "      <td>Bitcoin</td>\n",
       "      <td>134.440000</td>\n",
       "      <td>147.490000</td>\n",
       "      <td>134.000000</td>\n",
       "      <td>144.540000</td>\n",
       "      <td>0.0</td>\n",
       "      <td>1.491160e+09</td>\n",
       "    </tr>\n",
       "    <tr>\n",
       "      <th>2013-04-29</th>\n",
       "      <td>4.370000</td>\n",
       "      <td>9275.0</td>\n",
       "      <td>3.647810e+07</td>\n",
       "      <td>18395.0</td>\n",
       "      <td>LTC</td>\n",
       "      <td>Litecoin</td>\n",
       "      <td>4.370000</td>\n",
       "      <td>4.570000</td>\n",
       "      <td>4.230000</td>\n",
       "      <td>4.380000</td>\n",
       "      <td>0.0</td>\n",
       "      <td>7.495270e+07</td>\n",
       "    </tr>\n",
       "    <tr>\n",
       "      <th>2013-04-30</th>\n",
       "      <td>144.000000</td>\n",
       "      <td>47450.0</td>\n",
       "      <td>8.426632e+07</td>\n",
       "      <td>76871.0</td>\n",
       "      <td>BTC</td>\n",
       "      <td>Bitcoin</td>\n",
       "      <td>144.000000</td>\n",
       "      <td>146.930000</td>\n",
       "      <td>134.050000</td>\n",
       "      <td>139.000000</td>\n",
       "      <td>0.0</td>\n",
       "      <td>1.597780e+09</td>\n",
       "    </tr>\n",
       "    <tr>\n",
       "      <th>...</th>\n",
       "      <td>...</td>\n",
       "      <td>...</td>\n",
       "      <td>...</td>\n",
       "      <td>...</td>\n",
       "      <td>...</td>\n",
       "      <td>...</td>\n",
       "      <td>...</td>\n",
       "      <td>...</td>\n",
       "      <td>...</td>\n",
       "      <td>...</td>\n",
       "      <td>...</td>\n",
       "      <td>...</td>\n",
       "    </tr>\n",
       "    <tr>\n",
       "      <th>2018-06-06</th>\n",
       "      <td>0.293325</td>\n",
       "      <td>4830.0</td>\n",
       "      <td>2.312763e+05</td>\n",
       "      <td>659.0</td>\n",
       "      <td>XLM</td>\n",
       "      <td>Stellar</td>\n",
       "      <td>0.293325</td>\n",
       "      <td>0.299955</td>\n",
       "      <td>0.289500</td>\n",
       "      <td>0.298269</td>\n",
       "      <td>51165000.0</td>\n",
       "      <td>5.450080e+09</td>\n",
       "    </tr>\n",
       "    <tr>\n",
       "      <th>2018-06-06</th>\n",
       "      <td>0.039586</td>\n",
       "      <td>7205.0</td>\n",
       "      <td>4.947760e+06</td>\n",
       "      <td>18228.0</td>\n",
       "      <td>XVG</td>\n",
       "      <td>Verge</td>\n",
       "      <td>0.039586</td>\n",
       "      <td>0.039737</td>\n",
       "      <td>0.037680</td>\n",
       "      <td>0.038797</td>\n",
       "      <td>9307450.0</td>\n",
       "      <td>5.959400e+08</td>\n",
       "    </tr>\n",
       "    <tr>\n",
       "      <th>2018-06-06</th>\n",
       "      <td>239.760000</td>\n",
       "      <td>10687.0</td>\n",
       "      <td>3.986308e+07</td>\n",
       "      <td>96516.0</td>\n",
       "      <td>ZEC</td>\n",
       "      <td>Zcash</td>\n",
       "      <td>239.750000</td>\n",
       "      <td>240.340000</td>\n",
       "      <td>229.210000</td>\n",
       "      <td>236.050000</td>\n",
       "      <td>56887000.0</td>\n",
       "      <td>9.769940e+08</td>\n",
       "    </tr>\n",
       "    <tr>\n",
       "      <th>2018-06-06</th>\n",
       "      <td>0.127555</td>\n",
       "      <td>1313.0</td>\n",
       "      <td>1.596436e+07</td>\n",
       "      <td>733.0</td>\n",
       "      <td>ZIL</td>\n",
       "      <td>Zilliqa</td>\n",
       "      <td>0.127555</td>\n",
       "      <td>0.133254</td>\n",
       "      <td>0.124194</td>\n",
       "      <td>0.131766</td>\n",
       "      <td>54667900.0</td>\n",
       "      <td>9.348810e+08</td>\n",
       "    </tr>\n",
       "    <tr>\n",
       "      <th>2018-06-06</th>\n",
       "      <td>1.270000</td>\n",
       "      <td>795.0</td>\n",
       "      <td>6.094435e+06</td>\n",
       "      <td>599.0</td>\n",
       "      <td>ZRX</td>\n",
       "      <td>0x</td>\n",
       "      <td>1.270000</td>\n",
       "      <td>1.340000</td>\n",
       "      <td>1.250000</td>\n",
       "      <td>1.330000</td>\n",
       "      <td>17778000.0</td>\n",
       "      <td>6.741510e+08</td>\n",
       "    </tr>\n",
       "  </tbody>\n",
       "</table>\n",
       "<p>37588 rows × 12 columns</p>\n",
       "</div>"
      ],
      "text/plain": [
       "                 price  txCount      txVolume  activeAddresses symbol  \\\n",
       "date                                                                    \n",
       "2013-04-28  135.300000  41702.0  6.879868e+07         117984.0    BTC   \n",
       "2013-04-28    4.300000   9174.0  4.431952e+07          17216.0    LTC   \n",
       "2013-04-29  134.440000  51602.0  1.138128e+08          86925.0    BTC   \n",
       "2013-04-29    4.370000   9275.0  3.647810e+07          18395.0    LTC   \n",
       "2013-04-30  144.000000  47450.0  8.426632e+07          76871.0    BTC   \n",
       "...                ...      ...           ...              ...    ...   \n",
       "2018-06-06    0.293325   4830.0  2.312763e+05            659.0    XLM   \n",
       "2018-06-06    0.039586   7205.0  4.947760e+06          18228.0    XVG   \n",
       "2018-06-06  239.760000  10687.0  3.986308e+07          96516.0    ZEC   \n",
       "2018-06-06    0.127555   1313.0  1.596436e+07            733.0    ZIL   \n",
       "2018-06-06    1.270000    795.0  6.094435e+06            599.0    ZRX   \n",
       "\n",
       "                name        open        high         low       close  \\\n",
       "date                                                                   \n",
       "2013-04-28   Bitcoin  135.300000  135.980000  132.100000  134.210000   \n",
       "2013-04-28  Litecoin    4.300000    4.400000    4.180000    4.350000   \n",
       "2013-04-29   Bitcoin  134.440000  147.490000  134.000000  144.540000   \n",
       "2013-04-29  Litecoin    4.370000    4.570000    4.230000    4.380000   \n",
       "2013-04-30   Bitcoin  144.000000  146.930000  134.050000  139.000000   \n",
       "...              ...         ...         ...         ...         ...   \n",
       "2018-06-06   Stellar    0.293325    0.299955    0.289500    0.298269   \n",
       "2018-06-06     Verge    0.039586    0.039737    0.037680    0.038797   \n",
       "2018-06-06     Zcash  239.750000  240.340000  229.210000  236.050000   \n",
       "2018-06-06   Zilliqa    0.127555    0.133254    0.124194    0.131766   \n",
       "2018-06-06        0x    1.270000    1.340000    1.250000    1.330000   \n",
       "\n",
       "                volume        market  \n",
       "date                                  \n",
       "2013-04-28         0.0  1.500520e+09  \n",
       "2013-04-28         0.0  7.377340e+07  \n",
       "2013-04-29         0.0  1.491160e+09  \n",
       "2013-04-29         0.0  7.495270e+07  \n",
       "2013-04-30         0.0  1.597780e+09  \n",
       "...                ...           ...  \n",
       "2018-06-06  51165000.0  5.450080e+09  \n",
       "2018-06-06   9307450.0  5.959400e+08  \n",
       "2018-06-06  56887000.0  9.769940e+08  \n",
       "2018-06-06  54667900.0  9.348810e+08  \n",
       "2018-06-06  17778000.0  6.741510e+08  \n",
       "\n",
       "[37588 rows x 12 columns]"
      ]
     },
     "execution_count": 337,
     "metadata": {},
     "output_type": "execute_result"
    }
   ],
   "source": [
    "# Прочитать таблицу и использовать колонку date как индекс \n",
    "pd.read_csv('coins.csv', index_col='date')"
   ]
  },
  {
   "cell_type": "code",
   "execution_count": 338,
   "metadata": {},
   "outputs": [],
   "source": [
    "# Прочитать таблицу и дать pandas подсказки по поводу типов данных в колонках symbol и name\n",
    "df = pd.read_csv('coins.csv', dtype={'symbol': str, 'name': str}).dropna()\n",
    "df.txCount = df.txCount.astype(int)"
   ]
  },
  {
   "cell_type": "markdown",
   "metadata": {},
   "source": [
    "### 14. Визуализация"
   ]
  },
  {
   "cell_type": "markdown",
   "metadata": {},
   "source": [
    "В pandas есть очень простые средства визуализации. Они подойдут для быстрого анализа, но если хочется сделать красиво и информативно, то вы не по адресу. Любая визуализация делается через аттрибут plot у объекта pandas.Series или pandas.DataFrame."
   ]
  },
  {
   "cell_type": "markdown",
   "metadata": {},
   "source": [
    "Стоит отметить что для отображения графиков нужно использовать магическую команду для jupyter\n",
    "```\n",
    "%matplotlib\n",
    "```\n",
    "При этом график появится в отдельном окне. Там же будет несколько полезных кнопок для редактирования и сохранения графика. Если хочется чтобы графики отображались прямо в ноутбуке то надо передать аргумент inline\n",
    "```\n",
    "%matplotlib inline\n",
    "```"
   ]
  },
  {
   "cell_type": "code",
   "execution_count": 339,
   "metadata": {},
   "outputs": [],
   "source": [
    "%matplotlib inline"
   ]
  },
  {
   "cell_type": "code",
   "execution_count": 340,
   "metadata": {},
   "outputs": [
    {
     "data": {
      "text/html": [
       "<div>\n",
       "<style scoped>\n",
       "    .dataframe tbody tr th:only-of-type {\n",
       "        vertical-align: middle;\n",
       "    }\n",
       "\n",
       "    .dataframe tbody tr th {\n",
       "        vertical-align: top;\n",
       "    }\n",
       "\n",
       "    .dataframe thead th {\n",
       "        text-align: right;\n",
       "    }\n",
       "</style>\n",
       "<table border=\"1\" class=\"dataframe\">\n",
       "  <thead>\n",
       "    <tr style=\"text-align: right;\">\n",
       "      <th></th>\n",
       "      <th>ADA</th>\n",
       "      <th>DOGE</th>\n",
       "    </tr>\n",
       "  </thead>\n",
       "  <tbody>\n",
       "    <tr>\n",
       "      <th>2018-11-01</th>\n",
       "      <td>0.547</td>\n",
       "      <td>0.745</td>\n",
       "    </tr>\n",
       "    <tr>\n",
       "      <th>2018-11-02</th>\n",
       "      <td>0.500</td>\n",
       "      <td>0.964</td>\n",
       "    </tr>\n",
       "    <tr>\n",
       "      <th>2018-11-03</th>\n",
       "      <td>0.770</td>\n",
       "      <td>0.718</td>\n",
       "    </tr>\n",
       "    <tr>\n",
       "      <th>2018-11-04</th>\n",
       "      <td>0.135</td>\n",
       "      <td>0.845</td>\n",
       "    </tr>\n",
       "    <tr>\n",
       "      <th>2018-11-05</th>\n",
       "      <td>0.530</td>\n",
       "      <td>NaN</td>\n",
       "    </tr>\n",
       "    <tr>\n",
       "      <th>2018-11-06</th>\n",
       "      <td>0.150</td>\n",
       "      <td>0.795</td>\n",
       "    </tr>\n",
       "  </tbody>\n",
       "</table>\n",
       "</div>"
      ],
      "text/plain": [
       "              ADA   DOGE\n",
       "2018-11-01  0.547  0.745\n",
       "2018-11-02  0.500  0.964\n",
       "2018-11-03  0.770  0.718\n",
       "2018-11-04  0.135  0.845\n",
       "2018-11-05  0.530    NaN\n",
       "2018-11-06  0.150  0.795"
      ]
     },
     "execution_count": 340,
     "metadata": {},
     "output_type": "execute_result"
    }
   ],
   "source": [
    "price = pd.DataFrame(\n",
    "    data=[\n",
    "        [0.547, 0.745],\n",
    "        [0.5, 0.964],\n",
    "        [0.77, 0.718],\n",
    "        [0.135, 0.845],\n",
    "        [0.53, None],\n",
    "        [0.15, 0.795]],\n",
    "    columns=['ADA', 'DOGE'],\n",
    "    index=pd.date_range('2018-11-01', periods=6)\n",
    ")\n",
    "price"
   ]
  },
  {
   "cell_type": "code",
   "execution_count": 341,
   "metadata": {},
   "outputs": [
    {
     "data": {
      "text/plain": [
       "<matplotlib.axes._subplots.AxesSubplot at 0x1bf8da25f28>"
      ]
     },
     "execution_count": 341,
     "metadata": {},
     "output_type": "execute_result"
    },
    {
     "data": {
      "image/png": "[encoded data removed]",
      "text/plain": [
       "<matplotlib.figure.Figure at 0x1bf8da70c50>"
      ]
     },
     "metadata": {
      "needs_background": "light"
     },
     "output_type": "display_data"
    }
   ],
   "source": [
    "# Нарисовать график цены монеты ADA. \n",
    "# Так как индекс в нашей таблице временный, то pandas догадывается, что его можно использовать\n",
    "# как ось времени на графиках.\n",
    "price['ADA'].plot()"
   ]
  },
  {
   "cell_type": "code",
   "execution_count": 342,
   "metadata": {},
   "outputs": [
    {
     "data": {
      "text/plain": [
       "<matplotlib.axes._subplots.AxesSubplot at 0x1bf8da70cf8>"
      ]
     },
     "execution_count": 342,
     "metadata": {},
     "output_type": "execute_result"
    },
    {
     "data": {
      "image/png": "[encoded data removed]",
      "text/plain": [
       "<matplotlib.figure.Figure at 0x1bf8b081710>"
      ]
     },
     "metadata": {
      "needs_background": "light"
     },
     "output_type": "display_data"
    }
   ],
   "source": [
    "# Можно на одном графике нарисовать поведение цены сразу нескольких монет\n",
    "price[['ADA', 'DOGE']].plot()"
   ]
  },
  {
   "cell_type": "code",
   "execution_count": 343,
   "metadata": {},
   "outputs": [
    {
     "data": {
      "text/plain": [
       "<matplotlib.axes._subplots.AxesSubplot at 0x1bf8e554f98>"
      ]
     },
     "execution_count": 343,
     "metadata": {},
     "output_type": "execute_result"
    },
    {
     "data": {
      "image/png": "[encoded data removed]",
      "text/plain": [
       "<matplotlib.figure.Figure at 0x1bf8e593080>"
      ]
     },
     "metadata": {
      "needs_background": "light"
     },
     "output_type": "display_data"
    }
   ],
   "source": [
    "# Цену можно рисовать и в виде столбцовой диаграммы c различными настройками\n",
    "price.plot.bar(stacked=True)"
   ]
  },
  {
   "cell_type": "code",
   "execution_count": 344,
   "metadata": {},
   "outputs": [
    {
     "data": {
      "text/plain": [
       "<matplotlib.axes._subplots.AxesSubplot at 0x1bf8e39f278>"
      ]
     },
     "execution_count": 344,
     "metadata": {},
     "output_type": "execute_result"
    },
    {
     "data": {
      "image/png": "[encoded data removed]",
      "text/plain": [
       "<matplotlib.figure.Figure at 0x1bf8e593518>"
      ]
     },
     "metadata": {
      "needs_background": "light"
     },
     "output_type": "display_data"
    }
   ],
   "source": [
    "# Горизонтальная столбцовая диаграмма\n",
    "price.plot.barh()"
   ]
  },
  {
   "cell_type": "code",
   "execution_count": 345,
   "metadata": {},
   "outputs": [
    {
     "data": {
      "text/plain": [
       "<matplotlib.axes._subplots.AxesSubplot at 0x1bf8e68d940>"
      ]
     },
     "execution_count": 345,
     "metadata": {},
     "output_type": "execute_result"
    },
    {
     "data": {
      "image/png": "[encoded data removed]",
      "text/plain": [
       "<matplotlib.figure.Figure at 0x1bf8e626588>"
      ]
     },
     "metadata": {
      "needs_background": "light"
     },
     "output_type": "display_data"
    }
   ],
   "source": [
    "# Гистограмма\n",
    "price.plot.hist(bins=10)"
   ]
  },
  {
   "cell_type": "code",
   "execution_count": 346,
   "metadata": {},
   "outputs": [
    {
     "data": {
      "text/plain": [
       "<matplotlib.axes._subplots.AxesSubplot at 0x1bf8f1a9b00>"
      ]
     },
     "execution_count": 346,
     "metadata": {},
     "output_type": "execute_result"
    },
    {
     "data": {
      "image/png": "[encoded data removed]",
      "text/plain": [
       "<matplotlib.figure.Figure at 0x1bf8e672da0>"
      ]
     },
     "metadata": {
      "needs_background": "light"
     },
     "output_type": "display_data"
    }
   ],
   "source": [
    "# Ящики с усами\n",
    "price.plot.box()"
   ]
  },
  {
   "cell_type": "code",
   "execution_count": 347,
   "metadata": {},
   "outputs": [
    {
     "data": {
      "text/plain": [
       "<matplotlib.axes._subplots.AxesSubplot at 0x1bf8f24c4e0>"
      ]
     },
     "execution_count": 347,
     "metadata": {},
     "output_type": "execute_result"
    },
    {
     "data": {
      "image/png": "[encoded data removed]",
      "text/plain": [
       "<matplotlib.figure.Figure at 0x1bf8e6c45f8>"
      ]
     },
     "metadata": {
      "needs_background": "light"
     },
     "output_type": "display_data"
    }
   ],
   "source": [
    "# Графики с заливкой\n",
    "price.plot.area()"
   ]
  },
  {
   "cell_type": "code",
   "execution_count": 348,
   "metadata": {},
   "outputs": [
    {
     "data": {
      "text/plain": [
       "<matplotlib.axes._subplots.AxesSubplot at 0x1bf8e710ac8>"
      ]
     },
     "execution_count": 348,
     "metadata": {},
     "output_type": "execute_result"
    },
    {
     "data": {
      "image/png": "[encoded data removed]",
      "text/plain": [
       "<matplotlib.figure.Figure at 0x1bf8f2851d0>"
      ]
     },
     "metadata": {
      "needs_background": "light"
     },
     "output_type": "display_data"
    }
   ],
   "source": [
    "# Если хочется нарисовать пары каких либо значений в виде точек на плоскости, то подойдет scatter plot\n",
    "price.plot.scatter(x='ADA', y='DOGE')"
   ]
  },
  {
   "cell_type": "code",
   "execution_count": 349,
   "metadata": {},
   "outputs": [
    {
     "data": {
      "text/plain": [
       "array([<matplotlib.axes._subplots.AxesSubplot object at 0x000001BF8F2B69E8>,\n",
       "       <matplotlib.axes._subplots.AxesSubplot object at 0x000001BF8F3748D0>],\n",
       "      dtype=object)"
      ]
     },
     "execution_count": 349,
     "metadata": {},
     "output_type": "execute_result"
    },
    {
     "data": {
      "image/png": "[encoded data removed]",
      "text/plain": [
       "<matplotlib.figure.Figure at 0x1bf8f32b9b0>"
      ]
     },
     "metadata": {},
     "output_type": "display_data"
    }
   ],
   "source": [
    "# И на десерт - пирожковая диаграмма\n",
    "price.plot.pie(subplots=True, figsize=(15,7.5))"
   ]
  },
  {
   "cell_type": "code",
   "execution_count": 350,
   "metadata": {},
   "outputs": [],
   "source": [
    "del price"
   ]
  },
  {
   "cell_type": "markdown",
   "metadata": {},
   "source": [
    "# NB\n",
    "\n",
    "\n",
    "## Другие инструменты работы с данными\n",
    "\n",
    "Если ваш датасет не слишком большой, то pandas это де-факто лучший инструмент в наличии. В противном случае есть альтернативы:\n",
    " - [numpy](http://www.numpy.org/) - библиотека для низкоуровневой работы с многомерными массивами из примитивных типов данных. Подходит для \"векторизованной\" обработки. Numpy - ваш последний шанс все еще писать на обычном питоне, без биндингов на С. Подходит для задач быстрой обработки не слишком больших данных. На самом деле внутри, pandas использует numpy.\n",
    " - [Graphlab](https://turi.com/) - Платная питоновская библиотека для работы как большими данными так и с маленькими датасетами. Данные представляются как SFrame объекты, во многом похожие на DataFrame из pandas.\n",
    " - [Hadoop](https://hadoop.apache.org/) - стек технологии для работы с очень большими данными, в частности есть классический MapReduce.\n",
    " \n",
    "## Другие инструменты визуализации\n",
    "\n",
    "\n",
    "Для визуализации библиотек намного больше. Вот самые популярные\n",
    " - [Pandas](https://pandas.pydata.org/) - для быстрой и очень простой визуализации. Любая мелкая настройка потребует знания matplotlib\n",
    " - [Seaborn](https://seaborn.pydata.org/) - широкий но фиксированный набор сложных визуализаций с красивыми цветовыми схемами. Библиотека является надстройкой над matplotlib, и, опять же, тонкие настройки потребуют знания matplotlib.\n",
    "   - [Галерея с примерами](https://seaborn.pydata.org/examples/index.html)\n",
    "   - [Руководство](https://seaborn.pydata.org/tutorial.html)\n",
    " - [ggplot](http://ggplot.yhathq.com/) - многообещающая библиотека скопированная из R. Пока на этапе развития\n",
    " - [Bokeh](https://bokeh.pydata.org/en/latest/) - библиотека для визуализации в web.\n",
    " - [Plot.ly](https://plot.ly/) - библиотека для интерактивных и статических визуализаций. Нацелена на работу в облаке, но можно работать и локально.\n",
    "   - [Галерея с примерами](https://plot.ly/python/)\n",
    "   - [Краткое ввдение](https://images.plot.ly/plotly-documentation/images/python_cheat_sheet.pdf)"
   ]
  }
 ],
 "metadata": {
  "kernelspec": {
   "display_name": "Python 3",
   "language": "python",
   "name": "python3"
  },
  "language_info": {
   "codemirror_mode": {
    "name": "ipython",
    "version": 3
   },
   "file_extension": ".py",
   "mimetype": "text/x-python",
   "name": "python",
   "nbconvert_exporter": "python",
   "pygments_lexer": "ipython3",
   "version": "3.7.4"
  }
 },
 "nbformat": 4,
 "nbformat_minor": 2
}
