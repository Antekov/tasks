{
 "cells": [
  {
   "cell_type": "code",
   "execution_count": 1,
   "metadata": {},
   "outputs": [],
   "source": [
    "def findMatches(s, t):\n",
    "\n",
    "    aut = []\n",
    "\n",
    "    part = ''\n",
    "    k = 0\n",
    "    p = ''\n",
    "    m = len(s)\n",
    "    aut.append(s[0])\n",
    "\n",
    "    for i in range(1, m):\n",
    "        if s[i] != '?' and s[i-1] != '?':\n",
    "            aut[k] += s[i]\n",
    "        elif s[i] == '?' and s[i - 1] == '?':\n",
    "            aut[k] += s[i]\n",
    "        else:\n",
    "            aut.append(s[i])\n",
    "            k += 1\n",
    "\n",
    "    n = len(t)\n",
    "    k = len(aut)\n",
    "\n",
    "    i = 0\n",
    "    partNum = 0\n",
    "    partPos = 0\n",
    "    matchLen = 0\n",
    "    foundPositions = []\n",
    "    while i < n:\n",
    "        partLen = len(aut[partNum])\n",
    "        if aut[partNum][0] == '?':\n",
    "            i += partLen\n",
    "            matchLen += partLen\n",
    "            if i > n:\n",
    "                break\n",
    "            partNum += 1\n",
    "            if partNum == k:\n",
    "                foundPositions.append(i - m)\n",
    "                partNum = 0\n",
    "                partPos = 0\n",
    "                matchLen = 0\n",
    "            continue\n",
    "        if aut[partNum][partPos] == t[i]:\n",
    "            i += 1\n",
    "            matchLen += 1\n",
    "            partPos += 1\n",
    "            if partPos == partLen:\n",
    "                partPos = 0\n",
    "                partNum += 1\n",
    "            if partNum == k:\n",
    "                foundPositions.append(i - m)\n",
    "                partNum = 0\n",
    "            continue\n",
    "        if aut[partNum][partPos] != t[i]:\n",
    "            i += 1\n",
    "            if i >= n:\n",
    "                break\n",
    "            i -= matchLen\n",
    "            partNum = 0\n",
    "            partPos = 0\n",
    "            matchLen = 0\n",
    "\n",
    "    return foundPositions"
   ]
  },
  {
   "cell_type": "code",
   "execution_count": 2,
   "metadata": {},
   "outputs": [
    {
     "data": {
      "text/plain": [
       "[2]"
      ]
     },
     "execution_count": 2,
     "metadata": {},
     "output_type": "execute_result"
    }
   ],
   "source": [
    "s = 'ab??aba'\n",
    "t = 'ababcdaba'\n",
    "\n",
    "findMatches(s, t)"
   ]
  },
  {
   "cell_type": "code",
   "execution_count": 3,
   "metadata": {},
   "outputs": [],
   "source": [
    "s = 'a'*5000 + 'b'\n",
    "t = 'a'*10000 + 'b'"
   ]
  },
  {
   "cell_type": "code",
   "execution_count": 4,
   "metadata": {},
   "outputs": [
    {
     "name": "stdout",
     "output_type": "stream",
     "text": [
      "33.7 s ± 58.7 ms per loop (mean ± std. dev. of 7 runs, 1 loop each)\n"
     ]
    }
   ],
   "source": [
    "%%timeit\n",
    "findMatches(s, t)"
   ]
  },
  {
   "cell_type": "code",
   "execution_count": null,
   "metadata": {},
   "outputs": [],
   "source": [
    "def findMatches(s, t):\n",
    "\n",
    "    aut = []\n",
    "\n",
    "    part = ''\n",
    "    k = 0\n",
    "    p = ''\n",
    "    m = len(s)\n",
    "    aut.append(s[0])\n",
    "\n",
    "    for i in range(1, m):\n",
    "        if s[i] != '?' and s[i-1] != '?':\n",
    "            aut[k] += s[i]\n",
    "        elif s[i] == '?' and s[i - 1] == '?':\n",
    "            aut[k] += s[i]\n",
    "        else:\n",
    "            aut.append(s[i])\n",
    "            k += 1\n",
    "\n",
    "    n = len(t)\n",
    "    k = len(aut)\n",
    "\n",
    "    i = 0\n",
    "    partNum = 0\n",
    "    partPos = 0\n",
    "    matchLen = 0\n",
    "    foundPositions = []\n",
    "    while i < n:\n",
    "        partLen = len(aut[partNum])\n",
    "        if aut[partNum][0] == '?':\n",
    "            i += partLen\n",
    "            matchLen += partLen\n",
    "            if i > n:\n",
    "                break\n",
    "            partNum += 1\n",
    "            if partNum == k:\n",
    "                foundPositions.append(i - m)\n",
    "                partNum = 0\n",
    "                partPos = 0\n",
    "                matchLen = 0\n",
    "            continue\n",
    "        if aut[partNum][partPos] == t[i]:\n",
    "            i += 1\n",
    "            matchLen += 1\n",
    "            partPos += 1\n",
    "            if partPos == partLen:\n",
    "                partPos = 0\n",
    "                partNum += 1\n",
    "            if partNum == k:\n",
    "                foundPositions.append(i - m)\n",
    "                partNum = 0\n",
    "            continue\n",
    "        if aut[partNum][partPos] != t[i]:\n",
    "            i += 1\n",
    "            if i >= n:\n",
    "                break\n",
    "            i -= matchLen\n",
    "            partNum = 0\n",
    "            partPos = 0\n",
    "            matchLen = 0\n",
    "\n",
    "    return foundPositions"
   ]
  }
 ],
 "metadata": {
  "kernelspec": {
   "display_name": "Python 3",
   "language": "python",
   "name": "python3"
  },
  "language_info": {
   "codemirror_mode": {
    "name": "ipython",
    "version": 3
   },
   "file_extension": ".py",
   "mimetype": "text/x-python",
   "name": "python",
   "nbconvert_exporter": "python",
   "pygments_lexer": "ipython3",
   "version": "3.8.3"
  }
 },
 "nbformat": 4,
 "nbformat_minor": 2
}
